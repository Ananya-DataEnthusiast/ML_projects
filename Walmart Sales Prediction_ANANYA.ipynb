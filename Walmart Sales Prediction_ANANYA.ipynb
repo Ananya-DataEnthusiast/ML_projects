{
 "cells": [
  {
   "cell_type": "markdown",
   "metadata": {},
   "source": [
    "<div style=\"background-image: url('https://cedcommerce.com/blog/wp-content/uploads/2019/02/Increasing-sale-on-Walmart.png');\n",
    "background-size: 100% 100%;\n",
    "font-size: 30px\">\n",
    "<strong><br><br><br><br><br><br><br><br>WALMART SALES FORECASTING<br><br></strong>\n",
    "</div>"
   ]
  },
  {
   "cell_type": "markdown",
   "metadata": {},
   "source": [
    "##  Business Context:\n",
    "We are provided with historical sales data for 45 Walmart stores located in different regions. \n",
    "\n",
    "Each store contains a number of departments, and you are tasked with predicting the department-wide sales for each store.\n",
    "\n",
    "In addition, Walmart runs several promotional markdown events throughout the year. These markdowns precede prominent holidays, the four largest of which are the Super Bowl, Labour Day, Thanksgiving, and Christmas. \n",
    "\n",
    "The weeks including these holidays are weighted five times higher in the evaluation than non-holiday weeks. \n",
    "\n",
    "\n",
    "##  OBJECTIVE:\n",
    "* to create a linear model using historical markdown data for forecasting weekly sales for each department in 45 Walmart stores located in different regions and also to carry out statistical testing and validation of the models\n",
    "* modelling the effects of markdowns on the holiday weeks  and the extent of impact\n",
    "\n",
    "Now the challenge of modelling retail data is the need to make decisions based on limited history. If Christmas comes but once a year, so does the chance to see how strategic decisions impacted the bottom line.\n",
    "\n",
    "##   Data Availability\n",
    "The given datasets are in **.csv** format.\n",
    "* train.csv: This is the historical training data, which covers to 2010-02-05 to 2012-11-01\n",
    "* test.csv: This file is identical to train.csv, except we have withheld the weekly sales. You must predict the sales for each triplet of store, department, and date in this file.\n",
    "\n",
    "* stores.csv: This file contains anonymized information about the 45 stores, indicating the type and size of store.\n",
    "\n",
    "* features.csv: This file contains additional data related to the store, department, and regional activity for the given dates. "
   ]
  },
  {
   "cell_type": "markdown",
   "metadata": {},
   "source": [
    "<div style=\"background-color:powderblue;font-size: 200%\"><strong><br>\n",
    "Importing Libraries\n",
    "<br><br></strong></div>"
   ]
  },
  {
   "cell_type": "code",
   "execution_count": 1,
   "metadata": {},
   "outputs": [],
   "source": [
    "import numpy as np\n",
    "import pandas as pd\n",
    "\n",
    "import matplotlib.pylab as plt\n",
    "%matplotlib inline\n",
    "import seaborn as sns\n",
    " \n",
    "from datetime import datetime"
   ]
  },
  {
   "cell_type": "code",
   "execution_count": 2,
   "metadata": {},
   "outputs": [],
   "source": [
    "import statsmodels.api as sm\n",
    "from sklearn import metrics\n",
    "#from sklearn.model_selection import train_test_split\n",
    "from sklearn.linear_model import LinearRegression\n",
    "from sklearn.ensemble import RandomForestRegressor\n",
    "from sklearn.tree import DecisionTreeRegressor"
   ]
  },
  {
   "cell_type": "markdown",
   "metadata": {},
   "source": [
    "<div style=\"background-color:powderblue;font-size: 200%\"><strong><br>\n",
    "Importing Dataset\n",
    "<br><br></strong></div>\n"
   ]
  },
  {
   "cell_type": "code",
   "execution_count": 4,
   "metadata": {},
   "outputs": [],
   "source": [
    "import os\n",
    "os.chdir(\"C:\\\\Users\\\\user\\\\Desktop\\\\Alab_Python\\\\Final Projects in Python\\\\2. Walmart Store Sales Forecasting\")"
   ]
  },
  {
   "cell_type": "code",
   "execution_count": 5,
   "metadata": {},
   "outputs": [],
   "source": [
    "feature = pd.read_csv('features.csv')\n",
    "stores = pd.read_csv('stores.csv')\n",
    "submission =pd.read_csv('sampleSubmission.csv')\n",
    "\n",
    "train_data = pd.read_csv('train.csv')\n",
    "test_data = pd.read_csv('test.csv')"
   ]
  },
  {
   "cell_type": "code",
   "execution_count": 6,
   "metadata": {},
   "outputs": [
    {
     "name": "stdout",
     "output_type": "stream",
     "text": [
      ">>test-dataset:(421570, 5)\n",
      "   Store  Dept        Date  Weekly_Sales  IsHoliday\n",
      "0      1     1  2010-02-05      24924.50      False\n",
      "1      1     1  2010-02-12      46039.49       True\n",
      "2      1     1  2010-02-19      41595.55      False\n",
      "\n",
      ">>test-dataset:(115064, 4)\n",
      "   Store  Dept        Date  IsHoliday\n",
      "0      1     1  2012-11-02      False\n",
      "1      1     1  2012-11-09      False\n",
      "2      1     1  2012-11-16      False\n"
     ]
    }
   ],
   "source": [
    "print(f\">>test-dataset:{train_data.shape}\\n{train_data.head(3)}\\n\\n>>test-dataset:{test_data.shape}\\n{test_data.head(3)}\")"
   ]
  },
  {
   "cell_type": "markdown",
   "metadata": {},
   "source": [
    "<div class='alert alert-success'><strong> NOTE:</strong> <br>* Test datset contains all columns of Train data except 'Weekly_Sales'<br> * Now we will merge both the datasets with <tt>feature</tt> and <tt> store</tt> dataset to create new Test, Train Dataset</div>"
   ]
  },
  {
   "cell_type": "code",
   "execution_count": 7,
   "metadata": {},
   "outputs": [
    {
     "name": "stdout",
     "output_type": "stream",
     "text": [
      "Index(['Store', 'Date', 'Temperature', 'Fuel_Price', 'MarkDown1', 'MarkDown2',\n",
      "       'MarkDown3', 'MarkDown4', 'MarkDown5', 'CPI', 'Unemployment',\n",
      "       'IsHoliday'],\n",
      "      dtype='object')\n",
      "(8190, 12)\n"
     ]
    },
    {
     "data": {
      "text/html": [
       "<div>\n",
       "<style scoped>\n",
       "    .dataframe tbody tr th:only-of-type {\n",
       "        vertical-align: middle;\n",
       "    }\n",
       "\n",
       "    .dataframe tbody tr th {\n",
       "        vertical-align: top;\n",
       "    }\n",
       "\n",
       "    .dataframe thead th {\n",
       "        text-align: right;\n",
       "    }\n",
       "</style>\n",
       "<table border=\"1\" class=\"dataframe\">\n",
       "  <thead>\n",
       "    <tr style=\"text-align: right;\">\n",
       "      <th></th>\n",
       "      <th>Store</th>\n",
       "      <th>Date</th>\n",
       "      <th>Temperature</th>\n",
       "      <th>Fuel_Price</th>\n",
       "      <th>MarkDown1</th>\n",
       "      <th>MarkDown2</th>\n",
       "      <th>MarkDown3</th>\n",
       "      <th>MarkDown4</th>\n",
       "      <th>MarkDown5</th>\n",
       "      <th>CPI</th>\n",
       "      <th>Unemployment</th>\n",
       "      <th>IsHoliday</th>\n",
       "    </tr>\n",
       "  </thead>\n",
       "  <tbody>\n",
       "    <tr>\n",
       "      <th>0</th>\n",
       "      <td>1</td>\n",
       "      <td>2010-02-05</td>\n",
       "      <td>42.31</td>\n",
       "      <td>2.572</td>\n",
       "      <td>NaN</td>\n",
       "      <td>NaN</td>\n",
       "      <td>NaN</td>\n",
       "      <td>NaN</td>\n",
       "      <td>NaN</td>\n",
       "      <td>211.096358</td>\n",
       "      <td>8.106</td>\n",
       "      <td>False</td>\n",
       "    </tr>\n",
       "    <tr>\n",
       "      <th>1</th>\n",
       "      <td>1</td>\n",
       "      <td>2010-02-12</td>\n",
       "      <td>38.51</td>\n",
       "      <td>2.548</td>\n",
       "      <td>NaN</td>\n",
       "      <td>NaN</td>\n",
       "      <td>NaN</td>\n",
       "      <td>NaN</td>\n",
       "      <td>NaN</td>\n",
       "      <td>211.242170</td>\n",
       "      <td>8.106</td>\n",
       "      <td>True</td>\n",
       "    </tr>\n",
       "    <tr>\n",
       "      <th>2</th>\n",
       "      <td>1</td>\n",
       "      <td>2010-02-19</td>\n",
       "      <td>39.93</td>\n",
       "      <td>2.514</td>\n",
       "      <td>NaN</td>\n",
       "      <td>NaN</td>\n",
       "      <td>NaN</td>\n",
       "      <td>NaN</td>\n",
       "      <td>NaN</td>\n",
       "      <td>211.289143</td>\n",
       "      <td>8.106</td>\n",
       "      <td>False</td>\n",
       "    </tr>\n",
       "  </tbody>\n",
       "</table>\n",
       "</div>"
      ],
      "text/plain": [
       "   Store        Date  Temperature  Fuel_Price  MarkDown1  MarkDown2  \\\n",
       "0      1  2010-02-05        42.31       2.572        NaN        NaN   \n",
       "1      1  2010-02-12        38.51       2.548        NaN        NaN   \n",
       "2      1  2010-02-19        39.93       2.514        NaN        NaN   \n",
       "\n",
       "   MarkDown3  MarkDown4  MarkDown5         CPI  Unemployment  IsHoliday  \n",
       "0        NaN        NaN        NaN  211.096358         8.106      False  \n",
       "1        NaN        NaN        NaN  211.242170         8.106       True  \n",
       "2        NaN        NaN        NaN  211.289143         8.106      False  "
      ]
     },
     "execution_count": 7,
     "metadata": {},
     "output_type": "execute_result"
    }
   ],
   "source": [
    "print(feature.columns)\n",
    "print(feature.shape)\n",
    "feature.head(3)"
   ]
  },
  {
   "cell_type": "code",
   "execution_count": 8,
   "metadata": {},
   "outputs": [
    {
     "name": "stdout",
     "output_type": "stream",
     "text": [
      "(45, 3)\n"
     ]
    },
    {
     "data": {
      "text/html": [
       "<div>\n",
       "<style scoped>\n",
       "    .dataframe tbody tr th:only-of-type {\n",
       "        vertical-align: middle;\n",
       "    }\n",
       "\n",
       "    .dataframe tbody tr th {\n",
       "        vertical-align: top;\n",
       "    }\n",
       "\n",
       "    .dataframe thead th {\n",
       "        text-align: right;\n",
       "    }\n",
       "</style>\n",
       "<table border=\"1\" class=\"dataframe\">\n",
       "  <thead>\n",
       "    <tr style=\"text-align: right;\">\n",
       "      <th></th>\n",
       "      <th>Store</th>\n",
       "      <th>Type</th>\n",
       "      <th>Size</th>\n",
       "    </tr>\n",
       "  </thead>\n",
       "  <tbody>\n",
       "    <tr>\n",
       "      <th>0</th>\n",
       "      <td>1</td>\n",
       "      <td>A</td>\n",
       "      <td>151315</td>\n",
       "    </tr>\n",
       "    <tr>\n",
       "      <th>1</th>\n",
       "      <td>2</td>\n",
       "      <td>A</td>\n",
       "      <td>202307</td>\n",
       "    </tr>\n",
       "    <tr>\n",
       "      <th>2</th>\n",
       "      <td>3</td>\n",
       "      <td>B</td>\n",
       "      <td>37392</td>\n",
       "    </tr>\n",
       "    <tr>\n",
       "      <th>3</th>\n",
       "      <td>4</td>\n",
       "      <td>A</td>\n",
       "      <td>205863</td>\n",
       "    </tr>\n",
       "    <tr>\n",
       "      <th>4</th>\n",
       "      <td>5</td>\n",
       "      <td>B</td>\n",
       "      <td>34875</td>\n",
       "    </tr>\n",
       "  </tbody>\n",
       "</table>\n",
       "</div>"
      ],
      "text/plain": [
       "   Store Type    Size\n",
       "0      1    A  151315\n",
       "1      2    A  202307\n",
       "2      3    B   37392\n",
       "3      4    A  205863\n",
       "4      5    B   34875"
      ]
     },
     "execution_count": 8,
     "metadata": {},
     "output_type": "execute_result"
    }
   ],
   "source": [
    "print(stores.shape)\n",
    "stores.head()"
   ]
  },
  {
   "cell_type": "code",
   "execution_count": 9,
   "metadata": {},
   "outputs": [
    {
     "name": "stdout",
     "output_type": "stream",
     "text": [
      "(115064, 2)\n"
     ]
    },
    {
     "data": {
      "text/html": [
       "<div>\n",
       "<style scoped>\n",
       "    .dataframe tbody tr th:only-of-type {\n",
       "        vertical-align: middle;\n",
       "    }\n",
       "\n",
       "    .dataframe tbody tr th {\n",
       "        vertical-align: top;\n",
       "    }\n",
       "\n",
       "    .dataframe thead th {\n",
       "        text-align: right;\n",
       "    }\n",
       "</style>\n",
       "<table border=\"1\" class=\"dataframe\">\n",
       "  <thead>\n",
       "    <tr style=\"text-align: right;\">\n",
       "      <th></th>\n",
       "      <th>Id</th>\n",
       "      <th>Weekly_Sales</th>\n",
       "    </tr>\n",
       "  </thead>\n",
       "  <tbody>\n",
       "    <tr>\n",
       "      <th>0</th>\n",
       "      <td>1_1_2012-11-02</td>\n",
       "      <td>0</td>\n",
       "    </tr>\n",
       "    <tr>\n",
       "      <th>1</th>\n",
       "      <td>1_1_2012-11-09</td>\n",
       "      <td>0</td>\n",
       "    </tr>\n",
       "    <tr>\n",
       "      <th>2</th>\n",
       "      <td>1_1_2012-11-16</td>\n",
       "      <td>0</td>\n",
       "    </tr>\n",
       "    <tr>\n",
       "      <th>3</th>\n",
       "      <td>1_1_2012-11-23</td>\n",
       "      <td>0</td>\n",
       "    </tr>\n",
       "    <tr>\n",
       "      <th>4</th>\n",
       "      <td>1_1_2012-11-30</td>\n",
       "      <td>0</td>\n",
       "    </tr>\n",
       "  </tbody>\n",
       "</table>\n",
       "</div>"
      ],
      "text/plain": [
       "               Id  Weekly_Sales\n",
       "0  1_1_2012-11-02             0\n",
       "1  1_1_2012-11-09             0\n",
       "2  1_1_2012-11-16             0\n",
       "3  1_1_2012-11-23             0\n",
       "4  1_1_2012-11-30             0"
      ]
     },
     "execution_count": 9,
     "metadata": {},
     "output_type": "execute_result"
    }
   ],
   "source": [
    "print(submission.shape)\n",
    "submission.head()"
   ]
  },
  {
   "cell_type": "markdown",
   "metadata": {},
   "source": [
    "<div style=\"background-color:powderblue;font-size: 200%\"><strong><br>\n",
    "Merging Datasets\n",
    "<br><br></strong></div>"
   ]
  },
  {
   "cell_type": "markdown",
   "metadata": {},
   "source": [
    "### Merging train,test dataset with features,stores"
   ]
  },
  {
   "cell_type": "code",
   "execution_count": 10,
   "metadata": {},
   "outputs": [],
   "source": [
    "train= pd.merge(pd.merge(stores,feature),train_data)\n",
    "test= pd.merge(pd.merge(stores,feature),test_data)"
   ]
  },
  {
   "cell_type": "code",
   "execution_count": 11,
   "metadata": {},
   "outputs": [
    {
     "name": "stdout",
     "output_type": "stream",
     "text": [
      "(421570, 16)\n"
     ]
    },
    {
     "data": {
      "text/plain": [
       "Index(['Store', 'Type', 'Size', 'Date', 'Temperature', 'Fuel_Price',\n",
       "       'MarkDown1', 'MarkDown2', 'MarkDown3', 'MarkDown4', 'MarkDown5', 'CPI',\n",
       "       'Unemployment', 'IsHoliday', 'Dept', 'Weekly_Sales'],\n",
       "      dtype='object')"
      ]
     },
     "execution_count": 11,
     "metadata": {},
     "output_type": "execute_result"
    }
   ],
   "source": [
    "print(train.shape)\n",
    "train.columns"
   ]
  },
  {
   "cell_type": "code",
   "execution_count": 12,
   "metadata": {},
   "outputs": [
    {
     "name": "stdout",
     "output_type": "stream",
     "text": [
      "(115064, 15)\n"
     ]
    },
    {
     "data": {
      "text/plain": [
       "Index(['Store', 'Type', 'Size', 'Date', 'Temperature', 'Fuel_Price',\n",
       "       'MarkDown1', 'MarkDown2', 'MarkDown3', 'MarkDown4', 'MarkDown5', 'CPI',\n",
       "       'Unemployment', 'IsHoliday', 'Dept'],\n",
       "      dtype='object')"
      ]
     },
     "execution_count": 12,
     "metadata": {},
     "output_type": "execute_result"
    }
   ],
   "source": [
    "print(test.shape)\n",
    "test.columns"
   ]
  },
  {
   "cell_type": "code",
   "execution_count": 13,
   "metadata": {},
   "outputs": [
    {
     "data": {
      "text/plain": [
       "{'Weekly_Sales'}"
      ]
     },
     "execution_count": 13,
     "metadata": {},
     "output_type": "execute_result"
    }
   ],
   "source": [
    "set(train.columns)-set(test.columns)"
   ]
  },
  {
   "cell_type": "code",
   "execution_count": 15,
   "metadata": {},
   "outputs": [
    {
     "name": "stdout",
     "output_type": "stream",
     "text": [
      "<class 'pandas.core.frame.DataFrame'>\n",
      "Int64Index: 421570 entries, 0 to 421569\n",
      "Data columns (total 16 columns):\n",
      "Store           421570 non-null int64\n",
      "Type            421570 non-null object\n",
      "Size            421570 non-null int64\n",
      "Date            421570 non-null object\n",
      "Temperature     421570 non-null float64\n",
      "Fuel_Price      421570 non-null float64\n",
      "MarkDown1       150681 non-null float64\n",
      "MarkDown2       111248 non-null float64\n",
      "MarkDown3       137091 non-null float64\n",
      "MarkDown4       134967 non-null float64\n",
      "MarkDown5       151432 non-null float64\n",
      "CPI             421570 non-null float64\n",
      "Unemployment    421570 non-null float64\n",
      "IsHoliday       421570 non-null bool\n",
      "Dept            421570 non-null int64\n",
      "Weekly_Sales    421570 non-null float64\n",
      "dtypes: bool(1), float64(10), int64(3), object(2)\n",
      "memory usage: 51.9+ MB\n"
     ]
    }
   ],
   "source": [
    "train.info()"
   ]
  },
  {
   "cell_type": "code",
   "execution_count": 13,
   "metadata": {},
   "outputs": [],
   "source": [
    "##whole walmart dataset\n",
    "#wal_sales=pd.concat([train,test],ignore_index=True)\n",
    "#print(wal_sales.shape)"
   ]
  },
  {
   "cell_type": "code",
   "execution_count": 14,
   "metadata": {},
   "outputs": [],
   "source": [
    "#wal_sales.tail(3)"
   ]
  },
  {
   "cell_type": "markdown",
   "metadata": {},
   "source": [
    "<div style=\"background-color:powderblue;font-size: 250%\"><strong><br>\n",
    "Data Inspection\n",
    "<br><br></strong></div>\n"
   ]
  },
  {
   "cell_type": "markdown",
   "metadata": {},
   "source": [
    "<div class=\"alert alert-success\"><strong>NOTE:</strong><br>1.**Date** column is converted to datetime type and\n",
    "<br>2.datatype of the columns **Store** and **Dept** are changed from numeric to string type\n",
    "<br>3.True & False in-Isholdays columns are converted into datatype int (i.e 1 and 0)\n",
    "<br>4.Updating holiday list</div>"
   ]
  },
  {
   "cell_type": "code",
   "execution_count": 16,
   "metadata": {},
   "outputs": [],
   "source": [
    "train['Date']=train['Date'].apply(lambda x: datetime.strptime(x,'%Y-%m-%d'))\n",
    "test['Date']=test['Date'].apply(lambda x: datetime.strptime(x,'%Y-%m-%d'))"
   ]
  },
  {
   "cell_type": "code",
   "execution_count": 17,
   "metadata": {},
   "outputs": [],
   "source": [
    "for col in ['Store','Dept']:\n",
    "    train[col]=train[col].astype('category')\n",
    "    test[col]=test[col].astype('category')"
   ]
  },
  {
   "cell_type": "code",
   "execution_count": 18,
   "metadata": {},
   "outputs": [],
   "source": [
    "#converting True-False into 0-1 entry\n",
    "train['IsHoliday']=train['IsHoliday'].astype('int64')\n",
    "test['IsHoliday']=test['IsHoliday'].astype('int64')"
   ]
  },
  {
   "cell_type": "markdown",
   "metadata": {},
   "source": [
    "### Updating holiday-list"
   ]
  },
  {
   "cell_type": "code",
   "execution_count": 19,
   "metadata": {},
   "outputs": [],
   "source": [
    "train['Super_Bowl'] = np.where((train['Date']==datetime(2010, 2, 12)) | (train['Date']==datetime(2011, 2, 11)) | (train['Date']==datetime(2012, 2, 10)) | (train['Date']==datetime(2013, 2, 8)),1,0)\n",
    "train['Labour_Day'] = np.where((train['Date']==datetime(2010, 9, 10)) | (train['Date']==datetime(2011, 9, 9)) | (train['Date']==datetime(2012, 9, 7)) | (train['Date']==datetime(2013, 9, 6)),1,0)\n",
    "train['Thanksgiving'] = np.where((train['Date']==datetime(2010, 11, 26)) | (train['Date']==datetime(2011, 11, 25)) | (train['Date']==datetime(2012, 11, 23)) | (train['Date']==datetime(2013, 11, 29)),1,0)\n",
    "train['Christmas'] = np.where((train['Date']==datetime(2010, 12, 31)) | (train['Date']==datetime(2011, 12, 30)) | (train['Date']==datetime(2012, 12, 28)) | (train['Date']==datetime(2013, 12, 27)),1,0)\n",
    "\n",
    "train['IsHoliday']=train['IsHoliday']|train['Super_Bowl']|train['Labour_Day']|train['Thanksgiving']|train['Christmas']\n",
    "\n",
    "test['Super_Bowl'] = np.where((test['Date']==datetime(2010, 2, 12)) | (test['Date']==datetime(2011, 2, 11)) | (test['Date']==datetime(2012, 2, 10)) | (test['Date']==datetime(2013, 2, 8)),1,0)\n",
    "test['Labour_Day'] = np.where((test['Date']==datetime(2010, 9, 10)) | (test['Date']==datetime(2011, 9, 9)) | (test['Date']==datetime(2012, 9, 7)) | (test['Date']==datetime(2013, 9, 6)),1,0)\n",
    "test['Thanksgiving'] = np.where((test['Date']==datetime(2010, 11, 26)) | (test['Date']==datetime(2011, 11, 25)) | (test['Date']==datetime(2012, 11, 23)) | (test['Date']==datetime(2013, 11, 29)),1,0)\n",
    "test['Christmas'] = np.where((test['Date']==datetime(2010, 12, 31)) | (test['Date']==datetime(2011, 12, 30)) | (test['Date']==datetime(2012, 12, 28)) | (test['Date']==datetime(2013, 12, 27)),1,0)\n",
    "\n",
    "test['IsHoliday']=test['IsHoliday']|test['Super_Bowl']|test['Labour_Day']|test['Thanksgiving']|test['Christmas']"
   ]
  },
  {
   "cell_type": "code",
   "execution_count": 20,
   "metadata": {},
   "outputs": [
    {
     "name": "stdout",
     "output_type": "stream",
     "text": [
      "IsHoliday=  29661\n",
      "--------------------------\n",
      "Super_Bowl --> 8895 days\n",
      "Labour_Day --> 8861 days\n",
      "Thanksgiving --> 5959 days\n",
      "Christmas --> 5946 days\n",
      "--------------------------\n",
      "   Total --> 29661 days\n",
      "--------------------------\n"
     ]
    }
   ],
   "source": [
    "print(\"IsHoliday= \", train.IsHoliday.value_counts()[1])\n",
    "print(\"--\"*13)\n",
    "holiday=0\n",
    "for col in ['Super_Bowl', 'Labour_Day', 'Thanksgiving', 'Christmas']:\n",
    "    print(f\"{col} --> {train[col].value_counts()[1]} days\")\n",
    "    holiday=holiday+train[col].value_counts()[1]\n",
    "print(\"--\"*13)\n",
    "print(\"   Total --> {} days\".format(holiday))\n",
    "print(\"--\"*13)"
   ]
  },
  {
   "cell_type": "markdown",
   "metadata": {},
   "source": [
    "#### >Now these extra holiday variable has redundant and should be dropped ,since IsHoliday column has been imputed according to Extra holidays."
   ]
  },
  {
   "cell_type": "code",
   "execution_count": 21,
   "metadata": {},
   "outputs": [],
   "source": [
    "#Droping the Extra holiday variables because its redundant..\n",
    "drop_col_list=['Super_Bowl','Labour_Day','Thanksgiving','Christmas']\n",
    "\n",
    "#train.drop(drop_col_list,axis=1,inplace=True)\n",
    "#test.drop(drop_col_list,axis=1,inplace=True)"
   ]
  },
  {
   "cell_type": "code",
   "execution_count": 22,
   "metadata": {},
   "outputs": [
    {
     "data": {
      "text/html": [
       "<div>\n",
       "<style scoped>\n",
       "    .dataframe tbody tr th:only-of-type {\n",
       "        vertical-align: middle;\n",
       "    }\n",
       "\n",
       "    .dataframe tbody tr th {\n",
       "        vertical-align: top;\n",
       "    }\n",
       "\n",
       "    .dataframe thead th {\n",
       "        text-align: right;\n",
       "    }\n",
       "</style>\n",
       "<table border=\"1\" class=\"dataframe\">\n",
       "  <thead>\n",
       "    <tr style=\"text-align: right;\">\n",
       "      <th></th>\n",
       "      <th>Store</th>\n",
       "      <th>Type</th>\n",
       "      <th>Size</th>\n",
       "      <th>Date</th>\n",
       "      <th>Temperature</th>\n",
       "      <th>Fuel_Price</th>\n",
       "      <th>MarkDown1</th>\n",
       "      <th>MarkDown2</th>\n",
       "      <th>MarkDown3</th>\n",
       "      <th>MarkDown4</th>\n",
       "      <th>MarkDown5</th>\n",
       "      <th>CPI</th>\n",
       "      <th>Unemployment</th>\n",
       "      <th>IsHoliday</th>\n",
       "      <th>Dept</th>\n",
       "      <th>Weekly_Sales</th>\n",
       "    </tr>\n",
       "  </thead>\n",
       "  <tbody>\n",
       "    <tr>\n",
       "      <th>0</th>\n",
       "      <td>1</td>\n",
       "      <td>A</td>\n",
       "      <td>151315</td>\n",
       "      <td>2010-02-05</td>\n",
       "      <td>42.31</td>\n",
       "      <td>2.572</td>\n",
       "      <td>NaN</td>\n",
       "      <td>NaN</td>\n",
       "      <td>NaN</td>\n",
       "      <td>NaN</td>\n",
       "      <td>NaN</td>\n",
       "      <td>211.096358</td>\n",
       "      <td>8.106</td>\n",
       "      <td>0</td>\n",
       "      <td>1</td>\n",
       "      <td>24924.50</td>\n",
       "    </tr>\n",
       "    <tr>\n",
       "      <th>1</th>\n",
       "      <td>1</td>\n",
       "      <td>A</td>\n",
       "      <td>151315</td>\n",
       "      <td>2010-02-05</td>\n",
       "      <td>42.31</td>\n",
       "      <td>2.572</td>\n",
       "      <td>NaN</td>\n",
       "      <td>NaN</td>\n",
       "      <td>NaN</td>\n",
       "      <td>NaN</td>\n",
       "      <td>NaN</td>\n",
       "      <td>211.096358</td>\n",
       "      <td>8.106</td>\n",
       "      <td>0</td>\n",
       "      <td>2</td>\n",
       "      <td>50605.27</td>\n",
       "    </tr>\n",
       "    <tr>\n",
       "      <th>2</th>\n",
       "      <td>1</td>\n",
       "      <td>A</td>\n",
       "      <td>151315</td>\n",
       "      <td>2010-02-05</td>\n",
       "      <td>42.31</td>\n",
       "      <td>2.572</td>\n",
       "      <td>NaN</td>\n",
       "      <td>NaN</td>\n",
       "      <td>NaN</td>\n",
       "      <td>NaN</td>\n",
       "      <td>NaN</td>\n",
       "      <td>211.096358</td>\n",
       "      <td>8.106</td>\n",
       "      <td>0</td>\n",
       "      <td>3</td>\n",
       "      <td>13740.12</td>\n",
       "    </tr>\n",
       "  </tbody>\n",
       "</table>\n",
       "</div>"
      ],
      "text/plain": [
       "  Store Type    Size       Date  Temperature  Fuel_Price  MarkDown1  \\\n",
       "0     1    A  151315 2010-02-05        42.31       2.572        NaN   \n",
       "1     1    A  151315 2010-02-05        42.31       2.572        NaN   \n",
       "2     1    A  151315 2010-02-05        42.31       2.572        NaN   \n",
       "\n",
       "   MarkDown2  MarkDown3  MarkDown4  MarkDown5         CPI  Unemployment  \\\n",
       "0        NaN        NaN        NaN        NaN  211.096358         8.106   \n",
       "1        NaN        NaN        NaN        NaN  211.096358         8.106   \n",
       "2        NaN        NaN        NaN        NaN  211.096358         8.106   \n",
       "\n",
       "   IsHoliday Dept  Weekly_Sales  \n",
       "0          0    1      24924.50  \n",
       "1          0    2      50605.27  \n",
       "2          0    3      13740.12  "
      ]
     },
     "execution_count": 22,
     "metadata": {},
     "output_type": "execute_result"
    }
   ],
   "source": [
    "train.head(3)"
   ]
  },
  {
   "cell_type": "markdown",
   "metadata": {},
   "source": [
    "<div style=\"background-color:powderblue;font-size: 200%\"><strong><br>\n",
    "Segregating columns of datasets into continuous and categorical type\n",
    "<br><br></strong></div>"
   ]
  },
  {
   "cell_type": "markdown",
   "metadata": {},
   "source": [
    "## Creating UDFs"
   ]
  },
  {
   "cell_type": "code",
   "execution_count": 23,
   "metadata": {},
   "outputs": [],
   "source": [
    "# Create Data audit Report for continuous variables\n",
    "def continuous_var_summary(x):\n",
    "    return pd.Series([x.count(), x.isnull().sum(), x.sum(), x.mean(), x.median(),  \n",
    "                        x.std(), x.var(), x.min(), x.quantile(0.01), x.quantile(0.05),\n",
    "                          x.quantile(0.10),x.quantile(0.25),x.quantile(0.50),x.quantile(0.75), \n",
    "                              x.quantile(0.90),x.quantile(0.95), x.quantile(0.99),x.max()], \n",
    "                  index = ['N', 'NMISS', 'SUM', 'MEAN','MEDIAN', 'STD', 'VAR', 'MIN', 'P1', \n",
    "                               'P5' ,'P10' ,'P25' ,'P50' ,'P75' ,'P90' ,'P95' ,'P99' ,'MAX'])\n",
    "\n",
    "# Create Data audit Report for categorical variables\n",
    "def categorical_var_summary(x):\n",
    "    Mode = x.value_counts().sort_values(ascending = False)[0:1].reset_index()\n",
    "    return pd.Series([x.count(), x.isnull().sum(), Mode.iloc[0, 0], Mode.iloc[0, 1], \n",
    "                          round(Mode.iloc[0, 1] * 100/x.count(), 2)], \n",
    "                  index = ['N', 'NMISS', 'MODE', 'FREQ', 'PERCENT'])\n",
    "\n",
    "# Missing value imputation for categorical and continuous variables\n",
    "def missing_imputation(x, stats = 'mean'):\n",
    "    if (x.dtypes == 'float64') | (x.dtypes == 'int64'):\n",
    "        x = x.fillna(x.mean()) if stats == 'mean' else x.fillna(x.median())\n",
    "    else:\n",
    "        x = x.fillna(x.mode().iloc[0])\n",
    "    return x"
   ]
  },
  {
   "cell_type": "code",
   "execution_count": 24,
   "metadata": {},
   "outputs": [],
   "source": [
    "#test, train dataset both have same categorical features\n",
    "#cat_cols=['Store','Type','Dept','Date','IsHoliday'] \n",
    "cat_cols=['Store', 'Type', 'Dept','Date','IsHoliday']\n",
    "\n",
    "conti_cols_train=list(set(train.columns)-set(cat_cols))\n",
    "conti_cols_test=list(set(test.columns)-set(cat_cols)) #test columns dont incluse 'weeklysales'"
   ]
  },
  {
   "cell_type": "code",
   "execution_count": 25,
   "metadata": {},
   "outputs": [
    {
     "name": "stdout",
     "output_type": "stream",
     "text": [
      "train_cat shape: (421570, 5)\n",
      "train_conti shape: (421570, 11)\n"
     ]
    }
   ],
   "source": [
    "train_cat=train[cat_cols]\n",
    "train_conti=train[conti_cols_train]\n",
    "\n",
    "print(f\"train_cat shape: {train_cat.shape}\\ntrain_conti shape: {train_conti.shape}\")"
   ]
  },
  {
   "cell_type": "code",
   "execution_count": 26,
   "metadata": {},
   "outputs": [
    {
     "name": "stdout",
     "output_type": "stream",
     "text": [
      "test_cat shape: (115064, 5)\n",
      "test_conti shape: (115064, 10)\n"
     ]
    }
   ],
   "source": [
    "test_cat=test[cat_cols]\n",
    "test_conti=test[conti_cols_test]\n",
    "\n",
    "print(f\"test_cat shape: {test_cat.shape}\\ntest_conti shape: {test_conti.shape}\")"
   ]
  },
  {
   "cell_type": "markdown",
   "metadata": {},
   "source": [
    "<div style=\"background-color:powderblue;font-size: 250%\"><strong><br>\n",
    "Data audit report \n",
    "<br><br></strong></div>\n"
   ]
  },
  {
   "cell_type": "markdown",
   "metadata": {},
   "source": [
    "\n",
    "## Data audit report for Training dataset"
   ]
  },
  {
   "cell_type": "code",
   "execution_count": 27,
   "metadata": {},
   "outputs": [
    {
     "data": {
      "text/html": [
       "<div>\n",
       "<style scoped>\n",
       "    .dataframe tbody tr th:only-of-type {\n",
       "        vertical-align: middle;\n",
       "    }\n",
       "\n",
       "    .dataframe tbody tr th {\n",
       "        vertical-align: top;\n",
       "    }\n",
       "\n",
       "    .dataframe thead th {\n",
       "        text-align: right;\n",
       "    }\n",
       "</style>\n",
       "<table border=\"1\" class=\"dataframe\">\n",
       "  <thead>\n",
       "    <tr style=\"text-align: right;\">\n",
       "      <th></th>\n",
       "      <th>N</th>\n",
       "      <th>NMISS</th>\n",
       "      <th>MODE</th>\n",
       "      <th>FREQ</th>\n",
       "      <th>PERCENT</th>\n",
       "    </tr>\n",
       "  </thead>\n",
       "  <tbody>\n",
       "    <tr>\n",
       "      <th>Store</th>\n",
       "      <td>421570</td>\n",
       "      <td>0</td>\n",
       "      <td>13</td>\n",
       "      <td>10474</td>\n",
       "      <td>2.48</td>\n",
       "    </tr>\n",
       "    <tr>\n",
       "      <th>Type</th>\n",
       "      <td>421570</td>\n",
       "      <td>0</td>\n",
       "      <td>A</td>\n",
       "      <td>215478</td>\n",
       "      <td>51.11</td>\n",
       "    </tr>\n",
       "    <tr>\n",
       "      <th>Dept</th>\n",
       "      <td>421570</td>\n",
       "      <td>0</td>\n",
       "      <td>1</td>\n",
       "      <td>6435</td>\n",
       "      <td>1.53</td>\n",
       "    </tr>\n",
       "    <tr>\n",
       "      <th>Date</th>\n",
       "      <td>421570</td>\n",
       "      <td>0</td>\n",
       "      <td>2011-12-23 00:00:00</td>\n",
       "      <td>3027</td>\n",
       "      <td>0.72</td>\n",
       "    </tr>\n",
       "    <tr>\n",
       "      <th>IsHoliday</th>\n",
       "      <td>421570</td>\n",
       "      <td>0</td>\n",
       "      <td>0</td>\n",
       "      <td>391909</td>\n",
       "      <td>92.96</td>\n",
       "    </tr>\n",
       "  </tbody>\n",
       "</table>\n",
       "</div>"
      ],
      "text/plain": [
       "                N NMISS                 MODE    FREQ PERCENT\n",
       "Store      421570     0                   13   10474    2.48\n",
       "Type       421570     0                    A  215478   51.11\n",
       "Dept       421570     0                    1    6435    1.53\n",
       "Date       421570     0  2011-12-23 00:00:00    3027    0.72\n",
       "IsHoliday  421570     0                    0  391909   92.96"
      ]
     },
     "execution_count": 27,
     "metadata": {},
     "output_type": "execute_result"
    }
   ],
   "source": [
    "train_cat.apply(categorical_var_summary).T.round(2)"
   ]
  },
  {
   "cell_type": "code",
   "execution_count": 28,
   "metadata": {},
   "outputs": [
    {
     "data": {
      "text/html": [
       "<div>\n",
       "<style scoped>\n",
       "    .dataframe tbody tr th:only-of-type {\n",
       "        vertical-align: middle;\n",
       "    }\n",
       "\n",
       "    .dataframe tbody tr th {\n",
       "        vertical-align: top;\n",
       "    }\n",
       "\n",
       "    .dataframe thead th {\n",
       "        text-align: right;\n",
       "    }\n",
       "</style>\n",
       "<table border=\"1\" class=\"dataframe\">\n",
       "  <thead>\n",
       "    <tr style=\"text-align: right;\">\n",
       "      <th></th>\n",
       "      <th>N</th>\n",
       "      <th>NMISS</th>\n",
       "      <th>SUM</th>\n",
       "      <th>MEAN</th>\n",
       "      <th>MEDIAN</th>\n",
       "      <th>STD</th>\n",
       "      <th>VAR</th>\n",
       "      <th>MIN</th>\n",
       "      <th>P1</th>\n",
       "      <th>P5</th>\n",
       "      <th>P10</th>\n",
       "      <th>P25</th>\n",
       "      <th>P50</th>\n",
       "      <th>P75</th>\n",
       "      <th>P90</th>\n",
       "      <th>P95</th>\n",
       "      <th>P99</th>\n",
       "      <th>MAX</th>\n",
       "    </tr>\n",
       "  </thead>\n",
       "  <tbody>\n",
       "    <tr>\n",
       "      <th>CPI</th>\n",
       "      <td>421570.0</td>\n",
       "      <td>0.0</td>\n",
       "      <td>7.217360e+07</td>\n",
       "      <td>171.20</td>\n",
       "      <td>182.32</td>\n",
       "      <td>39.16</td>\n",
       "      <td>1.533450e+03</td>\n",
       "      <td>126.06</td>\n",
       "      <td>126.11</td>\n",
       "      <td>126.50</td>\n",
       "      <td>128.82</td>\n",
       "      <td>132.02</td>\n",
       "      <td>182.32</td>\n",
       "      <td>212.42</td>\n",
       "      <td>219.44</td>\n",
       "      <td>221.94</td>\n",
       "      <td>225.47</td>\n",
       "      <td>227.23</td>\n",
       "    </tr>\n",
       "    <tr>\n",
       "      <th>Weekly_Sales</th>\n",
       "      <td>421570.0</td>\n",
       "      <td>0.0</td>\n",
       "      <td>6.737219e+09</td>\n",
       "      <td>15981.26</td>\n",
       "      <td>7612.03</td>\n",
       "      <td>22711.18</td>\n",
       "      <td>5.157979e+08</td>\n",
       "      <td>-4988.94</td>\n",
       "      <td>5.00</td>\n",
       "      <td>59.97</td>\n",
       "      <td>291.10</td>\n",
       "      <td>2079.65</td>\n",
       "      <td>7612.03</td>\n",
       "      <td>20205.85</td>\n",
       "      <td>42845.67</td>\n",
       "      <td>61201.95</td>\n",
       "      <td>106479.59</td>\n",
       "      <td>693099.36</td>\n",
       "    </tr>\n",
       "    <tr>\n",
       "      <th>Size</th>\n",
       "      <td>421570.0</td>\n",
       "      <td>0.0</td>\n",
       "      <td>5.764039e+10</td>\n",
       "      <td>136727.92</td>\n",
       "      <td>140167.00</td>\n",
       "      <td>60980.58</td>\n",
       "      <td>3.718632e+09</td>\n",
       "      <td>34875.00</td>\n",
       "      <td>34875.00</td>\n",
       "      <td>39690.00</td>\n",
       "      <td>39910.00</td>\n",
       "      <td>93638.00</td>\n",
       "      <td>140167.00</td>\n",
       "      <td>202505.00</td>\n",
       "      <td>204184.00</td>\n",
       "      <td>206302.00</td>\n",
       "      <td>219622.00</td>\n",
       "      <td>219622.00</td>\n",
       "    </tr>\n",
       "    <tr>\n",
       "      <th>Fuel_Price</th>\n",
       "      <td>421570.0</td>\n",
       "      <td>0.0</td>\n",
       "      <td>1.416908e+06</td>\n",
       "      <td>3.36</td>\n",
       "      <td>3.45</td>\n",
       "      <td>0.46</td>\n",
       "      <td>2.100000e-01</td>\n",
       "      <td>2.47</td>\n",
       "      <td>2.56</td>\n",
       "      <td>2.65</td>\n",
       "      <td>2.72</td>\n",
       "      <td>2.93</td>\n",
       "      <td>3.45</td>\n",
       "      <td>3.74</td>\n",
       "      <td>3.92</td>\n",
       "      <td>4.03</td>\n",
       "      <td>4.20</td>\n",
       "      <td>4.47</td>\n",
       "    </tr>\n",
       "    <tr>\n",
       "      <th>MarkDown1</th>\n",
       "      <td>150681.0</td>\n",
       "      <td>270889.0</td>\n",
       "      <td>1.091898e+09</td>\n",
       "      <td>7246.42</td>\n",
       "      <td>5347.45</td>\n",
       "      <td>8291.22</td>\n",
       "      <td>6.874435e+07</td>\n",
       "      <td>0.27</td>\n",
       "      <td>17.76</td>\n",
       "      <td>149.19</td>\n",
       "      <td>375.20</td>\n",
       "      <td>2240.27</td>\n",
       "      <td>5347.45</td>\n",
       "      <td>9210.90</td>\n",
       "      <td>15282.47</td>\n",
       "      <td>21801.35</td>\n",
       "      <td>41524.03</td>\n",
       "      <td>88646.76</td>\n",
       "    </tr>\n",
       "    <tr>\n",
       "      <th>MarkDown4</th>\n",
       "      <td>134967.0</td>\n",
       "      <td>286603.0</td>\n",
       "      <td>4.566161e+08</td>\n",
       "      <td>3383.17</td>\n",
       "      <td>1481.31</td>\n",
       "      <td>6292.38</td>\n",
       "      <td>3.959410e+07</td>\n",
       "      <td>0.22</td>\n",
       "      <td>3.97</td>\n",
       "      <td>28.76</td>\n",
       "      <td>108.71</td>\n",
       "      <td>504.22</td>\n",
       "      <td>1481.31</td>\n",
       "      <td>3595.04</td>\n",
       "      <td>7871.42</td>\n",
       "      <td>12645.96</td>\n",
       "      <td>35785.26</td>\n",
       "      <td>67474.85</td>\n",
       "    </tr>\n",
       "    <tr>\n",
       "      <th>Unemployment</th>\n",
       "      <td>421570.0</td>\n",
       "      <td>0.0</td>\n",
       "      <td>3.355819e+06</td>\n",
       "      <td>7.96</td>\n",
       "      <td>7.87</td>\n",
       "      <td>1.86</td>\n",
       "      <td>3.470000e+00</td>\n",
       "      <td>3.88</td>\n",
       "      <td>4.16</td>\n",
       "      <td>5.33</td>\n",
       "      <td>5.96</td>\n",
       "      <td>6.89</td>\n",
       "      <td>7.87</td>\n",
       "      <td>8.57</td>\n",
       "      <td>9.82</td>\n",
       "      <td>12.19</td>\n",
       "      <td>14.18</td>\n",
       "      <td>14.31</td>\n",
       "    </tr>\n",
       "    <tr>\n",
       "      <th>MarkDown2</th>\n",
       "      <td>111248.0</td>\n",
       "      <td>310322.0</td>\n",
       "      <td>3.709708e+08</td>\n",
       "      <td>3334.63</td>\n",
       "      <td>192.00</td>\n",
       "      <td>9475.36</td>\n",
       "      <td>8.978240e+07</td>\n",
       "      <td>-265.76</td>\n",
       "      <td>-0.99</td>\n",
       "      <td>1.95</td>\n",
       "      <td>6.98</td>\n",
       "      <td>41.60</td>\n",
       "      <td>192.00</td>\n",
       "      <td>1926.94</td>\n",
       "      <td>8549.74</td>\n",
       "      <td>16497.47</td>\n",
       "      <td>50366.60</td>\n",
       "      <td>104519.54</td>\n",
       "    </tr>\n",
       "    <tr>\n",
       "      <th>MarkDown3</th>\n",
       "      <td>137091.0</td>\n",
       "      <td>284479.0</td>\n",
       "      <td>1.973317e+08</td>\n",
       "      <td>1439.42</td>\n",
       "      <td>24.60</td>\n",
       "      <td>9623.08</td>\n",
       "      <td>9.260364e+07</td>\n",
       "      <td>-29.10</td>\n",
       "      <td>0.06</td>\n",
       "      <td>0.65</td>\n",
       "      <td>1.65</td>\n",
       "      <td>5.08</td>\n",
       "      <td>24.60</td>\n",
       "      <td>103.99</td>\n",
       "      <td>400.09</td>\n",
       "      <td>1059.90</td>\n",
       "      <td>63143.29</td>\n",
       "      <td>141630.61</td>\n",
       "    </tr>\n",
       "    <tr>\n",
       "      <th>Temperature</th>\n",
       "      <td>421570.0</td>\n",
       "      <td>0.0</td>\n",
       "      <td>2.533217e+07</td>\n",
       "      <td>60.09</td>\n",
       "      <td>62.09</td>\n",
       "      <td>18.45</td>\n",
       "      <td>3.403300e+02</td>\n",
       "      <td>-2.06</td>\n",
       "      <td>18.30</td>\n",
       "      <td>27.31</td>\n",
       "      <td>33.98</td>\n",
       "      <td>46.68</td>\n",
       "      <td>62.09</td>\n",
       "      <td>74.28</td>\n",
       "      <td>83.58</td>\n",
       "      <td>87.27</td>\n",
       "      <td>92.81</td>\n",
       "      <td>100.14</td>\n",
       "    </tr>\n",
       "    <tr>\n",
       "      <th>MarkDown5</th>\n",
       "      <td>151432.0</td>\n",
       "      <td>270138.0</td>\n",
       "      <td>7.009750e+08</td>\n",
       "      <td>4628.98</td>\n",
       "      <td>3359.45</td>\n",
       "      <td>5962.89</td>\n",
       "      <td>3.555603e+07</td>\n",
       "      <td>135.16</td>\n",
       "      <td>351.97</td>\n",
       "      <td>715.52</td>\n",
       "      <td>1070.83</td>\n",
       "      <td>1878.44</td>\n",
       "      <td>3359.45</td>\n",
       "      <td>5563.80</td>\n",
       "      <td>8337.70</td>\n",
       "      <td>11269.24</td>\n",
       "      <td>27754.23</td>\n",
       "      <td>108519.28</td>\n",
       "    </tr>\n",
       "  </tbody>\n",
       "</table>\n",
       "</div>"
      ],
      "text/plain": [
       "                     N     NMISS           SUM       MEAN     MEDIAN  \\\n",
       "CPI           421570.0       0.0  7.217360e+07     171.20     182.32   \n",
       "Weekly_Sales  421570.0       0.0  6.737219e+09   15981.26    7612.03   \n",
       "Size          421570.0       0.0  5.764039e+10  136727.92  140167.00   \n",
       "Fuel_Price    421570.0       0.0  1.416908e+06       3.36       3.45   \n",
       "MarkDown1     150681.0  270889.0  1.091898e+09    7246.42    5347.45   \n",
       "MarkDown4     134967.0  286603.0  4.566161e+08    3383.17    1481.31   \n",
       "Unemployment  421570.0       0.0  3.355819e+06       7.96       7.87   \n",
       "MarkDown2     111248.0  310322.0  3.709708e+08    3334.63     192.00   \n",
       "MarkDown3     137091.0  284479.0  1.973317e+08    1439.42      24.60   \n",
       "Temperature   421570.0       0.0  2.533217e+07      60.09      62.09   \n",
       "MarkDown5     151432.0  270138.0  7.009750e+08    4628.98    3359.45   \n",
       "\n",
       "                   STD           VAR       MIN        P1        P5       P10  \\\n",
       "CPI              39.16  1.533450e+03    126.06    126.11    126.50    128.82   \n",
       "Weekly_Sales  22711.18  5.157979e+08  -4988.94      5.00     59.97    291.10   \n",
       "Size          60980.58  3.718632e+09  34875.00  34875.00  39690.00  39910.00   \n",
       "Fuel_Price        0.46  2.100000e-01      2.47      2.56      2.65      2.72   \n",
       "MarkDown1      8291.22  6.874435e+07      0.27     17.76    149.19    375.20   \n",
       "MarkDown4      6292.38  3.959410e+07      0.22      3.97     28.76    108.71   \n",
       "Unemployment      1.86  3.470000e+00      3.88      4.16      5.33      5.96   \n",
       "MarkDown2      9475.36  8.978240e+07   -265.76     -0.99      1.95      6.98   \n",
       "MarkDown3      9623.08  9.260364e+07    -29.10      0.06      0.65      1.65   \n",
       "Temperature      18.45  3.403300e+02     -2.06     18.30     27.31     33.98   \n",
       "MarkDown5      5962.89  3.555603e+07    135.16    351.97    715.52   1070.83   \n",
       "\n",
       "                   P25        P50        P75        P90        P95        P99  \\\n",
       "CPI             132.02     182.32     212.42     219.44     221.94     225.47   \n",
       "Weekly_Sales   2079.65    7612.03   20205.85   42845.67   61201.95  106479.59   \n",
       "Size          93638.00  140167.00  202505.00  204184.00  206302.00  219622.00   \n",
       "Fuel_Price        2.93       3.45       3.74       3.92       4.03       4.20   \n",
       "MarkDown1      2240.27    5347.45    9210.90   15282.47   21801.35   41524.03   \n",
       "MarkDown4       504.22    1481.31    3595.04    7871.42   12645.96   35785.26   \n",
       "Unemployment      6.89       7.87       8.57       9.82      12.19      14.18   \n",
       "MarkDown2        41.60     192.00    1926.94    8549.74   16497.47   50366.60   \n",
       "MarkDown3         5.08      24.60     103.99     400.09    1059.90   63143.29   \n",
       "Temperature      46.68      62.09      74.28      83.58      87.27      92.81   \n",
       "MarkDown5      1878.44    3359.45    5563.80    8337.70   11269.24   27754.23   \n",
       "\n",
       "                    MAX  \n",
       "CPI              227.23  \n",
       "Weekly_Sales  693099.36  \n",
       "Size          219622.00  \n",
       "Fuel_Price         4.47  \n",
       "MarkDown1      88646.76  \n",
       "MarkDown4      67474.85  \n",
       "Unemployment      14.31  \n",
       "MarkDown2     104519.54  \n",
       "MarkDown3     141630.61  \n",
       "Temperature      100.14  \n",
       "MarkDown5     108519.28  "
      ]
     },
     "execution_count": 28,
     "metadata": {},
     "output_type": "execute_result"
    }
   ],
   "source": [
    "train_conti.apply(continuous_var_summary).T.round(2)"
   ]
  },
  {
   "cell_type": "markdown",
   "metadata": {},
   "source": [
    "## Data audit report for Test dataset"
   ]
  },
  {
   "cell_type": "code",
   "execution_count": 29,
   "metadata": {},
   "outputs": [
    {
     "data": {
      "text/html": [
       "<div>\n",
       "<style scoped>\n",
       "    .dataframe tbody tr th:only-of-type {\n",
       "        vertical-align: middle;\n",
       "    }\n",
       "\n",
       "    .dataframe tbody tr th {\n",
       "        vertical-align: top;\n",
       "    }\n",
       "\n",
       "    .dataframe thead th {\n",
       "        text-align: right;\n",
       "    }\n",
       "</style>\n",
       "<table border=\"1\" class=\"dataframe\">\n",
       "  <thead>\n",
       "    <tr style=\"text-align: right;\">\n",
       "      <th></th>\n",
       "      <th>N</th>\n",
       "      <th>NMISS</th>\n",
       "      <th>MODE</th>\n",
       "      <th>FREQ</th>\n",
       "      <th>PERCENT</th>\n",
       "    </tr>\n",
       "  </thead>\n",
       "  <tbody>\n",
       "    <tr>\n",
       "      <th>Store</th>\n",
       "      <td>115064</td>\n",
       "      <td>0</td>\n",
       "      <td>13</td>\n",
       "      <td>2836</td>\n",
       "      <td>2.46</td>\n",
       "    </tr>\n",
       "    <tr>\n",
       "      <th>Type</th>\n",
       "      <td>115064</td>\n",
       "      <td>0</td>\n",
       "      <td>A</td>\n",
       "      <td>58713</td>\n",
       "      <td>51.03</td>\n",
       "    </tr>\n",
       "    <tr>\n",
       "      <th>Dept</th>\n",
       "      <td>115064</td>\n",
       "      <td>0</td>\n",
       "      <td>1</td>\n",
       "      <td>1755</td>\n",
       "      <td>1.53</td>\n",
       "    </tr>\n",
       "    <tr>\n",
       "      <th>Date</th>\n",
       "      <td>115064</td>\n",
       "      <td>0</td>\n",
       "      <td>2012-12-21 00:00:00</td>\n",
       "      <td>3002</td>\n",
       "      <td>2.61</td>\n",
       "    </tr>\n",
       "    <tr>\n",
       "      <th>IsHoliday</th>\n",
       "      <td>115064</td>\n",
       "      <td>0</td>\n",
       "      <td>0</td>\n",
       "      <td>106136</td>\n",
       "      <td>92.24</td>\n",
       "    </tr>\n",
       "  </tbody>\n",
       "</table>\n",
       "</div>"
      ],
      "text/plain": [
       "                N NMISS                 MODE    FREQ PERCENT\n",
       "Store      115064     0                   13    2836    2.46\n",
       "Type       115064     0                    A   58713   51.03\n",
       "Dept       115064     0                    1    1755    1.53\n",
       "Date       115064     0  2012-12-21 00:00:00    3002    2.61\n",
       "IsHoliday  115064     0                    0  106136   92.24"
      ]
     },
     "execution_count": 29,
     "metadata": {},
     "output_type": "execute_result"
    }
   ],
   "source": [
    "test_cat.apply(categorical_var_summary).T.round(2)"
   ]
  },
  {
   "cell_type": "code",
   "execution_count": 30,
   "metadata": {},
   "outputs": [
    {
     "data": {
      "text/html": [
       "<div>\n",
       "<style scoped>\n",
       "    .dataframe tbody tr th:only-of-type {\n",
       "        vertical-align: middle;\n",
       "    }\n",
       "\n",
       "    .dataframe tbody tr th {\n",
       "        vertical-align: top;\n",
       "    }\n",
       "\n",
       "    .dataframe thead th {\n",
       "        text-align: right;\n",
       "    }\n",
       "</style>\n",
       "<table border=\"1\" class=\"dataframe\">\n",
       "  <thead>\n",
       "    <tr style=\"text-align: right;\">\n",
       "      <th></th>\n",
       "      <th>N</th>\n",
       "      <th>NMISS</th>\n",
       "      <th>SUM</th>\n",
       "      <th>MEAN</th>\n",
       "      <th>MEDIAN</th>\n",
       "      <th>STD</th>\n",
       "      <th>VAR</th>\n",
       "      <th>MIN</th>\n",
       "      <th>P1</th>\n",
       "      <th>P5</th>\n",
       "      <th>P10</th>\n",
       "      <th>P25</th>\n",
       "      <th>P50</th>\n",
       "      <th>P75</th>\n",
       "      <th>P90</th>\n",
       "      <th>P95</th>\n",
       "      <th>P99</th>\n",
       "      <th>MAX</th>\n",
       "    </tr>\n",
       "  </thead>\n",
       "  <tbody>\n",
       "    <tr>\n",
       "      <th>CPI</th>\n",
       "      <td>76902.0</td>\n",
       "      <td>38162.0</td>\n",
       "      <td>1.360868e+07</td>\n",
       "      <td>176.96</td>\n",
       "      <td>192.30</td>\n",
       "      <td>41.24</td>\n",
       "      <td>1.700730e+03</td>\n",
       "      <td>131.24</td>\n",
       "      <td>131.28</td>\n",
       "      <td>131.48</td>\n",
       "      <td>132.03</td>\n",
       "      <td>138.40</td>\n",
       "      <td>192.30</td>\n",
       "      <td>223.24</td>\n",
       "      <td>225.90</td>\n",
       "      <td>227.78</td>\n",
       "      <td>228.73</td>\n",
       "      <td>228.98</td>\n",
       "    </tr>\n",
       "    <tr>\n",
       "      <th>Size</th>\n",
       "      <td>115064.0</td>\n",
       "      <td>0.0</td>\n",
       "      <td>1.570597e+10</td>\n",
       "      <td>136497.69</td>\n",
       "      <td>140167.00</td>\n",
       "      <td>61106.93</td>\n",
       "      <td>3.734056e+09</td>\n",
       "      <td>34875.00</td>\n",
       "      <td>34875.00</td>\n",
       "      <td>39690.00</td>\n",
       "      <td>39910.00</td>\n",
       "      <td>93638.00</td>\n",
       "      <td>140167.00</td>\n",
       "      <td>202505.00</td>\n",
       "      <td>204184.00</td>\n",
       "      <td>206302.00</td>\n",
       "      <td>219622.00</td>\n",
       "      <td>219622.00</td>\n",
       "    </tr>\n",
       "    <tr>\n",
       "      <th>Fuel_Price</th>\n",
       "      <td>115064.0</td>\n",
       "      <td>0.0</td>\n",
       "      <td>4.121070e+05</td>\n",
       "      <td>3.58</td>\n",
       "      <td>3.61</td>\n",
       "      <td>0.24</td>\n",
       "      <td>6.000000e-02</td>\n",
       "      <td>2.87</td>\n",
       "      <td>2.96</td>\n",
       "      <td>3.16</td>\n",
       "      <td>3.23</td>\n",
       "      <td>3.43</td>\n",
       "      <td>3.61</td>\n",
       "      <td>3.77</td>\n",
       "      <td>3.87</td>\n",
       "      <td>3.95</td>\n",
       "      <td>4.08</td>\n",
       "      <td>4.12</td>\n",
       "    </tr>\n",
       "    <tr>\n",
       "      <th>MarkDown1</th>\n",
       "      <td>114915.0</td>\n",
       "      <td>149.0</td>\n",
       "      <td>8.836063e+08</td>\n",
       "      <td>7689.22</td>\n",
       "      <td>4842.29</td>\n",
       "      <td>10698.76</td>\n",
       "      <td>1.144635e+08</td>\n",
       "      <td>-2781.45</td>\n",
       "      <td>20.84</td>\n",
       "      <td>189.49</td>\n",
       "      <td>457.66</td>\n",
       "      <td>1966.46</td>\n",
       "      <td>4842.29</td>\n",
       "      <td>9439.14</td>\n",
       "      <td>15325.04</td>\n",
       "      <td>23140.88</td>\n",
       "      <td>65757.57</td>\n",
       "      <td>103184.98</td>\n",
       "    </tr>\n",
       "    <tr>\n",
       "      <th>MarkDown4</th>\n",
       "      <td>102176.0</td>\n",
       "      <td>12888.0</td>\n",
       "      <td>3.429250e+08</td>\n",
       "      <td>3356.22</td>\n",
       "      <td>840.94</td>\n",
       "      <td>7570.50</td>\n",
       "      <td>5.731249e+07</td>\n",
       "      <td>0.22</td>\n",
       "      <td>2.61</td>\n",
       "      <td>16.96</td>\n",
       "      <td>37.36</td>\n",
       "      <td>155.46</td>\n",
       "      <td>840.94</td>\n",
       "      <td>3096.92</td>\n",
       "      <td>7674.41</td>\n",
       "      <td>14191.01</td>\n",
       "      <td>44739.28</td>\n",
       "      <td>65344.64</td>\n",
       "    </tr>\n",
       "    <tr>\n",
       "      <th>Unemployment</th>\n",
       "      <td>76902.0</td>\n",
       "      <td>38162.0</td>\n",
       "      <td>5.282193e+05</td>\n",
       "      <td>6.87</td>\n",
       "      <td>6.81</td>\n",
       "      <td>1.58</td>\n",
       "      <td>2.510000e+00</td>\n",
       "      <td>3.68</td>\n",
       "      <td>3.88</td>\n",
       "      <td>3.93</td>\n",
       "      <td>5.05</td>\n",
       "      <td>5.77</td>\n",
       "      <td>6.81</td>\n",
       "      <td>8.04</td>\n",
       "      <td>8.93</td>\n",
       "      <td>9.91</td>\n",
       "      <td>10.20</td>\n",
       "      <td>10.20</td>\n",
       "    </tr>\n",
       "    <tr>\n",
       "      <th>MarkDown2</th>\n",
       "      <td>86437.0</td>\n",
       "      <td>28627.0</td>\n",
       "      <td>3.227602e+08</td>\n",
       "      <td>3734.05</td>\n",
       "      <td>742.59</td>\n",
       "      <td>8323.50</td>\n",
       "      <td>6.928057e+07</td>\n",
       "      <td>-35.74</td>\n",
       "      <td>0.02</td>\n",
       "      <td>6.14</td>\n",
       "      <td>25.77</td>\n",
       "      <td>180.35</td>\n",
       "      <td>742.59</td>\n",
       "      <td>2735.67</td>\n",
       "      <td>9277.29</td>\n",
       "      <td>22671.67</td>\n",
       "      <td>42920.21</td>\n",
       "      <td>71074.17</td>\n",
       "    </tr>\n",
       "    <tr>\n",
       "      <th>MarkDown3</th>\n",
       "      <td>105235.0</td>\n",
       "      <td>9829.0</td>\n",
       "      <td>2.528890e+08</td>\n",
       "      <td>2403.09</td>\n",
       "      <td>78.26</td>\n",
       "      <td>13767.94</td>\n",
       "      <td>1.895562e+08</td>\n",
       "      <td>-179.26</td>\n",
       "      <td>0.15</td>\n",
       "      <td>1.18</td>\n",
       "      <td>3.10</td>\n",
       "      <td>15.10</td>\n",
       "      <td>78.26</td>\n",
       "      <td>272.58</td>\n",
       "      <td>698.93</td>\n",
       "      <td>2361.57</td>\n",
       "      <td>86476.66</td>\n",
       "      <td>149483.31</td>\n",
       "    </tr>\n",
       "    <tr>\n",
       "      <th>Temperature</th>\n",
       "      <td>115064.0</td>\n",
       "      <td>0.0</td>\n",
       "      <td>6.206760e+06</td>\n",
       "      <td>53.94</td>\n",
       "      <td>54.47</td>\n",
       "      <td>18.72</td>\n",
       "      <td>3.505900e+02</td>\n",
       "      <td>-7.29</td>\n",
       "      <td>11.44</td>\n",
       "      <td>23.98</td>\n",
       "      <td>29.97</td>\n",
       "      <td>39.82</td>\n",
       "      <td>54.47</td>\n",
       "      <td>67.35</td>\n",
       "      <td>79.48</td>\n",
       "      <td>83.82</td>\n",
       "      <td>92.14</td>\n",
       "      <td>101.95</td>\n",
       "    </tr>\n",
       "    <tr>\n",
       "      <th>MarkDown5</th>\n",
       "      <td>115064.0</td>\n",
       "      <td>0.0</td>\n",
       "      <td>4.513594e+08</td>\n",
       "      <td>3922.68</td>\n",
       "      <td>2390.43</td>\n",
       "      <td>19445.15</td>\n",
       "      <td>3.781139e+08</td>\n",
       "      <td>-185.17</td>\n",
       "      <td>269.30</td>\n",
       "      <td>540.89</td>\n",
       "      <td>770.88</td>\n",
       "      <td>1309.30</td>\n",
       "      <td>2390.43</td>\n",
       "      <td>4227.27</td>\n",
       "      <td>6966.34</td>\n",
       "      <td>9316.71</td>\n",
       "      <td>18599.30</td>\n",
       "      <td>771448.10</td>\n",
       "    </tr>\n",
       "  </tbody>\n",
       "</table>\n",
       "</div>"
      ],
      "text/plain": [
       "                     N    NMISS           SUM       MEAN     MEDIAN       STD  \\\n",
       "CPI            76902.0  38162.0  1.360868e+07     176.96     192.30     41.24   \n",
       "Size          115064.0      0.0  1.570597e+10  136497.69  140167.00  61106.93   \n",
       "Fuel_Price    115064.0      0.0  4.121070e+05       3.58       3.61      0.24   \n",
       "MarkDown1     114915.0    149.0  8.836063e+08    7689.22    4842.29  10698.76   \n",
       "MarkDown4     102176.0  12888.0  3.429250e+08    3356.22     840.94   7570.50   \n",
       "Unemployment   76902.0  38162.0  5.282193e+05       6.87       6.81      1.58   \n",
       "MarkDown2      86437.0  28627.0  3.227602e+08    3734.05     742.59   8323.50   \n",
       "MarkDown3     105235.0   9829.0  2.528890e+08    2403.09      78.26  13767.94   \n",
       "Temperature   115064.0      0.0  6.206760e+06      53.94      54.47     18.72   \n",
       "MarkDown5     115064.0      0.0  4.513594e+08    3922.68    2390.43  19445.15   \n",
       "\n",
       "                       VAR       MIN        P1        P5       P10       P25  \\\n",
       "CPI           1.700730e+03    131.24    131.28    131.48    132.03    138.40   \n",
       "Size          3.734056e+09  34875.00  34875.00  39690.00  39910.00  93638.00   \n",
       "Fuel_Price    6.000000e-02      2.87      2.96      3.16      3.23      3.43   \n",
       "MarkDown1     1.144635e+08  -2781.45     20.84    189.49    457.66   1966.46   \n",
       "MarkDown4     5.731249e+07      0.22      2.61     16.96     37.36    155.46   \n",
       "Unemployment  2.510000e+00      3.68      3.88      3.93      5.05      5.77   \n",
       "MarkDown2     6.928057e+07    -35.74      0.02      6.14     25.77    180.35   \n",
       "MarkDown3     1.895562e+08   -179.26      0.15      1.18      3.10     15.10   \n",
       "Temperature   3.505900e+02     -7.29     11.44     23.98     29.97     39.82   \n",
       "MarkDown5     3.781139e+08   -185.17    269.30    540.89    770.88   1309.30   \n",
       "\n",
       "                    P50        P75        P90        P95        P99        MAX  \n",
       "CPI              192.30     223.24     225.90     227.78     228.73     228.98  \n",
       "Size          140167.00  202505.00  204184.00  206302.00  219622.00  219622.00  \n",
       "Fuel_Price         3.61       3.77       3.87       3.95       4.08       4.12  \n",
       "MarkDown1       4842.29    9439.14   15325.04   23140.88   65757.57  103184.98  \n",
       "MarkDown4        840.94    3096.92    7674.41   14191.01   44739.28   65344.64  \n",
       "Unemployment       6.81       8.04       8.93       9.91      10.20      10.20  \n",
       "MarkDown2        742.59    2735.67    9277.29   22671.67   42920.21   71074.17  \n",
       "MarkDown3         78.26     272.58     698.93    2361.57   86476.66  149483.31  \n",
       "Temperature       54.47      67.35      79.48      83.82      92.14     101.95  \n",
       "MarkDown5       2390.43    4227.27    6966.34    9316.71   18599.30  771448.10  "
      ]
     },
     "execution_count": 30,
     "metadata": {},
     "output_type": "execute_result"
    }
   ],
   "source": [
    "test_conti.apply(continuous_var_summary).T.round(2)"
   ]
  },
  {
   "cell_type": "markdown",
   "metadata": {},
   "source": [
    "<div style=\"background-color:powderblue;font-size: 250%\"><strong><br>\n",
    "Missing value Treatment\n",
    "<br><br></strong></div>"
   ]
  },
  {
   "cell_type": "code",
   "execution_count": 31,
   "metadata": {},
   "outputs": [
    {
     "data": {
      "text/plain": [
       "Store        0\n",
       "Type         0\n",
       "Dept         0\n",
       "Date         0\n",
       "IsHoliday    0\n",
       "dtype: int64"
      ]
     },
     "execution_count": 31,
     "metadata": {},
     "output_type": "execute_result"
    }
   ],
   "source": [
    "train_cat.isnull().sum()"
   ]
  },
  {
   "cell_type": "code",
   "execution_count": 32,
   "metadata": {},
   "outputs": [
    {
     "data": {
      "text/plain": [
       "Store        0\n",
       "Type         0\n",
       "Dept         0\n",
       "Date         0\n",
       "IsHoliday    0\n",
       "dtype: int64"
      ]
     },
     "execution_count": 32,
     "metadata": {},
     "output_type": "execute_result"
    }
   ],
   "source": [
    "test_cat.isnull().sum()"
   ]
  },
  {
   "cell_type": "code",
   "execution_count": 33,
   "metadata": {},
   "outputs": [
    {
     "data": {
      "text/plain": [
       "CPI                  0\n",
       "Weekly_Sales         0\n",
       "Size                 0\n",
       "Fuel_Price           0\n",
       "MarkDown1       270889\n",
       "MarkDown4       286603\n",
       "Unemployment         0\n",
       "MarkDown2       310322\n",
       "MarkDown3       284479\n",
       "Temperature          0\n",
       "MarkDown5       270138\n",
       "dtype: int64"
      ]
     },
     "execution_count": 33,
     "metadata": {},
     "output_type": "execute_result"
    }
   ],
   "source": [
    "train_conti.isnull().sum()\n",
    "#test.groupby(['Dept'])['CPI'].transform(lambda x: x.fillna(x.mean()))"
   ]
  },
  {
   "cell_type": "code",
   "execution_count": 34,
   "metadata": {},
   "outputs": [
    {
     "data": {
      "text/plain": [
       "CPI             38162\n",
       "Size                0\n",
       "Fuel_Price          0\n",
       "MarkDown1         149\n",
       "MarkDown4       12888\n",
       "Unemployment    38162\n",
       "MarkDown2       28627\n",
       "MarkDown3        9829\n",
       "Temperature         0\n",
       "MarkDown5           0\n",
       "dtype: int64"
      ]
     },
     "execution_count": 34,
     "metadata": {},
     "output_type": "execute_result"
    }
   ],
   "source": [
    "test_conti.isnull().sum()"
   ]
  },
  {
   "cell_type": "markdown",
   "metadata": {},
   "source": [
    "<div class='alert alert-success'><strong>NOTE that,</strong><br>There is no missing values in categorical columns but some continuous columns have large number of missing values\n",
    "<br>* where missing values are more than 25% of the total records in whole data, those columns are deleted\n",
    "<br>* others are imputed with appropriate values</div>"
   ]
  },
  {
   "cell_type": "code",
   "execution_count": 35,
   "metadata": {},
   "outputs": [
    {
     "name": "stdout",
     "output_type": "stream",
     "text": [
      "--------------------------------------------------\n",
      "columns where missing values exists:\n",
      "--------------------------------------------------\n",
      ">>train-data:\n",
      " Store                0\n",
      "Type                 0\n",
      "Size                 0\n",
      "Date                 0\n",
      "Temperature          0\n",
      "Fuel_Price           0\n",
      "MarkDown1       270889\n",
      "MarkDown2       310322\n",
      "MarkDown3       284479\n",
      "MarkDown4       286603\n",
      "MarkDown5       270138\n",
      "CPI                  0\n",
      "Unemployment         0\n",
      "IsHoliday            0\n",
      "Dept                 0\n",
      "Weekly_Sales         0\n",
      "dtype: int64\n",
      "\n",
      "\n",
      ">>test-data:\n",
      " Store               0\n",
      "Type                0\n",
      "Size                0\n",
      "Date                0\n",
      "Temperature         0\n",
      "Fuel_Price          0\n",
      "MarkDown1         149\n",
      "MarkDown2       28627\n",
      "MarkDown3        9829\n",
      "MarkDown4       12888\n",
      "MarkDown5           0\n",
      "CPI             38162\n",
      "Unemployment    38162\n",
      "IsHoliday           0\n",
      "Dept                0\n",
      "dtype: int64\n"
     ]
    }
   ],
   "source": [
    "print(\"-\"*50)\n",
    "print(\"columns where missing values exists:\")\n",
    "print(\"-\"*50)\n",
    "print(\">>train-data:\\n\",train.isnull().sum().dropna())\n",
    "print(\"\\n\\n>>test-data:\\n\",test.isnull().sum().dropna())\n"
   ]
  },
  {
   "cell_type": "code",
   "execution_count": 46,
   "metadata": {},
   "outputs": [],
   "source": [
    "#print(\"-\"*50)\n",
    "#print(\"where missing value percentage is more than 25%:\")\n",
    "#print(\"-\"*50)\n",
    "#print(\">>train-data:\\n\",train_conti.isnull().sum().where(lambda x:  x>len(train_conti)*0.25).dropna())\n",
    "#print(\"\\n\\n>>test-data:\\n\",test_conti.isnull().sum().where(lambda x:  x>len(test_conti)*0.25).dropna())"
   ]
  },
  {
   "cell_type": "markdown",
   "metadata": {},
   "source": [
    "<div style=\"background-color:powderblue;font-size: 250%\"><strong><br>\n",
    "Missing value imputation\n",
    "<br><br></strong></div>"
   ]
  },
  {
   "cell_type": "code",
   "execution_count": 46,
   "metadata": {},
   "outputs": [],
   "source": [
    "cols=[\"MarkDown1\",\"MarkDown2\",\"MarkDown3\",\"MarkDown4\",\"MarkDown5\"]\n",
    "\n",
    "train[cols]=train[cols].fillna(0)\n",
    "test[cols]=test[cols].fillna(0)"
   ]
  },
  {
   "cell_type": "code",
   "execution_count": 47,
   "metadata": {},
   "outputs": [],
   "source": [
    "#misssing values are imputed by corresponding departmental average\n",
    "for col in [\"CPI\",\"Unemployment\"]:\n",
    "    test[col]=test.groupby(['Dept'])[col].transform(lambda x: x.fillna(x.mean())) \n",
    "    train[col]=train.groupby(['Dept'])[col].transform(lambda x: x.fillna(x.mean())) \n",
    "    #wal_sales[col]=wal_sales.groupby(['Dept'])[col].transform(lambda x: x.fillna(x.mean())) "
   ]
  },
  {
   "cell_type": "markdown",
   "metadata": {},
   "source": [
    "<div style=\"background-color:powderblue;font-size: 250%\"><strong><br>\n",
    "Outlier Treatment\n",
    "<br><br></strong></div>"
   ]
  },
  {
   "cell_type": "code",
   "execution_count": 38,
   "metadata": {},
   "outputs": [
    {
     "data": {
      "text/html": [
       "<div>\n",
       "<style scoped>\n",
       "    .dataframe tbody tr th:only-of-type {\n",
       "        vertical-align: middle;\n",
       "    }\n",
       "\n",
       "    .dataframe tbody tr th {\n",
       "        vertical-align: top;\n",
       "    }\n",
       "\n",
       "    .dataframe thead th {\n",
       "        text-align: right;\n",
       "    }\n",
       "</style>\n",
       "<table border=\"1\" class=\"dataframe\">\n",
       "  <thead>\n",
       "    <tr style=\"text-align: right;\">\n",
       "      <th></th>\n",
       "      <th>P1</th>\n",
       "      <th>MIN</th>\n",
       "      <th>P99</th>\n",
       "      <th>MAX</th>\n",
       "    </tr>\n",
       "  </thead>\n",
       "  <tbody>\n",
       "    <tr>\n",
       "      <th>Weekly_Sales</th>\n",
       "      <td>5.00</td>\n",
       "      <td>-4988.94</td>\n",
       "      <td>106479.59</td>\n",
       "      <td>693099.36</td>\n",
       "    </tr>\n",
       "    <tr>\n",
       "      <th>Size</th>\n",
       "      <td>34875.00</td>\n",
       "      <td>34875.00</td>\n",
       "      <td>219622.00</td>\n",
       "      <td>219622.00</td>\n",
       "    </tr>\n",
       "    <tr>\n",
       "      <th>Temperature</th>\n",
       "      <td>18.30</td>\n",
       "      <td>-2.06</td>\n",
       "      <td>92.81</td>\n",
       "      <td>100.14</td>\n",
       "    </tr>\n",
       "    <tr>\n",
       "      <th>Fuel_Price</th>\n",
       "      <td>2.56</td>\n",
       "      <td>2.47</td>\n",
       "      <td>4.20</td>\n",
       "      <td>4.47</td>\n",
       "    </tr>\n",
       "    <tr>\n",
       "      <th>CPI</th>\n",
       "      <td>126.11</td>\n",
       "      <td>126.06</td>\n",
       "      <td>225.47</td>\n",
       "      <td>227.23</td>\n",
       "    </tr>\n",
       "    <tr>\n",
       "      <th>Unemployment</th>\n",
       "      <td>4.16</td>\n",
       "      <td>3.88</td>\n",
       "      <td>14.18</td>\n",
       "      <td>14.31</td>\n",
       "    </tr>\n",
       "  </tbody>\n",
       "</table>\n",
       "</div>"
      ],
      "text/plain": [
       "                    P1       MIN        P99        MAX\n",
       "Weekly_Sales      5.00  -4988.94  106479.59  693099.36\n",
       "Size          34875.00  34875.00  219622.00  219622.00\n",
       "Temperature      18.30     -2.06      92.81     100.14\n",
       "Fuel_Price        2.56      2.47       4.20       4.47\n",
       "CPI             126.11    126.06     225.47     227.23\n",
       "Unemployment      4.16      3.88      14.18      14.31"
      ]
     },
     "execution_count": 38,
     "metadata": {},
     "output_type": "execute_result"
    }
   ],
   "source": [
    "col_names1=[ 'Weekly_Sales','Size', 'Temperature', 'Fuel_Price', 'CPI','Unemployment']\n",
    "train[col_names1].apply(continuous_var_summary).T.round(2)[[\"P1\",\"MIN\",\"P99\",\"MAX\"]]"
   ]
  },
  {
   "cell_type": "code",
   "execution_count": 39,
   "metadata": {},
   "outputs": [
    {
     "data": {
      "text/html": [
       "<div>\n",
       "<style scoped>\n",
       "    .dataframe tbody tr th:only-of-type {\n",
       "        vertical-align: middle;\n",
       "    }\n",
       "\n",
       "    .dataframe tbody tr th {\n",
       "        vertical-align: top;\n",
       "    }\n",
       "\n",
       "    .dataframe thead th {\n",
       "        text-align: right;\n",
       "    }\n",
       "</style>\n",
       "<table border=\"1\" class=\"dataframe\">\n",
       "  <thead>\n",
       "    <tr style=\"text-align: right;\">\n",
       "      <th></th>\n",
       "      <th>P1</th>\n",
       "      <th>MIN</th>\n",
       "      <th>P99</th>\n",
       "      <th>MAX</th>\n",
       "    </tr>\n",
       "  </thead>\n",
       "  <tbody>\n",
       "    <tr>\n",
       "      <th>Size</th>\n",
       "      <td>34875.00</td>\n",
       "      <td>34875.00</td>\n",
       "      <td>219622.00</td>\n",
       "      <td>219622.00</td>\n",
       "    </tr>\n",
       "    <tr>\n",
       "      <th>Temperature</th>\n",
       "      <td>11.44</td>\n",
       "      <td>-7.29</td>\n",
       "      <td>92.14</td>\n",
       "      <td>101.95</td>\n",
       "    </tr>\n",
       "    <tr>\n",
       "      <th>Fuel_Price</th>\n",
       "      <td>2.96</td>\n",
       "      <td>2.87</td>\n",
       "      <td>4.08</td>\n",
       "      <td>4.12</td>\n",
       "    </tr>\n",
       "    <tr>\n",
       "      <th>CPI</th>\n",
       "      <td>131.28</td>\n",
       "      <td>131.24</td>\n",
       "      <td>228.64</td>\n",
       "      <td>228.98</td>\n",
       "    </tr>\n",
       "    <tr>\n",
       "      <th>Unemployment</th>\n",
       "      <td>3.88</td>\n",
       "      <td>3.68</td>\n",
       "      <td>10.20</td>\n",
       "      <td>10.20</td>\n",
       "    </tr>\n",
       "  </tbody>\n",
       "</table>\n",
       "</div>"
      ],
      "text/plain": [
       "                    P1       MIN        P99        MAX\n",
       "Size          34875.00  34875.00  219622.00  219622.00\n",
       "Temperature      11.44     -7.29      92.14     101.95\n",
       "Fuel_Price        2.96      2.87       4.08       4.12\n",
       "CPI             131.28    131.24     228.64     228.98\n",
       "Unemployment      3.88      3.68      10.20      10.20"
      ]
     },
     "execution_count": 39,
     "metadata": {},
     "output_type": "execute_result"
    }
   ],
   "source": [
    "col_names2=['Size', 'Temperature', 'Fuel_Price', 'CPI','Unemployment']\n",
    "test[col_names2].apply(continuous_var_summary).T.round(2)[[\"P1\",\"MIN\",\"P99\",\"MAX\"]]"
   ]
  },
  {
   "cell_type": "code",
   "execution_count": 40,
   "metadata": {},
   "outputs": [
    {
     "data": {
      "image/png": "[encoded data removed]",
      "text/plain": [
       "<Figure size 432x288 with 1 Axes>"
      ]
     },
     "metadata": {},
     "output_type": "display_data"
    }
   ],
   "source": [
    "sns.set_style('whitegrid')\n",
    "sns.distplot(train['Weekly_Sales']);"
   ]
  },
  {
   "cell_type": "code",
   "execution_count": 41,
   "metadata": {},
   "outputs": [
    {
     "data": {
      "image/png": "[encoded data removed]",
      "text/plain": [
       "<Figure size 432x288 with 1 Axes>"
      ]
     },
     "metadata": {},
     "output_type": "display_data"
    }
   ],
   "source": [
    "#col_names1=[ 'Weekly_Sales','Size', 'Temperature', 'Fuel_Price', 'CPI','Unemployment']\n",
    "col='Fuel_Price'\n",
    "sns.distplot(train['Unemployment']);"
   ]
  },
  {
   "cell_type": "code",
   "execution_count": 42,
   "metadata": {},
   "outputs": [],
   "source": [
    "###Outlier Treatment\n",
    "\n",
    "train[['Weekly_Sales']]= train[['Weekly_Sales']]\\\n",
    "                        .apply(lambda x: x.clip(lower = x.dropna().quantile(0.01), upper = x.dropna().quantile(0.99)))\n"
   ]
  },
  {
   "cell_type": "markdown",
   "metadata": {},
   "source": [
    "<div style=\"background-color:powderblue;font-size: 250%\"><strong><br>\n",
    "Correlation check\n",
    "<br><br></strong></div>"
   ]
  },
  {
   "cell_type": "code",
   "execution_count": 48,
   "metadata": {},
   "outputs": [
    {
     "data": {
      "image/png": "[encoded data removed]",
      "text/plain": [
       "<Figure size 864x576 with 2 Axes>"
      ]
     },
     "metadata": {},
     "output_type": "display_data"
    }
   ],
   "source": [
    "#for train set\n",
    "plt.subplots(figsize=(12,8))\n",
    "sns.heatmap(train.corr(),cmap='OrRd',annot=True);"
   ]
  },
  {
   "cell_type": "code",
   "execution_count": 49,
   "metadata": {},
   "outputs": [
    {
     "data": {
      "image/png": "[encoded data removed]",
      "text/plain": [
       "<Figure size 864x576 with 2 Axes>"
      ]
     },
     "metadata": {},
     "output_type": "display_data"
    }
   ],
   "source": [
    "#for test set\n",
    "plt.subplots(figsize=(12,8))\n",
    "sns.heatmap(test.corr(),cmap='OrRd',annot=True);"
   ]
  },
  {
   "cell_type": "code",
   "execution_count": 50,
   "metadata": {},
   "outputs": [
    {
     "name": "stdout",
     "output_type": "stream",
     "text": [
      ">>highly correlated features in test data: (features having correlation coefficient more than 0.70)\n"
     ]
    },
    {
     "data": {
      "text/plain": [
       "MarkDown1  MarkDown4    0.838904\n",
       "MarkDown4  MarkDown1    0.838904\n",
       "dtype: float64"
      ]
     },
     "execution_count": 50,
     "metadata": {},
     "output_type": "execute_result"
    }
   ],
   "source": [
    "#checking for highly correlated features in train data\n",
    "corr_mat_train = train.corr().abs()\n",
    "corr_series1=corr_mat_train .unstack().sort_values(kind=\"quicksort\")\n",
    "\n",
    "print(\">>highly correlated features in test data: (features having correlation coefficient more than 0.70)\")\n",
    "corr_series1.where(lambda x: (x>0.70)&(x<1)).dropna()"
   ]
  },
  {
   "cell_type": "code",
   "execution_count": 51,
   "metadata": {},
   "outputs": [
    {
     "name": "stdout",
     "output_type": "stream",
     "text": [
      ">>highly correlated features in test data: (features having correlation coefficient more than 0.70)\n"
     ]
    },
    {
     "data": {
      "text/plain": [
       "MarkDown1  MarkDown4    0.838904\n",
       "MarkDown4  MarkDown1    0.838904\n",
       "dtype: float64"
      ]
     },
     "execution_count": 51,
     "metadata": {},
     "output_type": "execute_result"
    }
   ],
   "source": [
    "#checking for highly correlated features in train data\n",
    "corr_mat_test = train.corr().abs()\n",
    "corr_series2=corr_mat_test.unstack().sort_values(kind=\"quicksort\")\n",
    "\n",
    "print(\">>highly correlated features in test data: (features having correlation coefficient more than 0.70)\")\n",
    "corr_series2.where(lambda x: (x>0.70)&(x<1)).dropna()"
   ]
  },
  {
   "cell_type": "markdown",
   "metadata": {},
   "source": [
    "<div class='alert alert-warning'><strong> NOTE: </strong><br>MarkDown1  and MarkDown4 have high positive correlation (+0.838904) </div>"
   ]
  },
  {
   "cell_type": "markdown",
   "metadata": {},
   "source": [
    "<div style=\"background-color:powderblue;font-size: 300%\"><strong><br>\n",
    "Exploratory Data Analysis\n",
    "<br><br></strong></div>\n"
   ]
  },
  {
   "cell_type": "code",
   "execution_count": 52,
   "metadata": {},
   "outputs": [
    {
     "data": {
      "text/plain": [
       "Index(['Store', 'Type', 'Size', 'Date', 'Temperature', 'Fuel_Price',\n",
       "       'MarkDown1', 'MarkDown2', 'MarkDown3', 'MarkDown4', 'MarkDown5', 'CPI',\n",
       "       'Unemployment', 'IsHoliday', 'Dept', 'Weekly_Sales'],\n",
       "      dtype='object')"
      ]
     },
     "execution_count": 52,
     "metadata": {},
     "output_type": "execute_result"
    }
   ],
   "source": [
    "train.columns"
   ]
  },
  {
   "cell_type": "code",
   "execution_count": 53,
   "metadata": {},
   "outputs": [
    {
     "data": {
      "text/plain": [
       "Text(0.5, 0, ' Weekly Sales Amount')"
      ]
     },
     "execution_count": 53,
     "metadata": {},
     "output_type": "execute_result"
    },
    {
     "data": {
      "image/png": "[encoded data removed]",
      "text/plain": [
       "<Figure size 720x360 with 1 Axes>"
      ]
     },
     "metadata": {},
     "output_type": "display_data"
    }
   ],
   "source": [
    "plt.subplots(figsize=(10,5))\n",
    "sns.distplot(train.Weekly_Sales)\n",
    "plt.xlabel(\" Weekly Sales Amount\",fontsize=15)"
   ]
  },
  {
   "cell_type": "markdown",
   "metadata": {},
   "source": [
    "## Average Weekly Sales in Different stores of Walmart"
   ]
  },
  {
   "cell_type": "code",
   "execution_count": 54,
   "metadata": {},
   "outputs": [
    {
     "name": "stdout",
     "output_type": "stream",
     "text": [
      ">>Top 5 stores based on average weekly-sales:\n",
      "\n",
      "        Weekly_Sales\n",
      "Store              \n",
      "20     27724.172233\n",
      "4      27600.643512\n",
      "14     26768.557779\n",
      "13     25823.138688\n",
      "10     25552.536807\n"
     ]
    }
   ],
   "source": [
    "#df1_top5=train[['Store','Weekly_Sales']].groupby(['Store']).mean().nlargest(columns=['Weekly_Sales'],n=5,keep='all')\n",
    "\n",
    "df1=train[['Store','Weekly_Sales']].groupby(['Store']).mean()\n",
    "print(\">>Top 5 stores based on average weekly-sales:\\n\\n\",df1.sort_values('Weekly_Sales',ascending=False).head())"
   ]
  },
  {
   "cell_type": "code",
   "execution_count": 55,
   "metadata": {},
   "outputs": [
    {
     "name": "stdout",
     "output_type": "stream",
     "text": [
      "total stores= 45\n",
      "\n",
      "no of stores having avg weekly sales-->\n",
      "     more than overall Walmart weekly sales: 19(shown in green)\n",
      "     less than overall Walmart weekly sales: 26(shown in yellow)\n"
     ]
    },
    {
     "data": {
      "image/png": "[encoded data removed]",
      "text/plain": [
       "<Figure size 1080x360 with 1 Axes>"
      ]
     },
     "metadata": {},
     "output_type": "display_data"
    }
   ],
   "source": [
    "overall_avg=df1.Weekly_Sales.mean()\n",
    "print(f\"total stores= {df1.shape[0]}\\n\\nno of stores having avg weekly sales-->\")\n",
    "print(f\"     more than overall Walmart weekly sales: {df1.loc[df1.Weekly_Sales>overall_avg].shape[0]}(shown in green)\")\n",
    "print(f\"     less than overall Walmart weekly sales: {df1.loc[df1.Weekly_Sales<overall_avg].shape[0]}(shown in yellow)\")\n",
    "\n",
    "plt.subplots(figsize=(15,5))\n",
    "df1['Weekly_Sales'].plot(kind='bar',\n",
    "                        color=(df1['Weekly_Sales']>overall_avg).map({True: 'g',False: 'y'})\n",
    "                        )\n",
    "plt.axhline(y=overall_avg, color='r', linestyle='--')\n",
    "plt.xlabel(\"\\nWalmart-Stores\",fontsize=16);\n",
    "plt.ylabel(\"Average Weekly Sales\",fontsize=15);"
   ]
  },
  {
   "cell_type": "markdown",
   "metadata": {},
   "source": [
    "## Average Weekly Sales in different departments of Walmart"
   ]
  },
  {
   "cell_type": "code",
   "execution_count": 56,
   "metadata": {},
   "outputs": [
    {
     "name": "stdout",
     "output_type": "stream",
     "text": [
      ">>Top 5 stores based on average weekly-sales:\n",
      "\n",
      "       Weekly_Sales\n",
      "Dept              \n",
      "92    65267.442384\n",
      "95    64707.663558\n",
      "38    60609.679484\n",
      "72    46701.112841\n",
      "65    45441.706224\n",
      "\n",
      ">>Total Departments= 81\n",
      "\n",
      "No of Departments having avg weekly sales-->\n",
      "     more than overall Walmart weekly sales: 31(shown in green)\n",
      "     less than overall Walmart weekly sales: 50(shown in yellow)\n"
     ]
    },
    {
     "data": {
      "image/png": "[encoded data removed]",
      "text/plain": [
       "<Figure size 1080x360 with 1 Axes>"
      ]
     },
     "metadata": {},
     "output_type": "display_data"
    }
   ],
   "source": [
    "df2=train[['Dept','Weekly_Sales']].groupby(['Dept']).mean()\n",
    "print(\">>Top 5 stores based on average weekly-sales:\\n\\n\",df2.sort_values('Weekly_Sales',ascending=False).head())\n",
    "\n",
    "overall_avg2=df2.Weekly_Sales.mean()\n",
    "print(f\"\\n>>Total Departments= {df2.shape[0]}\\n\\nNo of Departments having avg weekly sales-->\")\n",
    "print(f\"     more than overall Walmart weekly sales: {df2.loc[df2.Weekly_Sales>overall_avg2].shape[0]}(shown in green)\")\n",
    "print(f\"     less than overall Walmart weekly sales: {df2.loc[df2.Weekly_Sales<overall_avg2].shape[0]}(shown in yellow)\")\n",
    "\n",
    "plt.subplots(figsize=(15,5))\n",
    "df2['Weekly_Sales'].plot(kind='bar',color=(df2['Weekly_Sales']>overall_avg2).map({True: 'g',False: 'y'}))\n",
    "plt.axhline(y=overall_avg2, color='r', linestyle='--')\n",
    "plt.xlabel(\"\\nWalmart-Departments\",fontsize=16);\n",
    "plt.ylabel(\"Average Weekly Sales\",fontsize=15);"
   ]
  },
  {
   "cell_type": "markdown",
   "metadata": {},
   "source": [
    "## Average Weekly Sales in Different store-types of Walmart"
   ]
  },
  {
   "cell_type": "code",
   "execution_count": 57,
   "metadata": {},
   "outputs": [
    {
     "name": "stdout",
     "output_type": "stream",
     "text": [
      ">>Average weekly-sales in all types:\n",
      "\n",
      "       Weekly_Sales\n",
      "Type              \n",
      "A     19540.695108\n",
      "B     12131.286191\n",
      "C      9519.172127\n",
      "\n",
      "No of Departments having avg weekly sales-->\n",
      "     more than overall Walmart weekly sales: 1(shown in green)\n",
      "     less than overall Walmart weekly sales: 2(shown in yellow)\n"
     ]
    },
    {
     "data": {
      "image/png": "[encoded data removed]",
      "text/plain": [
       "<Figure size 432x288 with 1 Axes>"
      ]
     },
     "metadata": {},
     "output_type": "display_data"
    }
   ],
   "source": [
    "df3=train[['Type','Weekly_Sales']].groupby(['Type']).mean()\n",
    "print(\">>Average weekly-sales in all types:\\n\\n\",df3)\n",
    "\n",
    "overall_avg3=df3.Weekly_Sales.mean()\n",
    "print(f\"\\nNo of Departments having avg weekly sales-->\")\n",
    "print(f\"     more than overall Walmart weekly sales: {df3.loc[df3.Weekly_Sales>overall_avg3].shape[0]}(shown in green)\")\n",
    "print(f\"     less than overall Walmart weekly sales: {df3.loc[df3.Weekly_Sales<overall_avg3].shape[0]}(shown in yellow)\")\n",
    "\n",
    "#plt.subplots(figsize=(15,5))\n",
    "df3['Weekly_Sales'].plot(kind='bar',color=(df3['Weekly_Sales']>overall_avg3).map({True: 'g',False: 'y'}))\n",
    "plt.axhline(y=overall_avg2, color='r', linestyle='--')\n",
    "plt.xlabel(\"\\nWalmart Store-Type\",fontsize=16)\n",
    "plt.ylabel(\"Average Weekly Sales\",fontsize=15);\n",
    "plt.xticks(rotation=45,fontsize=12);"
   ]
  },
  {
   "cell_type": "markdown",
   "metadata": {},
   "source": [
    "# Feature Extraction\n",
    "In this section,appropriate features are seletected to train our classifier and new features are created based on existing features."
   ]
  },
  {
   "cell_type": "code",
   "execution_count": 58,
   "metadata": {},
   "outputs": [
    {
     "data": {
      "text/plain": [
       "Index(['Store', 'Type', 'Size', 'Date', 'Temperature', 'Fuel_Price',\n",
       "       'MarkDown1', 'MarkDown2', 'MarkDown3', 'MarkDown4', 'MarkDown5', 'CPI',\n",
       "       'Unemployment', 'IsHoliday', 'Dept', 'Weekly_Sales'],\n",
       "      dtype='object')"
      ]
     },
     "execution_count": 58,
     "metadata": {},
     "output_type": "execute_result"
    }
   ],
   "source": [
    "train.columns"
   ]
  },
  {
   "cell_type": "markdown",
   "metadata": {},
   "source": [
    "### Extracting date features"
   ]
  },
  {
   "cell_type": "code",
   "execution_count": 59,
   "metadata": {},
   "outputs": [
    {
     "data": {
      "text/plain": [
       "0   2010-02-05\n",
       "1   2010-02-05\n",
       "2   2010-02-05\n",
       "3   2010-02-05\n",
       "4   2010-02-05\n",
       "Name: Date, dtype: datetime64[ns]"
      ]
     },
     "execution_count": 59,
     "metadata": {},
     "output_type": "execute_result"
    }
   ],
   "source": [
    "train['Date'].head()"
   ]
  },
  {
   "cell_type": "code",
   "execution_count": 60,
   "metadata": {},
   "outputs": [],
   "source": [
    "#training dataset\n",
    "train['Date_month'] =train['Date'].dt.month \n",
    "train['Date_year'] =train['Date'].dt.year\n",
    "train['Date_day'] =train['Date'].dt.day \n",
    "train['Date_dayofweek'] =train['Date'].dt.dayofweek\n",
    "\n",
    "#test dataset\n",
    "test['Date_month'] =test['Date'].dt.month \n",
    "test['Date_year'] =test['Date'].dt.year\n",
    "test['Date_day'] =test['Date'].dt.day \n",
    "test['Date_dayofweek'] =test['Date'].dt.dayofweek"
   ]
  },
  {
   "cell_type": "code",
   "execution_count": 61,
   "metadata": {},
   "outputs": [
    {
     "data": {
      "text/html": [
       "<div>\n",
       "<style scoped>\n",
       "    .dataframe tbody tr th:only-of-type {\n",
       "        vertical-align: middle;\n",
       "    }\n",
       "\n",
       "    .dataframe tbody tr th {\n",
       "        vertical-align: top;\n",
       "    }\n",
       "\n",
       "    .dataframe thead th {\n",
       "        text-align: right;\n",
       "    }\n",
       "</style>\n",
       "<table border=\"1\" class=\"dataframe\">\n",
       "  <thead>\n",
       "    <tr style=\"text-align: right;\">\n",
       "      <th></th>\n",
       "      <th>Date_year</th>\n",
       "      <th>Date_month</th>\n",
       "      <th>Date_day</th>\n",
       "      <th>Date_dayofweek</th>\n",
       "    </tr>\n",
       "  </thead>\n",
       "  <tbody>\n",
       "    <tr>\n",
       "      <th>0</th>\n",
       "      <td>2010</td>\n",
       "      <td>2</td>\n",
       "      <td>5</td>\n",
       "      <td>4</td>\n",
       "    </tr>\n",
       "    <tr>\n",
       "      <th>1</th>\n",
       "      <td>2010</td>\n",
       "      <td>2</td>\n",
       "      <td>5</td>\n",
       "      <td>4</td>\n",
       "    </tr>\n",
       "    <tr>\n",
       "      <th>2</th>\n",
       "      <td>2010</td>\n",
       "      <td>2</td>\n",
       "      <td>5</td>\n",
       "      <td>4</td>\n",
       "    </tr>\n",
       "    <tr>\n",
       "      <th>3</th>\n",
       "      <td>2010</td>\n",
       "      <td>2</td>\n",
       "      <td>5</td>\n",
       "      <td>4</td>\n",
       "    </tr>\n",
       "    <tr>\n",
       "      <th>4</th>\n",
       "      <td>2010</td>\n",
       "      <td>2</td>\n",
       "      <td>5</td>\n",
       "      <td>4</td>\n",
       "    </tr>\n",
       "  </tbody>\n",
       "</table>\n",
       "</div>"
      ],
      "text/plain": [
       "   Date_year  Date_month  Date_day  Date_dayofweek\n",
       "0       2010           2         5               4\n",
       "1       2010           2         5               4\n",
       "2       2010           2         5               4\n",
       "3       2010           2         5               4\n",
       "4       2010           2         5               4"
      ]
     },
     "execution_count": 61,
     "metadata": {},
     "output_type": "execute_result"
    }
   ],
   "source": [
    "train[['Date_year','Date_month','Date_day','Date_dayofweek']].head()"
   ]
  },
  {
   "cell_type": "code",
   "execution_count": 62,
   "metadata": {},
   "outputs": [
    {
     "data": {
      "text/plain": [
       "(array([2010, 2011, 2012], dtype=int64),\n",
       " array([ 2,  3,  4,  5,  6,  7,  8,  9, 10, 11, 12,  1], dtype=int64))"
      ]
     },
     "execution_count": 62,
     "metadata": {},
     "output_type": "execute_result"
    }
   ],
   "source": [
    "train.Date_year.unique(),train.Date_month.unique()"
   ]
  },
  {
   "cell_type": "code",
   "execution_count": 63,
   "metadata": {},
   "outputs": [
    {
     "data": {
      "text/html": [
       "<div>\n",
       "<style scoped>\n",
       "    .dataframe tbody tr th:only-of-type {\n",
       "        vertical-align: middle;\n",
       "    }\n",
       "\n",
       "    .dataframe tbody tr th {\n",
       "        vertical-align: top;\n",
       "    }\n",
       "\n",
       "    .dataframe thead th {\n",
       "        text-align: right;\n",
       "    }\n",
       "</style>\n",
       "<table border=\"1\" class=\"dataframe\">\n",
       "  <thead>\n",
       "    <tr style=\"text-align: right;\">\n",
       "      <th></th>\n",
       "      <th>Weekly_Sales</th>\n",
       "    </tr>\n",
       "    <tr>\n",
       "      <th>Date_year</th>\n",
       "      <th></th>\n",
       "    </tr>\n",
       "  </thead>\n",
       "  <tbody>\n",
       "    <tr>\n",
       "      <th>2010</th>\n",
       "      <td>15908.725787</td>\n",
       "    </tr>\n",
       "    <tr>\n",
       "      <th>2011</th>\n",
       "      <td>15613.579002</td>\n",
       "    </tr>\n",
       "    <tr>\n",
       "      <th>2012</th>\n",
       "      <td>15423.253172</td>\n",
       "    </tr>\n",
       "  </tbody>\n",
       "</table>\n",
       "</div>"
      ],
      "text/plain": [
       "           Weekly_Sales\n",
       "Date_year              \n",
       "2010       15908.725787\n",
       "2011       15613.579002\n",
       "2012       15423.253172"
      ]
     },
     "execution_count": 63,
     "metadata": {},
     "output_type": "execute_result"
    }
   ],
   "source": [
    "train[['Date_year','Weekly_Sales']].groupby('Date_year').mean()"
   ]
  },
  {
   "cell_type": "code",
   "execution_count": 64,
   "metadata": {},
   "outputs": [
    {
     "data": {
      "image/png": "[encoded data removed]",
      "text/plain": [
       "<Figure size 864x360 with 1 Axes>"
      ]
     },
     "metadata": {},
     "output_type": "display_data"
    }
   ],
   "source": [
    "monthly_df=train[['Date_month','Weekly_Sales']].groupby('Date_month').mean()\n",
    "\n",
    "monthly_df.plot(figsize=(12,5))\n",
    "plt.axhline(y=monthly_df.mean()[0], color='r', linestyle='--')\n",
    "plt.xlabel(\"Month of the year\",fontsize=12);\n",
    "#lt.xticks(labels=['jan','feb','mar','april','may','june','july','august','sept','oct','nov','dec'],rotation='vertical')"
   ]
  },
  {
   "cell_type": "code",
   "execution_count": null,
   "metadata": {},
   "outputs": [],
   "source": []
  },
  {
   "cell_type": "markdown",
   "metadata": {},
   "source": [
    "<div style=\"background-color:powderblue;font-size: 300%\"><strong><br><br>\n",
    "MODEL BUILDING\n",
    "<br><br></strong></div>"
   ]
  },
  {
   "cell_type": "markdown",
   "metadata": {},
   "source": [
    "## Data Preparation for MODEL BUILDING"
   ]
  },
  {
   "cell_type": "code",
   "execution_count": 65,
   "metadata": {},
   "outputs": [
    {
     "data": {
      "text/plain": [
       "dtype('O')"
      ]
     },
     "execution_count": 65,
     "metadata": {},
     "output_type": "execute_result"
    }
   ],
   "source": [
    "type_mapping = {\"A\": 1, \"B\": 2, \"C\": 3}\n",
    "for dataset in [train,test]:  dataset['Type_new'] = dataset['Type'].map(type_mapping)\n",
    "    \n",
    "train['Type_new']=train['Type_new'].astype(\"object\")\n",
    "train['Type_new'].dtypes"
   ]
  },
  {
   "cell_type": "code",
   "execution_count": 66,
   "metadata": {},
   "outputs": [
    {
     "data": {
      "text/html": [
       "<div>\n",
       "<style scoped>\n",
       "    .dataframe tbody tr th:only-of-type {\n",
       "        vertical-align: middle;\n",
       "    }\n",
       "\n",
       "    .dataframe tbody tr th {\n",
       "        vertical-align: top;\n",
       "    }\n",
       "\n",
       "    .dataframe thead th {\n",
       "        text-align: right;\n",
       "    }\n",
       "</style>\n",
       "<table border=\"1\" class=\"dataframe\">\n",
       "  <thead>\n",
       "    <tr style=\"text-align: right;\">\n",
       "      <th></th>\n",
       "      <th>0</th>\n",
       "      <th>1</th>\n",
       "      <th>2</th>\n",
       "      <th>3</th>\n",
       "      <th>4</th>\n",
       "    </tr>\n",
       "  </thead>\n",
       "  <tbody>\n",
       "    <tr>\n",
       "      <th>Store</th>\n",
       "      <td>1</td>\n",
       "      <td>1</td>\n",
       "      <td>1</td>\n",
       "      <td>1</td>\n",
       "      <td>1</td>\n",
       "    </tr>\n",
       "    <tr>\n",
       "      <th>Type</th>\n",
       "      <td>A</td>\n",
       "      <td>A</td>\n",
       "      <td>A</td>\n",
       "      <td>A</td>\n",
       "      <td>A</td>\n",
       "    </tr>\n",
       "    <tr>\n",
       "      <th>Size</th>\n",
       "      <td>151315</td>\n",
       "      <td>151315</td>\n",
       "      <td>151315</td>\n",
       "      <td>151315</td>\n",
       "      <td>151315</td>\n",
       "    </tr>\n",
       "    <tr>\n",
       "      <th>Date</th>\n",
       "      <td>2010-02-05 00:00:00</td>\n",
       "      <td>2010-02-05 00:00:00</td>\n",
       "      <td>2010-02-05 00:00:00</td>\n",
       "      <td>2010-02-05 00:00:00</td>\n",
       "      <td>2010-02-05 00:00:00</td>\n",
       "    </tr>\n",
       "    <tr>\n",
       "      <th>Temperature</th>\n",
       "      <td>42.31</td>\n",
       "      <td>42.31</td>\n",
       "      <td>42.31</td>\n",
       "      <td>42.31</td>\n",
       "      <td>42.31</td>\n",
       "    </tr>\n",
       "    <tr>\n",
       "      <th>Fuel_Price</th>\n",
       "      <td>2.572</td>\n",
       "      <td>2.572</td>\n",
       "      <td>2.572</td>\n",
       "      <td>2.572</td>\n",
       "      <td>2.572</td>\n",
       "    </tr>\n",
       "    <tr>\n",
       "      <th>MarkDown1</th>\n",
       "      <td>0</td>\n",
       "      <td>0</td>\n",
       "      <td>0</td>\n",
       "      <td>0</td>\n",
       "      <td>0</td>\n",
       "    </tr>\n",
       "    <tr>\n",
       "      <th>MarkDown2</th>\n",
       "      <td>0</td>\n",
       "      <td>0</td>\n",
       "      <td>0</td>\n",
       "      <td>0</td>\n",
       "      <td>0</td>\n",
       "    </tr>\n",
       "    <tr>\n",
       "      <th>MarkDown3</th>\n",
       "      <td>0</td>\n",
       "      <td>0</td>\n",
       "      <td>0</td>\n",
       "      <td>0</td>\n",
       "      <td>0</td>\n",
       "    </tr>\n",
       "    <tr>\n",
       "      <th>MarkDown4</th>\n",
       "      <td>0</td>\n",
       "      <td>0</td>\n",
       "      <td>0</td>\n",
       "      <td>0</td>\n",
       "      <td>0</td>\n",
       "    </tr>\n",
       "    <tr>\n",
       "      <th>MarkDown5</th>\n",
       "      <td>0</td>\n",
       "      <td>0</td>\n",
       "      <td>0</td>\n",
       "      <td>0</td>\n",
       "      <td>0</td>\n",
       "    </tr>\n",
       "    <tr>\n",
       "      <th>CPI</th>\n",
       "      <td>211.096</td>\n",
       "      <td>211.096</td>\n",
       "      <td>211.096</td>\n",
       "      <td>211.096</td>\n",
       "      <td>211.096</td>\n",
       "    </tr>\n",
       "    <tr>\n",
       "      <th>Unemployment</th>\n",
       "      <td>8.106</td>\n",
       "      <td>8.106</td>\n",
       "      <td>8.106</td>\n",
       "      <td>8.106</td>\n",
       "      <td>8.106</td>\n",
       "    </tr>\n",
       "    <tr>\n",
       "      <th>IsHoliday</th>\n",
       "      <td>0</td>\n",
       "      <td>0</td>\n",
       "      <td>0</td>\n",
       "      <td>0</td>\n",
       "      <td>0</td>\n",
       "    </tr>\n",
       "    <tr>\n",
       "      <th>Dept</th>\n",
       "      <td>1</td>\n",
       "      <td>2</td>\n",
       "      <td>3</td>\n",
       "      <td>4</td>\n",
       "      <td>5</td>\n",
       "    </tr>\n",
       "    <tr>\n",
       "      <th>Weekly_Sales</th>\n",
       "      <td>24924.5</td>\n",
       "      <td>50605.3</td>\n",
       "      <td>13740.1</td>\n",
       "      <td>39954</td>\n",
       "      <td>32229.4</td>\n",
       "    </tr>\n",
       "    <tr>\n",
       "      <th>Date_month</th>\n",
       "      <td>2</td>\n",
       "      <td>2</td>\n",
       "      <td>2</td>\n",
       "      <td>2</td>\n",
       "      <td>2</td>\n",
       "    </tr>\n",
       "    <tr>\n",
       "      <th>Date_year</th>\n",
       "      <td>2010</td>\n",
       "      <td>2010</td>\n",
       "      <td>2010</td>\n",
       "      <td>2010</td>\n",
       "      <td>2010</td>\n",
       "    </tr>\n",
       "    <tr>\n",
       "      <th>Date_day</th>\n",
       "      <td>5</td>\n",
       "      <td>5</td>\n",
       "      <td>5</td>\n",
       "      <td>5</td>\n",
       "      <td>5</td>\n",
       "    </tr>\n",
       "    <tr>\n",
       "      <th>Date_dayofweek</th>\n",
       "      <td>4</td>\n",
       "      <td>4</td>\n",
       "      <td>4</td>\n",
       "      <td>4</td>\n",
       "      <td>4</td>\n",
       "    </tr>\n",
       "    <tr>\n",
       "      <th>Type_new</th>\n",
       "      <td>1</td>\n",
       "      <td>1</td>\n",
       "      <td>1</td>\n",
       "      <td>1</td>\n",
       "      <td>1</td>\n",
       "    </tr>\n",
       "  </tbody>\n",
       "</table>\n",
       "</div>"
      ],
      "text/plain": [
       "                                  0                    1                    2  \\\n",
       "Store                             1                    1                    1   \n",
       "Type                              A                    A                    A   \n",
       "Size                         151315               151315               151315   \n",
       "Date            2010-02-05 00:00:00  2010-02-05 00:00:00  2010-02-05 00:00:00   \n",
       "Temperature                   42.31                42.31                42.31   \n",
       "Fuel_Price                    2.572                2.572                2.572   \n",
       "MarkDown1                         0                    0                    0   \n",
       "MarkDown2                         0                    0                    0   \n",
       "MarkDown3                         0                    0                    0   \n",
       "MarkDown4                         0                    0                    0   \n",
       "MarkDown5                         0                    0                    0   \n",
       "CPI                         211.096              211.096              211.096   \n",
       "Unemployment                  8.106                8.106                8.106   \n",
       "IsHoliday                         0                    0                    0   \n",
       "Dept                              1                    2                    3   \n",
       "Weekly_Sales                24924.5              50605.3              13740.1   \n",
       "Date_month                        2                    2                    2   \n",
       "Date_year                      2010                 2010                 2010   \n",
       "Date_day                          5                    5                    5   \n",
       "Date_dayofweek                    4                    4                    4   \n",
       "Type_new                          1                    1                    1   \n",
       "\n",
       "                                  3                    4  \n",
       "Store                             1                    1  \n",
       "Type                              A                    A  \n",
       "Size                         151315               151315  \n",
       "Date            2010-02-05 00:00:00  2010-02-05 00:00:00  \n",
       "Temperature                   42.31                42.31  \n",
       "Fuel_Price                    2.572                2.572  \n",
       "MarkDown1                         0                    0  \n",
       "MarkDown2                         0                    0  \n",
       "MarkDown3                         0                    0  \n",
       "MarkDown4                         0                    0  \n",
       "MarkDown5                         0                    0  \n",
       "CPI                         211.096              211.096  \n",
       "Unemployment                  8.106                8.106  \n",
       "IsHoliday                         0                    0  \n",
       "Dept                              4                    5  \n",
       "Weekly_Sales                  39954              32229.4  \n",
       "Date_month                        2                    2  \n",
       "Date_year                      2010                 2010  \n",
       "Date_day                          5                    5  \n",
       "Date_dayofweek                    4                    4  \n",
       "Type_new                          1                    1  "
      ]
     },
     "execution_count": 66,
     "metadata": {},
     "output_type": "execute_result"
    }
   ],
   "source": [
    "train.head().T"
   ]
  },
  {
   "cell_type": "code",
   "execution_count": 67,
   "metadata": {},
   "outputs": [
    {
     "data": {
      "text/plain": [
       "Index(['Store', 'Type', 'Size', 'Date', 'Temperature', 'Fuel_Price',\n",
       "       'MarkDown1', 'MarkDown2', 'MarkDown3', 'MarkDown4', 'MarkDown5', 'CPI',\n",
       "       'Unemployment', 'IsHoliday', 'Dept', 'Weekly_Sales', 'Date_month',\n",
       "       'Date_year', 'Date_day', 'Date_dayofweek', 'Type_new'],\n",
       "      dtype='object')"
      ]
     },
     "execution_count": 67,
     "metadata": {},
     "output_type": "execute_result"
    }
   ],
   "source": [
    "train.columns"
   ]
  },
  {
   "cell_type": "code",
   "execution_count": 68,
   "metadata": {},
   "outputs": [
    {
     "data": {
      "text/plain": [
       "Date_year   Fuel_Price    0.779633\n",
       "Fuel_Price  Date_year     0.779633\n",
       "MarkDown1   MarkDown4     0.838904\n",
       "MarkDown4   MarkDown1     0.838904\n",
       "dtype: float64"
      ]
     },
     "execution_count": 68,
     "metadata": {},
     "output_type": "execute_result"
    }
   ],
   "source": [
    "#checking for highly correlated features\n",
    "corr_mat = train.corr().abs()\n",
    "#type(corr_mat.unstack().sort_values(kind=\"quicksort\"))\n",
    "\n",
    "corr_series=corr_mat.unstack().sort_values(kind=\"quicksort\")\n",
    "corr_series.where(lambda x: (x>0.70)&(x<1)).dropna()"
   ]
  },
  {
   "cell_type": "markdown",
   "metadata": {},
   "source": [
    "## Saving processed train and test data"
   ]
  },
  {
   "cell_type": "code",
   "execution_count": 70,
   "metadata": {},
   "outputs": [],
   "source": [
    "#saving processed train and test data\n",
    "drop_cols=['Unemployment','CPI','MarkDown5','Date', 'Type']\n",
    "\n",
    "train.drop(drop_cols, axis=1).to_csv(r'C:\\Users\\user\\Desktop\\Alab_Python\\Final Projects in Python\\2. Walmart Store Sales Forecasting\\sales_data.csv',index=False)\n",
    "test.drop(drop_cols,axis=1).to_csv(r'C:\\Users\\user\\Desktop\\Alab_Python\\Final Projects in Python\\2. Walmart Store Sales Forecasting\\data_to_predict.csv',index=False)"
   ]
  },
  {
   "cell_type": "markdown",
   "metadata": {},
   "source": [
    "## Defining independent and dependent Variable"
   ]
  },
  {
   "cell_type": "code",
   "execution_count": 71,
   "metadata": {},
   "outputs": [],
   "source": [
    "drop_cols_train=['Weekly_Sales','Unemployment','CPI','MarkDown5','Date', 'Type']\n",
    "drop_cols_test=['Unemployment','CPI','MarkDown5','Date', 'Type']"
   ]
  },
  {
   "cell_type": "code",
   "execution_count": 72,
   "metadata": {},
   "outputs": [
    {
     "data": {
      "text/plain": [
       "((421570, 15), (421570,), (115064, 15))"
      ]
     },
     "execution_count": 72,
     "metadata": {},
     "output_type": "execute_result"
    }
   ],
   "source": [
    "train_X=train.drop(drop_cols_train, axis=1)# train X= Exery thing except Weekly_Sales\n",
    "train_y=train['Weekly_Sales'] # train Y= Only Weekly_Sales \n",
    "\n",
    "test_X=test.drop(drop_cols_test,axis=1)\n",
    "\n",
    "train_X.shape, train_y.shape, test_X.shape"
   ]
  },
  {
   "cell_type": "markdown",
   "metadata": {},
   "source": [
    "<div style=\"background-color:powderblue;font-size: 250%\"><strong><br><br>\n",
    "Linear Regression\n",
    "<br><br></strong></div>"
   ]
  },
  {
   "cell_type": "code",
   "execution_count": 73,
   "metadata": {},
   "outputs": [
    {
     "data": {
      "text/plain": [
       "LinearRegression()"
      ]
     },
     "execution_count": 73,
     "metadata": {},
     "output_type": "execute_result"
    }
   ],
   "source": [
    "lin_reg = LinearRegression() #creating a instance of linear regression\n",
    "lin_reg.fit(train_X, train_y) #fitting with train data"
   ]
  },
  {
   "cell_type": "code",
   "execution_count": 74,
   "metadata": {},
   "outputs": [
    {
     "name": "stdout",
     "output_type": "stream",
     "text": [
      "(115064,)\n"
     ]
    },
    {
     "data": {
      "text/plain": [
       "array([13717.97253894, 13816.51567078, 13915.05880262, ...,\n",
       "       16735.60558704, 16932.69185073, 17031.23498257])"
      ]
     },
     "execution_count": 74,
     "metadata": {},
     "output_type": "execute_result"
    }
   ],
   "source": [
    "y_pred_linear=lin_reg.predict(test_X)\n",
    "print(y_pred_linear.shape)\n",
    "y_pred_linear"
   ]
  },
  {
   "cell_type": "code",
   "execution_count": 75,
   "metadata": {},
   "outputs": [
    {
     "name": "stdout",
     "output_type": "stream",
     "text": [
      "Model Accuracy: 8.87%\n"
     ]
    }
   ],
   "source": [
    "accu_linear=lin_reg.score(train_X, train_y)\n",
    "accu_linear=round(accu_linear*100,2)\n",
    "print ('Model Accuracy: '+str(accu_linear) + '%')"
   ]
  },
  {
   "cell_type": "markdown",
   "metadata": {},
   "source": [
    "<div style=\"background-color:powderblue;font-size: 250%\"><strong><br><br>\n",
    "Random Forest Regressor\n",
    "<br><br></strong></div>\n"
   ]
  },
  {
   "cell_type": "code",
   "execution_count": 76,
   "metadata": {},
   "outputs": [
    {
     "data": {
      "text/plain": [
       "array([33798.6359, 47874.2054, 10594.751 , ..., 59322.586 ,  6635.6176,\n",
       "         764.8634])"
      ]
     },
     "execution_count": 76,
     "metadata": {},
     "output_type": "execute_result"
    }
   ],
   "source": [
    "rf_model = RandomForestRegressor(n_estimators=100)\n",
    "rf_model.fit(train_X, train_y)\n",
    "\n",
    "y_pred_rf=rf_model.predict(test_X)\n",
    "y_pred_rf"
   ]
  },
  {
   "cell_type": "code",
   "execution_count": 77,
   "metadata": {},
   "outputs": [
    {
     "name": "stdout",
     "output_type": "stream",
     "text": [
      "Model Accuracy: 99.76%\n"
     ]
    }
   ],
   "source": [
    "accu_rf= round(rf_model .score(train_X, train_y) * 100, 2)\n",
    "print ('Model Accuracy: '+str(accu_rf) + '%')"
   ]
  },
  {
   "cell_type": "markdown",
   "metadata": {},
   "source": [
    "<div style=\"background-color:powderblue;font-size: 250%\"><strong><br><br>\n",
    "Descision Tree Regressor\n",
    "<br><br></strong></div>\n"
   ]
  },
  {
   "cell_type": "code",
   "execution_count": 78,
   "metadata": {},
   "outputs": [
    {
     "data": {
      "text/plain": [
       "array([39886.06, 48577.08,  9959.64, ..., 58795.72,  5724.94,  1061.02])"
      ]
     },
     "execution_count": 78,
     "metadata": {},
     "output_type": "execute_result"
    }
   ],
   "source": [
    "dtree_model=DecisionTreeRegressor()\n",
    "dtree_model.fit(train_X, train_y)\n",
    "\n",
    "y_pred_dt= dtree_model.predict(test_X)\n",
    "y_pred_dt"
   ]
  },
  {
   "cell_type": "code",
   "execution_count": 79,
   "metadata": {},
   "outputs": [
    {
     "name": "stdout",
     "output_type": "stream",
     "text": [
      "Model Accuracy: 100.0%\n"
     ]
    }
   ],
   "source": [
    "accu_dt = round( dtree_model.score(train_X, train_y) * 100, 2)\n",
    "print ('Model Accuracy: '+str(accu_dt) + '%')"
   ]
  },
  {
   "cell_type": "markdown",
   "metadata": {},
   "source": [
    "## Comparison among three models "
   ]
  },
  {
   "cell_type": "code",
   "execution_count": 80,
   "metadata": {},
   "outputs": [
    {
     "data": {
      "text/html": [
       "<div>\n",
       "<style scoped>\n",
       "    .dataframe tbody tr th:only-of-type {\n",
       "        vertical-align: middle;\n",
       "    }\n",
       "\n",
       "    .dataframe tbody tr th {\n",
       "        vertical-align: top;\n",
       "    }\n",
       "\n",
       "    .dataframe thead th {\n",
       "        text-align: right;\n",
       "    }\n",
       "</style>\n",
       "<table border=\"1\" class=\"dataframe\">\n",
       "  <thead>\n",
       "    <tr style=\"text-align: right;\">\n",
       "      <th></th>\n",
       "      <th>model</th>\n",
       "      <th>accuracy</th>\n",
       "    </tr>\n",
       "  </thead>\n",
       "  <tbody>\n",
       "    <tr>\n",
       "      <th>0</th>\n",
       "      <td>Linear Regression</td>\n",
       "      <td>8.87</td>\n",
       "    </tr>\n",
       "    <tr>\n",
       "      <th>1</th>\n",
       "      <td>Random Forest</td>\n",
       "      <td>99.76</td>\n",
       "    </tr>\n",
       "    <tr>\n",
       "      <th>2</th>\n",
       "      <td>Descision Tree</td>\n",
       "      <td>100.00</td>\n",
       "    </tr>\n",
       "  </tbody>\n",
       "</table>\n",
       "</div>"
      ],
      "text/plain": [
       "               model  accuracy\n",
       "0  Linear Regression      8.87\n",
       "1      Random Forest     99.76\n",
       "2     Descision Tree    100.00"
      ]
     },
     "execution_count": 80,
     "metadata": {},
     "output_type": "execute_result"
    }
   ],
   "source": [
    "pd.DataFrame({'model':['Linear Regression','Random Forest','Descision Tree'],\n",
    "                'accuracy':[accu_linear,accu_rf,accu_dt]})"
   ]
  },
  {
   "cell_type": "markdown",
   "metadata": {},
   "source": [
    "## Final prediction for weekly sales"
   ]
  },
  {
   "cell_type": "code",
   "execution_count": 81,
   "metadata": {},
   "outputs": [
    {
     "data": {
      "text/plain": [
       "(115064,)"
      ]
     },
     "execution_count": 81,
     "metadata": {},
     "output_type": "execute_result"
    }
   ],
   "source": [
    "final_prediction=dtree_model.predict(test_X)\n",
    "final_prediction.shape"
   ]
  },
  {
   "cell_type": "code",
   "execution_count": null,
   "metadata": {},
   "outputs": [],
   "source": []
  }
 ],
 "metadata": {
  "kernelspec": {
   "display_name": "Python 3",
   "language": "python",
   "name": "python3"
  },
  "language_info": {
   "codemirror_mode": {
    "name": "ipython",
    "version": 3
   },
   "file_extension": ".py",
   "mimetype": "text/x-python",
   "name": "python",
   "nbconvert_exporter": "python",
   "pygments_lexer": "ipython3",
   "version": "3.7.3"
  }
 },
 "nbformat": 4,
 "nbformat_minor": 2
}
