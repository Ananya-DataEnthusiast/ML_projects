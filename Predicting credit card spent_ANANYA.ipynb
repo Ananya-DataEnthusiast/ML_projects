{
 "cells": [
  {
   "cell_type": "markdown",
   "metadata": {},
   "source": [
    "<div style=\"background-image: url('https://specials-images.forbesimg.com/imageserve/5e7df71b08eb080006520247/960x0.jpg?fit=scale');\n",
    "background-size: 100% 100%;\n",
    "font-size: 30px\">\n",
    "<strong><br>CREDIT CARD SPEND<br><br>PREDICTING  &<br><br>IDENTIFYING<br><br>KEY  DRIVERS<br><br><br></strong>\n",
    "</div>"
   ]
  },
  {
   "cell_type": "markdown",
   "metadata": {},
   "source": [
    "##  BUISNESS CONTEXT:\n",
    "One of the global banks would like to understand top driving factors of credit card spend are and they intend to use these insights to calculate credit limit. \n",
    "\n",
    "In order to solve the problem, the bank conducted survey of 5000 customers and collected data. \n",
    "\n",
    "##  OBJECTIVE:\n",
    "The objective of this case study is to understand what's driving the total spend (Primary Card + Secondary card). Given the factors, predict credit limit for the new applicants\n",
    "\n",
    "##  DATA AVAILABILITY:\n",
    "* Data for the case are available in **.xlsx** format.The data have been provided for **5000 customers**.\n",
    "* Detailed data dictionary has been provided for understanding the data in the data in **.csv** format\n",
    "* Data is encoded in the numerical format to reduce the size of the data however some of the variables are categorical. You can find the details in the data dictionary"
   ]
  },
  {
   "cell_type": "markdown",
   "metadata": {},
   "source": [
    "<div style=\"background-color:#9ACD32;text-align:center;font-size: 250%\"><strong><br>\n",
    "Importing necessary Libraries\n",
    "<br><br></strong></div>"
   ]
  },
  {
   "cell_type": "code",
   "execution_count": 1,
   "metadata": {},
   "outputs": [],
   "source": [
    "import pandas as pd\n",
    "import numpy as np\n",
    "import matplotlib.pyplot as plt\n",
    "import seaborn as sns\n",
    "%matplotlib inline\n",
    "sns.set()"
   ]
  },
  {
   "cell_type": "code",
   "execution_count": 2,
   "metadata": {},
   "outputs": [],
   "source": [
    "from sklearn.model_selection import train_test_split\n",
    "from sklearn.linear_model import LinearRegression\n",
    "from sklearn.ensemble import RandomForestRegressor\n",
    "from sklearn.model_selection import GridSearchCV\n",
    "from sklearn import metrics\n",
    "\n",
    "from statsmodels.stats.outliers_influence import variance_inflation_factor\n",
    "import statsmodels.api as sm\n",
    "from patsy import dmatrices\n",
    "from sklearn.svm import SVC, LinearSVC\n",
    "\n",
    "from sklearn.metrics import mean_squared_error as mse\n",
    "from sklearn.metrics import r2_score as r2"
   ]
  },
  {
   "cell_type": "code",
   "execution_count": 5,
   "metadata": {},
   "outputs": [],
   "source": [
    "#writer = pd.ExcelWriter('Regression Output.xlsx')"
   ]
  },
  {
   "cell_type": "markdown",
   "metadata": {},
   "source": [
    "<div style=\"background-color:#9ACD32;text-align:center;font-size: 250%\"><strong><br>\n",
    "Importing Credit Card  Dataset\n",
    "<br><br></strong></div>"
   ]
  },
  {
   "cell_type": "code",
   "execution_count": 3,
   "metadata": {},
   "outputs": [],
   "source": [
    "import os\n",
    "os.chdir(\"C:\\\\Users\\\\user\\\\Desktop\\\\Alab_Python\\\\Final Projects in Python\\\\1. Predicting Credit Card Spend & Identifying Key Drivers\")"
   ]
  },
  {
   "cell_type": "code",
   "execution_count": 4,
   "metadata": {},
   "outputs": [
    {
     "data": {
      "text/html": [
       "<div>\n",
       "<style scoped>\n",
       "    .dataframe tbody tr th:only-of-type {\n",
       "        vertical-align: middle;\n",
       "    }\n",
       "\n",
       "    .dataframe tbody tr th {\n",
       "        vertical-align: top;\n",
       "    }\n",
       "\n",
       "    .dataframe thead th {\n",
       "        text-align: right;\n",
       "    }\n",
       "</style>\n",
       "<table border=\"1\" class=\"dataframe\">\n",
       "  <thead>\n",
       "    <tr style=\"text-align: right;\">\n",
       "      <th></th>\n",
       "      <th>custid</th>\n",
       "      <th>region</th>\n",
       "      <th>townsize</th>\n",
       "      <th>gender</th>\n",
       "      <th>age</th>\n",
       "      <th>agecat</th>\n",
       "      <th>birthmonth</th>\n",
       "      <th>ed</th>\n",
       "      <th>edcat</th>\n",
       "      <th>jobcat</th>\n",
       "      <th>...</th>\n",
       "      <th>owncd</th>\n",
       "      <th>ownpda</th>\n",
       "      <th>ownpc</th>\n",
       "      <th>ownipod</th>\n",
       "      <th>owngame</th>\n",
       "      <th>ownfax</th>\n",
       "      <th>news</th>\n",
       "      <th>response_01</th>\n",
       "      <th>response_02</th>\n",
       "      <th>response_03</th>\n",
       "    </tr>\n",
       "  </thead>\n",
       "  <tbody>\n",
       "    <tr>\n",
       "      <th>0</th>\n",
       "      <td>3964-QJWTRG-NPN</td>\n",
       "      <td>1</td>\n",
       "      <td>2.0</td>\n",
       "      <td>1</td>\n",
       "      <td>20</td>\n",
       "      <td>2</td>\n",
       "      <td>September</td>\n",
       "      <td>15</td>\n",
       "      <td>3</td>\n",
       "      <td>1</td>\n",
       "      <td>...</td>\n",
       "      <td>0</td>\n",
       "      <td>0</td>\n",
       "      <td>0</td>\n",
       "      <td>1</td>\n",
       "      <td>1</td>\n",
       "      <td>0</td>\n",
       "      <td>0</td>\n",
       "      <td>0</td>\n",
       "      <td>1</td>\n",
       "      <td>0</td>\n",
       "    </tr>\n",
       "    <tr>\n",
       "      <th>1</th>\n",
       "      <td>0648-AIPJSP-UVM</td>\n",
       "      <td>5</td>\n",
       "      <td>5.0</td>\n",
       "      <td>0</td>\n",
       "      <td>22</td>\n",
       "      <td>2</td>\n",
       "      <td>May</td>\n",
       "      <td>17</td>\n",
       "      <td>4</td>\n",
       "      <td>2</td>\n",
       "      <td>...</td>\n",
       "      <td>1</td>\n",
       "      <td>1</td>\n",
       "      <td>1</td>\n",
       "      <td>1</td>\n",
       "      <td>1</td>\n",
       "      <td>1</td>\n",
       "      <td>1</td>\n",
       "      <td>0</td>\n",
       "      <td>0</td>\n",
       "      <td>0</td>\n",
       "    </tr>\n",
       "  </tbody>\n",
       "</table>\n",
       "<p>2 rows × 130 columns</p>\n",
       "</div>"
      ],
      "text/plain": [
       "            custid  region  townsize  gender  age  agecat birthmonth  ed  \\\n",
       "0  3964-QJWTRG-NPN       1       2.0       1   20       2  September  15   \n",
       "1  0648-AIPJSP-UVM       5       5.0       0   22       2        May  17   \n",
       "\n",
       "   edcat  jobcat  ...  owncd  ownpda  ownpc  ownipod  owngame  ownfax  news  \\\n",
       "0      3       1  ...      0       0      0        1        1       0     0   \n",
       "1      4       2  ...      1       1      1        1        1       1     1   \n",
       "\n",
       "   response_01  response_02  response_03  \n",
       "0            0            1            0  \n",
       "1            0            0            0  \n",
       "\n",
       "[2 rows x 130 columns]"
      ]
     },
     "execution_count": 4,
     "metadata": {},
     "output_type": "execute_result"
    }
   ],
   "source": [
    "credit=pd.read_excel(\"Data Set.xlsx\")\n",
    "credit.head(2)"
   ]
  },
  {
   "cell_type": "code",
   "execution_count": 5,
   "metadata": {},
   "outputs": [
    {
     "name": "stdout",
     "output_type": "stream",
     "text": [
      "\n",
      "Credit Card Data Shape:  (5000, 130)\n"
     ]
    }
   ],
   "source": [
    "print('\\nCredit Card Data Shape: ',credit.shape)"
   ]
  },
  {
   "cell_type": "code",
   "execution_count": 6,
   "metadata": {},
   "outputs": [
    {
     "name": "stdout",
     "output_type": "stream",
     "text": [
      "---------------------------------------------\n",
      "Data Information:\n",
      "---------------------------------------------\n",
      "<class 'pandas.core.frame.DataFrame'>\n",
      "RangeIndex: 5000 entries, 0 to 4999\n",
      "Columns: 130 entries, custid to response_03\n",
      "dtypes: float64(31), int64(97), object(2)\n",
      "memory usage: 5.0+ MB\n"
     ]
    }
   ],
   "source": [
    "print('-'*45)\n",
    "print(\"Data Information:\")\n",
    "print('-'*45)\n",
    "credit.info()"
   ]
  },
  {
   "cell_type": "code",
   "execution_count": 7,
   "metadata": {},
   "outputs": [
    {
     "name": "stdout",
     "output_type": "stream",
     "text": [
      "--------------------------------------------------\n",
      "\tColumns of the dataset\n",
      "--------------------------------------------------\n",
      "custid\n",
      "region\n",
      "townsize\n",
      "gender\n",
      "age\n",
      "agecat\n",
      "birthmonth\n",
      "ed\n",
      "edcat\n",
      "jobcat\n",
      "union\n",
      "employ\n",
      "empcat\n",
      "retire\n",
      "income\n",
      "lninc\n",
      "inccat\n",
      "debtinc\n",
      "creddebt\n",
      "lncreddebt\n",
      "othdebt\n",
      "lnothdebt\n",
      "default\n",
      "jobsat\n",
      "marital\n",
      "spoused\n",
      "spousedcat\n",
      "reside\n",
      "pets\n",
      "pets_cats\n",
      "pets_dogs\n",
      "pets_birds\n",
      "pets_reptiles\n",
      "pets_small\n",
      "pets_saltfish\n",
      "pets_freshfish\n",
      "homeown\n",
      "hometype\n",
      "address\n",
      "addresscat\n",
      "cars\n",
      "carown\n",
      "cartype\n",
      "carvalue\n",
      "carcatvalue\n",
      "carbought\n",
      "carbuy\n",
      "commute\n",
      "commutecat\n",
      "commutetime\n",
      "commutecar\n",
      "commutemotorcycle\n",
      "commutecarpool\n",
      "commutebus\n",
      "commuterail\n",
      "commutepublic\n",
      "commutebike\n",
      "commutewalk\n",
      "commutenonmotor\n",
      "telecommute\n",
      "reason\n",
      "polview\n",
      "polparty\n",
      "polcontrib\n",
      "vote\n",
      "card\n",
      "cardtype\n",
      "cardbenefit\n",
      "cardfee\n",
      "cardtenure\n",
      "cardtenurecat\n",
      "card2\n",
      "card2type\n",
      "card2benefit\n",
      "card2fee\n",
      "card2tenure\n",
      "card2tenurecat\n",
      "cardspent\n",
      "card2spent\n",
      "active\n",
      "bfast\n",
      "tenure\n",
      "churn\n",
      "longmon\n",
      "lnlongmon\n",
      "longten\n",
      "lnlongten\n",
      "tollfree\n",
      "tollmon\n",
      "lntollmon\n",
      "tollten\n",
      "lntollten\n",
      "equip\n",
      "equipmon\n",
      "lnequipmon\n",
      "equipten\n",
      "lnequipten\n",
      "callcard\n",
      "cardmon\n",
      "lncardmon\n",
      "cardten\n",
      "lncardten\n",
      "wireless\n",
      "wiremon\n",
      "lnwiremon\n",
      "wireten\n",
      "lnwireten\n",
      "multline\n",
      "voice\n",
      "pager\n",
      "internet\n",
      "callid\n",
      "callwait\n",
      "forward\n",
      "confer\n",
      "ebill\n",
      "owntv\n",
      "hourstv\n",
      "ownvcr\n",
      "owndvd\n",
      "owncd\n",
      "ownpda\n",
      "ownpc\n",
      "ownipod\n",
      "owngame\n",
      "ownfax\n",
      "news\n",
      "response_01\n",
      "response_02\n",
      "response_03\n"
     ]
    }
   ],
   "source": [
    "print('-'*50)\n",
    "print(\"\\tColumns of the dataset\")\n",
    "print('-'*50)\n",
    "#\", \".join(credit.columns)\n",
    "for x in credit.columns: print(x)"
   ]
  },
  {
   "cell_type": "code",
   "execution_count": 8,
   "metadata": {},
   "outputs": [
    {
     "name": "stdout",
     "output_type": "stream",
     "text": [
      "--------------------------------------------------\n",
      "\tColumns having missing values:\n",
      "--------------------------------------------------\n"
     ]
    },
    {
     "data": {
      "text/plain": [
       "townsize          2.0\n",
       "lncreddebt        1.0\n",
       "lnothdebt         1.0\n",
       "commutetime       2.0\n",
       "longten           3.0\n",
       "lnlongten         3.0\n",
       "lntollmon      2622.0\n",
       "lntollten      2622.0\n",
       "lnequipmon     3296.0\n",
       "lnequipten     3296.0\n",
       "lncardmon      1419.0\n",
       "cardten           2.0\n",
       "lncardten      1422.0\n",
       "lnwiremon      3656.0\n",
       "lnwireten      3656.0\n",
       "dtype: float64"
      ]
     },
     "execution_count": 8,
     "metadata": {},
     "output_type": "execute_result"
    }
   ],
   "source": [
    "print('-'*50)\n",
    "print(\"\\tColumns having missing values:\")\n",
    "print('-'*50)\n",
    "credit.isnull().sum().where(lambda x: x>0).dropna()"
   ]
  },
  {
   "cell_type": "markdown",
   "metadata": {},
   "source": [
    "<div style=\"background-color:#9ACD32;text-align:center;font-size: 200%\"><strong><br>\n",
    "Segregating Categorical and Continuous column\n",
    "<br><br></strong></div>"
   ]
  },
  {
   "cell_type": "markdown",
   "metadata": {},
   "source": [
    "### Segregating  columns\n",
    "\n",
    "<div class='alert alert-warning'><strong>NOTE:</strong><br>Categorical  and Continuous column lists have been constructed by importing Data dictionary<br>\n",
    "    <br> In the dataframe given below<br>* column-0 contains Numeric variables   and<br>* column-3 contains list of Categorical variables</div>"
   ]
  },
  {
   "cell_type": "code",
   "execution_count": 9,
   "metadata": {},
   "outputs": [
    {
     "data": {
      "text/html": [
       "<div>\n",
       "<style scoped>\n",
       "    .dataframe tbody tr th:only-of-type {\n",
       "        vertical-align: middle;\n",
       "    }\n",
       "\n",
       "    .dataframe tbody tr th {\n",
       "        vertical-align: top;\n",
       "    }\n",
       "\n",
       "    .dataframe thead th {\n",
       "        text-align: right;\n",
       "    }\n",
       "</style>\n",
       "<table border=\"1\" class=\"dataframe\">\n",
       "  <thead>\n",
       "    <tr style=\"text-align: right;\">\n",
       "      <th></th>\n",
       "      <th>Numeric Variable</th>\n",
       "      <th>Label</th>\n",
       "      <th>Unnamed: 2</th>\n",
       "      <th>Categorical Variable</th>\n",
       "      <th>Unnamed: 4</th>\n",
       "      <th>Label.1</th>\n",
       "    </tr>\n",
       "  </thead>\n",
       "  <tbody>\n",
       "    <tr>\n",
       "      <th>0</th>\n",
       "      <td>custid</td>\n",
       "      <td>Customer ID</td>\n",
       "      <td>NaN</td>\n",
       "      <td>region</td>\n",
       "      <td>1</td>\n",
       "      <td>Zone 1</td>\n",
       "    </tr>\n",
       "    <tr>\n",
       "      <th>1</th>\n",
       "      <td>region</td>\n",
       "      <td>Geographic indicator</td>\n",
       "      <td>NaN</td>\n",
       "      <td>NaN</td>\n",
       "      <td>2</td>\n",
       "      <td>Zone 2</td>\n",
       "    </tr>\n",
       "    <tr>\n",
       "      <th>2</th>\n",
       "      <td>townsize</td>\n",
       "      <td>Size of hometown</td>\n",
       "      <td>NaN</td>\n",
       "      <td>NaN</td>\n",
       "      <td>3</td>\n",
       "      <td>Zone 3</td>\n",
       "    </tr>\n",
       "    <tr>\n",
       "      <th>3</th>\n",
       "      <td>gender</td>\n",
       "      <td>Gender</td>\n",
       "      <td>NaN</td>\n",
       "      <td>NaN</td>\n",
       "      <td>4</td>\n",
       "      <td>Zone 4</td>\n",
       "    </tr>\n",
       "    <tr>\n",
       "      <th>4</th>\n",
       "      <td>age</td>\n",
       "      <td>Age in years</td>\n",
       "      <td>NaN</td>\n",
       "      <td>NaN</td>\n",
       "      <td>5</td>\n",
       "      <td>Zone 5</td>\n",
       "    </tr>\n",
       "  </tbody>\n",
       "</table>\n",
       "</div>"
      ],
      "text/plain": [
       "  Numeric Variable                 Label  Unnamed: 2 Categorical Variable  \\\n",
       "0           custid           Customer ID         NaN               region   \n",
       "1           region  Geographic indicator         NaN                  NaN   \n",
       "2         townsize      Size of hometown         NaN                  NaN   \n",
       "3           gender                Gender         NaN                  NaN   \n",
       "4              age          Age in years         NaN                  NaN   \n",
       "\n",
       "  Unnamed: 4 Label.1  \n",
       "0          1  Zone 1  \n",
       "1          2  Zone 2  \n",
       "2          3  Zone 3  \n",
       "3          4  Zone 4  \n",
       "4          5  Zone 5  "
      ]
     },
     "execution_count": 9,
     "metadata": {},
     "output_type": "execute_result"
    }
   ],
   "source": [
    "## Importing data dictionary\n",
    "info=pd.read_excel(\"Data Dictionary.xlsx\")\n",
    "info.head()"
   ]
  },
  {
   "cell_type": "code",
   "execution_count": 10,
   "metadata": {},
   "outputs": [
    {
     "name": "stdout",
     "output_type": "stream",
     "text": [
      ">>Total Columns: 130\n",
      "--------------------------------------------------\n",
      "\t categorical columns:  84\n",
      "--------------------------------------------------\n",
      "['active', 'address', 'addresscat', 'agecat', 'bfast', 'birthmonth', 'callcard', 'callid', 'callwait', 'carbought', 'carbuy', 'carcatvalue', 'card', 'card2', 'card2benefit', 'card2fee', 'card2tenure', 'card2tenurecat', 'card2type', 'cardbenefit', 'cardfee', 'cardtenure', 'cardtenurecat', 'cardtype', 'carown', 'cars', 'cartype', 'churn', 'commute', 'commutebike', 'commutebus', 'commutecar', 'commutecarpool', 'commutecat', 'commutemotorcycle', 'commutenonmotor', 'commutepublic', 'commuterail', 'commutewalk', 'confer', 'default', 'ebill', 'edcat', 'empcat', 'employ', 'equip', 'forward', 'gender', 'homeown', 'hometype', 'inccat', 'internet', 'jobcat', 'jobsat', 'marital', 'multline', 'news', 'owncd', 'owndvd', 'ownfax', 'owngame', 'ownipod', 'ownpc', 'ownpda', 'owntv', 'ownvcr', 'pager', 'polcontrib', 'polparty', 'polview', 'reason', 'region', 'response_01', 'response_02', 'response_03', 'retire', 'spousedcat', 'telecommute', 'tollfree', 'townsize', 'union', 'voice', 'vote', 'wireless']\n",
      "\n",
      " --------------------------------------------------\n",
      "\t continuous columns:  46\n",
      "--------------------------------------------------\n",
      "['age', 'card2spent', 'cardmon', 'cardspent', 'cardten', 'carvalue', 'commutetime', 'creddebt', 'custid', 'debtinc', 'ed', 'equipmon', 'equipten', 'hourstv', 'income', 'lncardmon', 'lncardten', 'lncreddebt', 'lnequipmon', 'lnequipten', 'lninc', 'lnlongmon', 'lnlongten', 'lnothdebt', 'lntollmon', 'lntollten', 'lnwiremon', 'lnwireten', 'longmon', 'longten', 'othdebt', 'pets', 'pets_birds', 'pets_cats', 'pets_dogs', 'pets_freshfish', 'pets_reptiles', 'pets_saltfish', 'pets_small', 'reside', 'spoused', 'tenure', 'tollmon', 'tollten', 'wiremon', 'wireten']\n"
     ]
    }
   ],
   "source": [
    "## Extracting column names while excluding the columns dropped before\n",
    "cat_col=[col for col in list(info.iloc[:,3].dropna()) if col in credit.columns] #extracting categorical features\n",
    "cont_col=list(set(credit.columns)-set(cat_col))#extracting numerical features\n",
    "\n",
    "print(\">>Total Columns:\",credit.shape[1])\n",
    "cat_col.sort()\n",
    "cont_col.sort()\n",
    "\n",
    "print(\"-\"*50)\n",
    "print(\"\\t categorical columns: \",len(cat_col))\n",
    "print(\"-\"*50)\n",
    "print(cat_col)\n",
    "\n",
    "print(\"\\n\",\"-\"*50)\n",
    "print(\"\\t continuous columns: \",len(cont_col))\n",
    "print(\"-\"*50)\n",
    "print(cont_col)"
   ]
  },
  {
   "cell_type": "code",
   "execution_count": 11,
   "metadata": {},
   "outputs": [
    {
     "data": {
      "text/plain": [
       "((5000, 46), (5000, 84))"
      ]
     },
     "execution_count": 11,
     "metadata": {},
     "output_type": "execute_result"
    }
   ],
   "source": [
    "credit_conti=credit.loc[:, cont_col]\n",
    "credit_cat=credit.loc[:, cat_col]\n",
    "\n",
    "credit_conti.shape,credit_cat.shape"
   ]
  },
  {
   "cell_type": "markdown",
   "metadata": {},
   "source": [
    "<div style=\"background-color:#9ACD32;text-align:center;font-size: 200%\"><strong><br>\n",
    "DATA cleaning and Data-preparation-I\n",
    "<br><br></strong></div>"
   ]
  },
  {
   "cell_type": "markdown",
   "metadata": {},
   "source": [
    "<div class='alert alert-warning'><strong>Steps to be followed</strong><br><tt>\n",
    "    <br>1.<tt>'custid'</tt> column is dropped as it is irrelevent for analysis\n",
    " <br>2. Merging <tt>'cardspent'</tt> and <tt>'card2spent'</tt> into one column <tt>'total_spent'</tt>\n",
    "    <br>3.<tt>'total_spent','cardspent','card2spent'</tt> columns are dropped and replaced with one column <tt>'ln_total_cardspent'</tt>\n",
    "    <br>4. Columns having more than 25% missing values are dropped, others are imputed with appropriate values later\n",
    "    <br>5. Correlation coefficients are checked and features having high correlation are dropped \n",
    "    <br>6. Outlier Treatment and Missing value imputation \n",
    "    <br>7.<tt>'income','othdebt','creddebt' etc.</tt>-- columns have their logarithm present in the dataset, so they are also dropped \n",
    "    <br>8. Months name are changed to month-serial no in <tt>'birthmonth'</tt> column    \n",
    "</div>"
   ]
  },
  {
   "cell_type": "code",
   "execution_count": 17,
   "metadata": {},
   "outputs": [
    {
     "data": {
      "text/plain": [
       "(5000, 129)"
      ]
     },
     "execution_count": 17,
     "metadata": {},
     "output_type": "execute_result"
    }
   ],
   "source": [
    "credit.drop('custid',axis=1,inplace=True)\n",
    "credit.shape"
   ]
  },
  {
   "cell_type": "code",
   "execution_count": 18,
   "metadata": {},
   "outputs": [],
   "source": [
    "credit['total_spent']=credit['cardspent']+credit['card2spent']"
   ]
  },
  {
   "cell_type": "code",
   "execution_count": 19,
   "metadata": {},
   "outputs": [
    {
     "data": {
      "image/png": "[encoded data removed]",
      "text/plain": [
       "<Figure size 432x288 with 1 Axes>"
      ]
     },
     "metadata": {},
     "output_type": "display_data"
    }
   ],
   "source": [
    "# histogram to show total_spent\n",
    "\n",
    "sns.set_style('whitegrid')\n",
    "sns.distplot(credit.total_spent,bins=20);"
   ]
  },
  {
   "cell_type": "code",
   "execution_count": 20,
   "metadata": {},
   "outputs": [
    {
     "data": {
      "image/png": "[encoded data removed]",
      "text/plain": [
       "<Figure size 432x288 with 1 Axes>"
      ]
     },
     "metadata": {},
     "output_type": "display_data"
    }
   ],
   "source": [
    "# as it is highly skewed we need to take log function.\n",
    "credit['total_spent_ln']=np.log(credit['total_spent'])\n",
    "\n",
    "sns.distplot(credit.total_spent_ln,bins=20);"
   ]
  },
  {
   "cell_type": "code",
   "execution_count": 21,
   "metadata": {},
   "outputs": [
    {
     "name": "stdout",
     "output_type": "stream",
     "text": [
      "Total Variables-128\n",
      "Categoriacl-84, Continuous-44\n"
     ]
    }
   ],
   "source": [
    "#dropping variables\n",
    "credit=credit.drop(columns=['total_spent','cardspent','card2spent'],axis=1)\n",
    "\n",
    "#updating variable lists\n",
    "cat_col=[col for col in cat_col if col in credit.columns]\n",
    "cont_col=list(set(credit.columns)-set(cat_col))\n",
    "print(\"Total Variables-{}\\nCategoriacl-{}, Continuous-{}\".format(credit.shape[1],len(cat_col),len(cont_col)))"
   ]
  },
  {
   "cell_type": "code",
   "execution_count": 22,
   "metadata": {},
   "outputs": [
    {
     "data": {
      "text/plain": [
       "townsize          2.0\n",
       "lncreddebt        1.0\n",
       "lnothdebt         1.0\n",
       "commutetime       2.0\n",
       "longten           3.0\n",
       "lnlongten         3.0\n",
       "lntollmon      2622.0\n",
       "lntollten      2622.0\n",
       "lnequipmon     3296.0\n",
       "lnequipten     3296.0\n",
       "lncardmon      1419.0\n",
       "cardten           2.0\n",
       "lncardten      1422.0\n",
       "lnwiremon      3656.0\n",
       "lnwireten      3656.0\n",
       "dtype: float64"
      ]
     },
     "execution_count": 22,
     "metadata": {},
     "output_type": "execute_result"
    }
   ],
   "source": [
    "# checking null values\n",
    "credit.isnull().sum().where(lambda x:x>0).dropna()"
   ]
  },
  {
   "cell_type": "code",
   "execution_count": 23,
   "metadata": {},
   "outputs": [
    {
     "data": {
      "text/plain": [
       "lntollmon     2622.0\n",
       "lntollten     2622.0\n",
       "lnequipmon    3296.0\n",
       "lnequipten    3296.0\n",
       "lncardmon     1419.0\n",
       "lncardten     1422.0\n",
       "lnwiremon     3656.0\n",
       "lnwireten     3656.0\n",
       "dtype: float64"
      ]
     },
     "execution_count": 23,
     "metadata": {},
     "output_type": "execute_result"
    }
   ],
   "source": [
    "#inspecting variables where missing values are more than 25%\n",
    "credit.isnull().sum().where(lambda x:x>0.25*credit.shape[0]).dropna()"
   ]
  },
  {
   "cell_type": "code",
   "execution_count": 24,
   "metadata": {},
   "outputs": [
    {
     "name": "stdout",
     "output_type": "stream",
     "text": [
      "Total variables-120\n",
      "Categoriacl-84 , Continuous-36\n"
     ]
    }
   ],
   "source": [
    "miss_cols_drop=credit.isnull().sum().where(lambda x:x>0.25*credit.shape[0]).dropna().index\n",
    "\n",
    "#dropping variables\n",
    "credit=credit.drop(columns=miss_cols_drop,axis=1)\n",
    "credit.shape\n",
    "\n",
    "#updating variable list\n",
    "cat_col=[col for col in cat_col if col in credit.columns]\n",
    "cont_col=list(set(credit.columns)-set(cat_col))\n",
    "print(\"Total variables-{}\\nCategoriacl-{} , Continuous-{}\".format(credit.shape[1],len(cat_col),len(cont_col)))"
   ]
  },
  {
   "cell_type": "markdown",
   "metadata": {},
   "source": [
    "<div style=\"background-color:#9ACD32;text-align:center;font-size: 200%\"><strong><br>\n",
    "Creating Data Audit Report\n",
    "<br><br></strong></div>"
   ]
  },
  {
   "cell_type": "markdown",
   "metadata": {},
   "source": [
    "### UDF  for both continous variables and categorical variables \n"
   ]
  },
  {
   "cell_type": "code",
   "execution_count": 25,
   "metadata": {},
   "outputs": [],
   "source": [
    "# for continuous variables\n",
    "def continuous_var_summary(x):\n",
    "    return pd.Series([x.count(), x.isnull().sum(), x.sum(), x.mean(), x.median(),  \n",
    "                      x.std(), x.var(), x.min(), x.quantile(0.01), x.quantile(0.05),\n",
    "                          x.quantile(0.10),x.quantile(0.25),x.quantile(0.50),x.quantile(0.75), \n",
    "                              x.quantile(0.90),x.quantile(0.95), x.quantile(0.99),x.max()], \n",
    "                  index = ['N', 'NMISS', 'SUM', 'MEAN','MEDIAN', 'STD', 'VAR', 'MIN', 'P1', \n",
    "                               'P5' ,'P10' ,'P25' ,'P50' ,'P75' ,'P90' ,'P95' ,'P99' ,'MAX'])\n",
    "\n",
    "\n",
    "# for categorical variables\n",
    "def categorical_var_summary(x):\n",
    "    Mode = x.value_counts().sort_values(ascending = False)[0:1].reset_index()\n",
    "    return pd.Series([x.count(), x.isnull().sum(), Mode.iloc[0, 0], Mode.iloc[0, 1], \n",
    "                          round(Mode.iloc[0, 1] * 100/x.count(), 2)], \n",
    "                  index = ['N', 'NMISS', 'MODE', 'FREQ', 'PERCENT'])"
   ]
  },
  {
   "cell_type": "markdown",
   "metadata": {},
   "source": [
    "### Numerical variable summary"
   ]
  },
  {
   "cell_type": "code",
   "execution_count": 26,
   "metadata": {},
   "outputs": [
    {
     "data": {
      "text/html": [
       "<div>\n",
       "<style scoped>\n",
       "    .dataframe tbody tr th:only-of-type {\n",
       "        vertical-align: middle;\n",
       "    }\n",
       "\n",
       "    .dataframe tbody tr th {\n",
       "        vertical-align: top;\n",
       "    }\n",
       "\n",
       "    .dataframe thead th {\n",
       "        text-align: right;\n",
       "    }\n",
       "</style>\n",
       "<table border=\"1\" class=\"dataframe\">\n",
       "  <thead>\n",
       "    <tr style=\"text-align: right;\">\n",
       "      <th></th>\n",
       "      <th>N</th>\n",
       "      <th>NMISS</th>\n",
       "      <th>SUM</th>\n",
       "      <th>MEAN</th>\n",
       "      <th>MEDIAN</th>\n",
       "      <th>STD</th>\n",
       "      <th>VAR</th>\n",
       "      <th>MIN</th>\n",
       "      <th>P1</th>\n",
       "      <th>P5</th>\n",
       "      <th>P10</th>\n",
       "      <th>P25</th>\n",
       "      <th>P50</th>\n",
       "      <th>P75</th>\n",
       "      <th>P90</th>\n",
       "      <th>P95</th>\n",
       "      <th>P99</th>\n",
       "      <th>MAX</th>\n",
       "    </tr>\n",
       "  </thead>\n",
       "  <tbody>\n",
       "    <tr>\n",
       "      <th>pets_saltfish</th>\n",
       "      <td>5000.0</td>\n",
       "      <td>0.0</td>\n",
       "      <td>233.0</td>\n",
       "      <td>0.0</td>\n",
       "      <td>0.0</td>\n",
       "      <td>0.5</td>\n",
       "      <td>0.2</td>\n",
       "      <td>0.0</td>\n",
       "      <td>0.0</td>\n",
       "      <td>0.0</td>\n",
       "      <td>0.0</td>\n",
       "      <td>0.0</td>\n",
       "      <td>0.0</td>\n",
       "      <td>0.0</td>\n",
       "      <td>0.0</td>\n",
       "      <td>0.0</td>\n",
       "      <td>2.0</td>\n",
       "      <td>8.0</td>\n",
       "    </tr>\n",
       "    <tr>\n",
       "      <th>equipten</th>\n",
       "      <td>5000.0</td>\n",
       "      <td>0.0</td>\n",
       "      <td>2350882.0</td>\n",
       "      <td>470.2</td>\n",
       "      <td>0.0</td>\n",
       "      <td>912.2</td>\n",
       "      <td>832146.5</td>\n",
       "      <td>0.0</td>\n",
       "      <td>0.0</td>\n",
       "      <td>0.0</td>\n",
       "      <td>0.0</td>\n",
       "      <td>0.0</td>\n",
       "      <td>0.0</td>\n",
       "      <td>510.2</td>\n",
       "      <td>1912.3</td>\n",
       "      <td>2601.0</td>\n",
       "      <td>3679.5</td>\n",
       "      <td>6525.3</td>\n",
       "    </tr>\n",
       "    <tr>\n",
       "      <th>lnlongten</th>\n",
       "      <td>4997.0</td>\n",
       "      <td>3.0</td>\n",
       "      <td>28039.7</td>\n",
       "      <td>5.6</td>\n",
       "      <td>5.9</td>\n",
       "      <td>1.6</td>\n",
       "      <td>2.7</td>\n",
       "      <td>-0.1</td>\n",
       "      <td>0.9</td>\n",
       "      <td>2.5</td>\n",
       "      <td>3.3</td>\n",
       "      <td>4.7</td>\n",
       "      <td>5.9</td>\n",
       "      <td>6.8</td>\n",
       "      <td>7.5</td>\n",
       "      <td>7.9</td>\n",
       "      <td>8.5</td>\n",
       "      <td>9.5</td>\n",
       "    </tr>\n",
       "    <tr>\n",
       "      <th>longmon</th>\n",
       "      <td>5000.0</td>\n",
       "      <td>0.0</td>\n",
       "      <td>67357.2</td>\n",
       "      <td>13.5</td>\n",
       "      <td>9.6</td>\n",
       "      <td>12.8</td>\n",
       "      <td>163.2</td>\n",
       "      <td>0.9</td>\n",
       "      <td>1.8</td>\n",
       "      <td>2.9</td>\n",
       "      <td>3.7</td>\n",
       "      <td>5.7</td>\n",
       "      <td>9.6</td>\n",
       "      <td>16.6</td>\n",
       "      <td>27.0</td>\n",
       "      <td>36.8</td>\n",
       "      <td>65.2</td>\n",
       "      <td>179.8</td>\n",
       "    </tr>\n",
       "    <tr>\n",
       "      <th>pets_cats</th>\n",
       "      <td>5000.0</td>\n",
       "      <td>0.0</td>\n",
       "      <td>2502.0</td>\n",
       "      <td>0.5</td>\n",
       "      <td>0.0</td>\n",
       "      <td>0.9</td>\n",
       "      <td>0.7</td>\n",
       "      <td>0.0</td>\n",
       "      <td>0.0</td>\n",
       "      <td>0.0</td>\n",
       "      <td>0.0</td>\n",
       "      <td>0.0</td>\n",
       "      <td>0.0</td>\n",
       "      <td>1.0</td>\n",
       "      <td>2.0</td>\n",
       "      <td>2.0</td>\n",
       "      <td>3.0</td>\n",
       "      <td>6.0</td>\n",
       "    </tr>\n",
       "  </tbody>\n",
       "</table>\n",
       "</div>"
      ],
      "text/plain": [
       "                    N  NMISS        SUM   MEAN  MEDIAN    STD       VAR  MIN  \\\n",
       "pets_saltfish  5000.0    0.0      233.0    0.0     0.0    0.5       0.2  0.0   \n",
       "equipten       5000.0    0.0  2350882.0  470.2     0.0  912.2  832146.5  0.0   \n",
       "lnlongten      4997.0    3.0    28039.7    5.6     5.9    1.6       2.7 -0.1   \n",
       "longmon        5000.0    0.0    67357.2   13.5     9.6   12.8     163.2  0.9   \n",
       "pets_cats      5000.0    0.0     2502.0    0.5     0.0    0.9       0.7  0.0   \n",
       "\n",
       "                P1   P5  P10  P25  P50    P75     P90     P95     P99     MAX  \n",
       "pets_saltfish  0.0  0.0  0.0  0.0  0.0    0.0     0.0     0.0     2.0     8.0  \n",
       "equipten       0.0  0.0  0.0  0.0  0.0  510.2  1912.3  2601.0  3679.5  6525.3  \n",
       "lnlongten      0.9  2.5  3.3  4.7  5.9    6.8     7.5     7.9     8.5     9.5  \n",
       "longmon        1.8  2.9  3.7  5.7  9.6   16.6    27.0    36.8    65.2   179.8  \n",
       "pets_cats      0.0  0.0  0.0  0.0  0.0    1.0     2.0     2.0     3.0     6.0  "
      ]
     },
     "execution_count": 26,
     "metadata": {},
     "output_type": "execute_result"
    }
   ],
   "source": [
    "num_summary=credit[cont_col].apply(continuous_var_summary).T.round(1)\n",
    "#num_summary.to_excel(writer,sheet_name = 'Numerical Variable Summary', index=True)\n",
    "num_summary.head()"
   ]
  },
  {
   "cell_type": "markdown",
   "metadata": {},
   "source": [
    "### Categorical variable summary"
   ]
  },
  {
   "cell_type": "code",
   "execution_count": 27,
   "metadata": {},
   "outputs": [
    {
     "data": {
      "text/html": [
       "<div>\n",
       "<style scoped>\n",
       "    .dataframe tbody tr th:only-of-type {\n",
       "        vertical-align: middle;\n",
       "    }\n",
       "\n",
       "    .dataframe tbody tr th {\n",
       "        vertical-align: top;\n",
       "    }\n",
       "\n",
       "    .dataframe thead th {\n",
       "        text-align: right;\n",
       "    }\n",
       "</style>\n",
       "<table border=\"1\" class=\"dataframe\">\n",
       "  <thead>\n",
       "    <tr style=\"text-align: right;\">\n",
       "      <th></th>\n",
       "      <th>N</th>\n",
       "      <th>NMISS</th>\n",
       "      <th>MODE</th>\n",
       "      <th>FREQ</th>\n",
       "      <th>PERCENT</th>\n",
       "    </tr>\n",
       "  </thead>\n",
       "  <tbody>\n",
       "    <tr>\n",
       "      <th>active</th>\n",
       "      <td>5000</td>\n",
       "      <td>0</td>\n",
       "      <td>0</td>\n",
       "      <td>2670</td>\n",
       "      <td>53.4</td>\n",
       "    </tr>\n",
       "    <tr>\n",
       "      <th>address</th>\n",
       "      <td>5000</td>\n",
       "      <td>0</td>\n",
       "      <td>0</td>\n",
       "      <td>245</td>\n",
       "      <td>4.9</td>\n",
       "    </tr>\n",
       "    <tr>\n",
       "      <th>addresscat</th>\n",
       "      <td>5000</td>\n",
       "      <td>0</td>\n",
       "      <td>3</td>\n",
       "      <td>1221</td>\n",
       "      <td>24.42</td>\n",
       "    </tr>\n",
       "    <tr>\n",
       "      <th>agecat</th>\n",
       "      <td>5000</td>\n",
       "      <td>0</td>\n",
       "      <td>4</td>\n",
       "      <td>1222</td>\n",
       "      <td>24.44</td>\n",
       "    </tr>\n",
       "    <tr>\n",
       "      <th>bfast</th>\n",
       "      <td>5000</td>\n",
       "      <td>0</td>\n",
       "      <td>3</td>\n",
       "      <td>1875</td>\n",
       "      <td>37.5</td>\n",
       "    </tr>\n",
       "  </tbody>\n",
       "</table>\n",
       "</div>"
      ],
      "text/plain": [
       "               N NMISS MODE  FREQ PERCENT\n",
       "active      5000     0    0  2670    53.4\n",
       "address     5000     0    0   245     4.9\n",
       "addresscat  5000     0    3  1221   24.42\n",
       "agecat      5000     0    4  1222   24.44\n",
       "bfast       5000     0    3  1875    37.5"
      ]
     },
     "execution_count": 27,
     "metadata": {},
     "output_type": "execute_result"
    }
   ],
   "source": [
    "categorical_summary=credit[cat_col].apply(categorical_var_summary).T\n",
    "#categorical_summary.to_excel(writer,sheet_name = 'Categorical variable summary', index=True)\n",
    "categorical_summary.head()"
   ]
  },
  {
   "cell_type": "markdown",
   "metadata": {},
   "source": [
    "<div style=\"background-color:#9ACD32;text-align:center;font-size: 200%\"><strong><br>\n",
    "Checking coorelations and other problems\n",
    "<br><br></strong></div>\n"
   ]
  },
  {
   "cell_type": "code",
   "execution_count": 30,
   "metadata": {},
   "outputs": [],
   "source": [
    "#plt.figure(figsize = (15, 12))\n",
    "#matrix = np.triu(credit.corr())\n",
    "#sns.heatmap(credit.corr(),cmap='coolwarm', mask=matrix);"
   ]
  },
  {
   "cell_type": "code",
   "execution_count": 37,
   "metadata": {},
   "outputs": [
    {
     "name": "stdout",
     "output_type": "stream",
     "text": [
      "----------------------------------------------------------------------\n",
      ">> Feature-pairs having correlation coefficient more than 85.0%\n",
      "----------------------------------------------------------------------\n"
     ]
    },
    {
     "data": {
      "text/html": [
       "<div>\n",
       "<style scoped>\n",
       "    .dataframe tbody tr th:only-of-type {\n",
       "        vertical-align: middle;\n",
       "    }\n",
       "\n",
       "    .dataframe tbody tr th {\n",
       "        vertical-align: top;\n",
       "    }\n",
       "\n",
       "    .dataframe thead th {\n",
       "        text-align: right;\n",
       "    }\n",
       "</style>\n",
       "<table border=\"1\" class=\"dataframe\">\n",
       "  <thead>\n",
       "    <tr style=\"text-align: right;\">\n",
       "      <th></th>\n",
       "      <th>var1</th>\n",
       "      <th>var2</th>\n",
       "      <th>correlation_coeff</th>\n",
       "    </tr>\n",
       "  </thead>\n",
       "  <tbody>\n",
       "    <tr>\n",
       "      <th>0</th>\n",
       "      <td>address</td>\n",
       "      <td>addresscat</td>\n",
       "      <td>0.923521</td>\n",
       "    </tr>\n",
       "    <tr>\n",
       "      <th>1</th>\n",
       "      <td>agecat</td>\n",
       "      <td>age</td>\n",
       "      <td>0.969879</td>\n",
       "    </tr>\n",
       "    <tr>\n",
       "      <th>2</th>\n",
       "      <td>card2tenure</td>\n",
       "      <td>card2tenurecat</td>\n",
       "      <td>0.924391</td>\n",
       "    </tr>\n",
       "    <tr>\n",
       "      <th>3</th>\n",
       "      <td>card2tenure</td>\n",
       "      <td>tenure</td>\n",
       "      <td>0.928240</td>\n",
       "    </tr>\n",
       "    <tr>\n",
       "      <th>4</th>\n",
       "      <td>cardmon</td>\n",
       "      <td>cardten</td>\n",
       "      <td>0.858591</td>\n",
       "    </tr>\n",
       "    <tr>\n",
       "      <th>5</th>\n",
       "      <td>cardtenure</td>\n",
       "      <td>card2tenure</td>\n",
       "      <td>0.962975</td>\n",
       "    </tr>\n",
       "    <tr>\n",
       "      <th>6</th>\n",
       "      <td>cardtenure</td>\n",
       "      <td>card2tenurecat</td>\n",
       "      <td>0.882880</td>\n",
       "    </tr>\n",
       "    <tr>\n",
       "      <th>7</th>\n",
       "      <td>cardtenure</td>\n",
       "      <td>cardtenurecat</td>\n",
       "      <td>0.865494</td>\n",
       "    </tr>\n",
       "    <tr>\n",
       "      <th>8</th>\n",
       "      <td>cardtenurecat</td>\n",
       "      <td>card2tenure</td>\n",
       "      <td>0.851267</td>\n",
       "    </tr>\n",
       "    <tr>\n",
       "      <th>9</th>\n",
       "      <td>cardtenurecat</td>\n",
       "      <td>card2tenurecat</td>\n",
       "      <td>0.924305</td>\n",
       "    </tr>\n",
       "    <tr>\n",
       "      <th>10</th>\n",
       "      <td>commutecat</td>\n",
       "      <td>commute</td>\n",
       "      <td>0.981171</td>\n",
       "    </tr>\n",
       "    <tr>\n",
       "      <th>11</th>\n",
       "      <td>edcat</td>\n",
       "      <td>ed</td>\n",
       "      <td>0.963896</td>\n",
       "    </tr>\n",
       "    <tr>\n",
       "      <th>12</th>\n",
       "      <td>employ</td>\n",
       "      <td>empcat</td>\n",
       "      <td>0.898162</td>\n",
       "    </tr>\n",
       "    <tr>\n",
       "      <th>13</th>\n",
       "      <td>equipmon</td>\n",
       "      <td>equip</td>\n",
       "      <td>0.940505</td>\n",
       "    </tr>\n",
       "    <tr>\n",
       "      <th>14</th>\n",
       "      <td>lninc</td>\n",
       "      <td>inccat</td>\n",
       "      <td>0.948792</td>\n",
       "    </tr>\n",
       "    <tr>\n",
       "      <th>15</th>\n",
       "      <td>lnlongten</td>\n",
       "      <td>card2tenure</td>\n",
       "      <td>0.854324</td>\n",
       "    </tr>\n",
       "    <tr>\n",
       "      <th>16</th>\n",
       "      <td>lnlongten</td>\n",
       "      <td>card2tenurecat</td>\n",
       "      <td>0.853827</td>\n",
       "    </tr>\n",
       "    <tr>\n",
       "      <th>17</th>\n",
       "      <td>lnlongten</td>\n",
       "      <td>lnlongmon</td>\n",
       "      <td>0.921711</td>\n",
       "    </tr>\n",
       "    <tr>\n",
       "      <th>18</th>\n",
       "      <td>longmon</td>\n",
       "      <td>lnlongmon</td>\n",
       "      <td>0.860232</td>\n",
       "    </tr>\n",
       "    <tr>\n",
       "      <th>19</th>\n",
       "      <td>longten</td>\n",
       "      <td>longmon</td>\n",
       "      <td>0.985698</td>\n",
       "    </tr>\n",
       "    <tr>\n",
       "      <th>20</th>\n",
       "      <td>marital</td>\n",
       "      <td>spoused</td>\n",
       "      <td>0.955769</td>\n",
       "    </tr>\n",
       "    <tr>\n",
       "      <th>21</th>\n",
       "      <td>pets_freshfish</td>\n",
       "      <td>pets</td>\n",
       "      <td>0.898244</td>\n",
       "    </tr>\n",
       "    <tr>\n",
       "      <th>22</th>\n",
       "      <td>spousedcat</td>\n",
       "      <td>marital</td>\n",
       "      <td>0.905201</td>\n",
       "    </tr>\n",
       "    <tr>\n",
       "      <th>23</th>\n",
       "      <td>spousedcat</td>\n",
       "      <td>spoused</td>\n",
       "      <td>0.984029</td>\n",
       "    </tr>\n",
       "    <tr>\n",
       "      <th>24</th>\n",
       "      <td>tenure</td>\n",
       "      <td>card2tenurecat</td>\n",
       "      <td>0.893527</td>\n",
       "    </tr>\n",
       "    <tr>\n",
       "      <th>25</th>\n",
       "      <td>tenure</td>\n",
       "      <td>cardtenure</td>\n",
       "      <td>0.908755</td>\n",
       "    </tr>\n",
       "    <tr>\n",
       "      <th>26</th>\n",
       "      <td>tenure</td>\n",
       "      <td>lnlongten</td>\n",
       "      <td>0.926854</td>\n",
       "    </tr>\n",
       "    <tr>\n",
       "      <th>27</th>\n",
       "      <td>tollmon</td>\n",
       "      <td>tollfree</td>\n",
       "      <td>0.854061</td>\n",
       "    </tr>\n",
       "    <tr>\n",
       "      <th>28</th>\n",
       "      <td>tollmon</td>\n",
       "      <td>tollten</td>\n",
       "      <td>0.880623</td>\n",
       "    </tr>\n",
       "    <tr>\n",
       "      <th>29</th>\n",
       "      <td>wiremon</td>\n",
       "      <td>wireless</td>\n",
       "      <td>0.891492</td>\n",
       "    </tr>\n",
       "    <tr>\n",
       "      <th>30</th>\n",
       "      <td>wireten</td>\n",
       "      <td>wiremon</td>\n",
       "      <td>0.878590</td>\n",
       "    </tr>\n",
       "  </tbody>\n",
       "</table>\n",
       "</div>"
      ],
      "text/plain": [
       "              var1            var2  correlation_coeff\n",
       "0          address      addresscat           0.923521\n",
       "1           agecat             age           0.969879\n",
       "2      card2tenure  card2tenurecat           0.924391\n",
       "3      card2tenure          tenure           0.928240\n",
       "4          cardmon         cardten           0.858591\n",
       "5       cardtenure     card2tenure           0.962975\n",
       "6       cardtenure  card2tenurecat           0.882880\n",
       "7       cardtenure   cardtenurecat           0.865494\n",
       "8    cardtenurecat     card2tenure           0.851267\n",
       "9    cardtenurecat  card2tenurecat           0.924305\n",
       "10      commutecat         commute           0.981171\n",
       "11           edcat              ed           0.963896\n",
       "12          employ          empcat           0.898162\n",
       "13        equipmon           equip           0.940505\n",
       "14           lninc          inccat           0.948792\n",
       "15       lnlongten     card2tenure           0.854324\n",
       "16       lnlongten  card2tenurecat           0.853827\n",
       "17       lnlongten       lnlongmon           0.921711\n",
       "18         longmon       lnlongmon           0.860232\n",
       "19         longten         longmon           0.985698\n",
       "20         marital         spoused           0.955769\n",
       "21  pets_freshfish            pets           0.898244\n",
       "22      spousedcat         marital           0.905201\n",
       "23      spousedcat         spoused           0.984029\n",
       "24          tenure  card2tenurecat           0.893527\n",
       "25          tenure      cardtenure           0.908755\n",
       "26          tenure       lnlongten           0.926854\n",
       "27         tollmon        tollfree           0.854061\n",
       "28         tollmon         tollten           0.880623\n",
       "29         wiremon        wireless           0.891492\n",
       "30         wireten         wiremon           0.878590"
      ]
     },
     "execution_count": 37,
     "metadata": {},
     "output_type": "execute_result"
    }
   ],
   "source": [
    "thresold=0.85\n",
    "\n",
    "print(\"--\"*35)\n",
    "print(f\">> Feature-pairs having correlation coefficient more than {thresold*100}%\")\n",
    "print(\"--\"*35)\n",
    "\n",
    "high_corr_ser=credit.corr().unstack().sort_values().where(lambda x: (abs(x)>thresold)&(x!=1)).dropna()\n",
    "#high_corr_ser\n",
    "df_coeff=pd.DataFrame(high_corr_ser)\n",
    "df_coeff=df_coeff.reset_index().rename(columns={'level_0':'var1','level_1':'var2',0:'correlation_coeff'})\n",
    "df_coeff=df_coeff.iloc[::2].sort_values(by=['var1','var2']).reset_index(drop=True)\n",
    "df_coeff"
   ]
  },
  {
   "cell_type": "markdown",
   "metadata": {},
   "source": [
    "<div class='alert alert-warning'><strong>NOTE:</strong>\n",
    "<br>Some highly correlated variables are:<br>'addresscat','agecat','cardtenurecat','card2tenurecat','cardtenure','commutecat','edcat','equipmon','inccat','lnlongten','longten','spoused','spousedcat','tenure','tollmon','wiremon'\n",
    "<br><br>Now, we are dropping only numerical variables that are correlated, retaining categorical variables for dummy creation</div>"
   ]
  },
  {
   "cell_type": "code",
   "execution_count": 38,
   "metadata": {},
   "outputs": [
    {
     "data": {
      "text/plain": [
       "['equipmon', 'lnlongten', 'longten', 'spoused', 'tenure', 'tollmon', 'wiremon']"
      ]
     },
     "execution_count": 38,
     "metadata": {},
     "output_type": "execute_result"
    }
   ],
   "source": [
    "my_list=['addresscat','agecat','cardtenurecat','card2tenurecat','cardtenure','commutecat','edcat','equipmon', 'inccat',\n",
    "         'lnlongten','longten','spoused','spousedcat','tenure','tollmon','wiremon']\n",
    "drop_cols= [x for x in my_list if x in cont_col] #extracting numerica cols to drop\n",
    "drop_cols"
   ]
  },
  {
   "cell_type": "code",
   "execution_count": 39,
   "metadata": {},
   "outputs": [],
   "source": [
    "#list(set(my_list)-set(['equipmon', 'lnlongten', 'longten', 'spoused', 'tenure', 'tollmon', 'wiremon']))"
   ]
  },
  {
   "cell_type": "code",
   "execution_count": 40,
   "metadata": {},
   "outputs": [
    {
     "name": "stdout",
     "output_type": "stream",
     "text": [
      "Total-113\n",
      "Categoriacl-84\n",
      "Continuous-29\n"
     ]
    }
   ],
   "source": [
    "#dropping columns\n",
    "credit=credit.drop(columns=drop_cols,axis=1)\n",
    "\n",
    "# updating variable lists\n",
    "cat_col=[col for col in cat_col if col in credit.columns]\n",
    "cont_col=list(set(credit.columns)-set(cat_col))\n",
    "print(\"Total-{}\\nCategoriacl-{}\\nContinuous-{}\".format(credit.shape[1],len(cat_col),len(cont_col)))"
   ]
  },
  {
   "cell_type": "markdown",
   "metadata": {},
   "source": [
    "<div style=\"background-color:#9ACD32;text-align:center;font-size: 200%\"><strong><br>\n",
    "Handling Outliers and Missing values\n",
    "<br><br></strong></div>"
   ]
  },
  {
   "cell_type": "code",
   "execution_count": 41,
   "metadata": {},
   "outputs": [],
   "source": [
    "#outlier  treatment\n",
    "\n",
    "credit[cont_col]=credit[cont_col].apply(lambda x: x.clip(lower = x.dropna().quantile(0.01), \n",
    "                                                                   upper = x.quantile(0.99)))"
   ]
  },
  {
   "cell_type": "code",
   "execution_count": 212,
   "metadata": {},
   "outputs": [],
   "source": [
    "#credit.to_excel(writer,'Outlier_Treatment',index=True)"
   ]
  },
  {
   "cell_type": "code",
   "execution_count": 42,
   "metadata": {},
   "outputs": [
    {
     "data": {
      "text/plain": [
       "townsize       2.0\n",
       "lncreddebt     1.0\n",
       "lnothdebt      1.0\n",
       "commutetime    2.0\n",
       "cardten        2.0\n",
       "dtype: float64"
      ]
     },
     "execution_count": 42,
     "metadata": {},
     "output_type": "execute_result"
    }
   ],
   "source": [
    "#checking columns with missing values\n",
    "credit.isna().sum().where(lambda x:x>0).dropna()"
   ]
  },
  {
   "cell_type": "code",
   "execution_count": 43,
   "metadata": {},
   "outputs": [
    {
     "data": {
      "text/plain": [
       "Series([], dtype: float64)"
      ]
     },
     "execution_count": 43,
     "metadata": {},
     "output_type": "execute_result"
    }
   ],
   "source": [
    "# missing value imputation according to column-type\n",
    "miss_cols2=credit.isna().sum().where(lambda x:x>0).dropna().index\n",
    "\n",
    "for col in miss_cols2:\n",
    "    if col in set(cat_col): \n",
    "        credit[col] = credit[col].fillna(credit[col].mode()[0])\n",
    "    else:\n",
    "        credit[col] = credit[col].fillna(credit[col].mean())\n",
    "\n",
    "#check\n",
    "credit.isna().sum().where(lambda x:x>0).dropna()"
   ]
  },
  {
   "cell_type": "code",
   "execution_count": 217,
   "metadata": {},
   "outputs": [],
   "source": [
    "#credit.to_excel(writer,'Missing Value Treated',index=True)"
   ]
  },
  {
   "cell_type": "markdown",
   "metadata": {},
   "source": [
    "<div style=\"background-color:#9ACD32;text-align:center;font-size: 200%\"><strong><br>\n",
    "Data-preparation-II\n",
    "<br><br></strong></div>"
   ]
  },
  {
   "cell_type": "markdown",
   "metadata": {},
   "source": [
    "<div class='alert alert-warning'><strong>NOTE:</strong>\n",
    "    <br>1.<tt>'income','othdebt','creddebt'</tt>-- columns have their logarithm present in the dataset, so they are also dropped \n",
    "    <br>2. Months name are changed to month-serial no in <tt> 'birthmonth' </tt>column </div>"
   ]
  },
  {
   "cell_type": "code",
   "execution_count": 44,
   "metadata": {},
   "outputs": [
    {
     "name": "stdout",
     "output_type": "stream",
     "text": [
      "Total-110\n",
      "Categoriacl-84\n",
      "Continuous-26\n"
     ]
    }
   ],
   "source": [
    "#dropping columns\n",
    "#list_drop=['income','othdebt','creddebt']\n",
    "credit=credit.drop(columns=['income','othdebt','creddebt'],axis=1)\n",
    "\n",
    "# updating variable lists\n",
    "cat_col=[col for col in cat_col if col in credit.columns]\n",
    "cont_col=list(set(credit.columns)-set(cat_col))\n",
    "print(\"Total-{}\\nCategoriacl-{}\\nContinuous-{}\".format(credit.shape[1],len(cat_col),len(cont_col)))"
   ]
  },
  {
   "cell_type": "code",
   "execution_count": 45,
   "metadata": {},
   "outputs": [],
   "source": [
    "# 'birthmonth' column \n",
    "\n",
    "from time import strptime\n",
    "def tomonth(month_name):\n",
    "    month_number=strptime(month_name, '%B').tm_mon\n",
    "    return month_number\n",
    "\n",
    "credit['birthmonth']=credit['birthmonth'].map(lambda x: tomonth(x))"
   ]
  },
  {
   "cell_type": "markdown",
   "metadata": {},
   "source": [
    "<div style=\"background-color:#9ACD32;text-align:center;font-size: 200%\"><strong><br>\n",
    "Dummy creation\n",
    "<br><br></strong></div>"
   ]
  },
  {
   "cell_type": "markdown",
   "metadata": {},
   "source": [
    "<div class='alert alert-warning'><strong>Steps to be followed are:</strong><br>\n",
    "<br>>1. extracting only non-boolean columns  from categorical columns list for dummy-creation, as there is no use of creating dummies for those columns those are already boolean\n",
    "<br>>2. adding their dummies into the main dataset\n",
    "<br>>3. dropping those parent non-boolean columns after dummy is created\n",
    "<br>>4. creating  a final merged dataset out of **continuous columns,boolean columns and dummy columns** for analysis.</div>\n"
   ]
  },
  {
   "cell_type": "code",
   "execution_count": 46,
   "metadata": {},
   "outputs": [
    {
     "name": "stdout",
     "output_type": "stream",
     "text": [
      "Total columns: 110\n",
      "\n",
      "Continuous column: 26\n",
      "Categorical column: 84\t-->boolean(49)+ non-boolean(35)\n",
      "\n",
      "No of dummies to be created:  307\n",
      "No of columns in final dataset should be:  382\n"
     ]
    }
   ],
   "source": [
    "cat_col_bool=[]\n",
    "\n",
    "for col in cat_col:\n",
    "    if set(credit[col].unique())=={0,1}: \n",
    "        cat_col_bool.append(col)\n",
    "        \n",
    "cat_col_dummy=list(set(cat_col)-set(cat_col_bool))\n",
    "\n",
    "dum_count=0\n",
    "for col in cat_col_dummy:\n",
    "        dum_count+= credit[col].nunique()-1\n",
    "print(f\"Total columns: {credit.shape[1]}\") \n",
    "print(f\"\\nContinuous column: {len(cont_col)}\")    \n",
    "print(f\"Categorical column: {len(cat_col)}\\t-->boolean({len(cat_col_bool)})+ non-boolean({len(cat_col_dummy)})\")\n",
    "print(\"\\nNo of dummies to be created: \", dum_count)\n",
    "print(\"No of columns in final dataset should be: \",credit.shape[1]+dum_count-len(cat_col_dummy))"
   ]
  },
  {
   "cell_type": "markdown",
   "metadata": {},
   "source": [
    "### List of non-boolean columns for dummy creation"
   ]
  },
  {
   "cell_type": "code",
   "execution_count": 50,
   "metadata": {},
   "outputs": [],
   "source": [
    "cat_to_dum=['region', 'townsize','gender','agecat','edcat','empcat','inccat','jobsat','spousedcat',\n",
    "         'hometype','addresscat','cars','carown','cartype','carcatvalue',\n",
    "         'carbought','commutecat','reason','polview','card','cardtype','cardbenefit',\n",
    "         'cardtenurecat','card2','card2type','card2benefit','card2tenurecat',\n",
    "         'bfast','internet']"
   ]
  },
  {
   "cell_type": "code",
   "execution_count": 49,
   "metadata": {},
   "outputs": [
    {
     "data": {
      "text/html": [
       "<div>\n",
       "<style scoped>\n",
       "    .dataframe tbody tr th:only-of-type {\n",
       "        vertical-align: middle;\n",
       "    }\n",
       "\n",
       "    .dataframe tbody tr th {\n",
       "        vertical-align: top;\n",
       "    }\n",
       "\n",
       "    .dataframe thead th {\n",
       "        text-align: right;\n",
       "    }\n",
       "</style>\n",
       "<table border=\"1\" class=\"dataframe\">\n",
       "  <thead>\n",
       "    <tr style=\"text-align: right;\">\n",
       "      <th></th>\n",
       "      <th>edcat_2</th>\n",
       "      <th>edcat_3</th>\n",
       "      <th>edcat_4</th>\n",
       "      <th>edcat_5</th>\n",
       "    </tr>\n",
       "  </thead>\n",
       "  <tbody>\n",
       "    <tr>\n",
       "      <th>0</th>\n",
       "      <td>0</td>\n",
       "      <td>1</td>\n",
       "      <td>0</td>\n",
       "      <td>0</td>\n",
       "    </tr>\n",
       "    <tr>\n",
       "      <th>1</th>\n",
       "      <td>0</td>\n",
       "      <td>0</td>\n",
       "      <td>1</td>\n",
       "      <td>0</td>\n",
       "    </tr>\n",
       "    <tr>\n",
       "      <th>2</th>\n",
       "      <td>1</td>\n",
       "      <td>0</td>\n",
       "      <td>0</td>\n",
       "      <td>0</td>\n",
       "    </tr>\n",
       "    <tr>\n",
       "      <th>3</th>\n",
       "      <td>0</td>\n",
       "      <td>1</td>\n",
       "      <td>0</td>\n",
       "      <td>0</td>\n",
       "    </tr>\n",
       "    <tr>\n",
       "      <th>4</th>\n",
       "      <td>0</td>\n",
       "      <td>1</td>\n",
       "      <td>0</td>\n",
       "      <td>0</td>\n",
       "    </tr>\n",
       "  </tbody>\n",
       "</table>\n",
       "</div>"
      ],
      "text/plain": [
       "   edcat_2  edcat_3  edcat_4  edcat_5\n",
       "0        0        1        0        0\n",
       "1        0        0        1        0\n",
       "2        1        0        0        0\n",
       "3        0        1        0        0\n",
       "4        0        1        0        0"
      ]
     },
     "execution_count": 49,
     "metadata": {},
     "output_type": "execute_result"
    }
   ],
   "source": [
    "#checking dummy creation process\n",
    "k='edcat'\n",
    "pd.get_dummies(credit[k],prefix=k,drop_first=True).head()"
   ]
  },
  {
   "cell_type": "markdown",
   "metadata": {},
   "source": [
    "### UDF to create dummies, concatenating them to main dataframe, removing parent features"
   ]
  },
  {
   "cell_type": "code",
   "execution_count": 51,
   "metadata": {},
   "outputs": [],
   "source": [
    "# UDF to create dummies, concatenating them to main dataframe, removing parent features\n",
    "def create_dummy(df,colname):\n",
    "    dummy_df=pd.get_dummies(df[colname],prefix=colname,drop_first=True)\n",
    "    df=pd.concat([df,dummy_df],axis=1)\n",
    "    df=df.drop(colname, axis=1)\n",
    "    return df"
   ]
  },
  {
   "cell_type": "code",
   "execution_count": 52,
   "metadata": {},
   "outputs": [
    {
     "data": {
      "text/plain": [
       "(5000, 110)"
      ]
     },
     "execution_count": 52,
     "metadata": {},
     "output_type": "execute_result"
    }
   ],
   "source": [
    "credit.shape"
   ]
  },
  {
   "cell_type": "code",
   "execution_count": 53,
   "metadata": {},
   "outputs": [
    {
     "data": {
      "text/plain": [
       "(5000, 187)"
      ]
     },
     "execution_count": 53,
     "metadata": {},
     "output_type": "execute_result"
    }
   ],
   "source": [
    "for var in cat_to_dum:\n",
    "    credit.loc[:,var]=credit_cat.loc[:,var].astype('category')\n",
    "    credit=create_dummy(credit,var)\n",
    "\n",
    "credit.shape"
   ]
  },
  {
   "cell_type": "markdown",
   "metadata": {},
   "source": [
    "<div style=\"background-color:#9ACD32;text-align:center;font-size: 300%\"><strong><br>\n",
    "Model Building\n",
    "<br><br></strong></div>"
   ]
  },
  {
   "cell_type": "markdown",
   "metadata": {},
   "source": [
    "<div style=\"background-color:#DAF7A6 ;font-size: 150%\"><strong><br>\n",
    " Splitting the data  \n",
    "<br><br></strong></div> "
   ]
  },
  {
   "cell_type": "code",
   "execution_count": 55,
   "metadata": {},
   "outputs": [],
   "source": [
    "feature_columns = credit.columns.difference( ['total_spent_ln'] )\n",
    "train_X, test_X, train_y, test_y = train_test_split(credit[feature_columns],\n",
    "                                                  credit['total_spent_ln'],\n",
    "                                                  test_size=0.3,random_state=123)"
   ]
  },
  {
   "cell_type": "code",
   "execution_count": 56,
   "metadata": {},
   "outputs": [
    {
     "name": "stdout",
     "output_type": "stream",
     "text": [
      "Total records:  5000\n",
      "\n",
      "No of records in train-set:  3500\n",
      "No of records in test-set:  1500\n"
     ]
    }
   ],
   "source": [
    "print (\"Total records: \",credit.shape[0])\n",
    "print (\"\\nNo of records in train-set: \",len( train_X ))\n",
    "print (\"No of records in test-set: \",len( test_X))"
   ]
  },
  {
   "cell_type": "markdown",
   "metadata": {},
   "source": [
    "<div style=\"background-color:#DAF7A6;font-size: 200%\"><strong><br>\n",
    "   Feature Selection using Random Forest Regression  \n",
    "<br><br></strong></div>"
   ]
  },
  {
   "cell_type": "code",
   "execution_count": 58,
   "metadata": {},
   "outputs": [],
   "source": [
    "param_grid={'n_estimators':np.arange(10,25)}"
   ]
  },
  {
   "cell_type": "code",
   "execution_count": 59,
   "metadata": {},
   "outputs": [
    {
     "data": {
      "text/plain": [
       "GridSearchCV(cv=2, estimator=RandomForestRegressor(warm_start=True),\n",
       "             param_grid={'n_estimators': array([10, 11, 12, 13, 14, 15, 16, 17, 18, 19, 20, 21, 22, 23, 24])})"
      ]
     },
     "execution_count": 59,
     "metadata": {},
     "output_type": "execute_result"
    }
   ],
   "source": [
    "tree=GridSearchCV(RandomForestRegressor(oob_score=False,warm_start=True),param_grid,cv=2)\n",
    "tree.fit(train_X,train_y)"
   ]
  },
  {
   "cell_type": "code",
   "execution_count": 60,
   "metadata": {},
   "outputs": [
    {
     "data": {
      "text/plain": [
       "{'n_estimators': 23}"
      ]
     },
     "execution_count": 60,
     "metadata": {},
     "output_type": "execute_result"
    }
   ],
   "source": [
    "tree.best_params_"
   ]
  },
  {
   "cell_type": "code",
   "execution_count": 61,
   "metadata": {},
   "outputs": [
    {
     "data": {
      "text/plain": [
       "RandomForestRegressor(n_estimators=21, oob_score=True)"
      ]
     },
     "execution_count": 61,
     "metadata": {},
     "output_type": "execute_result"
    }
   ],
   "source": [
    "clf_rf = RandomForestRegressor(oob_score=True,n_estimators=21)\n",
    "clf_rf.fit( train_X, train_y)"
   ]
  },
  {
   "cell_type": "code",
   "execution_count": 62,
   "metadata": {},
   "outputs": [
    {
     "data": {
      "text/plain": [
       "0.13917363799589832"
      ]
     },
     "execution_count": 62,
     "metadata": {},
     "output_type": "execute_result"
    }
   ],
   "source": [
    "clf_rf.oob_score_"
   ]
  },
  {
   "cell_type": "code",
   "execution_count": 63,
   "metadata": {},
   "outputs": [
    {
     "data": {
      "text/html": [
       "<div>\n",
       "<style scoped>\n",
       "    .dataframe tbody tr th:only-of-type {\n",
       "        vertical-align: middle;\n",
       "    }\n",
       "\n",
       "    .dataframe tbody tr th {\n",
       "        vertical-align: top;\n",
       "    }\n",
       "\n",
       "    .dataframe thead th {\n",
       "        text-align: right;\n",
       "    }\n",
       "</style>\n",
       "<table border=\"1\" class=\"dataframe\">\n",
       "  <thead>\n",
       "    <tr style=\"text-align: right;\">\n",
       "      <th></th>\n",
       "      <th>Coefficients</th>\n",
       "    </tr>\n",
       "  </thead>\n",
       "  <tbody>\n",
       "    <tr>\n",
       "      <th>lninc</th>\n",
       "      <td>0.199800</td>\n",
       "    </tr>\n",
       "    <tr>\n",
       "      <th>lncreddebt</th>\n",
       "      <td>0.031898</td>\n",
       "    </tr>\n",
       "    <tr>\n",
       "      <th>lnothdebt</th>\n",
       "      <td>0.028467</td>\n",
       "    </tr>\n",
       "    <tr>\n",
       "      <th>carvalue</th>\n",
       "      <td>0.026792</td>\n",
       "    </tr>\n",
       "    <tr>\n",
       "      <th>debtinc</th>\n",
       "      <td>0.024986</td>\n",
       "    </tr>\n",
       "    <tr>\n",
       "      <th>card_3</th>\n",
       "      <td>0.024918</td>\n",
       "    </tr>\n",
       "    <tr>\n",
       "      <th>commutetime</th>\n",
       "      <td>0.021214</td>\n",
       "    </tr>\n",
       "    <tr>\n",
       "      <th>hourstv</th>\n",
       "      <td>0.020820</td>\n",
       "    </tr>\n",
       "    <tr>\n",
       "      <th>cardmon</th>\n",
       "      <td>0.020552</td>\n",
       "    </tr>\n",
       "    <tr>\n",
       "      <th>card_2</th>\n",
       "      <td>0.019266</td>\n",
       "    </tr>\n",
       "  </tbody>\n",
       "</table>\n",
       "</div>"
      ],
      "text/plain": [
       "             Coefficients\n",
       "lninc            0.199800\n",
       "lncreddebt       0.031898\n",
       "lnothdebt        0.028467\n",
       "carvalue         0.026792\n",
       "debtinc          0.024986\n",
       "card_3           0.024918\n",
       "commutetime      0.021214\n",
       "hourstv          0.020820\n",
       "cardmon          0.020552\n",
       "card_2           0.019266"
      ]
     },
     "execution_count": 63,
     "metadata": {},
     "output_type": "execute_result"
    }
   ],
   "source": [
    "ce=pd.DataFrame(clf_rf.feature_importances_, \n",
    "                index=train_X.columns, \n",
    "                columns={'Coefficients' : 0})\n",
    "\n",
    "ce.sort_values('Coefficients',ascending=False,inplace=True)\n",
    "#ce.to_csv('rf_feature_imp')\n",
    "ce.head(10)"
   ]
  },
  {
   "cell_type": "markdown",
   "metadata": {},
   "source": [
    "### Selecting Top 40 features"
   ]
  },
  {
   "cell_type": "code",
   "execution_count": 64,
   "metadata": {},
   "outputs": [
    {
     "data": {
      "text/plain": [
       "['lninc',\n",
       " 'lncreddebt',\n",
       " 'lnothdebt',\n",
       " 'carvalue',\n",
       " 'debtinc',\n",
       " 'card_3',\n",
       " 'commutetime',\n",
       " 'hourstv',\n",
       " 'cardmon',\n",
       " 'card_2',\n",
       " 'birthmonth',\n",
       " 'card_4',\n",
       " 'cardten',\n",
       " 'ed',\n",
       " 'age',\n",
       " 'employ',\n",
       " 'lnlongmon',\n",
       " 'longmon',\n",
       " 'reason_2',\n",
       " 'pets',\n",
       " 'address',\n",
       " 'equipten',\n",
       " 'tollten',\n",
       " 'card2tenure',\n",
       " 'cardtenure',\n",
       " 'jobcat',\n",
       " 'pets_freshfish',\n",
       " 'commute',\n",
       " 'card2_2',\n",
       " 'card_5',\n",
       " 'wireten',\n",
       " 'reside',\n",
       " 'pets_cats',\n",
       " 'gender_1',\n",
       " 'card2_3',\n",
       " 'agecat_5',\n",
       " 'pets_dogs',\n",
       " 'carbuy',\n",
       " 'polview_4',\n",
       " 'cartype_0']"
      ]
     },
     "execution_count": 64,
     "metadata": {},
     "output_type": "execute_result"
    }
   ],
   "source": [
    "top_features=list(ce.index[0:40])\n",
    "top_features"
   ]
  },
  {
   "cell_type": "code",
   "execution_count": 65,
   "metadata": {},
   "outputs": [
    {
     "data": {
      "text/html": [
       "<div>\n",
       "<style scoped>\n",
       "    .dataframe tbody tr th:only-of-type {\n",
       "        vertical-align: middle;\n",
       "    }\n",
       "\n",
       "    .dataframe tbody tr th {\n",
       "        vertical-align: top;\n",
       "    }\n",
       "\n",
       "    .dataframe thead th {\n",
       "        text-align: right;\n",
       "    }\n",
       "</style>\n",
       "<table border=\"1\" class=\"dataframe\">\n",
       "  <thead>\n",
       "    <tr style=\"text-align: right;\">\n",
       "      <th></th>\n",
       "      <th>lninc</th>\n",
       "      <th>lncreddebt</th>\n",
       "      <th>lnothdebt</th>\n",
       "      <th>carvalue</th>\n",
       "      <th>debtinc</th>\n",
       "      <th>card_3</th>\n",
       "      <th>commutetime</th>\n",
       "      <th>hourstv</th>\n",
       "      <th>cardmon</th>\n",
       "      <th>card_2</th>\n",
       "      <th>...</th>\n",
       "      <th>reside</th>\n",
       "      <th>pets_cats</th>\n",
       "      <th>gender_1</th>\n",
       "      <th>card2_3</th>\n",
       "      <th>agecat_5</th>\n",
       "      <th>pets_dogs</th>\n",
       "      <th>carbuy</th>\n",
       "      <th>polview_4</th>\n",
       "      <th>cartype_0</th>\n",
       "      <th>total_spent_ln</th>\n",
       "    </tr>\n",
       "  </thead>\n",
       "  <tbody>\n",
       "    <tr>\n",
       "      <th>0</th>\n",
       "      <td>3.433987</td>\n",
       "      <td>0.183079</td>\n",
       "      <td>0.806516</td>\n",
       "      <td>14.3</td>\n",
       "      <td>11.1</td>\n",
       "      <td>1</td>\n",
       "      <td>22.0</td>\n",
       "      <td>13</td>\n",
       "      <td>14.25</td>\n",
       "      <td>0</td>\n",
       "      <td>...</td>\n",
       "      <td>3</td>\n",
       "      <td>0</td>\n",
       "      <td>1</td>\n",
       "      <td>0</td>\n",
       "      <td>0</td>\n",
       "      <td>0</td>\n",
       "      <td>0</td>\n",
       "      <td>0</td>\n",
       "      <td>1</td>\n",
       "      <td>5.007029</td>\n",
       "    </tr>\n",
       "    <tr>\n",
       "      <th>1</th>\n",
       "      <td>2.708050</td>\n",
       "      <td>0.200505</td>\n",
       "      <td>0.449788</td>\n",
       "      <td>6.8</td>\n",
       "      <td>18.6</td>\n",
       "      <td>0</td>\n",
       "      <td>29.0</td>\n",
       "      <td>18</td>\n",
       "      <td>16.00</td>\n",
       "      <td>1</td>\n",
       "      <td>...</td>\n",
       "      <td>2</td>\n",
       "      <td>0</td>\n",
       "      <td>0</td>\n",
       "      <td>0</td>\n",
       "      <td>0</td>\n",
       "      <td>0</td>\n",
       "      <td>0</td>\n",
       "      <td>1</td>\n",
       "      <td>0</td>\n",
       "      <td>4.350794</td>\n",
       "    </tr>\n",
       "    <tr>\n",
       "      <th>2</th>\n",
       "      <td>3.555348</td>\n",
       "      <td>-0.074056</td>\n",
       "      <td>0.930738</td>\n",
       "      <td>18.8</td>\n",
       "      <td>9.9</td>\n",
       "      <td>0</td>\n",
       "      <td>24.0</td>\n",
       "      <td>21</td>\n",
       "      <td>23.00</td>\n",
       "      <td>1</td>\n",
       "      <td>...</td>\n",
       "      <td>3</td>\n",
       "      <td>2</td>\n",
       "      <td>1</td>\n",
       "      <td>0</td>\n",
       "      <td>0</td>\n",
       "      <td>1</td>\n",
       "      <td>1</td>\n",
       "      <td>0</td>\n",
       "      <td>0</td>\n",
       "      <td>5.886021</td>\n",
       "    </tr>\n",
       "    <tr>\n",
       "      <th>3</th>\n",
       "      <td>2.995732</td>\n",
       "      <td>-3.401690</td>\n",
       "      <td>0.110826</td>\n",
       "      <td>8.7</td>\n",
       "      <td>5.7</td>\n",
       "      <td>0</td>\n",
       "      <td>38.0</td>\n",
       "      <td>26</td>\n",
       "      <td>21.00</td>\n",
       "      <td>1</td>\n",
       "      <td>...</td>\n",
       "      <td>5</td>\n",
       "      <td>0</td>\n",
       "      <td>0</td>\n",
       "      <td>1</td>\n",
       "      <td>0</td>\n",
       "      <td>0</td>\n",
       "      <td>1</td>\n",
       "      <td>0</td>\n",
       "      <td>0</td>\n",
       "      <td>5.884464</td>\n",
       "    </tr>\n",
       "    <tr>\n",
       "      <th>4</th>\n",
       "      <td>3.135494</td>\n",
       "      <td>-1.538705</td>\n",
       "      <td>-1.735336</td>\n",
       "      <td>10.6</td>\n",
       "      <td>1.7</td>\n",
       "      <td>0</td>\n",
       "      <td>32.0</td>\n",
       "      <td>27</td>\n",
       "      <td>17.25</td>\n",
       "      <td>0</td>\n",
       "      <td>...</td>\n",
       "      <td>4</td>\n",
       "      <td>0</td>\n",
       "      <td>0</td>\n",
       "      <td>0</td>\n",
       "      <td>0</td>\n",
       "      <td>0</td>\n",
       "      <td>1</td>\n",
       "      <td>1</td>\n",
       "      <td>0</td>\n",
       "      <td>6.230147</td>\n",
       "    </tr>\n",
       "  </tbody>\n",
       "</table>\n",
       "<p>5 rows × 41 columns</p>\n",
       "</div>"
      ],
      "text/plain": [
       "      lninc  lncreddebt  lnothdebt  carvalue  debtinc  card_3  commutetime  \\\n",
       "0  3.433987    0.183079   0.806516      14.3     11.1       1         22.0   \n",
       "1  2.708050    0.200505   0.449788       6.8     18.6       0         29.0   \n",
       "2  3.555348   -0.074056   0.930738      18.8      9.9       0         24.0   \n",
       "3  2.995732   -3.401690   0.110826       8.7      5.7       0         38.0   \n",
       "4  3.135494   -1.538705  -1.735336      10.6      1.7       0         32.0   \n",
       "\n",
       "   hourstv  cardmon  card_2  ...  reside  pets_cats  gender_1  card2_3  \\\n",
       "0       13    14.25       0  ...       3          0         1        0   \n",
       "1       18    16.00       1  ...       2          0         0        0   \n",
       "2       21    23.00       1  ...       3          2         1        0   \n",
       "3       26    21.00       1  ...       5          0         0        1   \n",
       "4       27    17.25       0  ...       4          0         0        0   \n",
       "\n",
       "   agecat_5  pets_dogs  carbuy  polview_4  cartype_0  total_spent_ln  \n",
       "0         0          0       0          0          1        5.007029  \n",
       "1         0          0       0          1          0        4.350794  \n",
       "2         0          1       1          0          0        5.886021  \n",
       "3         0          0       1          0          0        5.884464  \n",
       "4         0          0       1          1          0        6.230147  \n",
       "\n",
       "[5 rows x 41 columns]"
      ]
     },
     "execution_count": 65,
     "metadata": {},
     "output_type": "execute_result"
    }
   ],
   "source": [
    "# Create data frame with selected features\n",
    "top_features.append('total_spent_ln')\n",
    "\n",
    "rf_df=credit[top_features]\n",
    "rf_df.head()"
   ]
  },
  {
   "cell_type": "markdown",
   "metadata": {},
   "source": [
    "<div style=\"background-color:#DAF7A6;font-size: 200%\"><strong><br>\n",
    "   Feature Selection using VIF \n",
    "<br><br></strong></div>"
   ]
  },
  {
   "cell_type": "code",
   "execution_count": 66,
   "metadata": {},
   "outputs": [
    {
     "data": {
      "text/plain": [
       "'lninc+lncreddebt+lnothdebt+carvalue+debtinc+card_3+commutetime+hourstv+cardmon+card_2+birthmonth+card_4+cardten+ed+age+employ+lnlongmon+longmon+reason_2+pets+address+equipten+tollten+card2tenure+cardtenure+jobcat+pets_freshfish+commute+card2_2+card_5+wireten+reside+pets_cats+gender_1+card2_3+agecat_5+pets_dogs+carbuy+polview_4+cartype_0'"
      ]
     },
     "execution_count": 66,
     "metadata": {},
     "output_type": "execute_result"
    }
   ],
   "source": [
    "features=rf_df.drop('total_spent_ln',axis=1).columns\n",
    "\n",
    "features_string = \"+\".join(features)\n",
    "features_string"
   ]
  },
  {
   "cell_type": "code",
   "execution_count": 67,
   "metadata": {},
   "outputs": [
    {
     "data": {
      "text/html": [
       "<div>\n",
       "<style scoped>\n",
       "    .dataframe tbody tr th:only-of-type {\n",
       "        vertical-align: middle;\n",
       "    }\n",
       "\n",
       "    .dataframe tbody tr th {\n",
       "        vertical-align: top;\n",
       "    }\n",
       "\n",
       "    .dataframe thead th {\n",
       "        text-align: right;\n",
       "    }\n",
       "</style>\n",
       "<table border=\"1\" class=\"dataframe\">\n",
       "  <thead>\n",
       "    <tr style=\"text-align: right;\">\n",
       "      <th></th>\n",
       "      <th>features</th>\n",
       "      <th>VIF Factor</th>\n",
       "    </tr>\n",
       "  </thead>\n",
       "  <tbody>\n",
       "    <tr>\n",
       "      <th>0</th>\n",
       "      <td>carbuy</td>\n",
       "      <td>1.005831</td>\n",
       "    </tr>\n",
       "    <tr>\n",
       "      <th>1</th>\n",
       "      <td>birthmonth</td>\n",
       "      <td>1.006355</td>\n",
       "    </tr>\n",
       "    <tr>\n",
       "      <th>2</th>\n",
       "      <td>polview_4</td>\n",
       "      <td>1.010758</td>\n",
       "    </tr>\n",
       "    <tr>\n",
       "      <th>3</th>\n",
       "      <td>commutetime</td>\n",
       "      <td>1.014764</td>\n",
       "    </tr>\n",
       "    <tr>\n",
       "      <th>4</th>\n",
       "      <td>gender_1</td>\n",
       "      <td>1.018905</td>\n",
       "    </tr>\n",
       "  </tbody>\n",
       "</table>\n",
       "</div>"
      ],
      "text/plain": [
       "      features  VIF Factor\n",
       "0       carbuy    1.005831\n",
       "1   birthmonth    1.006355\n",
       "2    polview_4    1.010758\n",
       "3  commutetime    1.014764\n",
       "4     gender_1    1.018905"
      ]
     },
     "execution_count": 67,
     "metadata": {},
     "output_type": "execute_result"
    }
   ],
   "source": [
    "y, X = dmatrices('total_spent_ln~ '+features_string,rf_df, return_type='dataframe')\n",
    "\n",
    "# For each X, calculate VIF and save in the dataframe\n",
    "vif = pd.DataFrame()\n",
    "vif[\"features\"] = X.columns\n",
    "vif[\"VIF Factor\"] = [variance_inflation_factor(X.values, i) for i in range(X.shape[1])]\n",
    "\n",
    "vif.sort_values(by=['VIF Factor']).reset_index(drop=True).head()"
   ]
  },
  {
   "cell_type": "code",
   "execution_count": 69,
   "metadata": {},
   "outputs": [
    {
     "name": "stdout",
     "output_type": "stream",
     "text": [
      ">> Variables having VIF more than given thresold (>9.9):\n"
     ]
    },
    {
     "data": {
      "text/plain": [
       "['pets', 'card2tenure', 'cardtenure', 'pets_freshfish']"
      ]
     },
     "execution_count": 69,
     "metadata": {},
     "output_type": "execute_result"
    }
   ],
   "source": [
    "thresold_vif=9.9\n",
    "print(f\">> Variables having VIF more than given thresold (>{thresold_vif}):\")\n",
    "\n",
    "drop_vars= vif[vif['VIF Factor']>thresold_vif].features\t.tolist()\n",
    "drop_vars.remove('Intercept')\n",
    "drop_vars"
   ]
  },
  {
   "cell_type": "code",
   "execution_count": 70,
   "metadata": {},
   "outputs": [
    {
     "data": {
      "text/plain": [
       "(5000, 41)"
      ]
     },
     "execution_count": 70,
     "metadata": {},
     "output_type": "execute_result"
    }
   ],
   "source": [
    "rf_df.shape"
   ]
  },
  {
   "cell_type": "code",
   "execution_count": 71,
   "metadata": {},
   "outputs": [
    {
     "name": "stderr",
     "output_type": "stream",
     "text": [
      "C:\\ProgramData\\Anaconda3\\lib\\site-packages\\pandas\\core\\frame.py:3940: SettingWithCopyWarning: \n",
      "A value is trying to be set on a copy of a slice from a DataFrame\n",
      "\n",
      "See the caveats in the documentation: http://pandas.pydata.org/pandas-docs/stable/indexing.html#indexing-view-versus-copy\n",
      "  errors=errors)\n"
     ]
    },
    {
     "data": {
      "text/plain": [
       "(5000, 37)"
      ]
     },
     "execution_count": 71,
     "metadata": {},
     "output_type": "execute_result"
    }
   ],
   "source": [
    "rf_df.drop(drop_vars,axis=1,inplace=True)\n",
    "rf_df.shape"
   ]
  },
  {
   "cell_type": "code",
   "execution_count": 81,
   "metadata": {},
   "outputs": [],
   "source": [
    "# selected variables \n",
    "#print(\">> List of selected variables: \\n\\n\",list(rf_df.columns))"
   ]
  },
  {
   "cell_type": "code",
   "execution_count": 93,
   "metadata": {},
   "outputs": [
    {
     "data": {
      "text/plain": [
       "Index(['age', 'agecat_5', 'card2_2', 'card2_3', 'card_2', 'card_3', 'card_4',\n",
       "       'card_5', 'cartype_0', 'ed', 'equipten', 'gender_1', 'jobcat', 'lninc',\n",
       "       'polview_4', 'reason_2'],\n",
       "      dtype='object')"
      ]
     },
     "execution_count": 93,
     "metadata": {},
     "output_type": "execute_result"
    }
   ],
   "source": [
    "feature_columns=rf_df.columns.difference(['total_spent_ln', 'pets_cats', 'reside', 'cardbenefit_3', 'pets_dogs','cardten',\n",
    "                                           'lnothdebt', 'wireten', 'commute', 'birthmonth' , 'commutetime', 'debtinc',\n",
    "                                          'hourstv', 'lnlongmon', 'longmon', 'tollten' , 'carvalue', 'employ', 'carbuy',\n",
    "                                          'address','cardmon', 'internet_4', 'lncreddebt'\n",
    "                                         ])\n",
    "feature_columns"
   ]
  },
  {
   "cell_type": "code",
   "execution_count": 92,
   "metadata": {},
   "outputs": [
    {
     "name": "stdout",
     "output_type": "stream",
     "text": [
      "lncreddebt,lnothdebt,carvalue,debtinc,commutetime,hourstv,cardmon,birthmonth,cardten,employ,lnlongmon,longmon,address,tollten,commute,wireten,reside,pets_cats,pets_dogs,carbuy,total_spent_ln,"
     ]
    }
   ],
   "source": [
    "for x in rf_df.columns:\n",
    "    if x not in feature_columns: print(x,end=\",\")"
   ]
  },
  {
   "cell_type": "markdown",
   "metadata": {},
   "source": [
    "# Linear Regression"
   ]
  },
  {
   "cell_type": "code",
   "execution_count": 94,
   "metadata": {},
   "outputs": [],
   "source": [
    "train_X,test_X,train_y,test_y=train_test_split(rf_df[feature_columns],\n",
    "                                              rf_df['total_spent_ln'],\n",
    "                                               test_size=.25,\n",
    "                                               random_state=123)"
   ]
  },
  {
   "cell_type": "code",
   "execution_count": 95,
   "metadata": {},
   "outputs": [
    {
     "name": "stderr",
     "output_type": "stream",
     "text": [
      "C:\\Users\\user\\AppData\\Roaming\\Python\\Python37\\site-packages\\numpy\\core\\fromnumeric.py:2580: FutureWarning: Method .ptp is deprecated and will be removed in a future version. Use numpy.ptp instead.\n",
      "  return ptp(axis=axis, out=out, **kwargs)\n"
     ]
    }
   ],
   "source": [
    "train_X = sm.add_constant(train_X)\n",
    "test_X=sm.add_constant(test_X)\n",
    "lm=sm.OLS(train_y,train_X).fit()"
   ]
  },
  {
   "cell_type": "code",
   "execution_count": 96,
   "metadata": {},
   "outputs": [
    {
     "name": "stdout",
     "output_type": "stream",
     "text": [
      "                            OLS Regression Results                            \n",
      "==============================================================================\n",
      "Dep. Variable:         total_spent_ln   R-squared:                       0.316\n",
      "Model:                            OLS   Adj. R-squared:                  0.313\n",
      "Method:                 Least Squares   F-statistic:                     107.8\n",
      "Date:                Wed, 19 Aug 2020   Prob (F-statistic):          5.76e-293\n",
      "Time:                        14:07:31   Log-Likelihood:                -3016.1\n",
      "No. Observations:                3750   AIC:                             6066.\n",
      "Df Residuals:                    3733   BIC:                             6172.\n",
      "Df Model:                          16                                         \n",
      "Covariance Type:            nonrobust                                         \n",
      "==============================================================================\n",
      "                 coef    std err          t      P>|t|      [0.025      0.975]\n",
      "------------------------------------------------------------------------------\n",
      "const          5.4355      0.075     72.948      0.000       5.289       5.582\n",
      "age           -0.0019      0.001     -3.655      0.000      -0.003      -0.001\n",
      "agecat_5      -0.0179      0.023     -0.775      0.439      -0.063       0.027\n",
      "card2_2       -0.1612      0.023     -7.036      0.000      -0.206      -0.116\n",
      "card2_3       -0.1490      0.023     -6.584      0.000      -0.193      -0.105\n",
      "card_2        -0.5014      0.028    -17.678      0.000      -0.557      -0.446\n",
      "card_3        -0.5092      0.028    -18.023      0.000      -0.565      -0.454\n",
      "card_4        -0.5226      0.027    -19.434      0.000      -0.575      -0.470\n",
      "card_5        -0.4103      0.047     -8.643      0.000      -0.503      -0.317\n",
      "cartype_0     -0.0100      0.018     -0.563      0.574      -0.045       0.025\n",
      "ed            -0.0095      0.003     -3.049      0.002      -0.016      -0.003\n",
      "equipten    2.391e-05   1.08e-05      2.206      0.027    2.66e-06    4.52e-05\n",
      "gender_1      -0.0646      0.018     -3.629      0.000      -0.099      -0.030\n",
      "jobcat        -0.0162      0.005     -3.140      0.002      -0.026      -0.006\n",
      "lninc          0.3638      0.013     27.205      0.000       0.338       0.390\n",
      "polview_4     -0.0163      0.019     -0.870      0.385      -0.053       0.020\n",
      "reason_2       0.2929      0.036      8.116      0.000       0.222       0.364\n",
      "==============================================================================\n",
      "Omnibus:                       76.620   Durbin-Watson:                   1.973\n",
      "Prob(Omnibus):                  0.000   Jarque-Bera (JB):               81.289\n",
      "Skew:                          -0.345   Prob(JB):                     2.23e-18\n",
      "Kurtosis:                       3.212   Cond. No.                     8.88e+03\n",
      "==============================================================================\n",
      "\n",
      "Warnings:\n",
      "[1] Standard Errors assume that the covariance matrix of the errors is correctly specified.\n",
      "[2] The condition number is large, 8.88e+03. This might indicate that there are\n",
      "strong multicollinearity or other numerical problems.\n"
     ]
    }
   ],
   "source": [
    "print(lm.summary())"
   ]
  },
  {
   "cell_type": "code",
   "execution_count": 261,
   "metadata": {},
   "outputs": [],
   "source": [
    "#f=open('model Summary.csv','w')\n",
    "#f.write(lm.summary().as_csv())\n",
    "#f.write(lm.summary().as_latex())\n",
    "#f.close()"
   ]
  },
  {
   "cell_type": "code",
   "execution_count": 97,
   "metadata": {},
   "outputs": [
    {
     "data": {
      "text/plain": [
       "cartype_0     5.736533e-01\n",
       "agecat_5      4.386001e-01\n",
       "polview_4     3.845723e-01\n",
       "equipten      2.747512e-02\n",
       "ed            2.314471e-03\n",
       "jobcat        1.700924e-03\n",
       "gender_1      2.888036e-04\n",
       "age           2.604538e-04\n",
       "card2_3       5.212900e-11\n",
       "card2_2       2.338873e-12\n",
       "reason_2      6.480719e-16\n",
       "card_5        8.019036e-18\n",
       "card_2        3.186995e-67\n",
       "card_3        1.073073e-69\n",
       "card_4        3.240503e-80\n",
       "lninc        7.827903e-149\n",
       "const         0.000000e+00\n",
       "dtype: float64"
      ]
     },
     "execution_count": 97,
     "metadata": {},
     "output_type": "execute_result"
    }
   ],
   "source": [
    "lm.pvalues.sort_values(ascending=False)"
   ]
  },
  {
   "cell_type": "code",
   "execution_count": 98,
   "metadata": {},
   "outputs": [
    {
     "name": "stdout",
     "output_type": "stream",
     "text": [
      "Parameters: const        5.435531\n",
      "age         -0.001941\n",
      "agecat_5    -0.017871\n",
      "card2_2     -0.161165\n",
      "card2_3     -0.148989\n",
      "card_2      -0.501448\n",
      "card_3      -0.509170\n",
      "card_4      -0.522569\n",
      "card_5      -0.410294\n",
      "cartype_0   -0.010016\n",
      "ed          -0.009469\n",
      "equipten     0.000024\n",
      "gender_1    -0.064571\n",
      "jobcat      -0.016175\n",
      "lninc        0.363768\n",
      "polview_4   -0.016256\n",
      "reason_2     0.292910\n",
      "dtype: float64\n",
      "R2:  0.3160632716284155\n"
     ]
    }
   ],
   "source": [
    "print('Parameters:', lm.params) \n",
    "print('R2: ', lm.rsquared)"
   ]
  },
  {
   "cell_type": "code",
   "execution_count": 101,
   "metadata": {},
   "outputs": [
    {
     "name": "stdout",
     "output_type": "stream",
     "text": [
      ">> MSE: \n",
      "Test = 0.2755, Train = 0.2925\n",
      "\n",
      ">> MAE: 0.4122626202154761\n",
      "\n",
      ">> RMSE: 0.5248575062333081\n"
     ]
    }
   ],
   "source": [
    "test_pred=lm.predict(test_X)\n",
    "train_pred=lm.predict(train_X)\n",
    "\n",
    "print('>> MSE: \\nTest = {}, Train = {}'.format(round(metrics.mean_squared_error(test_y,test_pred),4),\n",
    "                                       round(metrics.mean_squared_error(train_y,train_pred),4)\n",
    "                                      ))\n",
    "\n",
    "print ('\\n>> MAE:', metrics.mean_absolute_error(test_y, test_pred))\n",
    "print ('\\n>> RMSE:', np.sqrt(metrics.mean_squared_error(test_y, test_pred)))"
   ]
  },
  {
   "cell_type": "markdown",
   "metadata": {},
   "source": [
    "### Plotting Residuals"
   ]
  },
  {
   "cell_type": "code",
   "execution_count": 102,
   "metadata": {},
   "outputs": [
    {
     "data": {
      "image/png": "[encoded data removed]",
      "text/plain": [
       "<Figure size 432x288 with 1 Axes>"
      ]
     },
     "metadata": {},
     "output_type": "display_data"
    }
   ],
   "source": [
    "residuals=train_y-train_pred\n",
    "sns.distplot(residuals);"
   ]
  },
  {
   "cell_type": "code",
   "execution_count": 103,
   "metadata": {},
   "outputs": [
    {
     "name": "stderr",
     "output_type": "stream",
     "text": [
      "C:\\Users\\user\\AppData\\Roaming\\Python\\Python37\\site-packages\\numpy\\core\\fromnumeric.py:2580: FutureWarning: Method .ptp is deprecated and will be removed in a future version. Use numpy.ptp instead.\n",
      "  return ptp(axis=axis, out=out, **kwargs)\n"
     ]
    },
    {
     "data": {
      "text/html": [
       "<div>\n",
       "<style scoped>\n",
       "    .dataframe tbody tr th:only-of-type {\n",
       "        vertical-align: middle;\n",
       "    }\n",
       "\n",
       "    .dataframe tbody tr th {\n",
       "        vertical-align: top;\n",
       "    }\n",
       "\n",
       "    .dataframe thead th {\n",
       "        text-align: right;\n",
       "    }\n",
       "</style>\n",
       "<table border=\"1\" class=\"dataframe\">\n",
       "  <thead>\n",
       "    <tr style=\"text-align: right;\">\n",
       "      <th></th>\n",
       "      <th>const</th>\n",
       "      <th>age</th>\n",
       "      <th>agecat_5</th>\n",
       "      <th>card2_2</th>\n",
       "      <th>card2_3</th>\n",
       "      <th>card_2</th>\n",
       "      <th>card_3</th>\n",
       "      <th>card_4</th>\n",
       "      <th>card_5</th>\n",
       "      <th>cartype_0</th>\n",
       "      <th>ed</th>\n",
       "      <th>equipten</th>\n",
       "      <th>gender_1</th>\n",
       "      <th>jobcat</th>\n",
       "      <th>lninc</th>\n",
       "      <th>polview_4</th>\n",
       "      <th>reason_2</th>\n",
       "    </tr>\n",
       "  </thead>\n",
       "  <tbody>\n",
       "    <tr>\n",
       "      <th>0</th>\n",
       "      <td>1.0</td>\n",
       "      <td>20</td>\n",
       "      <td>0</td>\n",
       "      <td>0</td>\n",
       "      <td>0</td>\n",
       "      <td>0</td>\n",
       "      <td>1</td>\n",
       "      <td>0</td>\n",
       "      <td>0</td>\n",
       "      <td>1</td>\n",
       "      <td>15</td>\n",
       "      <td>126.1</td>\n",
       "      <td>1</td>\n",
       "      <td>1</td>\n",
       "      <td>3.433987</td>\n",
       "      <td>0</td>\n",
       "      <td>0</td>\n",
       "    </tr>\n",
       "    <tr>\n",
       "      <th>1</th>\n",
       "      <td>1.0</td>\n",
       "      <td>22</td>\n",
       "      <td>0</td>\n",
       "      <td>0</td>\n",
       "      <td>0</td>\n",
       "      <td>1</td>\n",
       "      <td>0</td>\n",
       "      <td>0</td>\n",
       "      <td>0</td>\n",
       "      <td>0</td>\n",
       "      <td>17</td>\n",
       "      <td>1975.0</td>\n",
       "      <td>0</td>\n",
       "      <td>2</td>\n",
       "      <td>2.708050</td>\n",
       "      <td>1</td>\n",
       "      <td>0</td>\n",
       "    </tr>\n",
       "    <tr>\n",
       "      <th>2</th>\n",
       "      <td>1.0</td>\n",
       "      <td>67</td>\n",
       "      <td>0</td>\n",
       "      <td>0</td>\n",
       "      <td>0</td>\n",
       "      <td>1</td>\n",
       "      <td>0</td>\n",
       "      <td>0</td>\n",
       "      <td>0</td>\n",
       "      <td>0</td>\n",
       "      <td>14</td>\n",
       "      <td>0.0</td>\n",
       "      <td>1</td>\n",
       "      <td>2</td>\n",
       "      <td>3.555348</td>\n",
       "      <td>0</td>\n",
       "      <td>1</td>\n",
       "    </tr>\n",
       "    <tr>\n",
       "      <th>3</th>\n",
       "      <td>1.0</td>\n",
       "      <td>23</td>\n",
       "      <td>0</td>\n",
       "      <td>0</td>\n",
       "      <td>1</td>\n",
       "      <td>1</td>\n",
       "      <td>0</td>\n",
       "      <td>0</td>\n",
       "      <td>0</td>\n",
       "      <td>0</td>\n",
       "      <td>16</td>\n",
       "      <td>0.0</td>\n",
       "      <td>0</td>\n",
       "      <td>2</td>\n",
       "      <td>2.995732</td>\n",
       "      <td>0</td>\n",
       "      <td>0</td>\n",
       "    </tr>\n",
       "    <tr>\n",
       "      <th>4</th>\n",
       "      <td>1.0</td>\n",
       "      <td>26</td>\n",
       "      <td>0</td>\n",
       "      <td>0</td>\n",
       "      <td>0</td>\n",
       "      <td>0</td>\n",
       "      <td>0</td>\n",
       "      <td>1</td>\n",
       "      <td>0</td>\n",
       "      <td>0</td>\n",
       "      <td>16</td>\n",
       "      <td>0.0</td>\n",
       "      <td>0</td>\n",
       "      <td>2</td>\n",
       "      <td>3.135494</td>\n",
       "      <td>1</td>\n",
       "      <td>0</td>\n",
       "    </tr>\n",
       "  </tbody>\n",
       "</table>\n",
       "</div>"
      ],
      "text/plain": [
       "   const  age  agecat_5  card2_2  card2_3  card_2  card_3  card_4  card_5  \\\n",
       "0    1.0   20         0        0        0       0       1       0       0   \n",
       "1    1.0   22         0        0        0       1       0       0       0   \n",
       "2    1.0   67         0        0        0       1       0       0       0   \n",
       "3    1.0   23         0        0        1       1       0       0       0   \n",
       "4    1.0   26         0        0        0       0       0       1       0   \n",
       "\n",
       "   cartype_0  ed  equipten  gender_1  jobcat     lninc  polview_4  reason_2  \n",
       "0          1  15     126.1         1       1  3.433987          0         0  \n",
       "1          0  17    1975.0         0       2  2.708050          1         0  \n",
       "2          0  14       0.0         1       2  3.555348          0         1  \n",
       "3          0  16       0.0         0       2  2.995732          0         0  \n",
       "4          0  16       0.0         0       2  3.135494          1         0  "
      ]
     },
     "execution_count": 103,
     "metadata": {},
     "output_type": "execute_result"
    }
   ],
   "source": [
    "rf_df=rf_df[feature_columns]\n",
    "rf_df=sm.add_constant(rf_df)\n",
    "rf_df.head()"
   ]
  },
  {
   "cell_type": "markdown",
   "metadata": {},
   "source": [
    "<div style=\"background-color:#DAF7A6;font-size: 200%\"><strong><br>\n",
    "   Final Prediction  \n",
    "<br><br></strong></div>"
   ]
  },
  {
   "cell_type": "code",
   "execution_count": 112,
   "metadata": {},
   "outputs": [
    {
     "data": {
      "text/html": [
       "<div>\n",
       "<style scoped>\n",
       "    .dataframe tbody tr th:only-of-type {\n",
       "        vertical-align: middle;\n",
       "    }\n",
       "\n",
       "    .dataframe tbody tr th {\n",
       "        vertical-align: top;\n",
       "    }\n",
       "\n",
       "    .dataframe thead th {\n",
       "        text-align: right;\n",
       "    }\n",
       "</style>\n",
       "<table border=\"1\" class=\"dataframe\">\n",
       "  <thead>\n",
       "    <tr style=\"text-align: right;\">\n",
       "      <th></th>\n",
       "      <th>pred_tot_spend</th>\n",
       "    </tr>\n",
       "  </thead>\n",
       "  <tbody>\n",
       "    <tr>\n",
       "      <th>0</th>\n",
       "      <td>367.576364</td>\n",
       "    </tr>\n",
       "    <tr>\n",
       "      <th>1</th>\n",
       "      <td>303.119819</td>\n",
       "    </tr>\n",
       "    <tr>\n",
       "      <th>2</th>\n",
       "      <td>473.794845</td>\n",
       "    </tr>\n",
       "    <tr>\n",
       "      <th>3</th>\n",
       "      <td>283.254502</td>\n",
       "    </tr>\n",
       "    <tr>\n",
       "      <th>4</th>\n",
       "      <td>331.283986</td>\n",
       "    </tr>\n",
       "  </tbody>\n",
       "</table>\n",
       "</div>"
      ],
      "text/plain": [
       "   pred_tot_spend\n",
       "0      367.576364\n",
       "1      303.119819\n",
       "2      473.794845\n",
       "3      283.254502\n",
       "4      331.283986"
      ]
     },
     "execution_count": 112,
     "metadata": {},
     "output_type": "execute_result"
    }
   ],
   "source": [
    "pred_total_spend= pd.DataFrame(np.exp(lm.predict(rf_df)), columns= {\"pred_tot_spend\": 0})\n",
    "pred_total_spend.head()"
   ]
  },
  {
   "cell_type": "code",
   "execution_count": 113,
   "metadata": {},
   "outputs": [],
   "source": [
    "credit_original=pd.read_excel('Data Set.xlsx')"
   ]
  },
  {
   "cell_type": "code",
   "execution_count": 114,
   "metadata": {},
   "outputs": [
    {
     "data": {
      "text/html": [
       "<div>\n",
       "<style scoped>\n",
       "    .dataframe tbody tr th:only-of-type {\n",
       "        vertical-align: middle;\n",
       "    }\n",
       "\n",
       "    .dataframe tbody tr th {\n",
       "        vertical-align: top;\n",
       "    }\n",
       "\n",
       "    .dataframe thead th {\n",
       "        text-align: right;\n",
       "    }\n",
       "</style>\n",
       "<table border=\"1\" class=\"dataframe\">\n",
       "  <thead>\n",
       "    <tr style=\"text-align: right;\">\n",
       "      <th></th>\n",
       "      <th>custid</th>\n",
       "      <th>region</th>\n",
       "      <th>townsize</th>\n",
       "      <th>gender</th>\n",
       "      <th>age</th>\n",
       "      <th>agecat</th>\n",
       "      <th>birthmonth</th>\n",
       "      <th>ed</th>\n",
       "      <th>edcat</th>\n",
       "      <th>jobcat</th>\n",
       "      <th>...</th>\n",
       "      <th>ownpda</th>\n",
       "      <th>ownpc</th>\n",
       "      <th>ownipod</th>\n",
       "      <th>owngame</th>\n",
       "      <th>ownfax</th>\n",
       "      <th>news</th>\n",
       "      <th>response_01</th>\n",
       "      <th>response_02</th>\n",
       "      <th>response_03</th>\n",
       "      <th>pred_tot_spend</th>\n",
       "    </tr>\n",
       "  </thead>\n",
       "  <tbody>\n",
       "    <tr>\n",
       "      <th>0</th>\n",
       "      <td>3964-QJWTRG-NPN</td>\n",
       "      <td>1</td>\n",
       "      <td>2.0</td>\n",
       "      <td>1</td>\n",
       "      <td>20</td>\n",
       "      <td>2</td>\n",
       "      <td>September</td>\n",
       "      <td>15</td>\n",
       "      <td>3</td>\n",
       "      <td>1</td>\n",
       "      <td>...</td>\n",
       "      <td>0</td>\n",
       "      <td>0</td>\n",
       "      <td>1</td>\n",
       "      <td>1</td>\n",
       "      <td>0</td>\n",
       "      <td>0</td>\n",
       "      <td>0</td>\n",
       "      <td>1</td>\n",
       "      <td>0</td>\n",
       "      <td>367.576364</td>\n",
       "    </tr>\n",
       "    <tr>\n",
       "      <th>1</th>\n",
       "      <td>0648-AIPJSP-UVM</td>\n",
       "      <td>5</td>\n",
       "      <td>5.0</td>\n",
       "      <td>0</td>\n",
       "      <td>22</td>\n",
       "      <td>2</td>\n",
       "      <td>May</td>\n",
       "      <td>17</td>\n",
       "      <td>4</td>\n",
       "      <td>2</td>\n",
       "      <td>...</td>\n",
       "      <td>1</td>\n",
       "      <td>1</td>\n",
       "      <td>1</td>\n",
       "      <td>1</td>\n",
       "      <td>1</td>\n",
       "      <td>1</td>\n",
       "      <td>0</td>\n",
       "      <td>0</td>\n",
       "      <td>0</td>\n",
       "      <td>303.119819</td>\n",
       "    </tr>\n",
       "    <tr>\n",
       "      <th>2</th>\n",
       "      <td>5195-TLUDJE-HVO</td>\n",
       "      <td>3</td>\n",
       "      <td>4.0</td>\n",
       "      <td>1</td>\n",
       "      <td>67</td>\n",
       "      <td>6</td>\n",
       "      <td>June</td>\n",
       "      <td>14</td>\n",
       "      <td>2</td>\n",
       "      <td>2</td>\n",
       "      <td>...</td>\n",
       "      <td>0</td>\n",
       "      <td>0</td>\n",
       "      <td>0</td>\n",
       "      <td>0</td>\n",
       "      <td>0</td>\n",
       "      <td>1</td>\n",
       "      <td>0</td>\n",
       "      <td>0</td>\n",
       "      <td>0</td>\n",
       "      <td>473.794845</td>\n",
       "    </tr>\n",
       "    <tr>\n",
       "      <th>3</th>\n",
       "      <td>4459-VLPQUH-3OL</td>\n",
       "      <td>4</td>\n",
       "      <td>3.0</td>\n",
       "      <td>0</td>\n",
       "      <td>23</td>\n",
       "      <td>2</td>\n",
       "      <td>May</td>\n",
       "      <td>16</td>\n",
       "      <td>3</td>\n",
       "      <td>2</td>\n",
       "      <td>...</td>\n",
       "      <td>0</td>\n",
       "      <td>1</td>\n",
       "      <td>1</td>\n",
       "      <td>1</td>\n",
       "      <td>0</td>\n",
       "      <td>1</td>\n",
       "      <td>1</td>\n",
       "      <td>0</td>\n",
       "      <td>0</td>\n",
       "      <td>283.254502</td>\n",
       "    </tr>\n",
       "    <tr>\n",
       "      <th>4</th>\n",
       "      <td>8158-SMTQFB-CNO</td>\n",
       "      <td>2</td>\n",
       "      <td>2.0</td>\n",
       "      <td>0</td>\n",
       "      <td>26</td>\n",
       "      <td>3</td>\n",
       "      <td>July</td>\n",
       "      <td>16</td>\n",
       "      <td>3</td>\n",
       "      <td>2</td>\n",
       "      <td>...</td>\n",
       "      <td>0</td>\n",
       "      <td>1</td>\n",
       "      <td>0</td>\n",
       "      <td>1</td>\n",
       "      <td>0</td>\n",
       "      <td>0</td>\n",
       "      <td>0</td>\n",
       "      <td>1</td>\n",
       "      <td>0</td>\n",
       "      <td>331.283986</td>\n",
       "    </tr>\n",
       "  </tbody>\n",
       "</table>\n",
       "<p>5 rows × 131 columns</p>\n",
       "</div>"
      ],
      "text/plain": [
       "            custid  region  townsize  gender  age  agecat birthmonth  ed  \\\n",
       "0  3964-QJWTRG-NPN       1       2.0       1   20       2  September  15   \n",
       "1  0648-AIPJSP-UVM       5       5.0       0   22       2        May  17   \n",
       "2  5195-TLUDJE-HVO       3       4.0       1   67       6       June  14   \n",
       "3  4459-VLPQUH-3OL       4       3.0       0   23       2        May  16   \n",
       "4  8158-SMTQFB-CNO       2       2.0       0   26       3       July  16   \n",
       "\n",
       "   edcat  jobcat  ...  ownpda  ownpc  ownipod  owngame  ownfax  news  \\\n",
       "0      3       1  ...       0      0        1        1       0     0   \n",
       "1      4       2  ...       1      1        1        1       1     1   \n",
       "2      2       2  ...       0      0        0        0       0     1   \n",
       "3      3       2  ...       0      1        1        1       0     1   \n",
       "4      3       2  ...       0      1        0        1       0     0   \n",
       "\n",
       "   response_01  response_02  response_03  pred_tot_spend  \n",
       "0            0            1            0      367.576364  \n",
       "1            0            0            0      303.119819  \n",
       "2            0            0            0      473.794845  \n",
       "3            1            0            0      283.254502  \n",
       "4            0            1            0      331.283986  \n",
       "\n",
       "[5 rows x 131 columns]"
      ]
     },
     "execution_count": 114,
     "metadata": {},
     "output_type": "execute_result"
    }
   ],
   "source": [
    "#Adding final prediction column to original test file\n",
    "Prediction_final = pd.concat([credit_original, pred_total_spend], axis=1)\n",
    "Prediction_final.head()"
   ]
  },
  {
   "cell_type": "code",
   "execution_count": 158,
   "metadata": {},
   "outputs": [],
   "source": [
    "#Submission.to_excel(writer, \"Predictions\", index=True)\n",
    "#Submission.to_csv(\"Predictions\")"
   ]
  },
  {
   "cell_type": "markdown",
   "metadata": {},
   "source": [
    "<div style=\"background-color:#9ACD32;text-align:center;font-size: 300%\"><strong><br>\n",
    "   Decile Analysis \n",
    "<br><br></strong></div>"
   ]
  },
  {
   "cell_type": "markdown",
   "metadata": {},
   "source": [
    "### Constructing train-test dataset for analysis"
   ]
  },
  {
   "cell_type": "code",
   "execution_count": 107,
   "metadata": {},
   "outputs": [],
   "source": [
    "#constructing train-dataset\n",
    "train=pd.concat([train_X,train_y],axis=1)\n",
    "train=sm.add_constant(train)\n",
    "train['pred_tot_spend'] = lm.predict(train_X)\n",
    "\n",
    "#constructing test-dataset\n",
    "test=pd.concat([test_X,test_y],axis=1)\n",
    "test=sm.add_constant(test)\n",
    "test['pred_tot_spend'] = lm.predict(test_X)"
   ]
  },
  {
   "cell_type": "markdown",
   "metadata": {},
   "source": [
    "### Creating 10 Groups in the data"
   ]
  },
  {
   "cell_type": "code",
   "execution_count": 108,
   "metadata": {},
   "outputs": [],
   "source": [
    "#train data\n",
    "train['Deciles'] = pd.qcut(train['pred_tot_spend'], 10, labels = False)\n",
    "#test data\n",
    "test['Deciles'] = pd.qcut(test['pred_tot_spend'], 10, labels = False)"
   ]
  },
  {
   "cell_type": "code",
   "execution_count": 109,
   "metadata": {},
   "outputs": [
    {
     "data": {
      "text/html": [
       "<div>\n",
       "<style scoped>\n",
       "    .dataframe tbody tr th:only-of-type {\n",
       "        vertical-align: middle;\n",
       "    }\n",
       "\n",
       "    .dataframe tbody tr th {\n",
       "        vertical-align: top;\n",
       "    }\n",
       "\n",
       "    .dataframe thead th {\n",
       "        text-align: right;\n",
       "    }\n",
       "</style>\n",
       "<table border=\"1\" class=\"dataframe\">\n",
       "  <thead>\n",
       "    <tr style=\"text-align: right;\">\n",
       "      <th></th>\n",
       "      <th>const</th>\n",
       "      <th>age</th>\n",
       "      <th>agecat_5</th>\n",
       "      <th>card2_2</th>\n",
       "      <th>card2_3</th>\n",
       "      <th>card_2</th>\n",
       "      <th>card_3</th>\n",
       "      <th>card_4</th>\n",
       "      <th>card_5</th>\n",
       "      <th>cartype_0</th>\n",
       "      <th>ed</th>\n",
       "      <th>equipten</th>\n",
       "      <th>gender_1</th>\n",
       "      <th>jobcat</th>\n",
       "      <th>lninc</th>\n",
       "      <th>polview_4</th>\n",
       "      <th>reason_2</th>\n",
       "      <th>total_spent_ln</th>\n",
       "      <th>pred_tot_spend</th>\n",
       "      <th>Deciles</th>\n",
       "    </tr>\n",
       "  </thead>\n",
       "  <tbody>\n",
       "    <tr>\n",
       "      <th>2413</th>\n",
       "      <td>1.0</td>\n",
       "      <td>20</td>\n",
       "      <td>0</td>\n",
       "      <td>0</td>\n",
       "      <td>0</td>\n",
       "      <td>0</td>\n",
       "      <td>0</td>\n",
       "      <td>0</td>\n",
       "      <td>0</td>\n",
       "      <td>0</td>\n",
       "      <td>12</td>\n",
       "      <td>0.00</td>\n",
       "      <td>1</td>\n",
       "      <td>5</td>\n",
       "      <td>2.995732</td>\n",
       "      <td>1</td>\n",
       "      <td>0</td>\n",
       "      <td>6.439382</td>\n",
       "      <td>6.211131</td>\n",
       "      <td>7</td>\n",
       "    </tr>\n",
       "    <tr>\n",
       "      <th>1471</th>\n",
       "      <td>1.0</td>\n",
       "      <td>61</td>\n",
       "      <td>1</td>\n",
       "      <td>0</td>\n",
       "      <td>0</td>\n",
       "      <td>0</td>\n",
       "      <td>0</td>\n",
       "      <td>1</td>\n",
       "      <td>0</td>\n",
       "      <td>0</td>\n",
       "      <td>15</td>\n",
       "      <td>0.00</td>\n",
       "      <td>1</td>\n",
       "      <td>1</td>\n",
       "      <td>3.828641</td>\n",
       "      <td>0</td>\n",
       "      <td>0</td>\n",
       "      <td>5.545256</td>\n",
       "      <td>5.946640</td>\n",
       "      <td>4</td>\n",
       "    </tr>\n",
       "    <tr>\n",
       "      <th>1196</th>\n",
       "      <td>1.0</td>\n",
       "      <td>66</td>\n",
       "      <td>0</td>\n",
       "      <td>0</td>\n",
       "      <td>1</td>\n",
       "      <td>0</td>\n",
       "      <td>0</td>\n",
       "      <td>1</td>\n",
       "      <td>0</td>\n",
       "      <td>1</td>\n",
       "      <td>20</td>\n",
       "      <td>849.05</td>\n",
       "      <td>0</td>\n",
       "      <td>3</td>\n",
       "      <td>2.564949</td>\n",
       "      <td>1</td>\n",
       "      <td>0</td>\n",
       "      <td>5.371800</td>\n",
       "      <td>5.325033</td>\n",
       "      <td>0</td>\n",
       "    </tr>\n",
       "    <tr>\n",
       "      <th>1509</th>\n",
       "      <td>1.0</td>\n",
       "      <td>23</td>\n",
       "      <td>0</td>\n",
       "      <td>1</td>\n",
       "      <td>0</td>\n",
       "      <td>0</td>\n",
       "      <td>0</td>\n",
       "      <td>0</td>\n",
       "      <td>0</td>\n",
       "      <td>0</td>\n",
       "      <td>12</td>\n",
       "      <td>0.00</td>\n",
       "      <td>0</td>\n",
       "      <td>6</td>\n",
       "      <td>3.332205</td>\n",
       "      <td>0</td>\n",
       "      <td>1</td>\n",
       "      <td>5.775669</td>\n",
       "      <td>6.524105</td>\n",
       "      <td>9</td>\n",
       "    </tr>\n",
       "    <tr>\n",
       "      <th>4110</th>\n",
       "      <td>1.0</td>\n",
       "      <td>47</td>\n",
       "      <td>0</td>\n",
       "      <td>0</td>\n",
       "      <td>1</td>\n",
       "      <td>1</td>\n",
       "      <td>0</td>\n",
       "      <td>0</td>\n",
       "      <td>0</td>\n",
       "      <td>0</td>\n",
       "      <td>9</td>\n",
       "      <td>689.60</td>\n",
       "      <td>0</td>\n",
       "      <td>1</td>\n",
       "      <td>3.496508</td>\n",
       "      <td>0</td>\n",
       "      <td>0</td>\n",
       "      <td>5.759312</td>\n",
       "      <td>5.880874</td>\n",
       "      <td>4</td>\n",
       "    </tr>\n",
       "  </tbody>\n",
       "</table>\n",
       "</div>"
      ],
      "text/plain": [
       "      const  age  agecat_5  card2_2  card2_3  card_2  card_3  card_4  card_5  \\\n",
       "2413    1.0   20         0        0        0       0       0       0       0   \n",
       "1471    1.0   61         1        0        0       0       0       1       0   \n",
       "1196    1.0   66         0        0        1       0       0       1       0   \n",
       "1509    1.0   23         0        1        0       0       0       0       0   \n",
       "4110    1.0   47         0        0        1       1       0       0       0   \n",
       "\n",
       "      cartype_0  ed  equipten  gender_1  jobcat     lninc  polview_4  \\\n",
       "2413          0  12      0.00         1       5  2.995732          1   \n",
       "1471          0  15      0.00         1       1  3.828641          0   \n",
       "1196          1  20    849.05         0       3  2.564949          1   \n",
       "1509          0  12      0.00         0       6  3.332205          0   \n",
       "4110          0   9    689.60         0       1  3.496508          0   \n",
       "\n",
       "      reason_2  total_spent_ln  pred_tot_spend  Deciles  \n",
       "2413         0        6.439382        6.211131        7  \n",
       "1471         0        5.545256        5.946640        4  \n",
       "1196         0        5.371800        5.325033        0  \n",
       "1509         1        5.775669        6.524105        9  \n",
       "4110         0        5.759312        5.880874        4  "
      ]
     },
     "execution_count": 109,
     "metadata": {},
     "output_type": "execute_result"
    }
   ],
   "source": [
    "train.head()"
   ]
  },
  {
   "cell_type": "markdown",
   "metadata": {},
   "source": [
    "### Decile Analysis"
   ]
  },
  {
   "cell_type": "code",
   "execution_count": 138,
   "metadata": {},
   "outputs": [
    {
     "data": {
      "text/html": [
       "<div>\n",
       "<style scoped>\n",
       "    .dataframe tbody tr th:only-of-type {\n",
       "        vertical-align: middle;\n",
       "    }\n",
       "\n",
       "    .dataframe tbody tr th {\n",
       "        vertical-align: top;\n",
       "    }\n",
       "\n",
       "    .dataframe thead th {\n",
       "        text-align: right;\n",
       "    }\n",
       "</style>\n",
       "<table border=\"1\" class=\"dataframe\">\n",
       "  <thead>\n",
       "    <tr style=\"text-align: right;\">\n",
       "      <th></th>\n",
       "      <th>Deciles</th>\n",
       "      <th>pred_tot_spend</th>\n",
       "      <th>total_spent_ln</th>\n",
       "    </tr>\n",
       "  </thead>\n",
       "  <tbody>\n",
       "    <tr>\n",
       "      <th>0</th>\n",
       "      <td>0</td>\n",
       "      <td>5.426379</td>\n",
       "      <td>5.375524</td>\n",
       "    </tr>\n",
       "    <tr>\n",
       "      <th>1</th>\n",
       "      <td>1</td>\n",
       "      <td>5.633925</td>\n",
       "      <td>5.694611</td>\n",
       "    </tr>\n",
       "    <tr>\n",
       "      <th>2</th>\n",
       "      <td>2</td>\n",
       "      <td>5.738301</td>\n",
       "      <td>5.743768</td>\n",
       "    </tr>\n",
       "    <tr>\n",
       "      <th>3</th>\n",
       "      <td>3</td>\n",
       "      <td>5.822125</td>\n",
       "      <td>5.761648</td>\n",
       "    </tr>\n",
       "    <tr>\n",
       "      <th>4</th>\n",
       "      <td>4</td>\n",
       "      <td>5.904113</td>\n",
       "      <td>5.940911</td>\n",
       "    </tr>\n",
       "    <tr>\n",
       "      <th>5</th>\n",
       "      <td>5</td>\n",
       "      <td>5.994937</td>\n",
       "      <td>6.027145</td>\n",
       "    </tr>\n",
       "    <tr>\n",
       "      <th>6</th>\n",
       "      <td>6</td>\n",
       "      <td>6.098949</td>\n",
       "      <td>6.084367</td>\n",
       "    </tr>\n",
       "    <tr>\n",
       "      <th>7</th>\n",
       "      <td>7</td>\n",
       "      <td>6.207741</td>\n",
       "      <td>6.195451</td>\n",
       "    </tr>\n",
       "    <tr>\n",
       "      <th>8</th>\n",
       "      <td>8</td>\n",
       "      <td>6.390550</td>\n",
       "      <td>6.424642</td>\n",
       "    </tr>\n",
       "    <tr>\n",
       "      <th>9</th>\n",
       "      <td>9</td>\n",
       "      <td>6.721554</td>\n",
       "      <td>6.690508</td>\n",
       "    </tr>\n",
       "  </tbody>\n",
       "</table>\n",
       "</div>"
      ],
      "text/plain": [
       "   Deciles  pred_tot_spend  total_spent_ln\n",
       "0        0        5.426379        5.375524\n",
       "1        1        5.633925        5.694611\n",
       "2        2        5.738301        5.743768\n",
       "3        3        5.822125        5.761648\n",
       "4        4        5.904113        5.940911\n",
       "5        5        5.994937        6.027145\n",
       "6        6        6.098949        6.084367\n",
       "7        7        6.207741        6.195451\n",
       "8        8        6.390550        6.424642\n",
       "9        9        6.721554        6.690508"
      ]
     },
     "execution_count": 138,
     "metadata": {},
     "output_type": "execute_result"
    }
   ],
   "source": [
    "# Decile Analysis for train data\n",
    "Predicted_avg = train[['Deciles', 'pred_tot_spend']].groupby(train.Deciles).mean()\\\n",
    "                                                    .sort_index(ascending = False)['pred_tot_spend']\n",
    "Actual_avg = train[['Deciles', 'total_spent_ln']].groupby(train.Deciles).mean()\\\n",
    "                                                .sort_index(ascending = False)['total_spent_ln']\n",
    "\n",
    "Decile_analysis_train= pd.concat([Predicted_avg, Actual_avg], axis = 1).sort_index().reset_index()\n",
    "Decile_analysis_train"
   ]
  },
  {
   "cell_type": "code",
   "execution_count": 140,
   "metadata": {},
   "outputs": [
    {
     "data": {
      "image/png": "[encoded data removed]",
      "text/plain": [
       "<Figure size 432x288 with 1 Axes>"
      ]
     },
     "metadata": {},
     "output_type": "display_data"
    }
   ],
   "source": [
    "sns.barplot(x='Deciles',y='pred_tot_spend',data=Decile_analysis_train,palette=\"Blues_d\");"
   ]
  },
  {
   "cell_type": "code",
   "execution_count": 145,
   "metadata": {},
   "outputs": [
    {
     "data": {
      "text/html": [
       "<div>\n",
       "<style scoped>\n",
       "    .dataframe tbody tr th:only-of-type {\n",
       "        vertical-align: middle;\n",
       "    }\n",
       "\n",
       "    .dataframe tbody tr th {\n",
       "        vertical-align: top;\n",
       "    }\n",
       "\n",
       "    .dataframe thead th {\n",
       "        text-align: right;\n",
       "    }\n",
       "</style>\n",
       "<table border=\"1\" class=\"dataframe\">\n",
       "  <thead>\n",
       "    <tr style=\"text-align: right;\">\n",
       "      <th></th>\n",
       "      <th>Deciles</th>\n",
       "      <th>pred_tot_spend</th>\n",
       "      <th>total_spent_ln</th>\n",
       "    </tr>\n",
       "  </thead>\n",
       "  <tbody>\n",
       "    <tr>\n",
       "      <th>0</th>\n",
       "      <td>0</td>\n",
       "      <td>5.451268</td>\n",
       "      <td>5.481640</td>\n",
       "    </tr>\n",
       "    <tr>\n",
       "      <th>1</th>\n",
       "      <td>1</td>\n",
       "      <td>5.662991</td>\n",
       "      <td>5.708967</td>\n",
       "    </tr>\n",
       "    <tr>\n",
       "      <th>2</th>\n",
       "      <td>2</td>\n",
       "      <td>5.771499</td>\n",
       "      <td>5.829127</td>\n",
       "    </tr>\n",
       "    <tr>\n",
       "      <th>3</th>\n",
       "      <td>3</td>\n",
       "      <td>5.861251</td>\n",
       "      <td>5.819028</td>\n",
       "    </tr>\n",
       "    <tr>\n",
       "      <th>4</th>\n",
       "      <td>4</td>\n",
       "      <td>5.957862</td>\n",
       "      <td>6.011981</td>\n",
       "    </tr>\n",
       "    <tr>\n",
       "      <th>5</th>\n",
       "      <td>5</td>\n",
       "      <td>6.050157</td>\n",
       "      <td>6.158676</td>\n",
       "    </tr>\n",
       "    <tr>\n",
       "      <th>6</th>\n",
       "      <td>6</td>\n",
       "      <td>6.144460</td>\n",
       "      <td>6.149650</td>\n",
       "    </tr>\n",
       "    <tr>\n",
       "      <th>7</th>\n",
       "      <td>7</td>\n",
       "      <td>6.250022</td>\n",
       "      <td>6.235630</td>\n",
       "    </tr>\n",
       "    <tr>\n",
       "      <th>8</th>\n",
       "      <td>8</td>\n",
       "      <td>6.399171</td>\n",
       "      <td>6.343932</td>\n",
       "    </tr>\n",
       "    <tr>\n",
       "      <th>9</th>\n",
       "      <td>9</td>\n",
       "      <td>6.699818</td>\n",
       "      <td>6.634714</td>\n",
       "    </tr>\n",
       "  </tbody>\n",
       "</table>\n",
       "</div>"
      ],
      "text/plain": [
       "   Deciles  pred_tot_spend  total_spent_ln\n",
       "0        0        5.451268        5.481640\n",
       "1        1        5.662991        5.708967\n",
       "2        2        5.771499        5.829127\n",
       "3        3        5.861251        5.819028\n",
       "4        4        5.957862        6.011981\n",
       "5        5        6.050157        6.158676\n",
       "6        6        6.144460        6.149650\n",
       "7        7        6.250022        6.235630\n",
       "8        8        6.399171        6.343932\n",
       "9        9        6.699818        6.634714"
      ]
     },
     "execution_count": 145,
     "metadata": {},
     "output_type": "execute_result"
    }
   ],
   "source": [
    "# Decile Analysis for test data\n",
    "Predicted_avg = test[['Deciles', 'pred_tot_spend']].groupby(test.Deciles).mean()\\\n",
    "                                                    .sort_index(ascending = False)['pred_tot_spend']\n",
    "Actual_avg = test[['Deciles', 'total_spent_ln']].groupby(test.Deciles).mean()\\\n",
    "                                                .sort_index(ascending = False)['total_spent_ln']\n",
    "\n",
    "Decile_analysis_test= pd.concat([Predicted_avg, Actual_avg], axis = 1).sort_index().reset_index()\n",
    "Decile_analysis_test"
   ]
  },
  {
   "cell_type": "code",
   "execution_count": 146,
   "metadata": {},
   "outputs": [
    {
     "data": {
      "image/png": "[encoded data removed]",
      "text/plain": [
       "<Figure size 432x288 with 1 Axes>"
      ]
     },
     "metadata": {},
     "output_type": "display_data"
    }
   ],
   "source": [
    "sns.barplot(x='Deciles',y='pred_tot_spend',data=Decile_analysis_test,palette=\"Blues_d\");"
   ]
  },
  {
   "cell_type": "code",
   "execution_count": null,
   "metadata": {},
   "outputs": [],
   "source": [
    "#Decile_analysis_train.to_csv('Decile_analysis_train')\n",
    "#Decile_analysis_train.to_excel(writer, 'Decile_train', index=True)\n",
    "\n",
    "#Decile_analysis_test.to_csv('Decile_analysis_test')\n",
    "#Decile_analysis_test.to_excel(writer,'Decile_analysis_test', index=True)"
   ]
  },
  {
   "cell_type": "code",
   "execution_count": 163,
   "metadata": {},
   "outputs": [],
   "source": [
    "#writer.save()"
   ]
  },
  {
   "cell_type": "markdown",
   "metadata": {},
   "source": [
    "<div style=\"background-color:#9ACD32;text-align:center;font-size: 250%\"><strong><br>\n",
    "   Key driving factors of credit card spend \n",
    "<br><br></strong></div>"
   ]
  },
  {
   "cell_type": "code",
   "execution_count": 121,
   "metadata": {},
   "outputs": [
    {
     "data": {
      "text/html": [
       "<div>\n",
       "<style scoped>\n",
       "    .dataframe tbody tr th:only-of-type {\n",
       "        vertical-align: middle;\n",
       "    }\n",
       "\n",
       "    .dataframe tbody tr th {\n",
       "        vertical-align: top;\n",
       "    }\n",
       "\n",
       "    .dataframe thead th {\n",
       "        text-align: right;\n",
       "    }\n",
       "</style>\n",
       "<table border=\"1\" class=\"dataframe\">\n",
       "  <thead>\n",
       "    <tr style=\"text-align: right;\">\n",
       "      <th></th>\n",
       "      <th>Coefficients</th>\n",
       "    </tr>\n",
       "  </thead>\n",
       "  <tbody>\n",
       "    <tr>\n",
       "      <th>lninc</th>\n",
       "      <td>0.199800</td>\n",
       "    </tr>\n",
       "    <tr>\n",
       "      <th>lncreddebt</th>\n",
       "      <td>0.031898</td>\n",
       "    </tr>\n",
       "    <tr>\n",
       "      <th>lnothdebt</th>\n",
       "      <td>0.028467</td>\n",
       "    </tr>\n",
       "    <tr>\n",
       "      <th>carvalue</th>\n",
       "      <td>0.026792</td>\n",
       "    </tr>\n",
       "    <tr>\n",
       "      <th>debtinc</th>\n",
       "      <td>0.024986</td>\n",
       "    </tr>\n",
       "  </tbody>\n",
       "</table>\n",
       "</div>"
      ],
      "text/plain": [
       "            Coefficients\n",
       "lninc           0.199800\n",
       "lncreddebt      0.031898\n",
       "lnothdebt       0.028467\n",
       "carvalue        0.026792\n",
       "debtinc         0.024986"
      ]
     },
     "execution_count": 121,
     "metadata": {},
     "output_type": "execute_result"
    }
   ],
   "source": [
    "ce.head()"
   ]
  },
  {
   "cell_type": "code",
   "execution_count": 122,
   "metadata": {},
   "outputs": [
    {
     "data": {
      "text/plain": [
       "(186, 1)"
      ]
     },
     "execution_count": 122,
     "metadata": {},
     "output_type": "execute_result"
    }
   ],
   "source": [
    "ce.shape"
   ]
  },
  {
   "cell_type": "code",
   "execution_count": 141,
   "metadata": {},
   "outputs": [],
   "source": [
    "key_df=ce.sort_values('Coefficients',ascending=False)\n",
    "#key_df.head(20).index"
   ]
  },
  {
   "cell_type": "markdown",
   "metadata": {},
   "source": [
    "## Finding top 20 Key driving factors"
   ]
  },
  {
   "cell_type": "code",
   "execution_count": 133,
   "metadata": {},
   "outputs": [
    {
     "data": {
      "text/plain": [
       "{'age',\n",
       " 'birthmonth',\n",
       " 'card',\n",
       " 'cardmon',\n",
       " 'cardten',\n",
       " 'carvalue',\n",
       " 'commutetime',\n",
       " 'debtinc',\n",
       " 'ed',\n",
       " 'employ',\n",
       " 'hourstv',\n",
       " 'lncreddebt',\n",
       " 'lninc',\n",
       " 'lnlongmon',\n",
       " 'lnothdebt',\n",
       " 'longmon',\n",
       " 'pets',\n",
       " 'reason'}"
      ]
     },
     "execution_count": 133,
     "metadata": {},
     "output_type": "execute_result"
    }
   ],
   "source": [
    "keys=set()\n",
    "for x in key_df.head(20).index:  \n",
    "    keys.add(x.split(\"_\")[0])\n",
    "\n",
    "keys"
   ]
  },
  {
   "cell_type": "code",
   "execution_count": null,
   "metadata": {},
   "outputs": [],
   "source": [
    "#n=5\n",
    "\n",
    "#ce.head(n).Coefficients.plot(kind='bar',figsize=(10,5))\n",
    "#plt.title('Top {} key-drivers for predicting Credit Card Spending of customers\\n'.format(n), fontsize=15);"
   ]
  }
 ],
 "metadata": {
  "kernelspec": {
   "display_name": "Python 3",
   "language": "python",
   "name": "python3"
  },
  "language_info": {
   "codemirror_mode": {
    "name": "ipython",
    "version": 3
   },
   "file_extension": ".py",
   "mimetype": "text/x-python",
   "name": "python",
   "nbconvert_exporter": "python",
   "pygments_lexer": "ipython3",
   "version": "3.7.3"
  }
 },
 "nbformat": 4,
 "nbformat_minor": 2
}
