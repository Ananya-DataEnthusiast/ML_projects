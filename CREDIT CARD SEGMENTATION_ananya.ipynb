{
 "cells": [
  {
   "cell_type": "markdown",
   "metadata": {},
   "source": [
    "<div style=\n",
    "\"background-image: url('https://imgk.timesnownews.com/story/1569653930-Credit_Card.jpg?tr=w-600,h-450,fo-auto');\n",
    "background-size: 100% 100%;\n",
    "font-size:300%;\">\n",
    "\n",
    "<strong><br><br><br><br><br><br><br><br><br><em>CREDIT  CARD  CUSTOMERS  SEGMENTATION</em><br><br></strong>\n",
    "</div>"
   ]
  },
  {
   "cell_type": "markdown",
   "metadata": {},
   "source": [
    "###  BUSINESS CONTEXT:\n",
    "  This case requires to develop a customer segmentation to define marketing strategy. \n",
    "  \n",
    "  The sample dataset summarizes the usage behavior of about 9000 active credit card holders during the last 6 months. \n",
    "  \n",
    "  The file is at a customer level with 18 behavioral variables. \n",
    "\n",
    "###  Data Availability\n",
    "The given dataset is in **.csv** format\n",
    "\n",
    "###  Problems need to address :\n",
    "\n",
    "**Data preparation:** To build an ‘enriched’ customer profile by deriving “intelligent” KPIs such as:\n",
    "* Monthly average purchase and cash advance amount\n",
    "* Purchases by type (one-off, installments)\n",
    "* Average amount per purchase and cash advance transaction,\n",
    "* Limit usage (balance to credit limit ratio),\n",
    "* Payments to minimum payments ratio etc.\n",
    "\n",
    "**Advanced reporting:** \n",
    "* to gain insight on the customer profiles using the derived KPIs \n",
    "* Identification of the relationships/ affinities between services.**\n",
    "* Applying  a data reduction technique factor analysis for variable reduction technique and a clustering algorithm to reveal the behavioural segments of credit card holders\n",
    "\n"
   ]
  },
  {
   "cell_type": "markdown",
   "metadata": {},
   "source": [
    "<div style=\"background-color:#9ACD32;text-align:center;font-size: 250%\"><strong><br>\n",
    " Importing Libraries\n",
    "<br><br></strong></div>\n"
   ]
  },
  {
   "cell_type": "code",
   "execution_count": 1,
   "metadata": {},
   "outputs": [],
   "source": [
    "import pandas as pd\n",
    "import numpy as np\n",
    "\n",
    "import matplotlib.pyplot as plt\n",
    "%matplotlib inline\n",
    "import seaborn as sns\n",
    "sns.set_style('whitegrid')\n",
    "\n",
    "import os\n",
    "# Ignore warnings\n",
    "import warnings\n",
    "warnings.filterwarnings('ignore')"
   ]
  },
  {
   "cell_type": "code",
   "execution_count": 60,
   "metadata": {},
   "outputs": [],
   "source": [
    "from datetime import datetime,timedelta\n",
    "from sklearn.preprocessing import  StandardScaler\n",
    "from sklearn.decomposition import PCA\n",
    "from sklearn.cluster import KMeans\n",
    "from sklearn.metrics import silhouette_score"
   ]
  },
  {
   "cell_type": "markdown",
   "metadata": {},
   "source": [
    "<div style=\"background-color:#9ACD32;text-align:center;font-size: 250%\"><strong><br>\n",
    "Importing Dataset\n",
    "<br><br></strong></div>\n",
    " "
   ]
  },
  {
   "cell_type": "code",
   "execution_count": 5,
   "metadata": {},
   "outputs": [],
   "source": [
    "import os\n",
    "os.chdir(\"C:\\\\Users\\\\user\\\\Desktop\\\\Alab_Python\\\\Final Projects in Python\\\\4. Segmentation of Credit Card Customers\")"
   ]
  },
  {
   "cell_type": "code",
   "execution_count": 6,
   "metadata": {},
   "outputs": [
    {
     "name": "stdout",
     "output_type": "stream",
     "text": [
      "(8950, 18)\n"
     ]
    },
    {
     "data": {
      "text/html": [
       "<div>\n",
       "<style scoped>\n",
       "    .dataframe tbody tr th:only-of-type {\n",
       "        vertical-align: middle;\n",
       "    }\n",
       "\n",
       "    .dataframe tbody tr th {\n",
       "        vertical-align: top;\n",
       "    }\n",
       "\n",
       "    .dataframe thead th {\n",
       "        text-align: right;\n",
       "    }\n",
       "</style>\n",
       "<table border=\"1\" class=\"dataframe\">\n",
       "  <thead>\n",
       "    <tr style=\"text-align: right;\">\n",
       "      <th></th>\n",
       "      <th>CUST_ID</th>\n",
       "      <th>BALANCE</th>\n",
       "      <th>BALANCE_FREQUENCY</th>\n",
       "      <th>PURCHASES</th>\n",
       "      <th>ONEOFF_PURCHASES</th>\n",
       "      <th>INSTALLMENTS_PURCHASES</th>\n",
       "      <th>CASH_ADVANCE</th>\n",
       "      <th>PURCHASES_FREQUENCY</th>\n",
       "      <th>ONEOFF_PURCHASES_FREQUENCY</th>\n",
       "      <th>PURCHASES_INSTALLMENTS_FREQUENCY</th>\n",
       "      <th>CASH_ADVANCE_FREQUENCY</th>\n",
       "      <th>CASH_ADVANCE_TRX</th>\n",
       "      <th>PURCHASES_TRX</th>\n",
       "      <th>CREDIT_LIMIT</th>\n",
       "      <th>PAYMENTS</th>\n",
       "      <th>MINIMUM_PAYMENTS</th>\n",
       "      <th>PRC_FULL_PAYMENT</th>\n",
       "      <th>TENURE</th>\n",
       "    </tr>\n",
       "  </thead>\n",
       "  <tbody>\n",
       "    <tr>\n",
       "      <th>0</th>\n",
       "      <td>C10001</td>\n",
       "      <td>40.900749</td>\n",
       "      <td>0.818182</td>\n",
       "      <td>95.40</td>\n",
       "      <td>0.00</td>\n",
       "      <td>95.4</td>\n",
       "      <td>0.000000</td>\n",
       "      <td>0.166667</td>\n",
       "      <td>0.000000</td>\n",
       "      <td>0.083333</td>\n",
       "      <td>0.000000</td>\n",
       "      <td>0</td>\n",
       "      <td>2</td>\n",
       "      <td>1000.0</td>\n",
       "      <td>201.802084</td>\n",
       "      <td>139.509787</td>\n",
       "      <td>0.000000</td>\n",
       "      <td>12</td>\n",
       "    </tr>\n",
       "    <tr>\n",
       "      <th>1</th>\n",
       "      <td>C10002</td>\n",
       "      <td>3202.467416</td>\n",
       "      <td>0.909091</td>\n",
       "      <td>0.00</td>\n",
       "      <td>0.00</td>\n",
       "      <td>0.0</td>\n",
       "      <td>6442.945483</td>\n",
       "      <td>0.000000</td>\n",
       "      <td>0.000000</td>\n",
       "      <td>0.000000</td>\n",
       "      <td>0.250000</td>\n",
       "      <td>4</td>\n",
       "      <td>0</td>\n",
       "      <td>7000.0</td>\n",
       "      <td>4103.032597</td>\n",
       "      <td>1072.340217</td>\n",
       "      <td>0.222222</td>\n",
       "      <td>12</td>\n",
       "    </tr>\n",
       "    <tr>\n",
       "      <th>2</th>\n",
       "      <td>C10003</td>\n",
       "      <td>2495.148862</td>\n",
       "      <td>1.000000</td>\n",
       "      <td>773.17</td>\n",
       "      <td>773.17</td>\n",
       "      <td>0.0</td>\n",
       "      <td>0.000000</td>\n",
       "      <td>1.000000</td>\n",
       "      <td>1.000000</td>\n",
       "      <td>0.000000</td>\n",
       "      <td>0.000000</td>\n",
       "      <td>0</td>\n",
       "      <td>12</td>\n",
       "      <td>7500.0</td>\n",
       "      <td>622.066742</td>\n",
       "      <td>627.284787</td>\n",
       "      <td>0.000000</td>\n",
       "      <td>12</td>\n",
       "    </tr>\n",
       "    <tr>\n",
       "      <th>3</th>\n",
       "      <td>C10004</td>\n",
       "      <td>1666.670542</td>\n",
       "      <td>0.636364</td>\n",
       "      <td>1499.00</td>\n",
       "      <td>1499.00</td>\n",
       "      <td>0.0</td>\n",
       "      <td>205.788017</td>\n",
       "      <td>0.083333</td>\n",
       "      <td>0.083333</td>\n",
       "      <td>0.000000</td>\n",
       "      <td>0.083333</td>\n",
       "      <td>1</td>\n",
       "      <td>1</td>\n",
       "      <td>7500.0</td>\n",
       "      <td>0.000000</td>\n",
       "      <td>NaN</td>\n",
       "      <td>0.000000</td>\n",
       "      <td>12</td>\n",
       "    </tr>\n",
       "    <tr>\n",
       "      <th>4</th>\n",
       "      <td>C10005</td>\n",
       "      <td>817.714335</td>\n",
       "      <td>1.000000</td>\n",
       "      <td>16.00</td>\n",
       "      <td>16.00</td>\n",
       "      <td>0.0</td>\n",
       "      <td>0.000000</td>\n",
       "      <td>0.083333</td>\n",
       "      <td>0.083333</td>\n",
       "      <td>0.000000</td>\n",
       "      <td>0.000000</td>\n",
       "      <td>0</td>\n",
       "      <td>1</td>\n",
       "      <td>1200.0</td>\n",
       "      <td>678.334763</td>\n",
       "      <td>244.791237</td>\n",
       "      <td>0.000000</td>\n",
       "      <td>12</td>\n",
       "    </tr>\n",
       "  </tbody>\n",
       "</table>\n",
       "</div>"
      ],
      "text/plain": [
       "  CUST_ID      BALANCE  BALANCE_FREQUENCY  PURCHASES  ONEOFF_PURCHASES  \\\n",
       "0  C10001    40.900749           0.818182      95.40              0.00   \n",
       "1  C10002  3202.467416           0.909091       0.00              0.00   \n",
       "2  C10003  2495.148862           1.000000     773.17            773.17   \n",
       "3  C10004  1666.670542           0.636364    1499.00           1499.00   \n",
       "4  C10005   817.714335           1.000000      16.00             16.00   \n",
       "\n",
       "   INSTALLMENTS_PURCHASES  CASH_ADVANCE  PURCHASES_FREQUENCY  \\\n",
       "0                    95.4      0.000000             0.166667   \n",
       "1                     0.0   6442.945483             0.000000   \n",
       "2                     0.0      0.000000             1.000000   \n",
       "3                     0.0    205.788017             0.083333   \n",
       "4                     0.0      0.000000             0.083333   \n",
       "\n",
       "   ONEOFF_PURCHASES_FREQUENCY  PURCHASES_INSTALLMENTS_FREQUENCY  \\\n",
       "0                    0.000000                          0.083333   \n",
       "1                    0.000000                          0.000000   \n",
       "2                    1.000000                          0.000000   \n",
       "3                    0.083333                          0.000000   \n",
       "4                    0.083333                          0.000000   \n",
       "\n",
       "   CASH_ADVANCE_FREQUENCY  CASH_ADVANCE_TRX  PURCHASES_TRX  CREDIT_LIMIT  \\\n",
       "0                0.000000                 0              2        1000.0   \n",
       "1                0.250000                 4              0        7000.0   \n",
       "2                0.000000                 0             12        7500.0   \n",
       "3                0.083333                 1              1        7500.0   \n",
       "4                0.000000                 0              1        1200.0   \n",
       "\n",
       "      PAYMENTS  MINIMUM_PAYMENTS  PRC_FULL_PAYMENT  TENURE  \n",
       "0   201.802084        139.509787          0.000000      12  \n",
       "1  4103.032597       1072.340217          0.222222      12  \n",
       "2   622.066742        627.284787          0.000000      12  \n",
       "3     0.000000               NaN          0.000000      12  \n",
       "4   678.334763        244.791237          0.000000      12  "
      ]
     },
     "execution_count": 6,
     "metadata": {},
     "output_type": "execute_result"
    }
   ],
   "source": [
    "credit=pd.read_csv(\"CC_GENERAL.csv\")\n",
    "print(credit.shape)\n",
    "credit.head()"
   ]
  },
  {
   "cell_type": "code",
   "execution_count": 7,
   "metadata": {},
   "outputs": [
    {
     "data": {
      "text/plain": [
       "Index(['CUST_ID', 'BALANCE', 'BALANCE_FREQUENCY', 'PURCHASES',\n",
       "       'ONEOFF_PURCHASES', 'INSTALLMENTS_PURCHASES', 'CASH_ADVANCE',\n",
       "       'PURCHASES_FREQUENCY', 'ONEOFF_PURCHASES_FREQUENCY',\n",
       "       'PURCHASES_INSTALLMENTS_FREQUENCY', 'CASH_ADVANCE_FREQUENCY',\n",
       "       'CASH_ADVANCE_TRX', 'PURCHASES_TRX', 'CREDIT_LIMIT', 'PAYMENTS',\n",
       "       'MINIMUM_PAYMENTS', 'PRC_FULL_PAYMENT', 'TENURE'],\n",
       "      dtype='object')"
      ]
     },
     "execution_count": 7,
     "metadata": {},
     "output_type": "execute_result"
    }
   ],
   "source": [
    "credit.columns"
   ]
  },
  {
   "cell_type": "markdown",
   "metadata": {},
   "source": [
    "<div class='alert alert-success'><strong>DATA DICTIONARY:</strong>\n",
    "<br>CUST_ID: <tt>Credit card holder ID</tt>\n",
    "<br>BALANCE:<tt> Monthly average balance (based on daily balance averages)</tt>\n",
    "<br>BALANCE_FREQUENCY:<tt> Ratio of last 12 months with balance</tt>\n",
    "<br>PURCHASES: <tt>Total purchase amount spent during last 12 months</tt>\n",
    "<br>ONEOFF_PURCHASES: <tt>Total amount of one-off purchases</tt>\n",
    "<br>INSTALLMENTS_PURCHASES: <tt>Total amount of installment purchases</tt>\n",
    "<br>CASH_ADVANCE:<tt> Total cash-advance amount</tt>\n",
    "<br>PURCHASES_ FREQUENCY: <tt>Frequency of purchases (Percent of months with at least one purchase)</tt>\n",
    "<br>ONEOFF_PURCHASES_FREQUENCY: <tt>Frequency of one-off-purchases</tt>\n",
    "<br>PURCHASES_INSTALLMENTS_FREQUENCY: <tt>Frequency of installment purchases</tt>\n",
    "<br>CASH_ADVANCE_ FREQUENCY:<tt> Cash-Advance frequency</tt>\n",
    "<br>AVERAGE_PURCHASE_TRX: <tt>Average amount per purchase transaction</tt>\n",
    "<br>CASH_ADVANCE_TRX: <tt>Average amount per cash-advance transaction</tt>\n",
    "<br>PURCHASES_TRX: <tt>Average amount per purchase transaction</tt>\n",
    "<br>CREDIT_LIMIT: <tt>Credit limit</tt>\n",
    "<br>PAYMENTS:<tt> Total payments (due amount paid by the customer to decrease their statement balance) in the period</tt>\n",
    "<br>MINIMUM_PAYMENTS: <tt>Total minimum payments due in the period.</tt>\n",
    "<br>PRC_FULL_PAYMEN:<tt> Percentage of months with full payment of the due statement balance</tt>\n",
    "<br>TENURE:<tt> Number of months as a customer</tt></div>\n"
   ]
  },
  {
   "cell_type": "code",
   "execution_count": 8,
   "metadata": {},
   "outputs": [
    {
     "name": "stdout",
     "output_type": "stream",
     "text": [
      "<class 'pandas.core.frame.DataFrame'>\n",
      "RangeIndex: 8950 entries, 0 to 8949\n",
      "Data columns (total 18 columns):\n",
      "CUST_ID                             8950 non-null object\n",
      "BALANCE                             8950 non-null float64\n",
      "BALANCE_FREQUENCY                   8950 non-null float64\n",
      "PURCHASES                           8950 non-null float64\n",
      "ONEOFF_PURCHASES                    8950 non-null float64\n",
      "INSTALLMENTS_PURCHASES              8950 non-null float64\n",
      "CASH_ADVANCE                        8950 non-null float64\n",
      "PURCHASES_FREQUENCY                 8950 non-null float64\n",
      "ONEOFF_PURCHASES_FREQUENCY          8950 non-null float64\n",
      "PURCHASES_INSTALLMENTS_FREQUENCY    8950 non-null float64\n",
      "CASH_ADVANCE_FREQUENCY              8950 non-null float64\n",
      "CASH_ADVANCE_TRX                    8950 non-null int64\n",
      "PURCHASES_TRX                       8950 non-null int64\n",
      "CREDIT_LIMIT                        8949 non-null float64\n",
      "PAYMENTS                            8950 non-null float64\n",
      "MINIMUM_PAYMENTS                    8637 non-null float64\n",
      "PRC_FULL_PAYMENT                    8950 non-null float64\n",
      "TENURE                              8950 non-null int64\n",
      "dtypes: float64(14), int64(3), object(1)\n",
      "memory usage: 1.2+ MB\n"
     ]
    }
   ],
   "source": [
    "credit.info()"
   ]
  },
  {
   "cell_type": "markdown",
   "metadata": {},
   "source": [
    "<div style=\"background-color:#9ACD32;text-align:center;font-size: 250%\"><strong><br>\n",
    "Data Audit Report\n",
    "<br><br></strong></div>"
   ]
  },
  {
   "cell_type": "code",
   "execution_count": 9,
   "metadata": {},
   "outputs": [
    {
     "data": {
      "text/html": [
       "<div>\n",
       "<style scoped>\n",
       "    .dataframe tbody tr th:only-of-type {\n",
       "        vertical-align: middle;\n",
       "    }\n",
       "\n",
       "    .dataframe tbody tr th {\n",
       "        vertical-align: top;\n",
       "    }\n",
       "\n",
       "    .dataframe thead th {\n",
       "        text-align: right;\n",
       "    }\n",
       "</style>\n",
       "<table border=\"1\" class=\"dataframe\">\n",
       "  <thead>\n",
       "    <tr style=\"text-align: right;\">\n",
       "      <th></th>\n",
       "      <th>count</th>\n",
       "      <th>mean</th>\n",
       "      <th>std</th>\n",
       "      <th>min</th>\n",
       "      <th>25%</th>\n",
       "      <th>50%</th>\n",
       "      <th>75%</th>\n",
       "      <th>max</th>\n",
       "    </tr>\n",
       "  </thead>\n",
       "  <tbody>\n",
       "    <tr>\n",
       "      <th>BALANCE</th>\n",
       "      <td>8950.0</td>\n",
       "      <td>1564.474828</td>\n",
       "      <td>2081.531879</td>\n",
       "      <td>0.000000</td>\n",
       "      <td>128.281915</td>\n",
       "      <td>873.385231</td>\n",
       "      <td>2054.140036</td>\n",
       "      <td>19043.13856</td>\n",
       "    </tr>\n",
       "    <tr>\n",
       "      <th>BALANCE_FREQUENCY</th>\n",
       "      <td>8950.0</td>\n",
       "      <td>0.877271</td>\n",
       "      <td>0.236904</td>\n",
       "      <td>0.000000</td>\n",
       "      <td>0.888889</td>\n",
       "      <td>1.000000</td>\n",
       "      <td>1.000000</td>\n",
       "      <td>1.00000</td>\n",
       "    </tr>\n",
       "    <tr>\n",
       "      <th>PURCHASES</th>\n",
       "      <td>8950.0</td>\n",
       "      <td>1003.204834</td>\n",
       "      <td>2136.634782</td>\n",
       "      <td>0.000000</td>\n",
       "      <td>39.635000</td>\n",
       "      <td>361.280000</td>\n",
       "      <td>1110.130000</td>\n",
       "      <td>49039.57000</td>\n",
       "    </tr>\n",
       "    <tr>\n",
       "      <th>ONEOFF_PURCHASES</th>\n",
       "      <td>8950.0</td>\n",
       "      <td>592.437371</td>\n",
       "      <td>1659.887917</td>\n",
       "      <td>0.000000</td>\n",
       "      <td>0.000000</td>\n",
       "      <td>38.000000</td>\n",
       "      <td>577.405000</td>\n",
       "      <td>40761.25000</td>\n",
       "    </tr>\n",
       "    <tr>\n",
       "      <th>INSTALLMENTS_PURCHASES</th>\n",
       "      <td>8950.0</td>\n",
       "      <td>411.067645</td>\n",
       "      <td>904.338115</td>\n",
       "      <td>0.000000</td>\n",
       "      <td>0.000000</td>\n",
       "      <td>89.000000</td>\n",
       "      <td>468.637500</td>\n",
       "      <td>22500.00000</td>\n",
       "    </tr>\n",
       "    <tr>\n",
       "      <th>CASH_ADVANCE</th>\n",
       "      <td>8950.0</td>\n",
       "      <td>978.871112</td>\n",
       "      <td>2097.163877</td>\n",
       "      <td>0.000000</td>\n",
       "      <td>0.000000</td>\n",
       "      <td>0.000000</td>\n",
       "      <td>1113.821139</td>\n",
       "      <td>47137.21176</td>\n",
       "    </tr>\n",
       "    <tr>\n",
       "      <th>PURCHASES_FREQUENCY</th>\n",
       "      <td>8950.0</td>\n",
       "      <td>0.490351</td>\n",
       "      <td>0.401371</td>\n",
       "      <td>0.000000</td>\n",
       "      <td>0.083333</td>\n",
       "      <td>0.500000</td>\n",
       "      <td>0.916667</td>\n",
       "      <td>1.00000</td>\n",
       "    </tr>\n",
       "    <tr>\n",
       "      <th>ONEOFF_PURCHASES_FREQUENCY</th>\n",
       "      <td>8950.0</td>\n",
       "      <td>0.202458</td>\n",
       "      <td>0.298336</td>\n",
       "      <td>0.000000</td>\n",
       "      <td>0.000000</td>\n",
       "      <td>0.083333</td>\n",
       "      <td>0.300000</td>\n",
       "      <td>1.00000</td>\n",
       "    </tr>\n",
       "    <tr>\n",
       "      <th>PURCHASES_INSTALLMENTS_FREQUENCY</th>\n",
       "      <td>8950.0</td>\n",
       "      <td>0.364437</td>\n",
       "      <td>0.397448</td>\n",
       "      <td>0.000000</td>\n",
       "      <td>0.000000</td>\n",
       "      <td>0.166667</td>\n",
       "      <td>0.750000</td>\n",
       "      <td>1.00000</td>\n",
       "    </tr>\n",
       "    <tr>\n",
       "      <th>CASH_ADVANCE_FREQUENCY</th>\n",
       "      <td>8950.0</td>\n",
       "      <td>0.135144</td>\n",
       "      <td>0.200121</td>\n",
       "      <td>0.000000</td>\n",
       "      <td>0.000000</td>\n",
       "      <td>0.000000</td>\n",
       "      <td>0.222222</td>\n",
       "      <td>1.50000</td>\n",
       "    </tr>\n",
       "    <tr>\n",
       "      <th>CASH_ADVANCE_TRX</th>\n",
       "      <td>8950.0</td>\n",
       "      <td>3.248827</td>\n",
       "      <td>6.824647</td>\n",
       "      <td>0.000000</td>\n",
       "      <td>0.000000</td>\n",
       "      <td>0.000000</td>\n",
       "      <td>4.000000</td>\n",
       "      <td>123.00000</td>\n",
       "    </tr>\n",
       "    <tr>\n",
       "      <th>PURCHASES_TRX</th>\n",
       "      <td>8950.0</td>\n",
       "      <td>14.709832</td>\n",
       "      <td>24.857649</td>\n",
       "      <td>0.000000</td>\n",
       "      <td>1.000000</td>\n",
       "      <td>7.000000</td>\n",
       "      <td>17.000000</td>\n",
       "      <td>358.00000</td>\n",
       "    </tr>\n",
       "    <tr>\n",
       "      <th>CREDIT_LIMIT</th>\n",
       "      <td>8949.0</td>\n",
       "      <td>4494.449450</td>\n",
       "      <td>3638.815725</td>\n",
       "      <td>50.000000</td>\n",
       "      <td>1600.000000</td>\n",
       "      <td>3000.000000</td>\n",
       "      <td>6500.000000</td>\n",
       "      <td>30000.00000</td>\n",
       "    </tr>\n",
       "    <tr>\n",
       "      <th>PAYMENTS</th>\n",
       "      <td>8950.0</td>\n",
       "      <td>1733.143852</td>\n",
       "      <td>2895.063757</td>\n",
       "      <td>0.000000</td>\n",
       "      <td>383.276166</td>\n",
       "      <td>856.901546</td>\n",
       "      <td>1901.134317</td>\n",
       "      <td>50721.48336</td>\n",
       "    </tr>\n",
       "    <tr>\n",
       "      <th>MINIMUM_PAYMENTS</th>\n",
       "      <td>8637.0</td>\n",
       "      <td>864.206542</td>\n",
       "      <td>2372.446607</td>\n",
       "      <td>0.019163</td>\n",
       "      <td>169.123707</td>\n",
       "      <td>312.343947</td>\n",
       "      <td>825.485459</td>\n",
       "      <td>76406.20752</td>\n",
       "    </tr>\n",
       "    <tr>\n",
       "      <th>PRC_FULL_PAYMENT</th>\n",
       "      <td>8950.0</td>\n",
       "      <td>0.153715</td>\n",
       "      <td>0.292499</td>\n",
       "      <td>0.000000</td>\n",
       "      <td>0.000000</td>\n",
       "      <td>0.000000</td>\n",
       "      <td>0.142857</td>\n",
       "      <td>1.00000</td>\n",
       "    </tr>\n",
       "    <tr>\n",
       "      <th>TENURE</th>\n",
       "      <td>8950.0</td>\n",
       "      <td>11.517318</td>\n",
       "      <td>1.338331</td>\n",
       "      <td>6.000000</td>\n",
       "      <td>12.000000</td>\n",
       "      <td>12.000000</td>\n",
       "      <td>12.000000</td>\n",
       "      <td>12.00000</td>\n",
       "    </tr>\n",
       "  </tbody>\n",
       "</table>\n",
       "</div>"
      ],
      "text/plain": [
       "                                   count         mean          std        min  \\\n",
       "BALANCE                           8950.0  1564.474828  2081.531879   0.000000   \n",
       "BALANCE_FREQUENCY                 8950.0     0.877271     0.236904   0.000000   \n",
       "PURCHASES                         8950.0  1003.204834  2136.634782   0.000000   \n",
       "ONEOFF_PURCHASES                  8950.0   592.437371  1659.887917   0.000000   \n",
       "INSTALLMENTS_PURCHASES            8950.0   411.067645   904.338115   0.000000   \n",
       "CASH_ADVANCE                      8950.0   978.871112  2097.163877   0.000000   \n",
       "PURCHASES_FREQUENCY               8950.0     0.490351     0.401371   0.000000   \n",
       "ONEOFF_PURCHASES_FREQUENCY        8950.0     0.202458     0.298336   0.000000   \n",
       "PURCHASES_INSTALLMENTS_FREQUENCY  8950.0     0.364437     0.397448   0.000000   \n",
       "CASH_ADVANCE_FREQUENCY            8950.0     0.135144     0.200121   0.000000   \n",
       "CASH_ADVANCE_TRX                  8950.0     3.248827     6.824647   0.000000   \n",
       "PURCHASES_TRX                     8950.0    14.709832    24.857649   0.000000   \n",
       "CREDIT_LIMIT                      8949.0  4494.449450  3638.815725  50.000000   \n",
       "PAYMENTS                          8950.0  1733.143852  2895.063757   0.000000   \n",
       "MINIMUM_PAYMENTS                  8637.0   864.206542  2372.446607   0.019163   \n",
       "PRC_FULL_PAYMENT                  8950.0     0.153715     0.292499   0.000000   \n",
       "TENURE                            8950.0    11.517318     1.338331   6.000000   \n",
       "\n",
       "                                          25%          50%          75%  \\\n",
       "BALANCE                            128.281915   873.385231  2054.140036   \n",
       "BALANCE_FREQUENCY                    0.888889     1.000000     1.000000   \n",
       "PURCHASES                           39.635000   361.280000  1110.130000   \n",
       "ONEOFF_PURCHASES                     0.000000    38.000000   577.405000   \n",
       "INSTALLMENTS_PURCHASES               0.000000    89.000000   468.637500   \n",
       "CASH_ADVANCE                         0.000000     0.000000  1113.821139   \n",
       "PURCHASES_FREQUENCY                  0.083333     0.500000     0.916667   \n",
       "ONEOFF_PURCHASES_FREQUENCY           0.000000     0.083333     0.300000   \n",
       "PURCHASES_INSTALLMENTS_FREQUENCY     0.000000     0.166667     0.750000   \n",
       "CASH_ADVANCE_FREQUENCY               0.000000     0.000000     0.222222   \n",
       "CASH_ADVANCE_TRX                     0.000000     0.000000     4.000000   \n",
       "PURCHASES_TRX                        1.000000     7.000000    17.000000   \n",
       "CREDIT_LIMIT                      1600.000000  3000.000000  6500.000000   \n",
       "PAYMENTS                           383.276166   856.901546  1901.134317   \n",
       "MINIMUM_PAYMENTS                   169.123707   312.343947   825.485459   \n",
       "PRC_FULL_PAYMENT                     0.000000     0.000000     0.142857   \n",
       "TENURE                              12.000000    12.000000    12.000000   \n",
       "\n",
       "                                          max  \n",
       "BALANCE                           19043.13856  \n",
       "BALANCE_FREQUENCY                     1.00000  \n",
       "PURCHASES                         49039.57000  \n",
       "ONEOFF_PURCHASES                  40761.25000  \n",
       "INSTALLMENTS_PURCHASES            22500.00000  \n",
       "CASH_ADVANCE                      47137.21176  \n",
       "PURCHASES_FREQUENCY                   1.00000  \n",
       "ONEOFF_PURCHASES_FREQUENCY            1.00000  \n",
       "PURCHASES_INSTALLMENTS_FREQUENCY      1.00000  \n",
       "CASH_ADVANCE_FREQUENCY                1.50000  \n",
       "CASH_ADVANCE_TRX                    123.00000  \n",
       "PURCHASES_TRX                       358.00000  \n",
       "CREDIT_LIMIT                      30000.00000  \n",
       "PAYMENTS                          50721.48336  \n",
       "MINIMUM_PAYMENTS                  76406.20752  \n",
       "PRC_FULL_PAYMENT                      1.00000  \n",
       "TENURE                               12.00000  "
      ]
     },
     "execution_count": 9,
     "metadata": {},
     "output_type": "execute_result"
    }
   ],
   "source": [
    "credit.describe().T"
   ]
  },
  {
   "cell_type": "code",
   "execution_count": 10,
   "metadata": {},
   "outputs": [
    {
     "data": {
      "text/plain": [
       "CUST_ID                               0\n",
       "BALANCE                               0\n",
       "BALANCE_FREQUENCY                     0\n",
       "PURCHASES                             0\n",
       "ONEOFF_PURCHASES                      0\n",
       "INSTALLMENTS_PURCHASES                0\n",
       "CASH_ADVANCE                          0\n",
       "PURCHASES_FREQUENCY                   0\n",
       "ONEOFF_PURCHASES_FREQUENCY            0\n",
       "PURCHASES_INSTALLMENTS_FREQUENCY      0\n",
       "CASH_ADVANCE_FREQUENCY                0\n",
       "CASH_ADVANCE_TRX                      0\n",
       "PURCHASES_TRX                         0\n",
       "CREDIT_LIMIT                          1\n",
       "PAYMENTS                              0\n",
       "MINIMUM_PAYMENTS                    313\n",
       "PRC_FULL_PAYMENT                      0\n",
       "TENURE                                0\n",
       "dtype: int64"
      ]
     },
     "execution_count": 10,
     "metadata": {},
     "output_type": "execute_result"
    }
   ],
   "source": [
    "## Missing value Check\n",
    "credit.isnull().sum()"
   ]
  },
  {
   "cell_type": "code",
   "execution_count": 11,
   "metadata": {},
   "outputs": [
    {
     "name": "stdout",
     "output_type": "stream",
     "text": [
      ">>Columns having missing values:\n",
      "\n",
      "CREDIT_LIMIT\n",
      "MINIMUM_PAYMENTS\n"
     ]
    }
   ],
   "source": [
    "print(\">>Columns having missing values:\\n\")\n",
    "missing_ser=credit.isnull().sum()\n",
    "for x in missing_ser.iloc[missing_ser.nonzero()].index: print(x)"
   ]
  },
  {
   "cell_type": "code",
   "execution_count": 12,
   "metadata": {},
   "outputs": [
    {
     "data": {
      "text/plain": [
       "CUST_ID                             0\n",
       "BALANCE                             0\n",
       "BALANCE_FREQUENCY                   0\n",
       "PURCHASES                           0\n",
       "ONEOFF_PURCHASES                    0\n",
       "INSTALLMENTS_PURCHASES              0\n",
       "CASH_ADVANCE                        0\n",
       "PURCHASES_FREQUENCY                 0\n",
       "ONEOFF_PURCHASES_FREQUENCY          0\n",
       "PURCHASES_INSTALLMENTS_FREQUENCY    0\n",
       "CASH_ADVANCE_FREQUENCY              0\n",
       "CASH_ADVANCE_TRX                    0\n",
       "PURCHASES_TRX                       0\n",
       "CREDIT_LIMIT                        0\n",
       "PAYMENTS                            0\n",
       "MINIMUM_PAYMENTS                    0\n",
       "PRC_FULL_PAYMENT                    0\n",
       "TENURE                              0\n",
       "dtype: int64"
      ]
     },
     "execution_count": 12,
     "metadata": {},
     "output_type": "execute_result"
    }
   ],
   "source": [
    "#replacing missing values with median of corresponding columns\n",
    "\n",
    "credit['CREDIT_LIMIT'].fillna(credit['CREDIT_LIMIT'].median(),inplace=True)\n",
    "credit['MINIMUM_PAYMENTS'].fillna(credit['MINIMUM_PAYMENTS'].median(),inplace=True)\n",
    "\n",
    "credit.isnull().sum()"
   ]
  },
  {
   "cell_type": "markdown",
   "metadata": {},
   "source": [
    "# Handling Outliers"
   ]
  },
  {
   "cell_type": "code",
   "execution_count": 13,
   "metadata": {},
   "outputs": [],
   "source": [
    "#Handling Outliers of continuous variables\n",
    "\n",
    "conti_cols=credit.drop('CUST_ID',axis=1).columns\n",
    "credit[conti_cols]=credit[conti_cols].apply(lambda x: x.clip(lower = x.dropna().quantile(0.01), upper = x.quantile(0.99)))"
   ]
  },
  {
   "cell_type": "code",
   "execution_count": 14,
   "metadata": {},
   "outputs": [
    {
     "data": {
      "text/html": [
       "<div>\n",
       "<style scoped>\n",
       "    .dataframe tbody tr th:only-of-type {\n",
       "        vertical-align: middle;\n",
       "    }\n",
       "\n",
       "    .dataframe tbody tr th {\n",
       "        vertical-align: top;\n",
       "    }\n",
       "\n",
       "    .dataframe thead th {\n",
       "        text-align: right;\n",
       "    }\n",
       "</style>\n",
       "<table border=\"1\" class=\"dataframe\">\n",
       "  <thead>\n",
       "    <tr style=\"text-align: right;\">\n",
       "      <th></th>\n",
       "      <th>CUST_ID</th>\n",
       "      <th>BALANCE</th>\n",
       "      <th>BALANCE_FREQUENCY</th>\n",
       "      <th>PURCHASES</th>\n",
       "      <th>ONEOFF_PURCHASES</th>\n",
       "      <th>INSTALLMENTS_PURCHASES</th>\n",
       "      <th>CASH_ADVANCE</th>\n",
       "      <th>PURCHASES_FREQUENCY</th>\n",
       "      <th>ONEOFF_PURCHASES_FREQUENCY</th>\n",
       "      <th>PURCHASES_INSTALLMENTS_FREQUENCY</th>\n",
       "      <th>CASH_ADVANCE_FREQUENCY</th>\n",
       "      <th>CASH_ADVANCE_TRX</th>\n",
       "      <th>PURCHASES_TRX</th>\n",
       "      <th>CREDIT_LIMIT</th>\n",
       "      <th>PAYMENTS</th>\n",
       "      <th>MINIMUM_PAYMENTS</th>\n",
       "      <th>PRC_FULL_PAYMENT</th>\n",
       "      <th>TENURE</th>\n",
       "    </tr>\n",
       "  </thead>\n",
       "  <tbody>\n",
       "    <tr>\n",
       "      <th>0</th>\n",
       "      <td>C10001</td>\n",
       "      <td>40.900749</td>\n",
       "      <td>0.818182</td>\n",
       "      <td>95.40</td>\n",
       "      <td>0.00</td>\n",
       "      <td>95.4</td>\n",
       "      <td>0.000000</td>\n",
       "      <td>0.166667</td>\n",
       "      <td>0.0</td>\n",
       "      <td>0.083333</td>\n",
       "      <td>0.00</td>\n",
       "      <td>0</td>\n",
       "      <td>2.0</td>\n",
       "      <td>1000.0</td>\n",
       "      <td>201.802084</td>\n",
       "      <td>139.509787</td>\n",
       "      <td>0.000000</td>\n",
       "      <td>12</td>\n",
       "    </tr>\n",
       "    <tr>\n",
       "      <th>1</th>\n",
       "      <td>C10002</td>\n",
       "      <td>3202.467416</td>\n",
       "      <td>0.909091</td>\n",
       "      <td>0.00</td>\n",
       "      <td>0.00</td>\n",
       "      <td>0.0</td>\n",
       "      <td>6442.945483</td>\n",
       "      <td>0.000000</td>\n",
       "      <td>0.0</td>\n",
       "      <td>0.000000</td>\n",
       "      <td>0.25</td>\n",
       "      <td>4</td>\n",
       "      <td>0.0</td>\n",
       "      <td>7000.0</td>\n",
       "      <td>4103.032597</td>\n",
       "      <td>1072.340217</td>\n",
       "      <td>0.222222</td>\n",
       "      <td>12</td>\n",
       "    </tr>\n",
       "    <tr>\n",
       "      <th>2</th>\n",
       "      <td>C10003</td>\n",
       "      <td>2495.148862</td>\n",
       "      <td>1.000000</td>\n",
       "      <td>773.17</td>\n",
       "      <td>773.17</td>\n",
       "      <td>0.0</td>\n",
       "      <td>0.000000</td>\n",
       "      <td>1.000000</td>\n",
       "      <td>1.0</td>\n",
       "      <td>0.000000</td>\n",
       "      <td>0.00</td>\n",
       "      <td>0</td>\n",
       "      <td>12.0</td>\n",
       "      <td>7500.0</td>\n",
       "      <td>622.066742</td>\n",
       "      <td>627.284787</td>\n",
       "      <td>0.000000</td>\n",
       "      <td>12</td>\n",
       "    </tr>\n",
       "  </tbody>\n",
       "</table>\n",
       "</div>"
      ],
      "text/plain": [
       "  CUST_ID      BALANCE  BALANCE_FREQUENCY  PURCHASES  ONEOFF_PURCHASES  \\\n",
       "0  C10001    40.900749           0.818182      95.40              0.00   \n",
       "1  C10002  3202.467416           0.909091       0.00              0.00   \n",
       "2  C10003  2495.148862           1.000000     773.17            773.17   \n",
       "\n",
       "   INSTALLMENTS_PURCHASES  CASH_ADVANCE  PURCHASES_FREQUENCY  \\\n",
       "0                    95.4      0.000000             0.166667   \n",
       "1                     0.0   6442.945483             0.000000   \n",
       "2                     0.0      0.000000             1.000000   \n",
       "\n",
       "   ONEOFF_PURCHASES_FREQUENCY  PURCHASES_INSTALLMENTS_FREQUENCY  \\\n",
       "0                         0.0                          0.083333   \n",
       "1                         0.0                          0.000000   \n",
       "2                         1.0                          0.000000   \n",
       "\n",
       "   CASH_ADVANCE_FREQUENCY  CASH_ADVANCE_TRX  PURCHASES_TRX  CREDIT_LIMIT  \\\n",
       "0                    0.00                 0            2.0        1000.0   \n",
       "1                    0.25                 4            0.0        7000.0   \n",
       "2                    0.00                 0           12.0        7500.0   \n",
       "\n",
       "      PAYMENTS  MINIMUM_PAYMENTS  PRC_FULL_PAYMENT  TENURE  \n",
       "0   201.802084        139.509787          0.000000      12  \n",
       "1  4103.032597       1072.340217          0.222222      12  \n",
       "2   622.066742        627.284787          0.000000      12  "
      ]
     },
     "execution_count": 14,
     "metadata": {},
     "output_type": "execute_result"
    }
   ],
   "source": [
    "credit=pd.concat([credit['CUST_ID'],credit[conti_cols]],axis=1)\n",
    "credit.head(3)"
   ]
  },
  {
   "cell_type": "markdown",
   "metadata": {},
   "source": [
    "<div style=\"background-color:#9ACD32;text-align:center;font-size: 250%\"><strong><br>\n",
    "Creating new KPIs\n",
    "<br><br></strong></div>\n"
   ]
  },
  {
   "cell_type": "markdown",
   "metadata": {},
   "source": [
    "<div class='alert alert-warning'><strong>KPI:</strong><tt>Key Performance Indicator</tt><br> <strong>New KPIs to be created:</strong>\n",
    "<tt><br> 1.Monthly average purchase and cash advance amount<br> 2.Purchases by type (one-off, installments)<br> 3.Limit usage (balance to credit limit ratio),<br> 4.Payments to minimum payments ratio etc. </tt></div>"
   ]
  },
  {
   "cell_type": "code",
   "execution_count": 15,
   "metadata": {},
   "outputs": [
    {
     "data": {
      "text/plain": [
       "(8950, 18)"
      ]
     },
     "execution_count": 15,
     "metadata": {},
     "output_type": "execute_result"
    }
   ],
   "source": [
    "credit.shape"
   ]
  },
  {
   "cell_type": "markdown",
   "metadata": {},
   "source": [
    "### new_KPI-1: Monthly average purchase and cash advance amount"
   ]
  },
  {
   "cell_type": "code",
   "execution_count": 16,
   "metadata": {},
   "outputs": [],
   "source": [
    "credit['Monthly_avg_purchase']=credit['PURCHASES']/credit['TENURE']\n",
    "credit['Monthly_cash_advance']=credit['CASH_ADVANCE']/credit['TENURE']"
   ]
  },
  {
   "cell_type": "code",
   "execution_count": 17,
   "metadata": {},
   "outputs": [
    {
     "data": {
      "text/html": [
       "<div>\n",
       "<style scoped>\n",
       "    .dataframe tbody tr th:only-of-type {\n",
       "        vertical-align: middle;\n",
       "    }\n",
       "\n",
       "    .dataframe tbody tr th {\n",
       "        vertical-align: top;\n",
       "    }\n",
       "\n",
       "    .dataframe thead th {\n",
       "        text-align: right;\n",
       "    }\n",
       "</style>\n",
       "<table border=\"1\" class=\"dataframe\">\n",
       "  <thead>\n",
       "    <tr style=\"text-align: right;\">\n",
       "      <th></th>\n",
       "      <th>CUST_ID</th>\n",
       "      <th>BALANCE</th>\n",
       "      <th>BALANCE_FREQUENCY</th>\n",
       "      <th>PURCHASES</th>\n",
       "      <th>ONEOFF_PURCHASES</th>\n",
       "      <th>INSTALLMENTS_PURCHASES</th>\n",
       "      <th>CASH_ADVANCE</th>\n",
       "      <th>PURCHASES_FREQUENCY</th>\n",
       "      <th>ONEOFF_PURCHASES_FREQUENCY</th>\n",
       "      <th>PURCHASES_INSTALLMENTS_FREQUENCY</th>\n",
       "      <th>CASH_ADVANCE_FREQUENCY</th>\n",
       "      <th>CASH_ADVANCE_TRX</th>\n",
       "      <th>PURCHASES_TRX</th>\n",
       "      <th>CREDIT_LIMIT</th>\n",
       "      <th>PAYMENTS</th>\n",
       "      <th>MINIMUM_PAYMENTS</th>\n",
       "      <th>PRC_FULL_PAYMENT</th>\n",
       "      <th>TENURE</th>\n",
       "      <th>Monthly_avg_purchase</th>\n",
       "      <th>Monthly_cash_advance</th>\n",
       "    </tr>\n",
       "  </thead>\n",
       "  <tbody>\n",
       "    <tr>\n",
       "      <th>0</th>\n",
       "      <td>C10001</td>\n",
       "      <td>40.900749</td>\n",
       "      <td>0.818182</td>\n",
       "      <td>95.40</td>\n",
       "      <td>0.00</td>\n",
       "      <td>95.4</td>\n",
       "      <td>0.000000</td>\n",
       "      <td>0.166667</td>\n",
       "      <td>0.0</td>\n",
       "      <td>0.083333</td>\n",
       "      <td>0.00</td>\n",
       "      <td>0</td>\n",
       "      <td>2.0</td>\n",
       "      <td>1000.0</td>\n",
       "      <td>201.802084</td>\n",
       "      <td>139.509787</td>\n",
       "      <td>0.000000</td>\n",
       "      <td>12</td>\n",
       "      <td>7.950000</td>\n",
       "      <td>0.000000</td>\n",
       "    </tr>\n",
       "    <tr>\n",
       "      <th>1</th>\n",
       "      <td>C10002</td>\n",
       "      <td>3202.467416</td>\n",
       "      <td>0.909091</td>\n",
       "      <td>0.00</td>\n",
       "      <td>0.00</td>\n",
       "      <td>0.0</td>\n",
       "      <td>6442.945483</td>\n",
       "      <td>0.000000</td>\n",
       "      <td>0.0</td>\n",
       "      <td>0.000000</td>\n",
       "      <td>0.25</td>\n",
       "      <td>4</td>\n",
       "      <td>0.0</td>\n",
       "      <td>7000.0</td>\n",
       "      <td>4103.032597</td>\n",
       "      <td>1072.340217</td>\n",
       "      <td>0.222222</td>\n",
       "      <td>12</td>\n",
       "      <td>0.000000</td>\n",
       "      <td>536.912124</td>\n",
       "    </tr>\n",
       "    <tr>\n",
       "      <th>2</th>\n",
       "      <td>C10003</td>\n",
       "      <td>2495.148862</td>\n",
       "      <td>1.000000</td>\n",
       "      <td>773.17</td>\n",
       "      <td>773.17</td>\n",
       "      <td>0.0</td>\n",
       "      <td>0.000000</td>\n",
       "      <td>1.000000</td>\n",
       "      <td>1.0</td>\n",
       "      <td>0.000000</td>\n",
       "      <td>0.00</td>\n",
       "      <td>0</td>\n",
       "      <td>12.0</td>\n",
       "      <td>7500.0</td>\n",
       "      <td>622.066742</td>\n",
       "      <td>627.284787</td>\n",
       "      <td>0.000000</td>\n",
       "      <td>12</td>\n",
       "      <td>64.430833</td>\n",
       "      <td>0.000000</td>\n",
       "    </tr>\n",
       "  </tbody>\n",
       "</table>\n",
       "</div>"
      ],
      "text/plain": [
       "  CUST_ID      BALANCE  BALANCE_FREQUENCY  PURCHASES  ONEOFF_PURCHASES  \\\n",
       "0  C10001    40.900749           0.818182      95.40              0.00   \n",
       "1  C10002  3202.467416           0.909091       0.00              0.00   \n",
       "2  C10003  2495.148862           1.000000     773.17            773.17   \n",
       "\n",
       "   INSTALLMENTS_PURCHASES  CASH_ADVANCE  PURCHASES_FREQUENCY  \\\n",
       "0                    95.4      0.000000             0.166667   \n",
       "1                     0.0   6442.945483             0.000000   \n",
       "2                     0.0      0.000000             1.000000   \n",
       "\n",
       "   ONEOFF_PURCHASES_FREQUENCY  PURCHASES_INSTALLMENTS_FREQUENCY  \\\n",
       "0                         0.0                          0.083333   \n",
       "1                         0.0                          0.000000   \n",
       "2                         1.0                          0.000000   \n",
       "\n",
       "   CASH_ADVANCE_FREQUENCY  CASH_ADVANCE_TRX  PURCHASES_TRX  CREDIT_LIMIT  \\\n",
       "0                    0.00                 0            2.0        1000.0   \n",
       "1                    0.25                 4            0.0        7000.0   \n",
       "2                    0.00                 0           12.0        7500.0   \n",
       "\n",
       "      PAYMENTS  MINIMUM_PAYMENTS  PRC_FULL_PAYMENT  TENURE  \\\n",
       "0   201.802084        139.509787          0.000000      12   \n",
       "1  4103.032597       1072.340217          0.222222      12   \n",
       "2   622.066742        627.284787          0.000000      12   \n",
       "\n",
       "   Monthly_avg_purchase  Monthly_cash_advance  \n",
       "0              7.950000              0.000000  \n",
       "1              0.000000            536.912124  \n",
       "2             64.430833              0.000000  "
      ]
     },
     "execution_count": 17,
     "metadata": {},
     "output_type": "execute_result"
    }
   ],
   "source": [
    "credit.head(3)"
   ]
  },
  {
   "cell_type": "markdown",
   "metadata": {},
   "source": [
    "### new_KPI-2: Purchases by type (one-off, installments)"
   ]
  },
  {
   "cell_type": "code",
   "execution_count": 18,
   "metadata": {},
   "outputs": [
    {
     "data": {
      "text/html": [
       "<div>\n",
       "<style scoped>\n",
       "    .dataframe tbody tr th:only-of-type {\n",
       "        vertical-align: middle;\n",
       "    }\n",
       "\n",
       "    .dataframe tbody tr th {\n",
       "        vertical-align: top;\n",
       "    }\n",
       "\n",
       "    .dataframe thead th {\n",
       "        text-align: right;\n",
       "    }\n",
       "</style>\n",
       "<table border=\"1\" class=\"dataframe\">\n",
       "  <thead>\n",
       "    <tr style=\"text-align: right;\">\n",
       "      <th></th>\n",
       "      <th>ONEOFF_PURCHASES</th>\n",
       "      <th>INSTALLMENTS_PURCHASES</th>\n",
       "    </tr>\n",
       "  </thead>\n",
       "  <tbody>\n",
       "    <tr>\n",
       "      <th>4654</th>\n",
       "      <td>0.00</td>\n",
       "      <td>0.00</td>\n",
       "    </tr>\n",
       "    <tr>\n",
       "      <th>1163</th>\n",
       "      <td>0.00</td>\n",
       "      <td>0.00</td>\n",
       "    </tr>\n",
       "    <tr>\n",
       "      <th>1873</th>\n",
       "      <td>45.65</td>\n",
       "      <td>300.01</td>\n",
       "    </tr>\n",
       "    <tr>\n",
       "      <th>1852</th>\n",
       "      <td>820.42</td>\n",
       "      <td>0.00</td>\n",
       "    </tr>\n",
       "    <tr>\n",
       "      <th>6660</th>\n",
       "      <td>1130.60</td>\n",
       "      <td>0.00</td>\n",
       "    </tr>\n",
       "    <tr>\n",
       "      <th>1515</th>\n",
       "      <td>1774.46</td>\n",
       "      <td>0.00</td>\n",
       "    </tr>\n",
       "  </tbody>\n",
       "</table>\n",
       "</div>"
      ],
      "text/plain": [
       "      ONEOFF_PURCHASES  INSTALLMENTS_PURCHASES\n",
       "4654              0.00                    0.00\n",
       "1163              0.00                    0.00\n",
       "1873             45.65                  300.01\n",
       "1852            820.42                    0.00\n",
       "6660           1130.60                    0.00\n",
       "1515           1774.46                    0.00"
      ]
     },
     "execution_count": 18,
     "metadata": {},
     "output_type": "execute_result"
    }
   ],
   "source": [
    "credit.loc[:,['ONEOFF_PURCHASES','INSTALLMENTS_PURCHASES']].sample(6)"
   ]
  },
  {
   "cell_type": "markdown",
   "metadata": {},
   "source": [
    "#### Now  we are to find out how many types of customers are there who purchase only one-off, only installment, both or none!"
   ]
  },
  {
   "cell_type": "code",
   "execution_count": 19,
   "metadata": {},
   "outputs": [],
   "source": [
    "#### UDF to find Purchase type\n",
    "def find_type(credit):   \n",
    "    if (credit['ONEOFF_PURCHASES']==0) & (credit['INSTALLMENTS_PURCHASES']==0):\n",
    "        return 'none'\n",
    "    if (credit['ONEOFF_PURCHASES']>0) & (credit['INSTALLMENTS_PURCHASES']>0):\n",
    "         return 'both'\n",
    "    if (credit['ONEOFF_PURCHASES']>0) & (credit['INSTALLMENTS_PURCHASES']==0):\n",
    "        return 'one_off'\n",
    "    if (credit['ONEOFF_PURCHASES']==0) & (credit['INSTALLMENTS_PURCHASES']>0):\n",
    "        return 'installment'"
   ]
  },
  {
   "cell_type": "code",
   "execution_count": 20,
   "metadata": {},
   "outputs": [],
   "source": [
    "credit['purchase_type']=credit.apply(find_type,axis=1)"
   ]
  },
  {
   "cell_type": "code",
   "execution_count": 21,
   "metadata": {},
   "outputs": [
    {
     "name": "stdout",
     "output_type": "stream",
     "text": [
      "--------------------------------------------------\n",
      "No. of Customers having diffrent type of purchase\n",
      "--------------------------------------------------\n"
     ]
    },
    {
     "data": {
      "text/plain": [
       "both           2774\n",
       "installment    2260\n",
       "none           2042\n",
       "one_off        1874\n",
       "Name: purchase_type, dtype: int64"
      ]
     },
     "execution_count": 21,
     "metadata": {},
     "output_type": "execute_result"
    }
   ],
   "source": [
    "print(\"-\"*50)\n",
    "print(\"No. of Customers having diffrent type of purchase\")\n",
    "print(\"-\"*50)\n",
    "\n",
    "credit['purchase_type'].value_counts()"
   ]
  },
  {
   "cell_type": "code",
   "execution_count": 22,
   "metadata": {},
   "outputs": [
    {
     "data": {
      "image/png": "[encoded data removed]",
      "text/plain": [
       "<Figure size 432x288 with 1 Axes>"
      ]
     },
     "metadata": {
      "needs_background": "light"
     },
     "output_type": "display_data"
    }
   ],
   "source": [
    "sns.countplot(credit['purchase_type'],\n",
    "              order=['one_off','installment','both','none'],\n",
    "              palette=\"Set3\"\n",
    "             );"
   ]
  },
  {
   "cell_type": "markdown",
   "metadata": {},
   "source": [
    "### new_KPI-3: Limit usage (balance to credit limit ratio)"
   ]
  },
  {
   "cell_type": "code",
   "execution_count": 23,
   "metadata": {},
   "outputs": [],
   "source": [
    "credit['limit_usage']=credit.apply(lambda x: x['BALANCE']/x['CREDIT_LIMIT'], axis=1)\n",
    "#credit['limit_usage'].describe()"
   ]
  },
  {
   "cell_type": "code",
   "execution_count": 24,
   "metadata": {},
   "outputs": [],
   "source": [
    "#sns.distplot(credit['limit_usage']);"
   ]
  },
  {
   "cell_type": "markdown",
   "metadata": {},
   "source": [
    "### New_KPI-4:Payments to minimum payments ratio"
   ]
  },
  {
   "cell_type": "code",
   "execution_count": 25,
   "metadata": {},
   "outputs": [],
   "source": [
    "credit['pay_minpay']=credit.apply(lambda x:x['PAYMENTS']/x['MINIMUM_PAYMENTS'],axis=1)\n",
    "#credit['pay_minpay'].describe()"
   ]
  },
  {
   "cell_type": "code",
   "execution_count": 26,
   "metadata": {},
   "outputs": [],
   "source": [
    "#sns.distplot(credit['pay_minpay']);"
   ]
  },
  {
   "cell_type": "markdown",
   "metadata": {},
   "source": [
    "# Plotting new KPIs"
   ]
  },
  {
   "cell_type": "code",
   "execution_count": 74,
   "metadata": {},
   "outputs": [
    {
     "data": {
      "text/plain": [
       "Monthly_avg_purchase    0\n",
       "Monthly_cash_advance    0\n",
       "limit_usage             0\n",
       "pay_minpay              0\n",
       "dtype: int64"
      ]
     },
     "execution_count": 74,
     "metadata": {},
     "output_type": "execute_result"
    }
   ],
   "source": [
    "col_list=['Monthly_avg_purchase','Monthly_cash_advance','limit_usage','pay_minpay']\n",
    "credit[col_list].isnull().sum()"
   ]
  },
  {
   "cell_type": "code",
   "execution_count": 28,
   "metadata": {},
   "outputs": [
    {
     "data": {
      "image/png": "[encoded data removed]",
      "text/plain": [
       "<Figure size 432x288 with 1 Axes>"
      ]
     },
     "metadata": {
      "needs_background": "light"
     },
     "output_type": "display_data"
    },
    {
     "data": {
      "image/png": "[encoded data removed]",
      "text/plain": [
       "<Figure size 432x288 with 1 Axes>"
      ]
     },
     "metadata": {
      "needs_background": "light"
     },
     "output_type": "display_data"
    },
    {
     "data": {
      "image/png": "[encoded data removed]",
      "text/plain": [
       "<Figure size 432x288 with 1 Axes>"
      ]
     },
     "metadata": {
      "needs_background": "light"
     },
     "output_type": "display_data"
    },
    {
     "data": {
      "image/png": "[encoded data removed]",
      "text/plain": [
       "<Figure size 432x288 with 1 Axes>"
      ]
     },
     "metadata": {
      "needs_background": "light"
     },
     "output_type": "display_data"
    }
   ],
   "source": [
    "col_list=['Monthly_avg_purchase','Monthly_cash_advance','limit_usage','pay_minpay']\n",
    "for i, col in enumerate(col_list):\n",
    "    plt.figure(i)\n",
    "    sns.distplot(credit[col])\n",
    "    plt.xlabel(col,fontsize=15);"
   ]
  },
  {
   "cell_type": "markdown",
   "metadata": {},
   "source": [
    "Clearly, These new KPIs contains outliers"
   ]
  },
  {
   "cell_type": "markdown",
   "metadata": {},
   "source": [
    "## Outlier treament for new KPIs"
   ]
  },
  {
   "cell_type": "code",
   "execution_count": 29,
   "metadata": {},
   "outputs": [],
   "source": [
    "col_list=['Monthly_avg_purchase','Monthly_cash_advance','limit_usage','pay_minpay']\n",
    "for col in col_list:\n",
    "    credit[col]=credit[col].clip_upper(credit[col].quantile(0.99))\n",
    "    credit[col]=credit[col].clip_lower(credit[col].quantile(0.01)) "
   ]
  },
  {
   "cell_type": "code",
   "execution_count": 30,
   "metadata": {},
   "outputs": [
    {
     "data": {
      "text/plain": [
       "<Figure size 432x288 with 0 Axes>"
      ]
     },
     "metadata": {},
     "output_type": "display_data"
    },
    {
     "data": {
      "image/png": "[encoded data removed]",
      "text/plain": [
       "<Figure size 360x216 with 1 Axes>"
      ]
     },
     "metadata": {
      "needs_background": "light"
     },
     "output_type": "display_data"
    },
    {
     "data": {
      "image/png": "[encoded data removed]",
      "text/plain": [
       "<Figure size 360x216 with 1 Axes>"
      ]
     },
     "metadata": {
      "needs_background": "light"
     },
     "output_type": "display_data"
    },
    {
     "data": {
      "image/png": "[encoded data removed]",
      "text/plain": [
       "<Figure size 360x216 with 1 Axes>"
      ]
     },
     "metadata": {
      "needs_background": "light"
     },
     "output_type": "display_data"
    },
    {
     "data": {
      "image/png": "[encoded data removed]",
      "text/plain": [
       "<Figure size 360x216 with 1 Axes>"
      ]
     },
     "metadata": {
      "needs_background": "light"
     },
     "output_type": "display_data"
    }
   ],
   "source": [
    "col_list=['Monthly_avg_purchase','Monthly_cash_advance','limit_usage','pay_minpay']\n",
    "for i, col in enumerate(col_list):\n",
    "    plt.figure(i)\n",
    "    plt.figure(figsize=(5,3))\n",
    "    sns.distplot(credit[col])\n",
    "    plt.xlabel(col,fontsize=15);"
   ]
  },
  {
   "cell_type": "markdown",
   "metadata": {},
   "source": [
    "<div style=\"background-color:#9ACD32;text-align:center;font-size: 250%\"><strong><br>\n",
    " Insights from new KPI's\n",
    "<br><br></strong></div>\n"
   ]
  },
  {
   "cell_type": "code",
   "execution_count": 31,
   "metadata": {},
   "outputs": [
    {
     "data": {
      "text/html": [
       "<div>\n",
       "<style scoped>\n",
       "    .dataframe tbody tr th:only-of-type {\n",
       "        vertical-align: middle;\n",
       "    }\n",
       "\n",
       "    .dataframe tbody tr th {\n",
       "        vertical-align: top;\n",
       "    }\n",
       "\n",
       "    .dataframe thead th {\n",
       "        text-align: right;\n",
       "    }\n",
       "</style>\n",
       "<table border=\"1\" class=\"dataframe\">\n",
       "  <thead>\n",
       "    <tr style=\"text-align: right;\">\n",
       "      <th></th>\n",
       "      <th>count</th>\n",
       "      <th>mean</th>\n",
       "      <th>std</th>\n",
       "      <th>min</th>\n",
       "      <th>25%</th>\n",
       "      <th>50%</th>\n",
       "      <th>75%</th>\n",
       "      <th>max</th>\n",
       "    </tr>\n",
       "  </thead>\n",
       "  <tbody>\n",
       "    <tr>\n",
       "      <th>Monthly_avg_purchase</th>\n",
       "      <td>8950.0</td>\n",
       "      <td>80.448360</td>\n",
       "      <td>128.990235</td>\n",
       "      <td>0.000000</td>\n",
       "      <td>3.399375</td>\n",
       "      <td>31.936667</td>\n",
       "      <td>97.228333</td>\n",
       "      <td>748.107500</td>\n",
       "    </tr>\n",
       "    <tr>\n",
       "      <th>Monthly_cash_advance</th>\n",
       "      <td>8950.0</td>\n",
       "      <td>83.743740</td>\n",
       "      <td>158.284750</td>\n",
       "      <td>0.000000</td>\n",
       "      <td>0.000000</td>\n",
       "      <td>0.000000</td>\n",
       "      <td>99.085196</td>\n",
       "      <td>799.013613</td>\n",
       "    </tr>\n",
       "    <tr>\n",
       "      <th>limit_usage</th>\n",
       "      <td>8950.0</td>\n",
       "      <td>0.384067</td>\n",
       "      <td>0.348692</td>\n",
       "      <td>0.000065</td>\n",
       "      <td>0.041450</td>\n",
       "      <td>0.301987</td>\n",
       "      <td>0.708236</td>\n",
       "      <td>1.052809</td>\n",
       "    </tr>\n",
       "    <tr>\n",
       "      <th>pay_minpay</th>\n",
       "      <td>8950.0</td>\n",
       "      <td>5.073413</td>\n",
       "      <td>7.588126</td>\n",
       "      <td>0.000000</td>\n",
       "      <td>0.913275</td>\n",
       "      <td>2.021399</td>\n",
       "      <td>6.013141</td>\n",
       "      <td>45.189570</td>\n",
       "    </tr>\n",
       "  </tbody>\n",
       "</table>\n",
       "</div>"
      ],
      "text/plain": [
       "                       count       mean         std       min       25%  \\\n",
       "Monthly_avg_purchase  8950.0  80.448360  128.990235  0.000000  3.399375   \n",
       "Monthly_cash_advance  8950.0  83.743740  158.284750  0.000000  0.000000   \n",
       "limit_usage           8950.0   0.384067    0.348692  0.000065  0.041450   \n",
       "pay_minpay            8950.0   5.073413    7.588126  0.000000  0.913275   \n",
       "\n",
       "                            50%        75%         max  \n",
       "Monthly_avg_purchase  31.936667  97.228333  748.107500  \n",
       "Monthly_cash_advance   0.000000  99.085196  799.013613  \n",
       "limit_usage            0.301987   0.708236    1.052809  \n",
       "pay_minpay             2.021399   6.013141   45.189570  "
      ]
     },
     "execution_count": 31,
     "metadata": {},
     "output_type": "execute_result"
    }
   ],
   "source": [
    "credit[col_list].describe().T"
   ]
  },
  {
   "cell_type": "code",
   "execution_count": 32,
   "metadata": {},
   "outputs": [],
   "source": [
    "# Average Values of KPIs for each purchse type.\n",
    "c1=credit[['purchase_type','pay_minpay']].groupby('purchase_type').mean()['pay_minpay']\n",
    "c2=credit.groupby('purchase_type').apply(lambda x: x['Monthly_cash_advance'].mean())\n",
    "c3=credit.groupby('purchase_type').apply(lambda x: x['Monthly_avg_purchase'].mean())\n",
    "c4=credit.groupby('purchase_type').apply(lambda x: x['limit_usage'].mean())"
   ]
  },
  {
   "cell_type": "code",
   "execution_count": 33,
   "metadata": {},
   "outputs": [
    {
     "name": "stdout",
     "output_type": "stream",
     "text": [
      "----------------------------------------------------------------------\n",
      "  Average Values of new KPIs for different type of customers\n",
      "----------------------------------------------------------------------\n"
     ]
    },
    {
     "data": {
      "text/html": [
       "<div>\n",
       "<style scoped>\n",
       "    .dataframe tbody tr th:only-of-type {\n",
       "        vertical-align: middle;\n",
       "    }\n",
       "\n",
       "    .dataframe tbody tr th {\n",
       "        vertical-align: top;\n",
       "    }\n",
       "\n",
       "    .dataframe thead th {\n",
       "        text-align: right;\n",
       "    }\n",
       "</style>\n",
       "<table border=\"1\" class=\"dataframe\">\n",
       "  <thead>\n",
       "    <tr style=\"text-align: right;\">\n",
       "      <th></th>\n",
       "      <th>payment_minpayment_ratio</th>\n",
       "      <th>Monthly_cash_advance</th>\n",
       "      <th>Monthly_Purchase</th>\n",
       "      <th>Limit_usage</th>\n",
       "    </tr>\n",
       "    <tr>\n",
       "      <th>purchase_type</th>\n",
       "      <th></th>\n",
       "      <th></th>\n",
       "      <th></th>\n",
       "      <th></th>\n",
       "    </tr>\n",
       "  </thead>\n",
       "  <tbody>\n",
       "    <tr>\n",
       "      <th>one_off</th>\n",
       "      <td>5.050477</td>\n",
       "      <td>75.439023</td>\n",
       "      <td>67.249009</td>\n",
       "      <td>0.378806</td>\n",
       "    </tr>\n",
       "    <tr>\n",
       "      <th>installment</th>\n",
       "      <td>3.915725</td>\n",
       "      <td>36.044135</td>\n",
       "      <td>46.139936</td>\n",
       "      <td>0.267087</td>\n",
       "    </tr>\n",
       "    <tr>\n",
       "      <th>both</th>\n",
       "      <td>6.784852</td>\n",
       "      <td>62.018126</td>\n",
       "      <td>176.536381</td>\n",
       "      <td>0.350743</td>\n",
       "    </tr>\n",
       "    <tr>\n",
       "      <th>none</th>\n",
       "      <td>4.050802</td>\n",
       "      <td>173.670772</td>\n",
       "      <td>0.000000</td>\n",
       "      <td>0.563631</td>\n",
       "    </tr>\n",
       "  </tbody>\n",
       "</table>\n",
       "</div>"
      ],
      "text/plain": [
       "               payment_minpayment_ratio  Monthly_cash_advance  \\\n",
       "purchase_type                                                   \n",
       "one_off                        5.050477             75.439023   \n",
       "installment                    3.915725             36.044135   \n",
       "both                           6.784852             62.018126   \n",
       "none                           4.050802            173.670772   \n",
       "\n",
       "               Monthly_Purchase  Limit_usage  \n",
       "purchase_type                                 \n",
       "one_off               67.249009     0.378806  \n",
       "installment           46.139936     0.267087  \n",
       "both                 176.536381     0.350743  \n",
       "none                   0.000000     0.563631  "
      ]
     },
     "execution_count": 33,
     "metadata": {},
     "output_type": "execute_result"
    }
   ],
   "source": [
    "print(\"--\"*35)\n",
    "print(\"  Average Values of new KPIs for different type of customers\")\n",
    "print(\"--\"*35)\n",
    "\n",
    "pd.DataFrame({'purchase_type':['one_off', 'installment', 'both','none'],\n",
    "            'payment_minpayment_ratio':[c1.one_off,c1.installment,c1.both,c1.none],\n",
    "            'Monthly_cash_advance':[c2.one_off,c2.installment,c2.both,c2.none],   \n",
    "            'Monthly_Purchase':[c3.one_off,c3.installment,c3.both,c3.none],\n",
    "            'Limit_usage':[c4.one_off,c4.installment,c4.both,c4.none]\n",
    "                }).set_index('purchase_type')\n"
   ]
  },
  {
   "cell_type": "code",
   "execution_count": 34,
   "metadata": {},
   "outputs": [
    {
     "data": {
      "image/png": "[encoded data removed]",
      "text/plain": [
       "<Figure size 720x720 with 4 Axes>"
      ]
     },
     "metadata": {
      "needs_background": "light"
     },
     "output_type": "display_data"
    }
   ],
   "source": [
    "df=credit[['purchase_type','Monthly_avg_purchase','Monthly_cash_advance','limit_usage','pay_minpay']]\n",
    "#df.groupby('purchase_type').mean()['Monthly_avg_purchase'].plot.barh(figsize=(20,5))\n",
    "#plt.ylabel('purchase_type',fontsize=15);\n",
    "\n",
    "#fig, ((ax1, ax2), (ax3, ax4)) = plt.subplots(nrows=2, ncols=2)\n",
    "fig, (ax1, ax2, ax3, ax4) = plt.subplots(nrows=4, ncols=1,figsize=(10, 10))\n",
    "fig.suptitle('Different type of customers on the basis of new KPIs',fontsize=20)\n",
    "fig.subplots_adjust(hspace=.5)\n",
    "\n",
    "df.groupby('purchase_type').mean()['Monthly_avg_purchase'].plot(ax=ax1, kind='barh', grid=True)\n",
    "ax1.set_title(\"Monthly_avg_purchase \",fontsize=15)\n",
    "df.groupby('purchase_type').mean()['Monthly_cash_advance'].plot(ax=ax2, kind='barh', grid=True)\n",
    "ax2.set_title(\" Monthly_cash_advance\",fontsize=15)\n",
    "df.groupby('purchase_type').mean()['limit_usage'].plot(ax=ax3, kind='barh', grid=True)\n",
    "ax3.set_title(\" Limit_usage\",fontsize=15)\n",
    "df.groupby('purchase_type').mean()['pay_minpay'].plot(ax=ax4, kind='barh', grid=True)\n",
    "ax4.set_title(\" pay_minpay_ratio\",fontsize=15);"
   ]
  },
  {
   "cell_type": "markdown",
   "metadata": {},
   "source": [
    "<div style=\"background-color:#9ACD32;text-align:center;font-size: 250%\"><strong><br>\n",
    "Data Preparation for PCA\n",
    "<br><br></strong></div>\n"
   ]
  },
  {
   "cell_type": "markdown",
   "metadata": {},
   "source": [
    "## Creating a new dataframe for analysis"
   ]
  },
  {
   "cell_type": "code",
   "execution_count": 36,
   "metadata": {},
   "outputs": [],
   "source": [
    "#credit.columns"
   ]
  },
  {
   "cell_type": "code",
   "execution_count": 37,
   "metadata": {},
   "outputs": [],
   "source": [
    "dropped_col_list=['CUST_ID','BALANCE','PURCHASES','CASH_ADVANCE','CREDIT_LIMIT', 'PAYMENTS','MINIMUM_PAYMENTS',\\\n",
    "             'PRC_FULL_PAYMENT', 'TENURE']"
   ]
  },
  {
   "cell_type": "code",
   "execution_count": 38,
   "metadata": {},
   "outputs": [
    {
     "data": {
      "text/plain": [
       "(8950, 14)"
      ]
     },
     "execution_count": 38,
     "metadata": {},
     "output_type": "execute_result"
    }
   ],
   "source": [
    "df=credit.drop(dropped_col_list,axis=1)\n",
    "df.shape"
   ]
  },
  {
   "cell_type": "code",
   "execution_count": 39,
   "metadata": {},
   "outputs": [
    {
     "data": {
      "text/html": [
       "<div>\n",
       "<style scoped>\n",
       "    .dataframe tbody tr th:only-of-type {\n",
       "        vertical-align: middle;\n",
       "    }\n",
       "\n",
       "    .dataframe tbody tr th {\n",
       "        vertical-align: top;\n",
       "    }\n",
       "\n",
       "    .dataframe thead th {\n",
       "        text-align: right;\n",
       "    }\n",
       "</style>\n",
       "<table border=\"1\" class=\"dataframe\">\n",
       "  <thead>\n",
       "    <tr style=\"text-align: right;\">\n",
       "      <th></th>\n",
       "      <th>BALANCE_FREQUENCY</th>\n",
       "      <th>ONEOFF_PURCHASES</th>\n",
       "      <th>INSTALLMENTS_PURCHASES</th>\n",
       "      <th>PURCHASES_FREQUENCY</th>\n",
       "      <th>ONEOFF_PURCHASES_FREQUENCY</th>\n",
       "      <th>PURCHASES_INSTALLMENTS_FREQUENCY</th>\n",
       "      <th>CASH_ADVANCE_FREQUENCY</th>\n",
       "      <th>CASH_ADVANCE_TRX</th>\n",
       "      <th>PURCHASES_TRX</th>\n",
       "      <th>Monthly_avg_purchase</th>\n",
       "      <th>Monthly_cash_advance</th>\n",
       "      <th>purchase_type</th>\n",
       "      <th>limit_usage</th>\n",
       "      <th>pay_minpay</th>\n",
       "    </tr>\n",
       "  </thead>\n",
       "  <tbody>\n",
       "    <tr>\n",
       "      <th>0</th>\n",
       "      <td>0.818182</td>\n",
       "      <td>0.00</td>\n",
       "      <td>95.4</td>\n",
       "      <td>0.166667</td>\n",
       "      <td>0.0</td>\n",
       "      <td>0.083333</td>\n",
       "      <td>0.00</td>\n",
       "      <td>0</td>\n",
       "      <td>2.0</td>\n",
       "      <td>7.950000</td>\n",
       "      <td>0.000000</td>\n",
       "      <td>installment</td>\n",
       "      <td>0.040901</td>\n",
       "      <td>1.446508</td>\n",
       "    </tr>\n",
       "    <tr>\n",
       "      <th>1</th>\n",
       "      <td>0.909091</td>\n",
       "      <td>0.00</td>\n",
       "      <td>0.0</td>\n",
       "      <td>0.000000</td>\n",
       "      <td>0.0</td>\n",
       "      <td>0.000000</td>\n",
       "      <td>0.25</td>\n",
       "      <td>4</td>\n",
       "      <td>0.0</td>\n",
       "      <td>0.000000</td>\n",
       "      <td>536.912124</td>\n",
       "      <td>none</td>\n",
       "      <td>0.457495</td>\n",
       "      <td>3.826241</td>\n",
       "    </tr>\n",
       "    <tr>\n",
       "      <th>2</th>\n",
       "      <td>1.000000</td>\n",
       "      <td>773.17</td>\n",
       "      <td>0.0</td>\n",
       "      <td>1.000000</td>\n",
       "      <td>1.0</td>\n",
       "      <td>0.000000</td>\n",
       "      <td>0.00</td>\n",
       "      <td>0</td>\n",
       "      <td>12.0</td>\n",
       "      <td>64.430833</td>\n",
       "      <td>0.000000</td>\n",
       "      <td>one_off</td>\n",
       "      <td>0.332687</td>\n",
       "      <td>0.991682</td>\n",
       "    </tr>\n",
       "  </tbody>\n",
       "</table>\n",
       "</div>"
      ],
      "text/plain": [
       "   BALANCE_FREQUENCY  ONEOFF_PURCHASES  INSTALLMENTS_PURCHASES  \\\n",
       "0           0.818182              0.00                    95.4   \n",
       "1           0.909091              0.00                     0.0   \n",
       "2           1.000000            773.17                     0.0   \n",
       "\n",
       "   PURCHASES_FREQUENCY  ONEOFF_PURCHASES_FREQUENCY  \\\n",
       "0             0.166667                         0.0   \n",
       "1             0.000000                         0.0   \n",
       "2             1.000000                         1.0   \n",
       "\n",
       "   PURCHASES_INSTALLMENTS_FREQUENCY  CASH_ADVANCE_FREQUENCY  CASH_ADVANCE_TRX  \\\n",
       "0                          0.083333                    0.00                 0   \n",
       "1                          0.000000                    0.25                 4   \n",
       "2                          0.000000                    0.00                 0   \n",
       "\n",
       "   PURCHASES_TRX  Monthly_avg_purchase  Monthly_cash_advance purchase_type  \\\n",
       "0            2.0              7.950000              0.000000   installment   \n",
       "1            0.0              0.000000            536.912124          none   \n",
       "2           12.0             64.430833              0.000000       one_off   \n",
       "\n",
       "   limit_usage  pay_minpay  \n",
       "0     0.040901    1.446508  \n",
       "1     0.457495    3.826241  \n",
       "2     0.332687    0.991682  "
      ]
     },
     "execution_count": 39,
     "metadata": {},
     "output_type": "execute_result"
    }
   ],
   "source": [
    "df.head(3)"
   ]
  },
  {
   "cell_type": "code",
   "execution_count": 40,
   "metadata": {},
   "outputs": [
    {
     "data": {
      "text/plain": [
       "BALANCE_FREQUENCY                   float64\n",
       "ONEOFF_PURCHASES                    float64\n",
       "INSTALLMENTS_PURCHASES              float64\n",
       "PURCHASES_FREQUENCY                 float64\n",
       "ONEOFF_PURCHASES_FREQUENCY          float64\n",
       "PURCHASES_INSTALLMENTS_FREQUENCY    float64\n",
       "CASH_ADVANCE_FREQUENCY              float64\n",
       "CASH_ADVANCE_TRX                      int64\n",
       "PURCHASES_TRX                       float64\n",
       "Monthly_avg_purchase                float64\n",
       "Monthly_cash_advance                float64\n",
       "purchase_type                        object\n",
       "limit_usage                         float64\n",
       "pay_minpay                          float64\n",
       "dtype: object"
      ]
     },
     "execution_count": 40,
     "metadata": {},
     "output_type": "execute_result"
    }
   ],
   "source": [
    "df.dtypes"
   ]
  },
  {
   "cell_type": "markdown",
   "metadata": {},
   "source": [
    "## Creating dummies for purchase_type column "
   ]
  },
  {
   "cell_type": "code",
   "execution_count": 41,
   "metadata": {},
   "outputs": [
    {
     "data": {
      "text/html": [
       "<div>\n",
       "<style scoped>\n",
       "    .dataframe tbody tr th:only-of-type {\n",
       "        vertical-align: middle;\n",
       "    }\n",
       "\n",
       "    .dataframe tbody tr th {\n",
       "        vertical-align: top;\n",
       "    }\n",
       "\n",
       "    .dataframe thead th {\n",
       "        text-align: right;\n",
       "    }\n",
       "</style>\n",
       "<table border=\"1\" class=\"dataframe\">\n",
       "  <thead>\n",
       "    <tr style=\"text-align: right;\">\n",
       "      <th></th>\n",
       "      <th>both</th>\n",
       "      <th>installment</th>\n",
       "      <th>none</th>\n",
       "      <th>one_off</th>\n",
       "    </tr>\n",
       "  </thead>\n",
       "  <tbody>\n",
       "    <tr>\n",
       "      <th>0</th>\n",
       "      <td>0</td>\n",
       "      <td>1</td>\n",
       "      <td>0</td>\n",
       "      <td>0</td>\n",
       "    </tr>\n",
       "    <tr>\n",
       "      <th>1</th>\n",
       "      <td>0</td>\n",
       "      <td>0</td>\n",
       "      <td>1</td>\n",
       "      <td>0</td>\n",
       "    </tr>\n",
       "    <tr>\n",
       "      <th>2</th>\n",
       "      <td>0</td>\n",
       "      <td>0</td>\n",
       "      <td>0</td>\n",
       "      <td>1</td>\n",
       "    </tr>\n",
       "    <tr>\n",
       "      <th>3</th>\n",
       "      <td>0</td>\n",
       "      <td>0</td>\n",
       "      <td>0</td>\n",
       "      <td>1</td>\n",
       "    </tr>\n",
       "    <tr>\n",
       "      <th>4</th>\n",
       "      <td>0</td>\n",
       "      <td>0</td>\n",
       "      <td>0</td>\n",
       "      <td>1</td>\n",
       "    </tr>\n",
       "  </tbody>\n",
       "</table>\n",
       "</div>"
      ],
      "text/plain": [
       "   both  installment  none  one_off\n",
       "0     0            1     0        0\n",
       "1     0            0     1        0\n",
       "2     0            0     0        1\n",
       "3     0            0     0        1\n",
       "4     0            0     0        1"
      ]
     },
     "execution_count": 41,
     "metadata": {},
     "output_type": "execute_result"
    }
   ],
   "source": [
    "# Creating dummies for purchase_type column \n",
    "purchase_dummy=pd.get_dummies(df['purchase_type'])\n",
    "purchase_dummy.head()"
   ]
  },
  {
   "cell_type": "code",
   "execution_count": 42,
   "metadata": {},
   "outputs": [
    {
     "data": {
      "text/plain": [
       "(8950, 18)"
      ]
     },
     "execution_count": 42,
     "metadata": {},
     "output_type": "execute_result"
    }
   ],
   "source": [
    "# merging dummy variables with main dataframe\n",
    "df=pd.concat([df,purchase_dummy],axis=1)\n",
    "df.shape"
   ]
  },
  {
   "cell_type": "code",
   "execution_count": 43,
   "metadata": {},
   "outputs": [
    {
     "data": {
      "text/plain": [
       "(8950, 17)"
      ]
     },
     "execution_count": 43,
     "metadata": {},
     "output_type": "execute_result"
    }
   ],
   "source": [
    "#Dropping 'Purchase_type'column\n",
    "df=df.drop('purchase_type',axis=1)\n",
    "df.shape"
   ]
  },
  {
   "cell_type": "code",
   "execution_count": 44,
   "metadata": {},
   "outputs": [
    {
     "data": {
      "text/html": [
       "<div>\n",
       "<style scoped>\n",
       "    .dataframe tbody tr th:only-of-type {\n",
       "        vertical-align: middle;\n",
       "    }\n",
       "\n",
       "    .dataframe tbody tr th {\n",
       "        vertical-align: top;\n",
       "    }\n",
       "\n",
       "    .dataframe thead th {\n",
       "        text-align: right;\n",
       "    }\n",
       "</style>\n",
       "<table border=\"1\" class=\"dataframe\">\n",
       "  <thead>\n",
       "    <tr style=\"text-align: right;\">\n",
       "      <th></th>\n",
       "      <th>count</th>\n",
       "      <th>mean</th>\n",
       "      <th>std</th>\n",
       "      <th>min</th>\n",
       "      <th>25%</th>\n",
       "      <th>50%</th>\n",
       "      <th>75%</th>\n",
       "      <th>max</th>\n",
       "    </tr>\n",
       "  </thead>\n",
       "  <tbody>\n",
       "    <tr>\n",
       "      <th>BALANCE_FREQUENCY</th>\n",
       "      <td>8950.0</td>\n",
       "      <td>0.878083</td>\n",
       "      <td>0.234032</td>\n",
       "      <td>0.090909</td>\n",
       "      <td>0.888889</td>\n",
       "      <td>1.000000</td>\n",
       "      <td>1.000000</td>\n",
       "      <td>1.000000</td>\n",
       "    </tr>\n",
       "    <tr>\n",
       "      <th>ONEOFF_PURCHASES</th>\n",
       "      <td>8950.0</td>\n",
       "      <td>536.493774</td>\n",
       "      <td>1096.913512</td>\n",
       "      <td>0.000000</td>\n",
       "      <td>0.000000</td>\n",
       "      <td>38.000000</td>\n",
       "      <td>577.405000</td>\n",
       "      <td>6689.898200</td>\n",
       "    </tr>\n",
       "    <tr>\n",
       "      <th>INSTALLMENTS_PURCHASES</th>\n",
       "      <td>8950.0</td>\n",
       "      <td>384.498368</td>\n",
       "      <td>676.271068</td>\n",
       "      <td>0.000000</td>\n",
       "      <td>0.000000</td>\n",
       "      <td>89.000000</td>\n",
       "      <td>468.637500</td>\n",
       "      <td>3886.240500</td>\n",
       "    </tr>\n",
       "    <tr>\n",
       "      <th>PURCHASES_FREQUENCY</th>\n",
       "      <td>8950.0</td>\n",
       "      <td>0.490351</td>\n",
       "      <td>0.401371</td>\n",
       "      <td>0.000000</td>\n",
       "      <td>0.083333</td>\n",
       "      <td>0.500000</td>\n",
       "      <td>0.916667</td>\n",
       "      <td>1.000000</td>\n",
       "    </tr>\n",
       "    <tr>\n",
       "      <th>ONEOFF_PURCHASES_FREQUENCY</th>\n",
       "      <td>8950.0</td>\n",
       "      <td>0.202458</td>\n",
       "      <td>0.298336</td>\n",
       "      <td>0.000000</td>\n",
       "      <td>0.000000</td>\n",
       "      <td>0.083333</td>\n",
       "      <td>0.300000</td>\n",
       "      <td>1.000000</td>\n",
       "    </tr>\n",
       "    <tr>\n",
       "      <th>PURCHASES_INSTALLMENTS_FREQUENCY</th>\n",
       "      <td>8950.0</td>\n",
       "      <td>0.364437</td>\n",
       "      <td>0.397448</td>\n",
       "      <td>0.000000</td>\n",
       "      <td>0.000000</td>\n",
       "      <td>0.166667</td>\n",
       "      <td>0.750000</td>\n",
       "      <td>1.000000</td>\n",
       "    </tr>\n",
       "    <tr>\n",
       "      <th>CASH_ADVANCE_FREQUENCY</th>\n",
       "      <td>8950.0</td>\n",
       "      <td>0.134017</td>\n",
       "      <td>0.195550</td>\n",
       "      <td>0.000000</td>\n",
       "      <td>0.000000</td>\n",
       "      <td>0.000000</td>\n",
       "      <td>0.222222</td>\n",
       "      <td>0.833333</td>\n",
       "    </tr>\n",
       "    <tr>\n",
       "      <th>CASH_ADVANCE_TRX</th>\n",
       "      <td>8950.0</td>\n",
       "      <td>3.079330</td>\n",
       "      <td>5.523724</td>\n",
       "      <td>0.000000</td>\n",
       "      <td>0.000000</td>\n",
       "      <td>0.000000</td>\n",
       "      <td>4.000000</td>\n",
       "      <td>29.000000</td>\n",
       "    </tr>\n",
       "    <tr>\n",
       "      <th>PURCHASES_TRX</th>\n",
       "      <td>8950.0</td>\n",
       "      <td>14.151385</td>\n",
       "      <td>20.962159</td>\n",
       "      <td>0.000000</td>\n",
       "      <td>1.000000</td>\n",
       "      <td>7.000000</td>\n",
       "      <td>17.000000</td>\n",
       "      <td>116.510000</td>\n",
       "    </tr>\n",
       "    <tr>\n",
       "      <th>Monthly_avg_purchase</th>\n",
       "      <td>8950.0</td>\n",
       "      <td>80.448360</td>\n",
       "      <td>128.990235</td>\n",
       "      <td>0.000000</td>\n",
       "      <td>3.399375</td>\n",
       "      <td>31.936667</td>\n",
       "      <td>97.228333</td>\n",
       "      <td>748.107500</td>\n",
       "    </tr>\n",
       "    <tr>\n",
       "      <th>Monthly_cash_advance</th>\n",
       "      <td>8950.0</td>\n",
       "      <td>83.743740</td>\n",
       "      <td>158.284750</td>\n",
       "      <td>0.000000</td>\n",
       "      <td>0.000000</td>\n",
       "      <td>0.000000</td>\n",
       "      <td>99.085196</td>\n",
       "      <td>799.013613</td>\n",
       "    </tr>\n",
       "    <tr>\n",
       "      <th>limit_usage</th>\n",
       "      <td>8950.0</td>\n",
       "      <td>0.384067</td>\n",
       "      <td>0.348692</td>\n",
       "      <td>0.000065</td>\n",
       "      <td>0.041450</td>\n",
       "      <td>0.301987</td>\n",
       "      <td>0.708236</td>\n",
       "      <td>1.052809</td>\n",
       "    </tr>\n",
       "    <tr>\n",
       "      <th>pay_minpay</th>\n",
       "      <td>8950.0</td>\n",
       "      <td>5.073413</td>\n",
       "      <td>7.588126</td>\n",
       "      <td>0.000000</td>\n",
       "      <td>0.913275</td>\n",
       "      <td>2.021399</td>\n",
       "      <td>6.013141</td>\n",
       "      <td>45.189570</td>\n",
       "    </tr>\n",
       "    <tr>\n",
       "      <th>both</th>\n",
       "      <td>8950.0</td>\n",
       "      <td>0.309944</td>\n",
       "      <td>0.462496</td>\n",
       "      <td>0.000000</td>\n",
       "      <td>0.000000</td>\n",
       "      <td>0.000000</td>\n",
       "      <td>1.000000</td>\n",
       "      <td>1.000000</td>\n",
       "    </tr>\n",
       "    <tr>\n",
       "      <th>installment</th>\n",
       "      <td>8950.0</td>\n",
       "      <td>0.252514</td>\n",
       "      <td>0.434479</td>\n",
       "      <td>0.000000</td>\n",
       "      <td>0.000000</td>\n",
       "      <td>0.000000</td>\n",
       "      <td>1.000000</td>\n",
       "      <td>1.000000</td>\n",
       "    </tr>\n",
       "    <tr>\n",
       "      <th>none</th>\n",
       "      <td>8950.0</td>\n",
       "      <td>0.228156</td>\n",
       "      <td>0.419667</td>\n",
       "      <td>0.000000</td>\n",
       "      <td>0.000000</td>\n",
       "      <td>0.000000</td>\n",
       "      <td>0.000000</td>\n",
       "      <td>1.000000</td>\n",
       "    </tr>\n",
       "    <tr>\n",
       "      <th>one_off</th>\n",
       "      <td>8950.0</td>\n",
       "      <td>0.209385</td>\n",
       "      <td>0.406893</td>\n",
       "      <td>0.000000</td>\n",
       "      <td>0.000000</td>\n",
       "      <td>0.000000</td>\n",
       "      <td>0.000000</td>\n",
       "      <td>1.000000</td>\n",
       "    </tr>\n",
       "  </tbody>\n",
       "</table>\n",
       "</div>"
      ],
      "text/plain": [
       "                                   count        mean          std       min  \\\n",
       "BALANCE_FREQUENCY                 8950.0    0.878083     0.234032  0.090909   \n",
       "ONEOFF_PURCHASES                  8950.0  536.493774  1096.913512  0.000000   \n",
       "INSTALLMENTS_PURCHASES            8950.0  384.498368   676.271068  0.000000   \n",
       "PURCHASES_FREQUENCY               8950.0    0.490351     0.401371  0.000000   \n",
       "ONEOFF_PURCHASES_FREQUENCY        8950.0    0.202458     0.298336  0.000000   \n",
       "PURCHASES_INSTALLMENTS_FREQUENCY  8950.0    0.364437     0.397448  0.000000   \n",
       "CASH_ADVANCE_FREQUENCY            8950.0    0.134017     0.195550  0.000000   \n",
       "CASH_ADVANCE_TRX                  8950.0    3.079330     5.523724  0.000000   \n",
       "PURCHASES_TRX                     8950.0   14.151385    20.962159  0.000000   \n",
       "Monthly_avg_purchase              8950.0   80.448360   128.990235  0.000000   \n",
       "Monthly_cash_advance              8950.0   83.743740   158.284750  0.000000   \n",
       "limit_usage                       8950.0    0.384067     0.348692  0.000065   \n",
       "pay_minpay                        8950.0    5.073413     7.588126  0.000000   \n",
       "both                              8950.0    0.309944     0.462496  0.000000   \n",
       "installment                       8950.0    0.252514     0.434479  0.000000   \n",
       "none                              8950.0    0.228156     0.419667  0.000000   \n",
       "one_off                           8950.0    0.209385     0.406893  0.000000   \n",
       "\n",
       "                                       25%        50%         75%          max  \n",
       "BALANCE_FREQUENCY                 0.888889   1.000000    1.000000     1.000000  \n",
       "ONEOFF_PURCHASES                  0.000000  38.000000  577.405000  6689.898200  \n",
       "INSTALLMENTS_PURCHASES            0.000000  89.000000  468.637500  3886.240500  \n",
       "PURCHASES_FREQUENCY               0.083333   0.500000    0.916667     1.000000  \n",
       "ONEOFF_PURCHASES_FREQUENCY        0.000000   0.083333    0.300000     1.000000  \n",
       "PURCHASES_INSTALLMENTS_FREQUENCY  0.000000   0.166667    0.750000     1.000000  \n",
       "CASH_ADVANCE_FREQUENCY            0.000000   0.000000    0.222222     0.833333  \n",
       "CASH_ADVANCE_TRX                  0.000000   0.000000    4.000000    29.000000  \n",
       "PURCHASES_TRX                     1.000000   7.000000   17.000000   116.510000  \n",
       "Monthly_avg_purchase              3.399375  31.936667   97.228333   748.107500  \n",
       "Monthly_cash_advance              0.000000   0.000000   99.085196   799.013613  \n",
       "limit_usage                       0.041450   0.301987    0.708236     1.052809  \n",
       "pay_minpay                        0.913275   2.021399    6.013141    45.189570  \n",
       "both                              0.000000   0.000000    1.000000     1.000000  \n",
       "installment                       0.000000   0.000000    1.000000     1.000000  \n",
       "none                              0.000000   0.000000    0.000000     1.000000  \n",
       "one_off                           0.000000   0.000000    0.000000     1.000000  "
      ]
     },
     "execution_count": 44,
     "metadata": {},
     "output_type": "execute_result"
    }
   ],
   "source": [
    "df.describe().T"
   ]
  },
  {
   "cell_type": "code",
   "execution_count": 45,
   "metadata": {},
   "outputs": [
    {
     "data": {
      "image/png": "[encoded data removed]",
      "text/plain": [
       "<Figure size 720x504 with 2 Axes>"
      ]
     },
     "metadata": {
      "needs_background": "light"
     },
     "output_type": "display_data"
    }
   ],
   "source": [
    "#sns.heatmap(df.corr())\n",
    "plt.figure(figsize=(10,7))\n",
    "matrix = np.triu(df.corr())\n",
    "sns.heatmap(df.corr(), annot=True, cmap='coolwarm',mask=matrix);"
   ]
  },
  {
   "cell_type": "code",
   "execution_count": 46,
   "metadata": {},
   "outputs": [
    {
     "data": {
      "text/plain": [
       "Series([], dtype: float64)"
      ]
     },
     "execution_count": 46,
     "metadata": {},
     "output_type": "execute_result"
    }
   ],
   "source": [
    "#finding high correlations\n",
    "cutoff=0.90\n",
    "df.corr().unstack().sort_values().where(lambda x: (abs(x)>cutoff)&(abs(x)!=1)).dropna()"
   ]
  },
  {
   "cell_type": "markdown",
   "metadata": {},
   "source": [
    "So there is no such columns having correlation coeff more than 90%"
   ]
  },
  {
   "cell_type": "code",
   "execution_count": 48,
   "metadata": {},
   "outputs": [],
   "source": [
    "#finding high correlations\n",
    "#cutoff=0.80\n",
    "#df.corr().unstack().sort_values().where(lambda x: (abs(x)>cutoff)&(abs(x)!=1)).dropna()"
   ]
  },
  {
   "cell_type": "markdown",
   "metadata": {},
   "source": [
    "<div style=\"background-color:#9ACD32;text-align:center;font-size: 250%\"><strong><br>\n",
    "Principal Component Analysis\n",
    "<br><br></strong></div>"
   ]
  },
  {
   "cell_type": "markdown",
   "metadata": {},
   "source": [
    "## Standardizing Data"
   ]
  },
  {
   "cell_type": "code",
   "execution_count": 51,
   "metadata": {},
   "outputs": [],
   "source": [
    "sc=StandardScaler()"
   ]
  },
  {
   "cell_type": "code",
   "execution_count": 52,
   "metadata": {},
   "outputs": [],
   "source": [
    "df_scaled=sc.fit_transform(df)"
   ]
  },
  {
   "cell_type": "markdown",
   "metadata": {},
   "source": [
    "## PCA"
   ]
  },
  {
   "cell_type": "code",
   "execution_count": 54,
   "metadata": {},
   "outputs": [
    {
     "data": {
      "text/plain": [
       "{1: 0.3255614875850221,\n",
       " 2: 0.502070364373762,\n",
       " 3: 0.6286447906289514,\n",
       " 4: 0.7143597584701993,\n",
       " 5: 0.7839611393739014,\n",
       " 6: 0.8359169061572596,\n",
       " 7: 0.8707118571350897,\n",
       " 8: 0.9018714427035167,\n",
       " 9: 0.926414702411146,\n",
       " 10: 0.9474105378336021,\n",
       " 11: 0.967382406639526,\n",
       " 12: 0.9796746390581899,\n",
       " 13: 0.9903904721274461,\n",
       " 14: 0.9968972049548616,\n",
       " 15: 0.998959703332314,\n",
       " 16: 0.9999999999999999,\n",
       " 17: 0.9999999999999999}"
      ]
     },
     "execution_count": 54,
     "metadata": {},
     "output_type": "execute_result"
    }
   ],
   "source": [
    "var_ratio={}\n",
    "\n",
    "for n in range(1,18):\n",
    "    pc=PCA(n_components=n)\n",
    "    df_pca=pc.fit(df_scaled)\n",
    "    var_ratio[n]=sum(df_pca.explained_variance_ratio_)\n",
    "    \n",
    "var_ratio"
   ]
  },
  {
   "cell_type": "code",
   "execution_count": 55,
   "metadata": {},
   "outputs": [
    {
     "data": {
      "image/png": "[encoded data removed]",
      "text/plain": [
       "<Figure size 720x360 with 1 Axes>"
      ]
     },
     "metadata": {
      "needs_background": "light"
     },
     "output_type": "display_data"
    }
   ],
   "source": [
    "plt.figure(figsize=(10,5))\n",
    "plt.plot(list(var_ratio.keys()),\n",
    "         list(var_ratio.values()),\n",
    "         color='green', \n",
    "         linestyle='dashed', \n",
    "         marker='o',\n",
    "         markerfacecolor='red', \n",
    "         markersize=5,\n",
    "        );\n",
    "plt.xlabel(\"no. of principal components\",fontsize=15)\n",
    "plt.ylabel(\"explained variance ratio\",fontsize=15);"
   ]
  },
  {
   "cell_type": "markdown",
   "metadata": {},
   "source": [
    "## Choosing no of principal components:\n",
    "<div class='alert alert-success'><strong>NOTE:</strong>\n",
    " <br>* If we take n=5, almost 78% variance is explained\n",
    "<br>* If we take n=6, almost 84% variance is explained</div>"
   ]
  },
  {
   "cell_type": "code",
   "execution_count": 56,
   "metadata": {},
   "outputs": [
    {
     "data": {
      "text/plain": [
       "array([5.53516374, 3.00098621, 2.15200569, 1.45731728, 1.18335569,\n",
       "       0.88334673])"
      ]
     },
     "execution_count": 56,
     "metadata": {},
     "output_type": "execute_result"
    }
   ],
   "source": [
    "#taking 6  components\n",
    "pc_final=PCA(n_components=6).fit(df_scaled)\n",
    "pc_final.explained_variance_"
   ]
  },
  {
   "cell_type": "code",
   "execution_count": 57,
   "metadata": {},
   "outputs": [
    {
     "data": {
      "text/plain": [
       "(8950, 6)"
      ]
     },
     "execution_count": 57,
     "metadata": {},
     "output_type": "execute_result"
    }
   ],
   "source": [
    "reduced_df=pc_final.fit_transform(df_scaled)\n",
    "reduced_df.shape"
   ]
  },
  {
   "cell_type": "code",
   "execution_count": 58,
   "metadata": {},
   "outputs": [
    {
     "data": {
      "text/html": [
       "<div>\n",
       "<style scoped>\n",
       "    .dataframe tbody tr th:only-of-type {\n",
       "        vertical-align: middle;\n",
       "    }\n",
       "\n",
       "    .dataframe tbody tr th {\n",
       "        vertical-align: top;\n",
       "    }\n",
       "\n",
       "    .dataframe thead th {\n",
       "        text-align: right;\n",
       "    }\n",
       "</style>\n",
       "<table border=\"1\" class=\"dataframe\">\n",
       "  <thead>\n",
       "    <tr style=\"text-align: right;\">\n",
       "      <th></th>\n",
       "      <th>BALANCE_FREQUENCY</th>\n",
       "      <th>ONEOFF_PURCHASES</th>\n",
       "      <th>INSTALLMENTS_PURCHASES</th>\n",
       "      <th>PURCHASES_FREQUENCY</th>\n",
       "      <th>ONEOFF_PURCHASES_FREQUENCY</th>\n",
       "      <th>PURCHASES_INSTALLMENTS_FREQUENCY</th>\n",
       "      <th>CASH_ADVANCE_FREQUENCY</th>\n",
       "      <th>CASH_ADVANCE_TRX</th>\n",
       "      <th>PURCHASES_TRX</th>\n",
       "      <th>Monthly_avg_purchase</th>\n",
       "      <th>Monthly_cash_advance</th>\n",
       "      <th>limit_usage</th>\n",
       "      <th>pay_minpay</th>\n",
       "      <th>both</th>\n",
       "      <th>installment</th>\n",
       "      <th>none</th>\n",
       "      <th>one_off</th>\n",
       "    </tr>\n",
       "  </thead>\n",
       "  <tbody>\n",
       "    <tr>\n",
       "      <th>PC_0</th>\n",
       "      <td>0.068765</td>\n",
       "      <td>0.282642</td>\n",
       "      <td>0.307977</td>\n",
       "      <td>0.357227</td>\n",
       "      <td>0.276231</td>\n",
       "      <td>0.309905</td>\n",
       "      <td>-0.182521</td>\n",
       "      <td>-0.152189</td>\n",
       "      <td>0.357525</td>\n",
       "      <td>0.347309</td>\n",
       "      <td>-0.151204</td>\n",
       "      <td>-0.120449</td>\n",
       "      <td>0.142207</td>\n",
       "      <td>0.285108</td>\n",
       "      <td>0.022886</td>\n",
       "      <td>-0.265990</td>\n",
       "      <td>-0.074166</td>\n",
       "    </tr>\n",
       "    <tr>\n",
       "      <th>PC_1</th>\n",
       "      <td>0.254756</td>\n",
       "      <td>0.228886</td>\n",
       "      <td>0.061216</td>\n",
       "      <td>-0.060638</td>\n",
       "      <td>0.210602</td>\n",
       "      <td>-0.104641</td>\n",
       "      <td>0.424433</td>\n",
       "      <td>0.417376</td>\n",
       "      <td>0.157449</td>\n",
       "      <td>0.198600</td>\n",
       "      <td>0.366616</td>\n",
       "      <td>0.286328</td>\n",
       "      <td>0.017880</td>\n",
       "      <td>0.177257</td>\n",
       "      <td>-0.354871</td>\n",
       "      <td>0.165198</td>\n",
       "      <td>0.007066</td>\n",
       "    </tr>\n",
       "    <tr>\n",
       "      <th>PC_2</th>\n",
       "      <td>-0.217545</td>\n",
       "      <td>0.274598</td>\n",
       "      <td>-0.201556</td>\n",
       "      <td>-0.204916</td>\n",
       "      <td>0.293737</td>\n",
       "      <td>-0.397102</td>\n",
       "      <td>-0.173053</td>\n",
       "      <td>-0.181450</td>\n",
       "      <td>-0.045661</td>\n",
       "      <td>0.112410</td>\n",
       "      <td>-0.148156</td>\n",
       "      <td>-0.179534</td>\n",
       "      <td>0.225520</td>\n",
       "      <td>-0.032397</td>\n",
       "      <td>-0.375114</td>\n",
       "      <td>-0.035850</td>\n",
       "      <td>0.474345</td>\n",
       "    </tr>\n",
       "    <tr>\n",
       "      <th>PC_3</th>\n",
       "      <td>-0.478656</td>\n",
       "      <td>0.030456</td>\n",
       "      <td>0.150887</td>\n",
       "      <td>-0.087980</td>\n",
       "      <td>-0.142616</td>\n",
       "      <td>0.032033</td>\n",
       "      <td>0.154366</td>\n",
       "      <td>0.194026</td>\n",
       "      <td>0.022101</td>\n",
       "      <td>0.094769</td>\n",
       "      <td>0.258841</td>\n",
       "      <td>-0.430980</td>\n",
       "      <td>0.546292</td>\n",
       "      <td>-0.036497</td>\n",
       "      <td>0.100586</td>\n",
       "      <td>0.166885</td>\n",
       "      <td>-0.238045</td>\n",
       "    </tr>\n",
       "    <tr>\n",
       "      <th>PC_4</th>\n",
       "      <td>-0.058277</td>\n",
       "      <td>-0.011739</td>\n",
       "      <td>-0.076184</td>\n",
       "      <td>0.223909</td>\n",
       "      <td>0.086255</td>\n",
       "      <td>0.071798</td>\n",
       "      <td>0.221020</td>\n",
       "      <td>0.297105</td>\n",
       "      <td>-0.027532</td>\n",
       "      <td>-0.032875</td>\n",
       "      <td>0.257470</td>\n",
       "      <td>-0.111530</td>\n",
       "      <td>-0.038020</td>\n",
       "      <td>-0.250741</td>\n",
       "      <td>0.319505</td>\n",
       "      <td>-0.540685</td>\n",
       "      <td>0.501500</td>\n",
       "    </tr>\n",
       "    <tr>\n",
       "      <th>PC_5</th>\n",
       "      <td>0.147013</td>\n",
       "      <td>0.269195</td>\n",
       "      <td>0.280146</td>\n",
       "      <td>-0.165600</td>\n",
       "      <td>-0.180038</td>\n",
       "      <td>-0.090468</td>\n",
       "      <td>-0.067612</td>\n",
       "      <td>-0.105787</td>\n",
       "      <td>0.141445</td>\n",
       "      <td>0.346508</td>\n",
       "      <td>-0.052429</td>\n",
       "      <td>0.292303</td>\n",
       "      <td>0.111130</td>\n",
       "      <td>-0.589443</td>\n",
       "      <td>0.315459</td>\n",
       "      <td>0.199921</td>\n",
       "      <td>0.126948</td>\n",
       "    </tr>\n",
       "  </tbody>\n",
       "</table>\n",
       "</div>"
      ],
      "text/plain": [
       "      BALANCE_FREQUENCY  ONEOFF_PURCHASES  INSTALLMENTS_PURCHASES  \\\n",
       "PC_0           0.068765          0.282642                0.307977   \n",
       "PC_1           0.254756          0.228886                0.061216   \n",
       "PC_2          -0.217545          0.274598               -0.201556   \n",
       "PC_3          -0.478656          0.030456                0.150887   \n",
       "PC_4          -0.058277         -0.011739               -0.076184   \n",
       "PC_5           0.147013          0.269195                0.280146   \n",
       "\n",
       "      PURCHASES_FREQUENCY  ONEOFF_PURCHASES_FREQUENCY  \\\n",
       "PC_0             0.357227                    0.276231   \n",
       "PC_1            -0.060638                    0.210602   \n",
       "PC_2            -0.204916                    0.293737   \n",
       "PC_3            -0.087980                   -0.142616   \n",
       "PC_4             0.223909                    0.086255   \n",
       "PC_5            -0.165600                   -0.180038   \n",
       "\n",
       "      PURCHASES_INSTALLMENTS_FREQUENCY  CASH_ADVANCE_FREQUENCY  \\\n",
       "PC_0                          0.309905               -0.182521   \n",
       "PC_1                         -0.104641                0.424433   \n",
       "PC_2                         -0.397102               -0.173053   \n",
       "PC_3                          0.032033                0.154366   \n",
       "PC_4                          0.071798                0.221020   \n",
       "PC_5                         -0.090468               -0.067612   \n",
       "\n",
       "      CASH_ADVANCE_TRX  PURCHASES_TRX  Monthly_avg_purchase  \\\n",
       "PC_0         -0.152189       0.357525              0.347309   \n",
       "PC_1          0.417376       0.157449              0.198600   \n",
       "PC_2         -0.181450      -0.045661              0.112410   \n",
       "PC_3          0.194026       0.022101              0.094769   \n",
       "PC_4          0.297105      -0.027532             -0.032875   \n",
       "PC_5         -0.105787       0.141445              0.346508   \n",
       "\n",
       "      Monthly_cash_advance  limit_usage  pay_minpay      both  installment  \\\n",
       "PC_0             -0.151204    -0.120449    0.142207  0.285108     0.022886   \n",
       "PC_1              0.366616     0.286328    0.017880  0.177257    -0.354871   \n",
       "PC_2             -0.148156    -0.179534    0.225520 -0.032397    -0.375114   \n",
       "PC_3              0.258841    -0.430980    0.546292 -0.036497     0.100586   \n",
       "PC_4              0.257470    -0.111530   -0.038020 -0.250741     0.319505   \n",
       "PC_5             -0.052429     0.292303    0.111130 -0.589443     0.315459   \n",
       "\n",
       "          none   one_off  \n",
       "PC_0 -0.265990 -0.074166  \n",
       "PC_1  0.165198  0.007066  \n",
       "PC_2 -0.035850  0.474345  \n",
       "PC_3  0.166885 -0.238045  \n",
       "PC_4 -0.540685  0.501500  \n",
       "PC_5  0.199921  0.126948  "
      ]
     },
     "execution_count": 58,
     "metadata": {},
     "output_type": "execute_result"
    }
   ],
   "source": [
    "pd.DataFrame(pc_final.components_.T, columns=['PC_' +str(i) for i in range(6)],index=df.columns).T"
   ]
  },
  {
   "cell_type": "code",
   "execution_count": 59,
   "metadata": {},
   "outputs": [
    {
     "data": {
      "text/plain": [
       "PC_0    0.325561\n",
       "PC_1    0.176509\n",
       "PC_2    0.126574\n",
       "PC_3    0.085715\n",
       "PC_4    0.069601\n",
       "PC_5    0.051956\n",
       "dtype: float64"
      ]
     },
     "execution_count": 59,
     "metadata": {},
     "output_type": "execute_result"
    }
   ],
   "source": [
    "# Factor analysis\n",
    "pd.Series(pc_final.explained_variance_ratio_,index=['PC_'+str(i) for i in range(6)])"
   ]
  },
  {
   "cell_type": "markdown",
   "metadata": {},
   "source": [
    "<div style=\"background-color:#9ACD32;text-align:center;font-size: 250%\"><strong><br>\n",
    "K-Means Clustering\n",
    "<br><br></strong></div>\n"
   ]
  },
  {
   "cell_type": "code",
   "execution_count": 61,
   "metadata": {},
   "outputs": [
    {
     "data": {
      "image/png": "[encoded data removed]",
      "text/plain": [
       "<Figure size 720x288 with 1 Axes>"
      ]
     },
     "metadata": {
      "needs_background": "light"
     },
     "output_type": "display_data"
    }
   ],
   "source": [
    "#Choosing k value using elbow method\n",
    "sse={}\n",
    "for k in range(1, 20):\n",
    "    kmeans = KMeans(n_clusters=k, max_iter=1000).fit(reduced_df)\n",
    "    sse[k] = kmeans.inertia_ \n",
    "    \n",
    "plt.figure(figsize=(10,4))\n",
    "plt.plot(list(sse.keys()), list(sse.values()), color='green', \n",
    "                                              linestyle='dashed', \n",
    "                                              marker='o',\n",
    "                                              markerfacecolor='red', \n",
    "                                              markersize=6)\n",
    "plt.xlabel(\"Number of clusters\",fontsize=12);"
   ]
  },
  {
   "cell_type": "markdown",
   "metadata": {},
   "source": [
    "# K-means clustering with 4 clusters"
   ]
  },
  {
   "cell_type": "code",
   "execution_count": 62,
   "metadata": {},
   "outputs": [
    {
     "data": {
      "text/plain": [
       "KMeans(n_clusters=4, random_state=123)"
      ]
     },
     "execution_count": 62,
     "metadata": {},
     "output_type": "execute_result"
    }
   ],
   "source": [
    "#K-means clustering with 4 clusters\n",
    "km_4=KMeans(n_clusters=4,random_state=123)\n",
    "km_4.fit(reduced_df)"
   ]
  },
  {
   "cell_type": "code",
   "execution_count": 63,
   "metadata": {},
   "outputs": [
    {
     "data": {
      "text/plain": [
       "1    2428\n",
       "3    2403\n",
       "2    2223\n",
       "0    1896\n",
       "dtype: int64"
      ]
     },
     "execution_count": 63,
     "metadata": {},
     "output_type": "execute_result"
    }
   ],
   "source": [
    "pd.Series(km_4.labels_).value_counts()"
   ]
  },
  {
   "cell_type": "code",
   "execution_count": 64,
   "metadata": {},
   "outputs": [
    {
     "data": {
      "image/png": "[encoded data removed]",
      "text/plain": [
       "<Figure size 504x504 with 1 Axes>"
      ]
     },
     "metadata": {
      "needs_background": "light"
     },
     "output_type": "display_data"
    }
   ],
   "source": [
    "color_map={0:'r',1:'b',2:'g',3:'y'}\n",
    "label_color=[color_map[label] for label in km_4.labels_]\n",
    "\n",
    "plt.figure(figsize=(7,7))\n",
    "plt.scatter(reduced_df[:,0],\n",
    "            reduced_df[:,1],\n",
    "            c=label_color,\n",
    "            #cmap=color_map,\n",
    "            cmap='Spectral',\n",
    "            alpha=0.5\n",
    "           );"
   ]
  },
  {
   "cell_type": "code",
   "execution_count": 65,
   "metadata": {},
   "outputs": [
    {
     "data": {
      "text/plain": [
       "0.3458501915774598"
      ]
     },
     "execution_count": 65,
     "metadata": {},
     "output_type": "execute_result"
    }
   ],
   "source": [
    "silhouette_score(reduced_df,km_4.labels_)"
   ]
  },
  {
   "cell_type": "code",
   "execution_count": 66,
   "metadata": {},
   "outputs": [
    {
     "data": {
      "text/html": [
       "<div>\n",
       "<style scoped>\n",
       "    .dataframe tbody tr th:only-of-type {\n",
       "        vertical-align: middle;\n",
       "    }\n",
       "\n",
       "    .dataframe tbody tr th {\n",
       "        vertical-align: top;\n",
       "    }\n",
       "\n",
       "    .dataframe thead th {\n",
       "        text-align: right;\n",
       "    }\n",
       "</style>\n",
       "<table border=\"1\" class=\"dataframe\">\n",
       "  <thead>\n",
       "    <tr style=\"text-align: right;\">\n",
       "      <th></th>\n",
       "      <th>PC_0</th>\n",
       "      <th>PC_1</th>\n",
       "      <th>PC_2</th>\n",
       "      <th>PC_3</th>\n",
       "      <th>PC_4</th>\n",
       "      <th>PC_5</th>\n",
       "      <th>Cluster_k4</th>\n",
       "    </tr>\n",
       "  </thead>\n",
       "  <tbody>\n",
       "    <tr>\n",
       "      <th>0</th>\n",
       "      <td>-1.013159</td>\n",
       "      <td>-2.256969</td>\n",
       "      <td>-0.263624</td>\n",
       "      <td>0.163539</td>\n",
       "      <td>0.226002</td>\n",
       "      <td>0.309919</td>\n",
       "      <td>2</td>\n",
       "    </tr>\n",
       "    <tr>\n",
       "      <th>1</th>\n",
       "      <td>-2.941071</td>\n",
       "      <td>1.499973</td>\n",
       "      <td>-0.374943</td>\n",
       "      <td>1.016663</td>\n",
       "      <td>-0.687166</td>\n",
       "      <td>0.173886</td>\n",
       "      <td>3</td>\n",
       "    </tr>\n",
       "    <tr>\n",
       "      <th>2</th>\n",
       "      <td>0.777119</td>\n",
       "      <td>-0.069528</td>\n",
       "      <td>2.324720</td>\n",
       "      <td>-2.033577</td>\n",
       "      <td>1.300766</td>\n",
       "      <td>-0.310936</td>\n",
       "      <td>0</td>\n",
       "    </tr>\n",
       "    <tr>\n",
       "      <th>3</th>\n",
       "      <td>-0.934291</td>\n",
       "      <td>-0.608936</td>\n",
       "      <td>2.391331</td>\n",
       "      <td>-0.403537</td>\n",
       "      <td>0.822325</td>\n",
       "      <td>0.497690</td>\n",
       "      <td>0</td>\n",
       "    </tr>\n",
       "    <tr>\n",
       "      <th>4</th>\n",
       "      <td>-1.527332</td>\n",
       "      <td>-0.625370</td>\n",
       "      <td>1.542885</td>\n",
       "      <td>-1.776345</td>\n",
       "      <td>0.442489</td>\n",
       "      <td>0.509362</td>\n",
       "      <td>0</td>\n",
       "    </tr>\n",
       "  </tbody>\n",
       "</table>\n",
       "</div>"
      ],
      "text/plain": [
       "       PC_0      PC_1      PC_2      PC_3      PC_4      PC_5  Cluster_k4\n",
       "0 -1.013159 -2.256969 -0.263624  0.163539  0.226002  0.309919           2\n",
       "1 -2.941071  1.499973 -0.374943  1.016663 -0.687166  0.173886           3\n",
       "2  0.777119 -0.069528  2.324720 -2.033577  1.300766 -0.310936           0\n",
       "3 -0.934291 -0.608936  2.391331 -0.403537  0.822325  0.497690           0\n",
       "4 -1.527332 -0.625370  1.542885 -1.776345  0.442489  0.509362           0"
      ]
     },
     "execution_count": 66,
     "metadata": {},
     "output_type": "execute_result"
    }
   ],
   "source": [
    "df_pair_plot=pd.DataFrame(reduced_df,columns=['PC_' +str(i) for i in range(6)])\n",
    "df_pair_plot['Cluster_k4']=km_4.labels_\n",
    "df_pair_plot.head()"
   ]
  },
  {
   "cell_type": "code",
   "execution_count": 67,
   "metadata": {},
   "outputs": [
    {
     "name": "stdout",
     "output_type": "stream",
     "text": [
      "--------------------------------------------------\n",
      "Average of different features for each 4 clusters\n",
      "--------------------------------------------------\n"
     ]
    },
    {
     "data": {
      "text/html": [
       "<div>\n",
       "<style scoped>\n",
       "    .dataframe tbody tr th:only-of-type {\n",
       "        vertical-align: middle;\n",
       "    }\n",
       "\n",
       "    .dataframe tbody tr th {\n",
       "        vertical-align: top;\n",
       "    }\n",
       "\n",
       "    .dataframe thead th {\n",
       "        text-align: right;\n",
       "    }\n",
       "</style>\n",
       "<table border=\"1\" class=\"dataframe\">\n",
       "  <thead>\n",
       "    <tr style=\"text-align: right;\">\n",
       "      <th>Cluster_k4</th>\n",
       "      <th>0</th>\n",
       "      <th>1</th>\n",
       "      <th>2</th>\n",
       "      <th>3</th>\n",
       "    </tr>\n",
       "  </thead>\n",
       "  <tbody>\n",
       "    <tr>\n",
       "      <th>BALANCE_FREQUENCY</th>\n",
       "      <td>0.818316</td>\n",
       "      <td>0.965576</td>\n",
       "      <td>0.813883</td>\n",
       "      <td>0.896228</td>\n",
       "    </tr>\n",
       "    <tr>\n",
       "      <th>ONEOFF_PURCHASES</th>\n",
       "      <td>655.271471</td>\n",
       "      <td>1425.397055</td>\n",
       "      <td>2.245277</td>\n",
       "      <td>38.855293</td>\n",
       "    </tr>\n",
       "    <tr>\n",
       "      <th>INSTALLMENTS_PURCHASES</th>\n",
       "      <td>10.263560</td>\n",
       "      <td>924.755256</td>\n",
       "      <td>504.661347</td>\n",
       "      <td>22.735227</td>\n",
       "    </tr>\n",
       "    <tr>\n",
       "      <th>PURCHASES_FREQUENCY</th>\n",
       "      <td>0.320393</td>\n",
       "      <td>0.862522</td>\n",
       "      <td>0.702121</td>\n",
       "      <td>0.052498</td>\n",
       "    </tr>\n",
       "    <tr>\n",
       "      <th>ONEOFF_PURCHASES_FREQUENCY</th>\n",
       "      <td>0.307028</td>\n",
       "      <td>0.482826</td>\n",
       "      <td>0.001856</td>\n",
       "      <td>0.022241</td>\n",
       "    </tr>\n",
       "    <tr>\n",
       "      <th>PURCHASES_INSTALLMENTS_FREQUENCY</th>\n",
       "      <td>0.015088</td>\n",
       "      <td>0.691997</td>\n",
       "      <td>0.665134</td>\n",
       "      <td>0.030938</td>\n",
       "    </tr>\n",
       "    <tr>\n",
       "      <th>CASH_ADVANCE_FREQUENCY</th>\n",
       "      <td>0.083269</td>\n",
       "      <td>0.089786</td>\n",
       "      <td>0.036114</td>\n",
       "      <td>0.309318</td>\n",
       "    </tr>\n",
       "    <tr>\n",
       "      <th>CASH_ADVANCE_TRX</th>\n",
       "      <td>1.627637</td>\n",
       "      <td>2.169687</td>\n",
       "      <td>0.700855</td>\n",
       "      <td>7.344153</td>\n",
       "    </tr>\n",
       "    <tr>\n",
       "      <th>PURCHASES_TRX</th>\n",
       "      <td>6.346788</td>\n",
       "      <td>35.594267</td>\n",
       "      <td>11.668246</td>\n",
       "      <td>0.940491</td>\n",
       "    </tr>\n",
       "    <tr>\n",
       "      <th>Monthly_avg_purchase</th>\n",
       "      <td>59.670774</td>\n",
       "      <td>203.369974</td>\n",
       "      <td>44.781670</td>\n",
       "      <td>5.636739</td>\n",
       "    </tr>\n",
       "    <tr>\n",
       "      <th>Monthly_cash_advance</th>\n",
       "      <td>45.120767</td>\n",
       "      <td>51.839706</td>\n",
       "      <td>23.554890</td>\n",
       "      <td>202.134069</td>\n",
       "    </tr>\n",
       "    <tr>\n",
       "      <th>limit_usage</th>\n",
       "      <td>0.353034</td>\n",
       "      <td>0.343903</td>\n",
       "      <td>0.247173</td>\n",
       "      <td>0.575773</td>\n",
       "    </tr>\n",
       "    <tr>\n",
       "      <th>pay_minpay</th>\n",
       "      <td>4.841286</td>\n",
       "      <td>7.442546</td>\n",
       "      <td>3.911601</td>\n",
       "      <td>3.937570</td>\n",
       "    </tr>\n",
       "    <tr>\n",
       "      <th>both</th>\n",
       "      <td>0.093882</td>\n",
       "      <td>0.985997</td>\n",
       "      <td>0.020693</td>\n",
       "      <td>0.064919</td>\n",
       "    </tr>\n",
       "    <tr>\n",
       "      <th>installment</th>\n",
       "      <td>0.000000</td>\n",
       "      <td>0.002883</td>\n",
       "      <td>0.979307</td>\n",
       "      <td>0.031627</td>\n",
       "    </tr>\n",
       "    <tr>\n",
       "      <th>none</th>\n",
       "      <td>0.000000</td>\n",
       "      <td>0.000000</td>\n",
       "      <td>0.000000</td>\n",
       "      <td>0.849771</td>\n",
       "    </tr>\n",
       "    <tr>\n",
       "      <th>one_off</th>\n",
       "      <td>0.906118</td>\n",
       "      <td>0.011120</td>\n",
       "      <td>0.000000</td>\n",
       "      <td>0.053683</td>\n",
       "    </tr>\n",
       "  </tbody>\n",
       "</table>\n",
       "</div>"
      ],
      "text/plain": [
       "Cluster_k4                                 0            1           2  \\\n",
       "BALANCE_FREQUENCY                   0.818316     0.965576    0.813883   \n",
       "ONEOFF_PURCHASES                  655.271471  1425.397055    2.245277   \n",
       "INSTALLMENTS_PURCHASES             10.263560   924.755256  504.661347   \n",
       "PURCHASES_FREQUENCY                 0.320393     0.862522    0.702121   \n",
       "ONEOFF_PURCHASES_FREQUENCY          0.307028     0.482826    0.001856   \n",
       "PURCHASES_INSTALLMENTS_FREQUENCY    0.015088     0.691997    0.665134   \n",
       "CASH_ADVANCE_FREQUENCY              0.083269     0.089786    0.036114   \n",
       "CASH_ADVANCE_TRX                    1.627637     2.169687    0.700855   \n",
       "PURCHASES_TRX                       6.346788    35.594267   11.668246   \n",
       "Monthly_avg_purchase               59.670774   203.369974   44.781670   \n",
       "Monthly_cash_advance               45.120767    51.839706   23.554890   \n",
       "limit_usage                         0.353034     0.343903    0.247173   \n",
       "pay_minpay                          4.841286     7.442546    3.911601   \n",
       "both                                0.093882     0.985997    0.020693   \n",
       "installment                         0.000000     0.002883    0.979307   \n",
       "none                                0.000000     0.000000    0.000000   \n",
       "one_off                             0.906118     0.011120    0.000000   \n",
       "\n",
       "Cluster_k4                                 3  \n",
       "BALANCE_FREQUENCY                   0.896228  \n",
       "ONEOFF_PURCHASES                   38.855293  \n",
       "INSTALLMENTS_PURCHASES             22.735227  \n",
       "PURCHASES_FREQUENCY                 0.052498  \n",
       "ONEOFF_PURCHASES_FREQUENCY          0.022241  \n",
       "PURCHASES_INSTALLMENTS_FREQUENCY    0.030938  \n",
       "CASH_ADVANCE_FREQUENCY              0.309318  \n",
       "CASH_ADVANCE_TRX                    7.344153  \n",
       "PURCHASES_TRX                       0.940491  \n",
       "Monthly_avg_purchase                5.636739  \n",
       "Monthly_cash_advance              202.134069  \n",
       "limit_usage                         0.575773  \n",
       "pay_minpay                          3.937570  \n",
       "both                                0.064919  \n",
       "installment                         0.031627  \n",
       "none                                0.849771  \n",
       "one_off                             0.053683  "
      ]
     },
     "execution_count": 67,
     "metadata": {},
     "output_type": "execute_result"
    }
   ],
   "source": [
    "print(\"-\"*50)\n",
    "print(\"Average of different features for each 4 clusters\")\n",
    "print(\"-\"*50)\n",
    "pd.concat([df,df_pair_plot[['Cluster_k4']]],axis=1).groupby('Cluster_k4').mean().T"
   ]
  },
  {
   "cell_type": "markdown",
   "metadata": {},
   "source": [
    "# K-Means clustering with 5 Clusters"
   ]
  },
  {
   "cell_type": "code",
   "execution_count": 68,
   "metadata": {},
   "outputs": [
    {
     "data": {
      "text/plain": [
       "KMeans(n_clusters=5, random_state=123)"
      ]
     },
     "execution_count": 68,
     "metadata": {},
     "output_type": "execute_result"
    }
   ],
   "source": [
    "km_5=KMeans(n_clusters=5,random_state=123)\n",
    "km_5.fit(reduced_df)"
   ]
  },
  {
   "cell_type": "code",
   "execution_count": 69,
   "metadata": {},
   "outputs": [
    {
     "data": {
      "text/plain": [
       "3    2281\n",
       "2    2184\n",
       "1    2098\n",
       "0    1731\n",
       "4     656\n",
       "dtype: int64"
      ]
     },
     "execution_count": 69,
     "metadata": {},
     "output_type": "execute_result"
    }
   ],
   "source": [
    "pd.Series(km_5.labels_).value_counts()"
   ]
  },
  {
   "cell_type": "code",
   "execution_count": 70,
   "metadata": {},
   "outputs": [
    {
     "data": {
      "image/png": "[encoded data removed]",
      "text/plain": [
       "<Figure size 504x504 with 1 Axes>"
      ]
     },
     "metadata": {
      "needs_background": "light"
     },
     "output_type": "display_data"
    }
   ],
   "source": [
    "plt.figure(figsize=(7,7))\n",
    "plt.scatter(reduced_df[:,0],\n",
    "            reduced_df[:,1],\n",
    "            c=km_5.labels_,\n",
    "            cmap='Spectral',\n",
    "            alpha=0.5\n",
    "           );"
   ]
  },
  {
   "cell_type": "code",
   "execution_count": 71,
   "metadata": {},
   "outputs": [
    {
     "data": {
      "text/plain": [
       "0.37387853096341245"
      ]
     },
     "execution_count": 71,
     "metadata": {},
     "output_type": "execute_result"
    }
   ],
   "source": [
    "silhouette_score(reduced_df,km_5.labels_)"
   ]
  },
  {
   "cell_type": "code",
   "execution_count": 72,
   "metadata": {},
   "outputs": [
    {
     "data": {
      "text/html": [
       "<div>\n",
       "<style scoped>\n",
       "    .dataframe tbody tr th:only-of-type {\n",
       "        vertical-align: middle;\n",
       "    }\n",
       "\n",
       "    .dataframe tbody tr th {\n",
       "        vertical-align: top;\n",
       "    }\n",
       "\n",
       "    .dataframe thead th {\n",
       "        text-align: right;\n",
       "    }\n",
       "</style>\n",
       "<table border=\"1\" class=\"dataframe\">\n",
       "  <thead>\n",
       "    <tr style=\"text-align: right;\">\n",
       "      <th></th>\n",
       "      <th>PC_0</th>\n",
       "      <th>PC_1</th>\n",
       "      <th>PC_2</th>\n",
       "      <th>PC_3</th>\n",
       "      <th>PC_4</th>\n",
       "      <th>PC_5</th>\n",
       "      <th>Cluster_k5</th>\n",
       "    </tr>\n",
       "  </thead>\n",
       "  <tbody>\n",
       "    <tr>\n",
       "      <th>0</th>\n",
       "      <td>-1.013159</td>\n",
       "      <td>-2.256969</td>\n",
       "      <td>-0.263624</td>\n",
       "      <td>0.163539</td>\n",
       "      <td>0.226002</td>\n",
       "      <td>0.309919</td>\n",
       "      <td>2</td>\n",
       "    </tr>\n",
       "    <tr>\n",
       "      <th>1</th>\n",
       "      <td>-2.941071</td>\n",
       "      <td>1.499973</td>\n",
       "      <td>-0.374943</td>\n",
       "      <td>1.016663</td>\n",
       "      <td>-0.687166</td>\n",
       "      <td>0.173886</td>\n",
       "      <td>3</td>\n",
       "    </tr>\n",
       "    <tr>\n",
       "      <th>2</th>\n",
       "      <td>0.777119</td>\n",
       "      <td>-0.069528</td>\n",
       "      <td>2.324720</td>\n",
       "      <td>-2.033577</td>\n",
       "      <td>1.300766</td>\n",
       "      <td>-0.310936</td>\n",
       "      <td>0</td>\n",
       "    </tr>\n",
       "    <tr>\n",
       "      <th>3</th>\n",
       "      <td>-0.934291</td>\n",
       "      <td>-0.608936</td>\n",
       "      <td>2.391331</td>\n",
       "      <td>-0.403537</td>\n",
       "      <td>0.822325</td>\n",
       "      <td>0.497690</td>\n",
       "      <td>0</td>\n",
       "    </tr>\n",
       "    <tr>\n",
       "      <th>4</th>\n",
       "      <td>-1.527332</td>\n",
       "      <td>-0.625370</td>\n",
       "      <td>1.542885</td>\n",
       "      <td>-1.776345</td>\n",
       "      <td>0.442489</td>\n",
       "      <td>0.509362</td>\n",
       "      <td>0</td>\n",
       "    </tr>\n",
       "  </tbody>\n",
       "</table>\n",
       "</div>"
      ],
      "text/plain": [
       "       PC_0      PC_1      PC_2      PC_3      PC_4      PC_5  Cluster_k5\n",
       "0 -1.013159 -2.256969 -0.263624  0.163539  0.226002  0.309919           2\n",
       "1 -2.941071  1.499973 -0.374943  1.016663 -0.687166  0.173886           3\n",
       "2  0.777119 -0.069528  2.324720 -2.033577  1.300766 -0.310936           0\n",
       "3 -0.934291 -0.608936  2.391331 -0.403537  0.822325  0.497690           0\n",
       "4 -1.527332 -0.625370  1.542885 -1.776345  0.442489  0.509362           0"
      ]
     },
     "execution_count": 72,
     "metadata": {},
     "output_type": "execute_result"
    }
   ],
   "source": [
    "df_pair_plot2=pd.DataFrame(reduced_df,columns=['PC_' +str(i) for i in range(6)])\n",
    "df_pair_plot2['Cluster_k5']=km_5.labels_\n",
    "df_pair_plot2.head()"
   ]
  },
  {
   "cell_type": "code",
   "execution_count": 73,
   "metadata": {},
   "outputs": [
    {
     "name": "stdout",
     "output_type": "stream",
     "text": [
      "--------------------------------------------------\n",
      "Average of different features for each 5 clusters\n",
      "--------------------------------------------------\n"
     ]
    },
    {
     "data": {
      "text/html": [
       "<div>\n",
       "<style scoped>\n",
       "    .dataframe tbody tr th:only-of-type {\n",
       "        vertical-align: middle;\n",
       "    }\n",
       "\n",
       "    .dataframe tbody tr th {\n",
       "        vertical-align: top;\n",
       "    }\n",
       "\n",
       "    .dataframe thead th {\n",
       "        text-align: right;\n",
       "    }\n",
       "</style>\n",
       "<table border=\"1\" class=\"dataframe\">\n",
       "  <thead>\n",
       "    <tr style=\"text-align: right;\">\n",
       "      <th>Cluster_k5</th>\n",
       "      <th>0</th>\n",
       "      <th>1</th>\n",
       "      <th>2</th>\n",
       "      <th>3</th>\n",
       "      <th>4</th>\n",
       "    </tr>\n",
       "  </thead>\n",
       "  <tbody>\n",
       "    <tr>\n",
       "      <th>BALANCE_FREQUENCY</th>\n",
       "      <td>0.825858</td>\n",
       "      <td>0.935293</td>\n",
       "      <td>0.819651</td>\n",
       "      <td>0.892469</td>\n",
       "      <td>0.977440</td>\n",
       "    </tr>\n",
       "    <tr>\n",
       "      <th>ONEOFF_PURCHASES</th>\n",
       "      <td>646.021485</td>\n",
       "      <td>698.115915</td>\n",
       "      <td>0.000000</td>\n",
       "      <td>25.474182</td>\n",
       "      <td>3293.601049</td>\n",
       "    </tr>\n",
       "    <tr>\n",
       "      <th>INSTALLMENTS_PURCHASES</th>\n",
       "      <td>0.000000</td>\n",
       "      <td>549.761449</td>\n",
       "      <td>507.810748</td>\n",
       "      <td>14.832705</td>\n",
       "      <td>1745.379271</td>\n",
       "    </tr>\n",
       "    <tr>\n",
       "      <th>PURCHASES_FREQUENCY</th>\n",
       "      <td>0.319730</td>\n",
       "      <td>0.762531</td>\n",
       "      <td>0.704593</td>\n",
       "      <td>0.032282</td>\n",
       "      <td>0.949586</td>\n",
       "    </tr>\n",
       "    <tr>\n",
       "      <th>ONEOFF_PURCHASES_FREQUENCY</th>\n",
       "      <td>0.319538</td>\n",
       "      <td>0.357656</td>\n",
       "      <td>0.000000</td>\n",
       "      <td>0.013628</td>\n",
       "      <td>0.727789</td>\n",
       "    </tr>\n",
       "    <tr>\n",
       "      <th>PURCHASES_INSTALLMENTS_FREQUENCY</th>\n",
       "      <td>0.000000</td>\n",
       "      <td>0.595375</td>\n",
       "      <td>0.668408</td>\n",
       "      <td>0.018162</td>\n",
       "      <td>0.779555</td>\n",
       "    </tr>\n",
       "    <tr>\n",
       "      <th>CASH_ADVANCE_FREQUENCY</th>\n",
       "      <td>0.096531</td>\n",
       "      <td>0.096557</td>\n",
       "      <td>0.038094</td>\n",
       "      <td>0.304071</td>\n",
       "      <td>0.080786</td>\n",
       "    </tr>\n",
       "    <tr>\n",
       "      <th>CASH_ADVANCE_TRX</th>\n",
       "      <td>1.953206</td>\n",
       "      <td>2.246425</td>\n",
       "      <td>0.753663</td>\n",
       "      <td>7.159141</td>\n",
       "      <td>2.271341</td>\n",
       "    </tr>\n",
       "    <tr>\n",
       "      <th>PURCHASES_TRX</th>\n",
       "      <td>6.377533</td>\n",
       "      <td>21.457121</td>\n",
       "      <td>11.730087</td>\n",
       "      <td>0.572994</td>\n",
       "      <td>66.574451</td>\n",
       "    </tr>\n",
       "    <tr>\n",
       "      <th>Monthly_avg_purchase</th>\n",
       "      <td>57.910563</td>\n",
       "      <td>106.819217</td>\n",
       "      <td>44.686090</td>\n",
       "      <td>3.667747</td>\n",
       "      <td>441.619456</td>\n",
       "    </tr>\n",
       "    <tr>\n",
       "      <th>Monthly_cash_advance</th>\n",
       "      <td>53.548236</td>\n",
       "      <td>50.141436</td>\n",
       "      <td>25.250729</td>\n",
       "      <td>200.536046</td>\n",
       "      <td>59.523519</td>\n",
       "    </tr>\n",
       "    <tr>\n",
       "      <th>limit_usage</th>\n",
       "      <td>0.363872</td>\n",
       "      <td>0.351801</td>\n",
       "      <td>0.253353</td>\n",
       "      <td>0.573021</td>\n",
       "      <td>0.318707</td>\n",
       "    </tr>\n",
       "    <tr>\n",
       "      <th>pay_minpay</th>\n",
       "      <td>4.819520</td>\n",
       "      <td>4.982467</td>\n",
       "      <td>3.913162</td>\n",
       "      <td>3.989492</td>\n",
       "      <td>13.665959</td>\n",
       "    </tr>\n",
       "    <tr>\n",
       "      <th>both</th>\n",
       "      <td>0.000000</td>\n",
       "      <td>1.000000</td>\n",
       "      <td>0.000000</td>\n",
       "      <td>0.030250</td>\n",
       "      <td>0.925305</td>\n",
       "    </tr>\n",
       "    <tr>\n",
       "      <th>installment</th>\n",
       "      <td>0.000000</td>\n",
       "      <td>0.000000</td>\n",
       "      <td>1.000000</td>\n",
       "      <td>0.029811</td>\n",
       "      <td>0.012195</td>\n",
       "    </tr>\n",
       "    <tr>\n",
       "      <th>none</th>\n",
       "      <td>0.000000</td>\n",
       "      <td>0.000000</td>\n",
       "      <td>0.000000</td>\n",
       "      <td>0.895221</td>\n",
       "      <td>0.000000</td>\n",
       "    </tr>\n",
       "    <tr>\n",
       "      <th>one_off</th>\n",
       "      <td>1.000000</td>\n",
       "      <td>0.000000</td>\n",
       "      <td>0.000000</td>\n",
       "      <td>0.044717</td>\n",
       "      <td>0.062500</td>\n",
       "    </tr>\n",
       "  </tbody>\n",
       "</table>\n",
       "</div>"
      ],
      "text/plain": [
       "Cluster_k5                                 0           1           2  \\\n",
       "BALANCE_FREQUENCY                   0.825858    0.935293    0.819651   \n",
       "ONEOFF_PURCHASES                  646.021485  698.115915    0.000000   \n",
       "INSTALLMENTS_PURCHASES              0.000000  549.761449  507.810748   \n",
       "PURCHASES_FREQUENCY                 0.319730    0.762531    0.704593   \n",
       "ONEOFF_PURCHASES_FREQUENCY          0.319538    0.357656    0.000000   \n",
       "PURCHASES_INSTALLMENTS_FREQUENCY    0.000000    0.595375    0.668408   \n",
       "CASH_ADVANCE_FREQUENCY              0.096531    0.096557    0.038094   \n",
       "CASH_ADVANCE_TRX                    1.953206    2.246425    0.753663   \n",
       "PURCHASES_TRX                       6.377533   21.457121   11.730087   \n",
       "Monthly_avg_purchase               57.910563  106.819217   44.686090   \n",
       "Monthly_cash_advance               53.548236   50.141436   25.250729   \n",
       "limit_usage                         0.363872    0.351801    0.253353   \n",
       "pay_minpay                          4.819520    4.982467    3.913162   \n",
       "both                                0.000000    1.000000    0.000000   \n",
       "installment                         0.000000    0.000000    1.000000   \n",
       "none                                0.000000    0.000000    0.000000   \n",
       "one_off                             1.000000    0.000000    0.000000   \n",
       "\n",
       "Cluster_k5                                 3            4  \n",
       "BALANCE_FREQUENCY                   0.892469     0.977440  \n",
       "ONEOFF_PURCHASES                   25.474182  3293.601049  \n",
       "INSTALLMENTS_PURCHASES             14.832705  1745.379271  \n",
       "PURCHASES_FREQUENCY                 0.032282     0.949586  \n",
       "ONEOFF_PURCHASES_FREQUENCY          0.013628     0.727789  \n",
       "PURCHASES_INSTALLMENTS_FREQUENCY    0.018162     0.779555  \n",
       "CASH_ADVANCE_FREQUENCY              0.304071     0.080786  \n",
       "CASH_ADVANCE_TRX                    7.159141     2.271341  \n",
       "PURCHASES_TRX                       0.572994    66.574451  \n",
       "Monthly_avg_purchase                3.667747   441.619456  \n",
       "Monthly_cash_advance              200.536046    59.523519  \n",
       "limit_usage                         0.573021     0.318707  \n",
       "pay_minpay                          3.989492    13.665959  \n",
       "both                                0.030250     0.925305  \n",
       "installment                         0.029811     0.012195  \n",
       "none                                0.895221     0.000000  \n",
       "one_off                             0.044717     0.062500  "
      ]
     },
     "execution_count": 73,
     "metadata": {},
     "output_type": "execute_result"
    }
   ],
   "source": [
    "print(\"-\"*50)\n",
    "print(\"Average of different features for each 5 clusters\")\n",
    "print(\"-\"*50)\n",
    "pd.concat([df,df_pair_plot2[['Cluster_k5']]],axis=1).groupby('Cluster_k5').mean().T"
   ]
  },
  {
   "cell_type": "code",
   "execution_count": null,
   "metadata": {},
   "outputs": [],
   "source": []
  },
  {
   "cell_type": "code",
   "execution_count": null,
   "metadata": {},
   "outputs": [],
   "source": []
  }
 ],
 "metadata": {
  "kernelspec": {
   "display_name": "Python 3",
   "language": "python",
   "name": "python3"
  },
  "language_info": {
   "codemirror_mode": {
    "name": "ipython",
    "version": 3
   },
   "file_extension": ".py",
   "mimetype": "text/x-python",
   "name": "python",
   "nbconvert_exporter": "python",
   "pygments_lexer": "ipython3",
   "version": "3.7.3"
  }
 },
 "nbformat": 4,
 "nbformat_minor": 2
}
